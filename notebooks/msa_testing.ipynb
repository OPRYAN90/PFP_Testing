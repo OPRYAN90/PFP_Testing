{
 "cells": [
  {
   "cell_type": "code",
   "execution_count": 7,
   "metadata": {},
   "outputs": [
    {
     "name": "stdout",
     "output_type": "stream",
     "text": [
      "{'original_id': '1W8X-M', 'matched_id': '1w8x_M', 'similarity_score': '', 'notes': 'Stage 1', 'n_a3m_files': '3', 'n_rows_dropped': '0', 'hhfilter_rows': '1', 'diversity_filtered_rows': '', 'status': 'Failed: only 1 rows after stripping'}\n",
      "{'original_id': '2WWX-B', 'matched_id': '2wwx_B', 'similarity_score': '', 'notes': 'Stage 1', 'n_a3m_files': '3', 'n_rows_dropped': '0', 'hhfilter_rows': '1', 'diversity_filtered_rows': '', 'status': 'Failed: only 1 rows after stripping'}\n",
      "{'original_id': '1W8X-M', 'matched_id': '1w8x_M', 'similarity_score': '', 'notes': 'Stage 1', 'n_a3m_files': '3', 'n_rows_dropped': '0', 'hhfilter_rows': '1', 'diversity_filtered_rows': '', 'status': 'Failed: only 1 rows after stripping'}\n",
      "{'original_id': '2WWX-B', 'matched_id': '2wwx_B', 'similarity_score': '', 'notes': 'Stage 1', 'n_a3m_files': '3', 'n_rows_dropped': '0', 'hhfilter_rows': '1', 'diversity_filtered_rows': '', 'status': 'Failed: only 1 rows after stripping'}\n",
      "{'original_id': '1W8X-M', 'matched_id': '1w8x_M', 'similarity_score': '', 'notes': 'Stage 1', 'n_a3m_files': '3', 'n_rows_dropped': '0', 'hhfilter_rows': '1', 'diversity_filtered_rows': '', 'status': 'Failed: only 1 rows after stripping'}\n",
      "{'original_id': '2WWX-B', 'matched_id': '2wwx_B', 'similarity_score': '', 'notes': 'Stage 1', 'n_a3m_files': '3', 'n_rows_dropped': '0', 'hhfilter_rows': '1', 'diversity_filtered_rows': '', 'status': 'Failed: only 1 rows after stripping'}\n",
      "{'original_id': '3J5V-a', 'matched_id': '3j5v_a', 'similarity_score': '', 'notes': 'Stage 2', 'n_a3m_files': '3', 'n_rows_dropped': '', 'hhfilter_rows': '', 'diversity_filtered_rows': '', 'status': 'Failed: no A3M found'}\n",
      "{'original_id': '3J79-b', 'matched_id': '3j79_b', 'similarity_score': '', 'notes': 'Stage 2', 'n_a3m_files': '3', 'n_rows_dropped': '', 'hhfilter_rows': '', 'diversity_filtered_rows': '', 'status': 'Failed: no A3M found'}\n",
      "{'original_id': '3J79-c', 'matched_id': '3j79_c', 'similarity_score': '', 'notes': 'Stage 2', 'n_a3m_files': '3', 'n_rows_dropped': '', 'hhfilter_rows': '', 'diversity_filtered_rows': '', 'status': 'Failed: no A3M found'}\n",
      "{'original_id': '3J9M-b', 'matched_id': '3j7y_b', 'similarity_score': '', 'notes': 'Stage 2', 'n_a3m_files': '3', 'n_rows_dropped': '', 'hhfilter_rows': '', 'diversity_filtered_rows': '', 'status': 'Failed: no A3M found'}\n",
      "{'original_id': '3J9Y-i', 'matched_id': '3j9y_i', 'similarity_score': '', 'notes': 'Stage 2', 'n_a3m_files': '3', 'n_rows_dropped': '', 'hhfilter_rows': '', 'diversity_filtered_rows': '', 'status': 'Failed: no A3M found'}\n",
      "{'original_id': '3JAH-ff', 'matched_id': '3jah_ff', 'similarity_score': '', 'notes': 'Stage 2', 'n_a3m_files': '3', 'n_rows_dropped': '', 'hhfilter_rows': '', 'diversity_filtered_rows': '', 'status': 'Failed: no A3M found'}\n",
      "{'original_id': '3JAJ-z', 'matched_id': '3jaj_z', 'similarity_score': '', 'notes': 'Stage 2', 'n_a3m_files': '3', 'n_rows_dropped': '', 'hhfilter_rows': '', 'diversity_filtered_rows': '', 'status': 'Failed: no A3M found'}\n",
      "{'original_id': '3JAP-p', 'matched_id': '3jap_p', 'similarity_score': '', 'notes': 'Stage 2', 'n_a3m_files': '3', 'n_rows_dropped': '', 'hhfilter_rows': '', 'diversity_filtered_rows': '', 'status': 'Failed: no A3M found'}\n",
      "{'original_id': '3JB9-c', 'matched_id': '3jb9_c', 'similarity_score': '', 'notes': 'Stage 2', 'n_a3m_files': '3', 'n_rows_dropped': '', 'hhfilter_rows': '', 'diversity_filtered_rows': '', 'status': 'Failed: no A3M found'}\n",
      "{'original_id': '3JBP-Aa', 'matched_id': '3jbn_Aa', 'similarity_score': '', 'notes': 'Stage 2', 'n_a3m_files': '3', 'n_rows_dropped': '', 'hhfilter_rows': '', 'diversity_filtered_rows': '', 'status': 'Failed: no A3M found'}\n",
      "{'original_id': '3JBU-E', 'matched_id': '3j9y_e', 'similarity_score': '', 'notes': 'Stage 2', 'n_a3m_files': '3', 'n_rows_dropped': '', 'hhfilter_rows': '', 'diversity_filtered_rows': '', 'status': 'Failed: no A3M found'}\n",
      "{'original_id': '3JC1-Ab', 'matched_id': '3jc1_Ab', 'similarity_score': '', 'notes': 'Stage 2', 'n_a3m_files': '3', 'n_rows_dropped': '', 'hhfilter_rows': '', 'diversity_filtered_rows': '', 'status': 'Failed: no A3M found'}\n",
      "{'original_id': '3JC8-Ba', 'matched_id': '3jc8_Ba', 'similarity_score': '', 'notes': 'Stage 2', 'n_a3m_files': '3', 'n_rows_dropped': '', 'hhfilter_rows': '', 'diversity_filtered_rows': '', 'status': 'Failed: no A3M found'}\n",
      "{'original_id': '3JC8-Qa', 'matched_id': '3jc8_Qa', 'similarity_score': '', 'notes': 'Stage 2', 'n_a3m_files': '3', 'n_rows_dropped': '', 'hhfilter_rows': '', 'diversity_filtered_rows': '', 'status': 'Failed: no A3M found'}\n",
      "{'original_id': '3JC9-Ca', 'matched_id': '3jc8_Ca', 'similarity_score': '', 'notes': 'Stage 2', 'n_a3m_files': '3', 'n_rows_dropped': '', 'hhfilter_rows': '', 'diversity_filtered_rows': '', 'status': 'Failed: no A3M found'}\n",
      "{'original_id': '3JC9-Na', 'matched_id': '3jc8_Na', 'similarity_score': '', 'notes': 'Stage 2', 'n_a3m_files': '3', 'n_rows_dropped': '', 'hhfilter_rows': '', 'diversity_filtered_rows': '', 'status': 'Failed: no A3M found'}\n",
      "{'original_id': '3JCN-b', 'matched_id': '3jcj_f', 'similarity_score': '', 'notes': 'Stage 2', 'n_a3m_files': '3', 'n_rows_dropped': '', 'hhfilter_rows': '', 'diversity_filtered_rows': '', 'status': 'Failed: no A3M found'}\n",
      "{'original_id': '3M7G-A', 'matched_id': '3m7g_A', 'similarity_score': '', 'notes': 'Stage 1', 'n_a3m_files': '3', 'n_rows_dropped': '0', 'hhfilter_rows': '1', 'diversity_filtered_rows': '', 'status': 'Failed: only 1 rows after stripping'}\n",
      "{'original_id': '4CE4-h', 'matched_id': '4ce4_h', 'similarity_score': '', 'notes': 'Stage 2', 'n_a3m_files': '3', 'n_rows_dropped': '', 'hhfilter_rows': '', 'diversity_filtered_rows': '', 'status': 'Failed: no A3M found'}\n",
      "{'original_id': '4D61-i', 'matched_id': '4d61_i', 'similarity_score': '', 'notes': 'Stage 2', 'n_a3m_files': '3', 'n_rows_dropped': '', 'hhfilter_rows': '', 'diversity_filtered_rows': '', 'status': 'Failed: no A3M found'}\n",
      "{'original_id': '4KZY-l', 'matched_id': '4kzx_l', 'similarity_score': '', 'notes': 'Stage 2', 'n_a3m_files': '3', 'n_rows_dropped': '', 'hhfilter_rows': '', 'diversity_filtered_rows': '', 'status': 'Failed: no A3M found'}\n",
      "{'original_id': '4KZZ-n', 'matched_id': '4kzy_n', 'similarity_score': '', 'notes': 'Stage 2', 'n_a3m_files': '3', 'n_rows_dropped': '', 'hhfilter_rows': '', 'diversity_filtered_rows': '', 'status': 'Failed: no A3M found'}\n",
      "{'original_id': '4V1A-c', 'matched_id': '4v1a_c', 'similarity_score': '', 'notes': 'Stage 2', 'n_a3m_files': '3', 'n_rows_dropped': '', 'hhfilter_rows': '', 'diversity_filtered_rows': '', 'status': 'Failed: no A3M found'}\n",
      "{'original_id': '4V1A-g', 'matched_id': '4v1a_g', 'similarity_score': '', 'notes': 'Stage 2', 'n_a3m_files': '3', 'n_rows_dropped': '', 'hhfilter_rows': '', 'diversity_filtered_rows': '', 'status': 'Failed: no A3M found'}\n",
      "{'original_id': '4V1A-x', 'matched_id': '4v1a_x', 'similarity_score': '', 'notes': 'Stage 2', 'n_a3m_files': '3', 'n_rows_dropped': '', 'hhfilter_rows': '', 'diversity_filtered_rows': '', 'status': 'Failed: no A3M found'}\n",
      "{'original_id': '4V4N-Ak', 'matched_id': '4v4n_Ak', 'similarity_score': '', 'notes': 'Stage 2', 'n_a3m_files': '3', 'n_rows_dropped': '', 'hhfilter_rows': '', 'diversity_filtered_rows': '', 'status': 'Failed: no A3M found'}\n",
      "{'original_id': '4V4P-AP', 'matched_id': '1ml5_p', 'similarity_score': '', 'notes': 'Stage 2', 'n_a3m_files': '3', 'n_rows_dropped': '', 'hhfilter_rows': '', 'diversity_filtered_rows': '', 'status': 'Failed: no A3M found'}\n",
      "{'original_id': '4V5Z-Ae', 'matched_id': '4v5z_Ae', 'similarity_score': '', 'notes': 'Stage 2', 'n_a3m_files': '3', 'n_rows_dropped': '', 'hhfilter_rows': '', 'diversity_filtered_rows': '', 'status': 'Failed: no A3M found'}\n",
      "{'original_id': '4V5Z-Bc', 'matched_id': '4v5z_Bc', 'similarity_score': '', 'notes': 'Stage 2', 'n_a3m_files': '3', 'n_rows_dropped': '', 'hhfilter_rows': '', 'diversity_filtered_rows': '', 'status': 'Failed: no A3M found'}\n",
      "{'original_id': '4V6K-BO', 'matched_id': '3j9y_k', 'similarity_score': '', 'notes': 'Stage 2', 'n_a3m_files': '3', 'n_rows_dropped': '', 'hhfilter_rows': '', 'diversity_filtered_rows': '', 'status': 'Failed: no A3M found'}\n",
      "{'original_id': '4V6L-AV', 'matched_id': '3j9y_r', 'similarity_score': '', 'notes': 'Stage 2', 'n_a3m_files': '3', 'n_rows_dropped': '', 'hhfilter_rows': '', 'diversity_filtered_rows': '', 'status': 'Failed: no A3M found'}\n",
      "{'original_id': '4V6U-Bl', 'matched_id': '4v6u_Bl', 'similarity_score': '', 'notes': 'Stage 2', 'n_a3m_files': '3', 'n_rows_dropped': '', 'hhfilter_rows': '', 'diversity_filtered_rows': '', 'status': 'Failed: no A3M found'}\n",
      "{'original_id': '4V6X-Cu', 'matched_id': '4v6x_Cu', 'similarity_score': '', 'notes': 'Stage 2', 'n_a3m_files': '3', 'n_rows_dropped': '', 'hhfilter_rows': '', 'diversity_filtered_rows': '', 'status': 'Failed: no A3M found'}\n",
      "{'original_id': '4V7E-Ba', 'matched_id': '4v7e_Ba', 'similarity_score': '', 'notes': 'Stage 2', 'n_a3m_files': '3', 'n_rows_dropped': '', 'hhfilter_rows': '', 'diversity_filtered_rows': '', 'status': 'Failed: no A3M found'}\n",
      "{'original_id': '4V7E-Bc', 'matched_id': '4v7e_Bc', 'similarity_score': '', 'notes': 'Stage 2', 'n_a3m_files': '3', 'n_rows_dropped': '', 'hhfilter_rows': '', 'diversity_filtered_rows': '', 'status': 'Failed: no A3M found'}\n",
      "{'original_id': '4V7E-Cb', 'matched_id': '4v7e_Cb', 'similarity_score': '', 'notes': 'Stage 2', 'n_a3m_files': '3', 'n_rows_dropped': '', 'hhfilter_rows': '', 'diversity_filtered_rows': '', 'status': 'Failed: no A3M found'}\n",
      "{'original_id': '4V8M-Ba', 'matched_id': '4v8m_Ba', 'similarity_score': '', 'notes': 'Stage 2', 'n_a3m_files': '3', 'n_rows_dropped': '', 'hhfilter_rows': '', 'diversity_filtered_rows': '', 'status': 'Failed: no A3M found'}\n",
      "{'original_id': '4V8M-Bb', 'matched_id': '4v8m_Bb', 'similarity_score': '', 'notes': 'Stage 2', 'n_a3m_files': '3', 'n_rows_dropped': '', 'hhfilter_rows': '', 'diversity_filtered_rows': '', 'status': 'Failed: no A3M found'}\n",
      "{'original_id': '4V8M-Bd', 'matched_id': '4v8m_Bd', 'similarity_score': '', 'notes': 'Stage 2', 'n_a3m_files': '3', 'n_rows_dropped': '', 'hhfilter_rows': '', 'diversity_filtered_rows': '', 'status': 'Failed: no A3M found'}\n",
      "{'original_id': '4V8M-Bg', 'matched_id': '4v8m_Bg', 'similarity_score': '', 'notes': 'Stage 2', 'n_a3m_files': '3', 'n_rows_dropped': '', 'hhfilter_rows': '', 'diversity_filtered_rows': '', 'status': 'Failed: no A3M found'}\n",
      "{'original_id': '4V8M-Bh', 'matched_id': '4v8m_Bh', 'similarity_score': '', 'notes': 'Stage 2', 'n_a3m_files': '3', 'n_rows_dropped': '', 'hhfilter_rows': '', 'diversity_filtered_rows': '', 'status': 'Failed: no A3M found'}\n",
      "{'original_id': '4V9M-Be', 'matched_id': '4v9k_Be', 'similarity_score': '', 'notes': 'Stage 2', 'n_a3m_files': '3', 'n_rows_dropped': '', 'hhfilter_rows': '', 'diversity_filtered_rows': '', 'status': 'Failed: no A3M found'}\n",
      "{'original_id': '4W29-Be', 'matched_id': '4v9j_Be', 'similarity_score': '', 'notes': 'Stage 2', 'n_a3m_files': '3', 'n_rows_dropped': '', 'hhfilter_rows': '', 'diversity_filtered_rows': '', 'status': 'Failed: no A3M found'}\n",
      "{'original_id': '5AJ0-AK', 'matched_id': '3j92_s', 'similarity_score': '', 'notes': 'Stage 2', 'n_a3m_files': '3', 'n_rows_dropped': '', 'hhfilter_rows': '', 'diversity_filtered_rows': '', 'status': 'Failed: no A3M found'}\n",
      "{'original_id': '5AJ4-Ad', 'matched_id': '5aj4_Ad', 'similarity_score': '', 'notes': 'Stage 2', 'n_a3m_files': '3', 'n_rows_dropped': '', 'hhfilter_rows': '', 'diversity_filtered_rows': '', 'status': 'Failed: no A3M found'}\n",
      "{'original_id': '5AJ4-Ao', 'matched_id': '5aj4_Ao', 'similarity_score': '', 'notes': 'Stage 2', 'n_a3m_files': '3', 'n_rows_dropped': '', 'hhfilter_rows': '', 'diversity_filtered_rows': '', 'status': 'Failed: no A3M found'}\n",
      "{'original_id': '5AJ4-Bj', 'matched_id': '4v1a_j', 'similarity_score': '', 'notes': 'Stage 2', 'n_a3m_files': '3', 'n_rows_dropped': '', 'hhfilter_rows': '', 'diversity_filtered_rows': '', 'status': 'Failed: no A3M found'}\n",
      "{'original_id': '5AJ4-Ba', 'matched_id': '4v1a_a', 'similarity_score': '', 'notes': 'Stage 2', 'n_a3m_files': '3', 'n_rows_dropped': '', 'hhfilter_rows': '', 'diversity_filtered_rows': '', 'status': 'Failed: no A3M found'}\n",
      "{'original_id': '5AJ4-Bo', 'matched_id': '4v1a_o', 'similarity_score': '', 'notes': 'Stage 2', 'n_a3m_files': '3', 'n_rows_dropped': '', 'hhfilter_rows': '', 'diversity_filtered_rows': '', 'status': 'Failed: no A3M found'}\n",
      "{'original_id': '5APN-x', 'matched_id': '5apn_x', 'similarity_score': '', 'notes': 'Stage 2', 'n_a3m_files': '3', 'n_rows_dropped': '', 'hhfilter_rows': '', 'diversity_filtered_rows': '', 'status': 'Failed: no A3M found'}\n",
      "{'original_id': '5DAT-d2', 'matched_id': '5dat_d2', 'similarity_score': '', 'notes': 'Stage 2', 'n_a3m_files': '3', 'n_rows_dropped': '', 'hhfilter_rows': '', 'diversity_filtered_rows': '', 'status': 'Failed: no A3M found'}\n",
      "{'original_id': '5FL8-q', 'matched_id': '3jct_x', 'similarity_score': '', 'notes': 'Stage 2', 'n_a3m_files': '3', 'n_rows_dropped': '', 'hhfilter_rows': '', 'diversity_filtered_rows': '', 'status': 'Failed: no A3M found'}\n",
      "{'original_id': '5FL8-r', 'matched_id': '5fl8_r', 'similarity_score': '', 'notes': 'Stage 2', 'n_a3m_files': '3', 'n_rows_dropped': '', 'hhfilter_rows': '', 'diversity_filtered_rows': '', 'status': 'Failed: no A3M found'}\n",
      "{'original_id': '5GAO-E', 'matched_id': '5gao_E', 'similarity_score': '', 'notes': 'Stage 1', 'n_a3m_files': '3', 'n_rows_dropped': '0', 'hhfilter_rows': '1', 'diversity_filtered_rows': '', 'status': 'Failed: only 1 rows after stripping'}\n",
      "{'original_id': '5GJQ-a', 'matched_id': '5gjq_a', 'similarity_score': '', 'notes': 'Stage 2', 'n_a3m_files': '3', 'n_rows_dropped': '', 'hhfilter_rows': '', 'diversity_filtered_rows': '', 'status': 'Failed: no A3M found'}\n",
      "{'original_id': '5GJQ-g', 'matched_id': '5gjq_g', 'similarity_score': '', 'notes': 'Stage 2', 'n_a3m_files': '3', 'n_rows_dropped': '', 'hhfilter_rows': '', 'diversity_filtered_rows': '', 'status': 'Failed: no A3M found'}\n",
      "{'original_id': '5GM6-b', 'matched_id': '5gm6_b', 'similarity_score': '', 'notes': 'Stage 2', 'n_a3m_files': '3', 'n_rows_dropped': '', 'hhfilter_rows': '', 'diversity_filtered_rows': '', 'status': 'Failed: no A3M found'}\n",
      "{'original_id': '5GPN-a', 'matched_id': '5gpn_a', 'similarity_score': '', 'notes': 'Stage 2', 'n_a3m_files': '3', 'n_rows_dropped': '', 'hhfilter_rows': '', 'diversity_filtered_rows': '', 'status': 'Failed: no A3M found'}\n",
      "{'original_id': '5GPN-Ac', 'matched_id': '5gpn_Ac', 'similarity_score': '', 'notes': 'Stage 2', 'n_a3m_files': '3', 'n_rows_dropped': '', 'hhfilter_rows': '', 'diversity_filtered_rows': '', 'status': 'Failed: no A3M found'}\n",
      "{'original_id': '5GPN-Aj', 'matched_id': '5gpn_Aj', 'similarity_score': '', 'notes': 'Stage 2', 'n_a3m_files': '3', 'n_rows_dropped': '', 'hhfilter_rows': '', 'diversity_filtered_rows': '', 'status': 'Failed: no A3M found'}\n",
      "{'original_id': '5GPN-Ak', 'matched_id': '5gpn_Ak', 'similarity_score': '', 'notes': 'Stage 2', 'n_a3m_files': '3', 'n_rows_dropped': '', 'hhfilter_rows': '', 'diversity_filtered_rows': '', 'status': 'Failed: no A3M found'}\n",
      "{'original_id': '5GPN-Al', 'matched_id': '5gpn_Al', 'similarity_score': '', 'notes': 'Stage 2', 'n_a3m_files': '3', 'n_rows_dropped': '', 'hhfilter_rows': '', 'diversity_filtered_rows': '', 'status': 'Failed: no A3M found'}\n",
      "{'original_id': '5GPN-Am', 'matched_id': '5gpn_Am', 'similarity_score': '', 'notes': 'Stage 2', 'n_a3m_files': '3', 'n_rows_dropped': '', 'hhfilter_rows': '', 'diversity_filtered_rows': '', 'status': 'Failed: no A3M found'}\n",
      "{'original_id': '5GPN-g', 'matched_id': '5gpn_g', 'similarity_score': '', 'notes': 'Stage 2', 'n_a3m_files': '3', 'n_rows_dropped': '', 'hhfilter_rows': '', 'diversity_filtered_rows': '', 'status': 'Failed: no A3M found'}\n",
      "{'original_id': '5GPN-m', 'matched_id': '5gpn_m', 'similarity_score': '', 'notes': 'Stage 2', 'n_a3m_files': '3', 'n_rows_dropped': '', 'hhfilter_rows': '', 'diversity_filtered_rows': '', 'status': 'Failed: no A3M found'}\n",
      "{'original_id': '5GPN-o', 'matched_id': '5gpn_o', 'similarity_score': '', 'notes': 'Stage 2', 'n_a3m_files': '3', 'n_rows_dropped': '', 'hhfilter_rows': '', 'diversity_filtered_rows': '', 'status': 'Failed: no A3M found'}\n",
      "{'original_id': '5GPN-q', 'matched_id': '5gpn_q', 'similarity_score': '', 'notes': 'Stage 2', 'n_a3m_files': '3', 'n_rows_dropped': '', 'hhfilter_rows': '', 'diversity_filtered_rows': '', 'status': 'Failed: no A3M found'}\n",
      "{'original_id': '5GPN-r', 'matched_id': '5gpn_r', 'similarity_score': '', 'notes': 'Stage 2', 'n_a3m_files': '3', 'n_rows_dropped': '', 'hhfilter_rows': '', 'diversity_filtered_rows': '', 'status': 'Failed: no A3M found'}\n",
      "{'original_id': '5GPN-t', 'matched_id': '5gpn_Aa', 'similarity_score': '', 'notes': 'Stage 2', 'n_a3m_files': '3', 'n_rows_dropped': '', 'hhfilter_rows': '', 'diversity_filtered_rows': '', 'status': 'Failed: no A3M found'}\n",
      "{'original_id': '5GPN-u', 'matched_id': '5gpn_Ai', 'similarity_score': '', 'notes': 'Stage 2', 'n_a3m_files': '3', 'n_rows_dropped': '', 'hhfilter_rows': '', 'diversity_filtered_rows': '', 'status': 'Failed: no A3M found'}\n",
      "{'original_id': '5GUP-Ae', 'matched_id': '5gup_Ae', 'similarity_score': '', 'notes': 'Stage 2', 'n_a3m_files': '3', 'n_rows_dropped': '', 'hhfilter_rows': '', 'diversity_filtered_rows': '', 'status': 'Failed: no A3M found'}\n",
      "{'original_id': '5GUP-B', 'matched_id': '5gpn_c', 'similarity_score': '', 'notes': 'Stage 2', 'n_a3m_files': '3', 'n_rows_dropped': '', 'hhfilter_rows': '', 'diversity_filtered_rows': '', 'status': 'Failed: no A3M found'}\n",
      "{'original_id': '5GUP-c', 'matched_id': '5gup_c', 'similarity_score': '', 'notes': 'Stage 2', 'n_a3m_files': '3', 'n_rows_dropped': '', 'hhfilter_rows': '', 'diversity_filtered_rows': '', 'status': 'Failed: no A3M found'}\n",
      "{'original_id': '5GUP-F', 'matched_id': '5gpn_x', 'similarity_score': '', 'notes': 'Stage 2', 'n_a3m_files': '3', 'n_rows_dropped': '', 'hhfilter_rows': '', 'diversity_filtered_rows': '', 'status': 'Failed: no A3M found'}\n",
      "{'original_id': '5GUP-H', 'matched_id': '5gpn_b', 'similarity_score': '', 'notes': 'Stage 2', 'n_a3m_files': '3', 'n_rows_dropped': '', 'hhfilter_rows': '', 'diversity_filtered_rows': '', 'status': 'Failed: no A3M found'}\n",
      "{'original_id': '5GUP-L', 'matched_id': '5gpn_p', 'similarity_score': '', 'notes': 'Stage 2', 'n_a3m_files': '3', 'n_rows_dropped': '', 'hhfilter_rows': '', 'diversity_filtered_rows': '', 'status': 'Failed: no A3M found'}\n",
      "{'original_id': '5GUP-N', 'matched_id': '5gpn_Ae', 'similarity_score': '', 'notes': 'Stage 2', 'n_a3m_files': '3', 'n_rows_dropped': '', 'hhfilter_rows': '', 'diversity_filtered_rows': '', 'status': 'Failed: no A3M found'}\n",
      "{'original_id': '5GUP-o', 'matched_id': '5gup_o', 'similarity_score': '', 'notes': 'Stage 2', 'n_a3m_files': '3', 'n_rows_dropped': '', 'hhfilter_rows': '', 'diversity_filtered_rows': '', 'status': 'Failed: no A3M found'}\n",
      "{'original_id': '5GUP-P', 'matched_id': '5gpn_n', 'similarity_score': '', 'notes': 'Stage 2', 'n_a3m_files': '3', 'n_rows_dropped': '', 'hhfilter_rows': '', 'diversity_filtered_rows': '', 'status': 'Failed: no A3M found'}\n",
      "{'original_id': '5GUP-q', 'matched_id': '5gpn_h', 'similarity_score': '', 'notes': 'Stage 2', 'n_a3m_files': '3', 'n_rows_dropped': '', 'hhfilter_rows': '', 'diversity_filtered_rows': '', 'status': 'Failed: no A3M found'}\n",
      "{'original_id': '5GUP-r', 'matched_id': '5gpn_e', 'similarity_score': '', 'notes': 'Stage 2', 'n_a3m_files': '3', 'n_rows_dropped': '', 'hhfilter_rows': '', 'diversity_filtered_rows': '', 'status': 'Failed: no A3M found'}\n",
      "{'original_id': '5GUP-s', 'matched_id': '5gpn_An', 'similarity_score': '', 'notes': 'Stage 2', 'n_a3m_files': '3', 'n_rows_dropped': '', 'hhfilter_rows': '', 'diversity_filtered_rows': '', 'status': 'Failed: no A3M found'}\n",
      "{'original_id': '5GUP-t', 'matched_id': '5gup_t', 'similarity_score': '', 'notes': 'Stage 2', 'n_a3m_files': '3', 'n_rows_dropped': '', 'hhfilter_rows': '', 'diversity_filtered_rows': '', 'status': 'Failed: no A3M found'}\n",
      "{'original_id': '5GUP-V', 'matched_id': '5gpn_Ag', 'similarity_score': '', 'notes': 'Stage 2', 'n_a3m_files': '3', 'n_rows_dropped': '', 'hhfilter_rows': '', 'diversity_filtered_rows': '', 'status': 'Failed: no A3M found'}\n",
      "{'original_id': '5H4P-w', 'matched_id': '5h4p_w', 'similarity_score': '', 'notes': 'Stage 2', 'n_a3m_files': '3', 'n_rows_dropped': '', 'hhfilter_rows': '', 'diversity_filtered_rows': '', 'status': 'Failed: no A3M found'}\n",
      "{'original_id': '5IT7-kk', 'matched_id': '5it7_kk', 'similarity_score': '', 'notes': 'Stage 2', 'n_a3m_files': '3', 'n_rows_dropped': '', 'hhfilter_rows': '', 'diversity_filtered_rows': '', 'status': 'Failed: no A3M found'}\n",
      "{'original_id': '5J8B-z', 'matched_id': '4w2e_y', 'similarity_score': '', 'notes': 'Stage 2', 'n_a3m_files': '3', 'n_rows_dropped': '', 'hhfilter_rows': '', 'diversity_filtered_rows': '', 'status': 'Failed: no A3M found'}\n",
      "{'original_id': '5JTE-AU', 'matched_id': '3j9y_u', 'similarity_score': '', 'notes': 'Stage 2', 'n_a3m_files': '3', 'n_rows_dropped': '', 'hhfilter_rows': '', 'diversity_filtered_rows': '', 'status': 'Failed: no A3M found'}\n",
      "{'original_id': '5JU8-AF', 'matched_id': '3j9y_f', 'similarity_score': '', 'notes': 'Stage 2', 'n_a3m_files': '3', 'n_rows_dropped': '', 'hhfilter_rows': '', 'diversity_filtered_rows': '', 'status': 'Failed: no A3M found'}\n",
      "{'original_id': '5K0Y-c', 'matched_id': '5k0y_c', 'similarity_score': '', 'notes': 'Stage 2', 'n_a3m_files': '3', 'n_rows_dropped': '', 'hhfilter_rows': '', 'diversity_filtered_rows': '', 'status': 'Failed: no A3M found'}\n",
      "{'original_id': '5K0Y-i', 'matched_id': '5k0y_i', 'similarity_score': '', 'notes': 'Stage 2', 'n_a3m_files': '3', 'n_rows_dropped': '', 'hhfilter_rows': '', 'diversity_filtered_rows': '', 'status': 'Failed: no A3M found'}\n",
      "{'original_id': '5KCS-1w', 'matched_id': '3j9y_w', 'similarity_score': '', 'notes': 'Stage 2', 'n_a3m_files': '3', 'n_rows_dropped': '', 'hhfilter_rows': '', 'diversity_filtered_rows': '', 'status': 'Failed: no A3M found'}\n",
      "{'original_id': '5L3P-c', 'matched_id': '3j9y_c', 'similarity_score': '', 'notes': 'Stage 2', 'n_a3m_files': '3', 'n_rows_dropped': '', 'hhfilter_rows': '', 'diversity_filtered_rows': '', 'status': 'Failed: no A3M found'}\n",
      "{'original_id': '5L4G-8', 'matched_id': '5gjq_b', 'similarity_score': '', 'notes': 'Stage 2', 'n_a3m_files': '3', 'n_rows_dropped': '', 'hhfilter_rows': '', 'diversity_filtered_rows': '', 'status': 'Failed: no A3M found'}\n",
      "{'original_id': '5L4G-U', 'matched_id': '5gjq_f', 'similarity_score': '', 'notes': 'Stage 2', 'n_a3m_files': '3', 'n_rows_dropped': '', 'hhfilter_rows': '', 'diversity_filtered_rows': '', 'status': 'Failed: no A3M found'}\n",
      "{'original_id': '5LDW-i', 'matched_id': '5ldw_i', 'similarity_score': '', 'notes': 'Stage 2', 'n_a3m_files': '3', 'n_rows_dropped': '', 'hhfilter_rows': '', 'diversity_filtered_rows': '', 'status': 'Failed: no A3M found'}\n",
      "{'original_id': '5LI0-k', 'matched_id': '5li0_k', 'similarity_score': '', 'notes': 'Stage 2', 'n_a3m_files': '3', 'n_rows_dropped': '', 'hhfilter_rows': '', 'diversity_filtered_rows': '', 'status': 'Failed: no A3M found'}\n",
      "{'original_id': '5LI0-r', 'matched_id': '5li0_r', 'similarity_score': '', 'notes': 'Stage 2', 'n_a3m_files': '3', 'n_rows_dropped': '', 'hhfilter_rows': '', 'diversity_filtered_rows': '', 'status': 'Failed: no A3M found'}\n",
      "{'original_id': '5LJ5-W', 'matched_id': '5gmk_b', 'similarity_score': '', 'notes': 'Stage 2', 'n_a3m_files': '3', 'n_rows_dropped': '', 'hhfilter_rows': '', 'diversity_filtered_rows': '', 'status': 'Failed: no A3M found'}\n",
      "{'original_id': '5LKS-Lb', 'matched_id': '5lks_Lb', 'similarity_score': '', 'notes': 'Stage 2', 'n_a3m_files': '3', 'n_rows_dropped': '', 'hhfilter_rows': '', 'diversity_filtered_rows': '', 'status': 'Failed: no A3M found'}\n",
      "{'original_id': '5LN3-5', 'matched_id': '5gjq_e', 'similarity_score': '', 'notes': 'Stage 2', 'n_a3m_files': '3', 'n_rows_dropped': '', 'hhfilter_rows': '', 'diversity_filtered_rows': '', 'status': 'Failed: no A3M found'}\n",
      "{'original_id': '5LNK-o', 'matched_id': '5lnk_o', 'similarity_score': '', 'notes': 'Stage 2', 'n_a3m_files': '3', 'n_rows_dropped': '', 'hhfilter_rows': '', 'diversity_filtered_rows': '', 'status': 'Failed: no A3M found'}\n",
      "{'original_id': '5LNK-p', 'matched_id': '5lnk_p', 'similarity_score': '', 'notes': 'Stage 2', 'n_a3m_files': '3', 'n_rows_dropped': '', 'hhfilter_rows': '', 'diversity_filtered_rows': '', 'status': 'Failed: no A3M found'}\n",
      "{'original_id': '5LNK-q', 'matched_id': '5lnk_q', 'similarity_score': '', 'notes': 'Stage 2', 'n_a3m_files': '3', 'n_rows_dropped': '', 'hhfilter_rows': '', 'diversity_filtered_rows': '', 'status': 'Failed: no A3M found'}\n",
      "{'original_id': '5LNK-s', 'matched_id': '5lnk_s', 'similarity_score': '', 'notes': 'Stage 2', 'n_a3m_files': '3', 'n_rows_dropped': '', 'hhfilter_rows': '', 'diversity_filtered_rows': '', 'status': 'Failed: no A3M found'}\n",
      "{'original_id': '5LNK-u', 'matched_id': '5lnk_u', 'similarity_score': '', 'notes': 'Stage 2', 'n_a3m_files': '3', 'n_rows_dropped': '', 'hhfilter_rows': '', 'diversity_filtered_rows': '', 'status': 'Failed: no A3M found'}\n",
      "{'original_id': '5LNK-r', 'matched_id': '5lnk_r', 'similarity_score': '', 'notes': 'Stage 2', 'n_a3m_files': '3', 'n_rows_dropped': '', 'hhfilter_rows': '', 'diversity_filtered_rows': '', 'status': 'Failed: no A3M found'}\n",
      "{'original_id': '5LNK-t', 'matched_id': '5lnk_t', 'similarity_score': '', 'notes': 'Stage 2', 'n_a3m_files': '3', 'n_rows_dropped': '', 'hhfilter_rows': '', 'diversity_filtered_rows': '', 'status': 'Failed: no A3M found'}\n",
      "{'original_id': '5LNK-v', 'matched_id': '5lnk_v', 'similarity_score': '', 'notes': 'Stage 2', 'n_a3m_files': '3', 'n_rows_dropped': '', 'hhfilter_rows': '', 'diversity_filtered_rows': '', 'status': 'Failed: no A3M found'}\n",
      "{'original_id': '5LYB-c2', 'matched_id': '5lyb_c2', 'similarity_score': '', 'notes': 'Stage 2', 'n_a3m_files': '3', 'n_rows_dropped': '', 'hhfilter_rows': '', 'diversity_filtered_rows': '', 'status': 'Failed: no A3M found'}\n",
      "{'original_id': '5LYB-p0', 'matched_id': '5lyb_p0', 'similarity_score': '', 'notes': 'Stage 2', 'n_a3m_files': '3', 'n_rows_dropped': '', 'hhfilter_rows': '', 'diversity_filtered_rows': '', 'status': 'Failed: no A3M found'}\n",
      "{'original_id': '5LZD-z', 'matched_id': '5lzb_z', 'similarity_score': '', 'notes': 'Stage 2', 'n_a3m_files': '3', 'n_rows_dropped': '', 'hhfilter_rows': '', 'diversity_filtered_rows': '', 'status': 'Failed: no A3M found'}\n",
      "{'original_id': '5LZS-jj', 'matched_id': '5lzs_jj', 'similarity_score': '', 'notes': 'Stage 2', 'n_a3m_files': '3', 'n_rows_dropped': '', 'hhfilter_rows': '', 'diversity_filtered_rows': '', 'status': 'Failed: no A3M found'}\n",
      "{'original_id': '5LZX-t', 'matched_id': '3j92_t', 'similarity_score': '', 'notes': 'Stage 2', 'n_a3m_files': '3', 'n_rows_dropped': '', 'hhfilter_rows': '', 'diversity_filtered_rows': '', 'status': 'Failed: no A3M found'}\n",
      "{'original_id': '5LZY-ii', 'matched_id': '5lzw_ii', 'similarity_score': '', 'notes': 'Stage 2', 'n_a3m_files': '3', 'n_rows_dropped': '', 'hhfilter_rows': '', 'diversity_filtered_rows': '', 'status': 'Failed: no A3M found'}\n",
      "{'original_id': '5M32-h', 'matched_id': '5m32_h', 'similarity_score': '', 'notes': 'Stage 2', 'n_a3m_files': '3', 'n_rows_dropped': '', 'hhfilter_rows': '', 'diversity_filtered_rows': '', 'status': 'Failed: no A3M found'}\n",
      "{'original_id': '5MMJ-m', 'matched_id': '5mmj_m', 'similarity_score': '', 'notes': 'Stage 2', 'n_a3m_files': '3', 'n_rows_dropped': '', 'hhfilter_rows': '', 'diversity_filtered_rows': '', 'status': 'Failed: no A3M found'}\n",
      "{'original_id': '5MMJ-r', 'matched_id': '5mmj_r', 'similarity_score': '', 'notes': 'Stage 2', 'n_a3m_files': '3', 'n_rows_dropped': '', 'hhfilter_rows': '', 'diversity_filtered_rows': '', 'status': 'Failed: no A3M found'}\n",
      "{'original_id': '5MMJ-x', 'matched_id': '5mmj_x', 'similarity_score': '', 'notes': 'Stage 2', 'n_a3m_files': '3', 'n_rows_dropped': '', 'hhfilter_rows': '', 'diversity_filtered_rows': '', 'status': 'Failed: no A3M found'}\n",
      "{'original_id': '5MMJ-y', 'matched_id': '5mmj_y', 'similarity_score': '', 'notes': 'Stage 2', 'n_a3m_files': '3', 'n_rows_dropped': '', 'hhfilter_rows': '', 'diversity_filtered_rows': '', 'status': 'Failed: no A3M found'}\n",
      "{'original_id': '5MMM-7', 'matched_id': '5h1s_h', 'similarity_score': '', 'notes': 'Stage 2', 'n_a3m_files': '3', 'n_rows_dropped': '', 'hhfilter_rows': '', 'diversity_filtered_rows': '', 'status': 'Failed: no A3M found'}\n",
      "{'original_id': '5MMM-i', 'matched_id': '5mmj_i', 'similarity_score': '', 'notes': 'Stage 2', 'n_a3m_files': '3', 'n_rows_dropped': '', 'hhfilter_rows': '', 'diversity_filtered_rows': '', 'status': 'Failed: no A3M found'}\n",
      "{'original_id': '5MMM-j', 'matched_id': '5mmj_j', 'similarity_score': '', 'notes': 'Stage 2', 'n_a3m_files': '3', 'n_rows_dropped': '', 'hhfilter_rows': '', 'diversity_filtered_rows': '', 'status': 'Failed: no A3M found'}\n",
      "{'original_id': '5MMM-q', 'matched_id': '5mmj_q', 'similarity_score': '', 'notes': 'Stage 2', 'n_a3m_files': '3', 'n_rows_dropped': '', 'hhfilter_rows': '', 'diversity_filtered_rows': '', 'status': 'Failed: no A3M found'}\n",
      "{'original_id': '5MMM-t', 'matched_id': '5mmj_t', 'similarity_score': '', 'notes': 'Stage 2', 'n_a3m_files': '3', 'n_rows_dropped': '', 'hhfilter_rows': '', 'diversity_filtered_rows': '', 'status': 'Failed: no A3M found'}\n",
      "{'original_id': '5MMM-u', 'matched_id': '5mmj_u', 'similarity_score': '', 'notes': 'Stage 2', 'n_a3m_files': '3', 'n_rows_dropped': '', 'hhfilter_rows': '', 'diversity_filtered_rows': '', 'status': 'Failed: no A3M found'}\n",
      "{'original_id': '5MMM-w', 'matched_id': '5mmj_w', 'similarity_score': '', 'notes': 'Stage 2', 'n_a3m_files': '3', 'n_rows_dropped': '', 'hhfilter_rows': '', 'diversity_filtered_rows': '', 'status': 'Failed: no A3M found'}\n",
      "{'original_id': '5ND8-c', 'matched_id': '5li0_c', 'similarity_score': '', 'notes': 'Stage 2', 'n_a3m_files': '3', 'n_rows_dropped': '', 'hhfilter_rows': '', 'diversity_filtered_rows': '', 'status': 'Failed: no A3M found'}\n",
      "{'original_id': '5ND8-d', 'matched_id': '5nd8_d', 'similarity_score': '', 'notes': 'Stage 2', 'n_a3m_files': '3', 'n_rows_dropped': '', 'hhfilter_rows': '', 'diversity_filtered_rows': '', 'status': 'Failed: no A3M found'}\n",
      "{'original_id': '5ND8-m', 'matched_id': '5nd8_m', 'similarity_score': '', 'notes': 'Stage 2', 'n_a3m_files': '3', 'n_rows_dropped': '', 'hhfilter_rows': '', 'diversity_filtered_rows': '', 'status': 'Failed: no A3M found'}\n",
      "{'original_id': '5ND8-n', 'matched_id': '5nd8_n', 'similarity_score': '', 'notes': 'Stage 2', 'n_a3m_files': '3', 'n_rows_dropped': '', 'hhfilter_rows': '', 'diversity_filtered_rows': '', 'status': 'Failed: no A3M found'}\n",
      "{'original_id': '5ND8-r', 'matched_id': '5nd8_r', 'similarity_score': '', 'notes': 'Stage 2', 'n_a3m_files': '3', 'n_rows_dropped': '', 'hhfilter_rows': '', 'diversity_filtered_rows': '', 'status': 'Failed: no A3M found'}\n",
      "{'original_id': '5ND8-v', 'matched_id': '5nd8_v', 'similarity_score': '', 'notes': 'Stage 2', 'n_a3m_files': '3', 'n_rows_dropped': '', 'hhfilter_rows': '', 'diversity_filtered_rows': '', 'status': 'Failed: no A3M found'}\n",
      "{'original_id': '5ND9-b', 'matched_id': '5li0_b', 'similarity_score': '', 'notes': 'Stage 2', 'n_a3m_files': '3', 'n_rows_dropped': '', 'hhfilter_rows': '', 'diversity_filtered_rows': '', 'status': 'Failed: no A3M found'}\n",
      "{'original_id': '5ND9-e', 'matched_id': '5nd8_e', 'similarity_score': '', 'notes': 'Stage 2', 'n_a3m_files': '3', 'n_rows_dropped': '', 'hhfilter_rows': '', 'diversity_filtered_rows': '', 'status': 'Failed: no A3M found'}\n",
      "{'original_id': '5ND9-g', 'matched_id': '5nd8_g', 'similarity_score': '', 'notes': 'Stage 2', 'n_a3m_files': '3', 'n_rows_dropped': '', 'hhfilter_rows': '', 'diversity_filtered_rows': '', 'status': 'Failed: no A3M found'}\n",
      "{'original_id': '5ND9-h', 'matched_id': '5nd8_h', 'similarity_score': '', 'notes': 'Stage 2', 'n_a3m_files': '3', 'n_rows_dropped': '', 'hhfilter_rows': '', 'diversity_filtered_rows': '', 'status': 'Failed: no A3M found'}\n",
      "{'original_id': '5ND9-j', 'matched_id': '5li0_j', 'similarity_score': '', 'notes': 'Stage 2', 'n_a3m_files': '3', 'n_rows_dropped': '', 'hhfilter_rows': '', 'diversity_filtered_rows': '', 'status': 'Failed: no A3M found'}\n",
      "{'original_id': '5ND9-q', 'matched_id': '5nd8_q', 'similarity_score': '', 'notes': 'Stage 2', 'n_a3m_files': '3', 'n_rows_dropped': '', 'hhfilter_rows': '', 'diversity_filtered_rows': '', 'status': 'Failed: no A3M found'}\n",
      "{'original_id': '5NGM-Af', 'matched_id': '5nd8_f', 'similarity_score': '', 'notes': 'Stage 2', 'n_a3m_files': '3', 'n_rows_dropped': '', 'hhfilter_rows': '', 'diversity_filtered_rows': '', 'status': 'Failed: no A3M found'}\n",
      "{'original_id': '5NGM-Ai', 'matched_id': '5nd8_i', 'similarity_score': '', 'notes': 'Stage 2', 'n_a3m_files': '3', 'n_rows_dropped': '', 'hhfilter_rows': '', 'diversity_filtered_rows': '', 'status': 'Failed: no A3M found'}\n",
      "{'original_id': '5NGM-Al', 'matched_id': '5nd8_l', 'similarity_score': '', 'notes': 'Stage 2', 'n_a3m_files': '3', 'n_rows_dropped': '', 'hhfilter_rows': '', 'diversity_filtered_rows': '', 'status': 'Failed: no A3M found'}\n",
      "{'original_id': '5NW4-h', 'matched_id': '5nw4_h', 'similarity_score': '', 'notes': 'Stage 2', 'n_a3m_files': '3', 'n_rows_dropped': '', 'hhfilter_rows': '', 'diversity_filtered_rows': '', 'status': 'Failed: no A3M found'}\n",
      "{'original_id': '5NW4-l', 'matched_id': '5adx_b', 'similarity_score': '', 'notes': 'Stage 2', 'n_a3m_files': '3', 'n_rows_dropped': '', 'hhfilter_rows': '', 'diversity_filtered_rows': '', 'status': 'Failed: no A3M found'}\n",
      "{'original_id': '5O31-m', 'matched_id': '5o31_m', 'similarity_score': '', 'notes': 'Stage 2', 'n_a3m_files': '3', 'n_rows_dropped': '', 'hhfilter_rows': '', 'diversity_filtered_rows': '', 'status': 'Failed: no A3M found'}\n",
      "{'original_id': '5OOL-w', 'matched_id': '5ool_w', 'similarity_score': '', 'notes': 'Stage 2', 'n_a3m_files': '3', 'n_rows_dropped': '', 'hhfilter_rows': '', 'diversity_filtered_rows': '', 'status': 'Failed: no A3M found'}\n",
      "{'original_id': '5OOM-a', 'matched_id': '3j7y_a', 'similarity_score': '', 'notes': 'Stage 2', 'n_a3m_files': '3', 'n_rows_dropped': '', 'hhfilter_rows': '', 'diversity_filtered_rows': '', 'status': 'Failed: no A3M found'}\n",
      "{'original_id': '5OOM-m', 'matched_id': '3j9m_m', 'similarity_score': '', 'notes': 'Stage 2', 'n_a3m_files': '3', 'n_rows_dropped': '', 'hhfilter_rows': '', 'diversity_filtered_rows': '', 'status': 'Failed: no A3M found'}\n",
      "{'original_id': '5OOM-u', 'matched_id': '5ool_u', 'similarity_score': '', 'notes': 'Stage 2', 'n_a3m_files': '3', 'n_rows_dropped': '', 'hhfilter_rows': '', 'diversity_filtered_rows': '', 'status': 'Failed: no A3M found'}\n",
      "{'original_id': '5OOM-v', 'matched_id': '5ool_v', 'similarity_score': '', 'notes': 'Stage 2', 'n_a3m_files': '3', 'n_rows_dropped': '', 'hhfilter_rows': '', 'diversity_filtered_rows': '', 'status': 'Failed: no A3M found'}\n",
      "{'original_id': '5OPT-a', 'matched_id': '5opt_a', 'similarity_score': '', 'notes': 'Stage 2', 'n_a3m_files': '3', 'n_rows_dropped': '', 'hhfilter_rows': '', 'diversity_filtered_rows': '', 'status': 'Failed: no A3M found'}\n",
      "{'original_id': '5OPT-c', 'matched_id': '5opt_c', 'similarity_score': '', 'notes': 'Stage 2', 'n_a3m_files': '3', 'n_rows_dropped': '', 'hhfilter_rows': '', 'diversity_filtered_rows': '', 'status': 'Failed: no A3M found'}\n",
      "{'original_id': '5OPT-d', 'matched_id': '5opt_d', 'similarity_score': '', 'notes': 'Stage 2', 'n_a3m_files': '3', 'n_rows_dropped': '', 'hhfilter_rows': '', 'diversity_filtered_rows': '', 'status': 'Failed: no A3M found'}\n",
      "{'original_id': '5OPT-f', 'matched_id': '5opt_f', 'similarity_score': '', 'notes': 'Stage 2', 'n_a3m_files': '3', 'n_rows_dropped': '', 'hhfilter_rows': '', 'diversity_filtered_rows': '', 'status': 'Failed: no A3M found'}\n",
      "{'original_id': '5OPT-g', 'matched_id': '5opt_g', 'similarity_score': '', 'notes': 'Stage 2', 'n_a3m_files': '3', 'n_rows_dropped': '', 'hhfilter_rows': '', 'diversity_filtered_rows': '', 'status': 'Failed: no A3M found'}\n",
      "{'original_id': '5OPT-h', 'matched_id': '5opt_h', 'similarity_score': '', 'notes': 'Stage 2', 'n_a3m_files': '3', 'n_rows_dropped': '', 'hhfilter_rows': '', 'diversity_filtered_rows': '', 'status': 'Failed: no A3M found'}\n",
      "{'original_id': '5OPT-i', 'matched_id': '5opt_i', 'similarity_score': '', 'notes': 'Stage 2', 'n_a3m_files': '3', 'n_rows_dropped': '', 'hhfilter_rows': '', 'diversity_filtered_rows': '', 'status': 'Failed: no A3M found'}\n",
      "{'original_id': '5OPT-j', 'matched_id': '5opt_j', 'similarity_score': '', 'notes': 'Stage 2', 'n_a3m_files': '3', 'n_rows_dropped': '', 'hhfilter_rows': '', 'diversity_filtered_rows': '', 'status': 'Failed: no A3M found'}\n",
      "{'original_id': '5OPT-k', 'matched_id': '5opt_k', 'similarity_score': '', 'notes': 'Stage 2', 'n_a3m_files': '3', 'n_rows_dropped': '', 'hhfilter_rows': '', 'diversity_filtered_rows': '', 'status': 'Failed: no A3M found'}\n",
      "{'original_id': '5OPT-n', 'matched_id': '5opt_n', 'similarity_score': '', 'notes': 'Stage 2', 'n_a3m_files': '3', 'n_rows_dropped': '', 'hhfilter_rows': '', 'diversity_filtered_rows': '', 'status': 'Failed: no A3M found'}\n",
      "{'original_id': '5OQL-q', 'matched_id': '5oql_q', 'similarity_score': '', 'notes': 'Stage 2', 'n_a3m_files': '3', 'n_rows_dropped': '', 'hhfilter_rows': '', 'diversity_filtered_rows': '', 'status': 'Failed: no A3M found'}\n",
      "{'original_id': '5OQL-s', 'matched_id': '5oql_s', 'similarity_score': '', 'notes': 'Stage 2', 'n_a3m_files': '3', 'n_rows_dropped': '', 'hhfilter_rows': '', 'diversity_filtered_rows': '', 'status': 'Failed: no A3M found'}\n",
      "{'original_id': '5OQL-w', 'matched_id': '5oql_w', 'similarity_score': '', 'notes': 'Stage 2', 'n_a3m_files': '3', 'n_rows_dropped': '', 'hhfilter_rows': '', 'diversity_filtered_rows': '', 'status': 'Failed: no A3M found'}\n",
      "{'original_id': '5OQM-h', 'matched_id': '5oqm_h', 'similarity_score': '', 'notes': 'Stage 2', 'n_a3m_files': '3', 'n_rows_dropped': '', 'hhfilter_rows': '', 'diversity_filtered_rows': '', 'status': 'Failed: no A3M found'}\n",
      "{'original_id': '5OQM-k', 'matched_id': '5oqm_k', 'similarity_score': '', 'notes': 'Stage 2', 'n_a3m_files': '3', 'n_rows_dropped': '', 'hhfilter_rows': '', 'diversity_filtered_rows': '', 'status': 'Failed: no A3M found'}\n",
      "{'original_id': '5OQM-l', 'matched_id': '5oqm_l', 'similarity_score': '', 'notes': 'Stage 2', 'n_a3m_files': '3', 'n_rows_dropped': '', 'hhfilter_rows': '', 'diversity_filtered_rows': '', 'status': 'Failed: no A3M found'}\n",
      "{'original_id': '5OQM-m', 'matched_id': '5oqm_m', 'similarity_score': '', 'notes': 'Stage 2', 'n_a3m_files': '3', 'n_rows_dropped': '', 'hhfilter_rows': '', 'diversity_filtered_rows': '', 'status': 'Failed: no A3M found'}\n",
      "{'original_id': '5OQM-o', 'matched_id': '5oqm_o', 'similarity_score': '', 'notes': 'Stage 2', 'n_a3m_files': '3', 'n_rows_dropped': '', 'hhfilter_rows': '', 'diversity_filtered_rows': '', 'status': 'Failed: no A3M found'}\n",
      "{'original_id': '5OSG-h', 'matched_id': '5osg_h', 'similarity_score': '', 'notes': 'Stage 2', 'n_a3m_files': '3', 'n_rows_dropped': '', 'hhfilter_rows': '', 'diversity_filtered_rows': '', 'status': 'Failed: no A3M found'}\n",
      "{'original_id': '5OXE-A', 'matched_id': '5oxe_A', 'similarity_score': '', 'notes': 'Stage 1', 'n_a3m_files': '3', 'n_rows_dropped': '0', 'hhfilter_rows': '1', 'diversity_filtered_rows': '', 'status': 'Failed: only 1 rows after stripping'}\n",
      "{'original_id': '5T0J-f', 'matched_id': '5t0g_f', 'similarity_score': '', 'notes': 'Stage 2', 'n_a3m_files': '3', 'n_rows_dropped': '', 'hhfilter_rows': '', 'diversity_filtered_rows': '', 'status': 'Failed: no A3M found'}\n",
      "{'original_id': '5T2A-g', 'matched_id': '5t2a_g', 'similarity_score': '', 'notes': 'Stage 2', 'n_a3m_files': '3', 'n_rows_dropped': '', 'hhfilter_rows': '', 'diversity_filtered_rows': '', 'status': 'Failed: no A3M found'}\n",
      "{'original_id': '5T2A-k', 'matched_id': '5t2a_k', 'similarity_score': '', 'notes': 'Stage 2', 'n_a3m_files': '3', 'n_rows_dropped': '', 'hhfilter_rows': '', 'diversity_filtered_rows': '', 'status': 'Failed: no A3M found'}\n",
      "{'original_id': '5T5H-a', 'matched_id': '5t5h_a', 'similarity_score': '', 'notes': 'Stage 2', 'n_a3m_files': '3', 'n_rows_dropped': '', 'hhfilter_rows': '', 'diversity_filtered_rows': '', 'status': 'Failed: no A3M found'}\n",
      "{'original_id': '5T5H-b', 'matched_id': '5t5h_b', 'similarity_score': '', 'notes': 'Stage 2', 'n_a3m_files': '3', 'n_rows_dropped': '', 'hhfilter_rows': '', 'diversity_filtered_rows': '', 'status': 'Failed: no A3M found'}\n",
      "{'original_id': '5T5H-c', 'matched_id': '5t5h_c', 'similarity_score': '', 'notes': 'Stage 2', 'n_a3m_files': '3', 'n_rows_dropped': '', 'hhfilter_rows': '', 'diversity_filtered_rows': '', 'status': 'Failed: no A3M found'}\n",
      "{'original_id': '5T5H-d', 'matched_id': '5t5h_d', 'similarity_score': '', 'notes': 'Stage 2', 'n_a3m_files': '3', 'n_rows_dropped': '', 'hhfilter_rows': '', 'diversity_filtered_rows': '', 'status': 'Failed: no A3M found'}\n",
      "{'original_id': '5T5H-f', 'matched_id': '5t5h_f', 'similarity_score': '', 'notes': 'Stage 2', 'n_a3m_files': '3', 'n_rows_dropped': '', 'hhfilter_rows': '', 'diversity_filtered_rows': '', 'status': 'Failed: no A3M found'}\n",
      "{'original_id': '5T5H-g', 'matched_id': '5t5h_g', 'similarity_score': '', 'notes': 'Stage 2', 'n_a3m_files': '3', 'n_rows_dropped': '', 'hhfilter_rows': '', 'diversity_filtered_rows': '', 'status': 'Failed: no A3M found'}\n",
      "{'original_id': '5T5H-h', 'matched_id': '5t5h_h', 'similarity_score': '', 'notes': 'Stage 2', 'n_a3m_files': '3', 'n_rows_dropped': '', 'hhfilter_rows': '', 'diversity_filtered_rows': '', 'status': 'Failed: no A3M found'}\n",
      "{'original_id': '5T5H-k', 'matched_id': '5t5h_k', 'similarity_score': '', 'notes': 'Stage 2', 'n_a3m_files': '3', 'n_rows_dropped': '', 'hhfilter_rows': '', 'diversity_filtered_rows': '', 'status': 'Failed: no A3M found'}\n",
      "{'original_id': '5T5H-m', 'matched_id': '5t5h_m', 'similarity_score': '', 'notes': 'Stage 2', 'n_a3m_files': '3', 'n_rows_dropped': '', 'hhfilter_rows': '', 'diversity_filtered_rows': '', 'status': 'Failed: no A3M found'}\n",
      "{'original_id': '5TGM-p0', 'matched_id': '5tgm_p0', 'similarity_score': '', 'notes': 'Stage 2', 'n_a3m_files': '3', 'n_rows_dropped': '', 'hhfilter_rows': '', 'diversity_filtered_rows': '', 'status': 'Failed: no A3M found'}\n",
      "{'original_id': '5V93-c', 'matched_id': '5v93_c', 'similarity_score': '', 'notes': 'Stage 2', 'n_a3m_files': '3', 'n_rows_dropped': '', 'hhfilter_rows': '', 'diversity_filtered_rows': '', 'status': 'Failed: no A3M found'}\n",
      "{'original_id': '5V93-e', 'matched_id': '5v93_e', 'similarity_score': '', 'notes': 'Stage 2', 'n_a3m_files': '3', 'n_rows_dropped': '', 'hhfilter_rows': '', 'diversity_filtered_rows': '', 'status': 'Failed: no A3M found'}\n",
      "{'original_id': '5V93-f', 'matched_id': '5v93_f', 'similarity_score': '', 'notes': 'Stage 2', 'n_a3m_files': '3', 'n_rows_dropped': '', 'hhfilter_rows': '', 'diversity_filtered_rows': '', 'status': 'Failed: no A3M found'}\n",
      "{'original_id': '5V93-i', 'matched_id': '5v93_i', 'similarity_score': '', 'notes': 'Stage 2', 'n_a3m_files': '3', 'n_rows_dropped': '', 'hhfilter_rows': '', 'diversity_filtered_rows': '', 'status': 'Failed: no A3M found'}\n",
      "{'original_id': '5V93-k', 'matched_id': '5v93_k', 'similarity_score': '', 'notes': 'Stage 2', 'n_a3m_files': '3', 'n_rows_dropped': '', 'hhfilter_rows': '', 'diversity_filtered_rows': '', 'status': 'Failed: no A3M found'}\n",
      "{'original_id': '5V93-m', 'matched_id': '5v93_m', 'similarity_score': '', 'notes': 'Stage 2', 'n_a3m_files': '3', 'n_rows_dropped': '', 'hhfilter_rows': '', 'diversity_filtered_rows': '', 'status': 'Failed: no A3M found'}\n",
      "{'original_id': '5V93-o', 'matched_id': '5v93_o', 'similarity_score': '', 'notes': 'Stage 2', 'n_a3m_files': '3', 'n_rows_dropped': '', 'hhfilter_rows': '', 'diversity_filtered_rows': '', 'status': 'Failed: no A3M found'}\n",
      "{'original_id': '5V93-p', 'matched_id': '5v93_p', 'similarity_score': '', 'notes': 'Stage 2', 'n_a3m_files': '3', 'n_rows_dropped': '', 'hhfilter_rows': '', 'diversity_filtered_rows': '', 'status': 'Failed: no A3M found'}\n",
      "{'original_id': '5V93-q', 'matched_id': '5v93_q', 'similarity_score': '', 'notes': 'Stage 2', 'n_a3m_files': '3', 'n_rows_dropped': '', 'hhfilter_rows': '', 'diversity_filtered_rows': '', 'status': 'Failed: no A3M found'}\n",
      "{'original_id': '5V93-r', 'matched_id': '5v93_r', 'similarity_score': '', 'notes': 'Stage 2', 'n_a3m_files': '3', 'n_rows_dropped': '', 'hhfilter_rows': '', 'diversity_filtered_rows': '', 'status': 'Failed: no A3M found'}\n",
      "{'original_id': '5VFU-d', 'matched_id': '5t0c_Ad', 'similarity_score': '', 'notes': 'Stage 2', 'n_a3m_files': '3', 'n_rows_dropped': '', 'hhfilter_rows': '', 'diversity_filtered_rows': '', 'status': 'Failed: no A3M found'}\n",
      "{'original_id': '5VKU-g', 'matched_id': '5vku_g', 'similarity_score': '', 'notes': 'Stage 2', 'n_a3m_files': '3', 'n_rows_dropped': '', 'hhfilter_rows': '', 'diversity_filtered_rows': '', 'status': 'Failed: no A3M found'}\n",
      "{'original_id': '5VKU-h', 'matched_id': '5vku_h', 'similarity_score': '', 'notes': 'Stage 2', 'n_a3m_files': '3', 'n_rows_dropped': '', 'hhfilter_rows': '', 'diversity_filtered_rows': '', 'status': 'Failed: no A3M found'}\n",
      "{'original_id': '5VYC-e1', 'matched_id': '5lks_Se', 'similarity_score': '', 'notes': 'Stage 2', 'n_a3m_files': '3', 'n_rows_dropped': '', 'hhfilter_rows': '', 'diversity_filtered_rows': '', 'status': 'Failed: no A3M found'}\n",
      "{'original_id': '5VYC-l1', 'matched_id': '5vyc_l1', 'similarity_score': '', 'notes': 'Stage 2', 'n_a3m_files': '3', 'n_rows_dropped': '', 'hhfilter_rows': '', 'diversity_filtered_rows': '', 'status': 'Failed: no A3M found'}\n",
      "{'original_id': '5X8P-b', 'matched_id': '5mmj_b', 'similarity_score': '', 'notes': 'Stage 2', 'n_a3m_files': '3', 'n_rows_dropped': '', 'hhfilter_rows': '', 'diversity_filtered_rows': '', 'status': 'Failed: no A3M found'}\n",
      "{'original_id': '5X8P-j', 'matched_id': '5x8p_j', 'similarity_score': '', 'notes': 'Stage 2', 'n_a3m_files': '3', 'n_rows_dropped': '', 'hhfilter_rows': '', 'diversity_filtered_rows': '', 'status': 'Failed: no A3M found'}\n",
      "{'original_id': '5X8P-q', 'matched_id': '5x8p_q', 'similarity_score': '', 'notes': 'Stage 2', 'n_a3m_files': '3', 'n_rows_dropped': '', 'hhfilter_rows': '', 'diversity_filtered_rows': '', 'status': 'Failed: no A3M found'}\n",
      "{'original_id': '5X8P-u', 'matched_id': '5x8p_u', 'similarity_score': '', 'notes': 'Stage 2', 'n_a3m_files': '3', 'n_rows_dropped': '', 'hhfilter_rows': '', 'diversity_filtered_rows': '', 'status': 'Failed: no A3M found'}\n",
      "{'original_id': '5X8R-e', 'matched_id': '5x8p_e', 'similarity_score': '', 'notes': 'Stage 2', 'n_a3m_files': '3', 'n_rows_dropped': '', 'hhfilter_rows': '', 'diversity_filtered_rows': '', 'status': 'Failed: no A3M found'}\n",
      "{'original_id': '5X8R-i', 'matched_id': '5x8p_i', 'similarity_score': '', 'notes': 'Stage 2', 'n_a3m_files': '3', 'n_rows_dropped': '', 'hhfilter_rows': '', 'diversity_filtered_rows': '', 'status': 'Failed: no A3M found'}\n",
      "{'original_id': '5X8R-k', 'matched_id': '5mmj_k', 'similarity_score': '', 'notes': 'Stage 2', 'n_a3m_files': '3', 'n_rows_dropped': '', 'hhfilter_rows': '', 'diversity_filtered_rows': '', 'status': 'Failed: no A3M found'}\n",
      "{'original_id': '5X8R-t', 'matched_id': '5x8p_t', 'similarity_score': '', 'notes': 'Stage 2', 'n_a3m_files': '3', 'n_rows_dropped': '', 'hhfilter_rows': '', 'diversity_filtered_rows': '', 'status': 'Failed: no A3M found'}\n",
      "{'original_id': '5X8T-0', 'matched_id': '5h1s_a', 'similarity_score': '', 'notes': 'Stage 2', 'n_a3m_files': '3', 'n_rows_dropped': '', 'hhfilter_rows': '', 'diversity_filtered_rows': '', 'status': 'Failed: no A3M found'}\n",
      "{'original_id': '5XTC-d', 'matched_id': '5xtc_d', 'similarity_score': '', 'notes': 'Stage 2', 'n_a3m_files': '3', 'n_rows_dropped': '', 'hhfilter_rows': '', 'diversity_filtered_rows': '', 'status': 'Failed: no A3M found'}\n",
      "{'original_id': '5XTC-l', 'matched_id': '5xtc_l', 'similarity_score': '', 'notes': 'Stage 2', 'n_a3m_files': '3', 'n_rows_dropped': '', 'hhfilter_rows': '', 'diversity_filtered_rows': '', 'status': 'Failed: no A3M found'}\n",
      "{'original_id': '5XTD-o', 'matched_id': '5xtc_o', 'similarity_score': '', 'notes': 'Stage 2', 'n_a3m_files': '3', 'n_rows_dropped': '', 'hhfilter_rows': '', 'diversity_filtered_rows': '', 'status': 'Failed: no A3M found'}\n",
      "{'original_id': '5XTD-v', 'matched_id': '5xtd_v', 'similarity_score': '', 'notes': 'Stage 2', 'n_a3m_files': '3', 'n_rows_dropped': '', 'hhfilter_rows': '', 'diversity_filtered_rows': '', 'status': 'Failed: no A3M found'}\n",
      "{'original_id': '5XTH-c', 'matched_id': '5xtc_c', 'similarity_score': '', 'notes': 'Stage 2', 'n_a3m_files': '3', 'n_rows_dropped': '', 'hhfilter_rows': '', 'diversity_filtered_rows': '', 'status': 'Failed: no A3M found'}\n",
      "{'original_id': '5XTH-g', 'matched_id': '5xtc_g', 'similarity_score': '', 'notes': 'Stage 2', 'n_a3m_files': '3', 'n_rows_dropped': '', 'hhfilter_rows': '', 'diversity_filtered_rows': '', 'status': 'Failed: no A3M found'}\n",
      "{'original_id': '5XTH-k', 'matched_id': '5xtc_k', 'similarity_score': '', 'notes': 'Stage 2', 'n_a3m_files': '3', 'n_rows_dropped': '', 'hhfilter_rows': '', 'diversity_filtered_rows': '', 'status': 'Failed: no A3M found'}\n",
      "{'original_id': '5XTI-h', 'matched_id': '5xtc_h', 'similarity_score': '', 'notes': 'Stage 2', 'n_a3m_files': '3', 'n_rows_dropped': '', 'hhfilter_rows': '', 'diversity_filtered_rows': '', 'status': 'Failed: no A3M found'}\n",
      "{'original_id': '5XTI-i', 'matched_id': '5xtc_i', 'similarity_score': '', 'notes': 'Stage 2', 'n_a3m_files': '3', 'n_rows_dropped': '', 'hhfilter_rows': '', 'diversity_filtered_rows': '', 'status': 'Failed: no A3M found'}\n",
      "{'original_id': '5XTI-j', 'matched_id': '5xtc_j', 'similarity_score': '', 'notes': 'Stage 2', 'n_a3m_files': '3', 'n_rows_dropped': '', 'hhfilter_rows': '', 'diversity_filtered_rows': '', 'status': 'Failed: no A3M found'}\n",
      "{'original_id': '5XTI-m', 'matched_id': '5xtc_m', 'similarity_score': '', 'notes': 'Stage 2', 'n_a3m_files': '3', 'n_rows_dropped': '', 'hhfilter_rows': '', 'diversity_filtered_rows': '', 'status': 'Failed: no A3M found'}\n",
      "{'original_id': '5XTI-r', 'matched_id': '5xtc_r', 'similarity_score': '', 'notes': 'Stage 2', 'n_a3m_files': '3', 'n_rows_dropped': '', 'hhfilter_rows': '', 'diversity_filtered_rows': '', 'status': 'Failed: no A3M found'}\n",
      "{'original_id': '5XY3-k', 'matched_id': '5xy3_k', 'similarity_score': '', 'notes': 'Stage 2', 'n_a3m_files': '3', 'n_rows_dropped': '', 'hhfilter_rows': '', 'diversity_filtered_rows': '', 'status': 'Failed: no A3M found'}\n",
      "{'original_id': '5Y6P-a2', 'matched_id': '5y6p_a2', 'similarity_score': '', 'notes': 'Stage 2', 'n_a3m_files': '3', 'n_rows_dropped': '', 'hhfilter_rows': '', 'diversity_filtered_rows': '', 'status': 'Failed: no A3M found'}\n",
      "{'original_id': '5Y6P-dy', 'matched_id': '5y6p_dy', 'similarity_score': '', 'notes': 'Stage 2', 'n_a3m_files': '3', 'n_rows_dropped': '', 'hhfilter_rows': '', 'diversity_filtered_rows': '', 'status': 'Failed: no A3M found'}\n",
      "{'original_id': '5YK3-n', 'matched_id': '5yk3_n', 'similarity_score': '', 'notes': 'Stage 2', 'n_a3m_files': '3', 'n_rows_dropped': '', 'hhfilter_rows': '', 'diversity_filtered_rows': '', 'status': 'Failed: no A3M found'}\n",
      "{'original_id': '5YZG-w', 'matched_id': '5xjc_w', 'similarity_score': '', 'notes': 'Stage 2', 'n_a3m_files': '3', 'n_rows_dropped': '', 'hhfilter_rows': '', 'diversity_filtered_rows': '', 'status': 'Failed: no A3M found'}\n",
      "{'original_id': '5ZEB-1', 'matched_id': '5o60_a', 'similarity_score': '', 'notes': 'Stage 2', 'n_a3m_files': '3', 'n_rows_dropped': '', 'hhfilter_rows': '', 'diversity_filtered_rows': '', 'status': 'Failed: no A3M found'}\n",
      "{'original_id': '5ZEP-x', 'matched_id': '5zep_x', 'similarity_score': '', 'notes': 'Stage 2', 'n_a3m_files': '3', 'n_rows_dropped': '', 'hhfilter_rows': '', 'diversity_filtered_rows': '', 'status': 'Failed: no A3M found'}\n",
      "{'original_id': '5ZZ8-h', 'matched_id': '5zap_f', 'similarity_score': '', 'notes': 'Stage 2', 'n_a3m_files': '3', 'n_rows_dropped': '', 'hhfilter_rows': '', 'diversity_filtered_rows': '', 'status': 'Failed: no A3M found'}\n",
      "{'original_id': '5ZZ8-q', 'matched_id': '5zz8_q', 'similarity_score': '', 'notes': 'Stage 2', 'n_a3m_files': '3', 'n_rows_dropped': '', 'hhfilter_rows': '', 'diversity_filtered_rows': '', 'status': 'Failed: no A3M found'}\n",
      "{'original_id': '5ZZ8-r', 'matched_id': '5zz8_r', 'similarity_score': '', 'notes': 'Stage 2', 'n_a3m_files': '3', 'n_rows_dropped': '', 'hhfilter_rows': '', 'diversity_filtered_rows': '', 'status': 'Failed: no A3M found'}\n",
      "{'original_id': '6AH0-w', 'matched_id': '5z56_w', 'similarity_score': '', 'notes': 'Stage 2', 'n_a3m_files': '3', 'n_rows_dropped': '', 'hhfilter_rows': '', 'diversity_filtered_rows': '', 'status': 'Failed: no A3M found'}\n",
      "{'original_id': '6AHD-v', 'matched_id': '5z56_v', 'similarity_score': '', 'notes': 'Stage 2', 'n_a3m_files': '3', 'n_rows_dropped': '', 'hhfilter_rows': '', 'diversity_filtered_rows': '', 'status': 'Failed: no A3M found'}\n",
      "{'original_id': '6AZ1-d', 'matched_id': '6az1_d', 'similarity_score': '', 'notes': 'Stage 2', 'n_a3m_files': '3', 'n_rows_dropped': '', 'hhfilter_rows': '', 'diversity_filtered_rows': '', 'status': 'Failed: no A3M found'}\n",
      "{'original_id': '6AZ3-g', 'matched_id': '6az3_g', 'similarity_score': '', 'notes': 'Stage 2', 'n_a3m_files': '3', 'n_rows_dropped': '', 'hhfilter_rows': '', 'diversity_filtered_rows': '', 'status': 'Failed: no A3M found'}\n",
      "{'original_id': '6C0F-w', 'matched_id': '6c0f_w', 'similarity_score': '', 'notes': 'Stage 2', 'n_a3m_files': '3', 'n_rows_dropped': '', 'hhfilter_rows': '', 'diversity_filtered_rows': '', 'status': 'Failed: no A3M found'}\n",
      "{'original_id': '6CB1-s', 'matched_id': '6cb1_s', 'similarity_score': '', 'notes': 'Stage 2', 'n_a3m_files': '3', 'n_rows_dropped': '', 'hhfilter_rows': '', 'diversity_filtered_rows': '', 'status': 'Failed: no A3M found'}\n",
      "{'original_id': '6CB1-t', 'matched_id': '6cb1_t', 'similarity_score': '', 'notes': 'Stage 2', 'n_a3m_files': '3', 'n_rows_dropped': '', 'hhfilter_rows': '', 'diversity_filtered_rows': '', 'status': 'Failed: no A3M found'}\n",
      "{'original_id': '6CGR-l', 'matched_id': '6cgr_l', 'similarity_score': '', 'notes': 'Stage 2', 'n_a3m_files': '3', 'n_rows_dropped': '', 'hhfilter_rows': '', 'diversity_filtered_rows': '', 'status': 'Failed: no A3M found'}\n",
      "{'original_id': '6CGR-k', 'matched_id': '6cgr_k', 'similarity_score': '', 'notes': 'Stage 2', 'n_a3m_files': '3', 'n_rows_dropped': '', 'hhfilter_rows': '', 'diversity_filtered_rows': '', 'status': 'Failed: no A3M found'}\n",
      "{'original_id': '6D9J-s', 'matched_id': '6d90_s', 'similarity_score': '', 'notes': 'Stage 2', 'n_a3m_files': '3', 'n_rows_dropped': '', 'hhfilter_rows': '', 'diversity_filtered_rows': '', 'status': 'Failed: no A3M found'}\n",
      "{'original_id': '6D9J-t', 'matched_id': '6d90_t', 'similarity_score': '', 'notes': 'Stage 2', 'n_a3m_files': '3', 'n_rows_dropped': '', 'hhfilter_rows': '', 'diversity_filtered_rows': '', 'status': 'Failed: no A3M found'}\n",
      "{'original_id': '6ELZ-l', 'matched_id': '6elz_l', 'similarity_score': '', 'notes': 'Stage 2', 'n_a3m_files': '3', 'n_rows_dropped': '', 'hhfilter_rows': '', 'diversity_filtered_rows': '', 'status': 'Failed: no A3M found'}\n",
      "{'original_id': '6ELZ-p', 'matched_id': '6elz_p', 'similarity_score': '', 'notes': 'Stage 2', 'n_a3m_files': '3', 'n_rows_dropped': '', 'hhfilter_rows': '', 'diversity_filtered_rows': '', 'status': 'Failed: no A3M found'}\n",
      "{'original_id': '6ELZ-z', 'matched_id': '3jct_z', 'similarity_score': '', 'notes': 'Stage 2', 'n_a3m_files': '3', 'n_rows_dropped': '', 'hhfilter_rows': '', 'diversity_filtered_rows': '', 'status': 'Failed: no A3M found'}\n",
      "{'original_id': '6EM1-t', 'matched_id': '3jct_t', 'similarity_score': '', 'notes': 'Stage 2', 'n_a3m_files': '3', 'n_rows_dropped': '', 'hhfilter_rows': '', 'diversity_filtered_rows': '', 'status': 'Failed: no A3M found'}\n",
      "{'original_id': '6ERI-Ad', 'matched_id': '6eri_Ad', 'similarity_score': '', 'notes': 'Stage 2', 'n_a3m_files': '3', 'n_rows_dropped': '', 'hhfilter_rows': '', 'diversity_filtered_rows': '', 'status': 'Failed: no A3M found'}\n",
      "{'original_id': '6F1T-i', 'matched_id': '6f1t_i', 'similarity_score': '', 'notes': 'Stage 2', 'n_a3m_files': '3', 'n_rows_dropped': '', 'hhfilter_rows': '', 'diversity_filtered_rows': '', 'status': 'Failed: no A3M found'}\n",
      "{'original_id': '6F1U-h', 'matched_id': '6f1t_g', 'similarity_score': '', 'notes': 'Stage 2', 'n_a3m_files': '3', 'n_rows_dropped': '', 'hhfilter_rows': '', 'diversity_filtered_rows': '', 'status': 'Failed: no A3M found'}\n",
      "{'original_id': '6F1Y-j', 'matched_id': '6f1y_j', 'similarity_score': '', 'notes': 'Stage 2', 'n_a3m_files': '3', 'n_rows_dropped': '', 'hhfilter_rows': '', 'diversity_filtered_rows': '', 'status': 'Failed: no A3M found'}\n",
      "{'original_id': '6F38-a', 'matched_id': '6f38_a', 'similarity_score': '', 'notes': 'Stage 2', 'n_a3m_files': '3', 'n_rows_dropped': '', 'hhfilter_rows': '', 'diversity_filtered_rows': '', 'status': 'Failed: no A3M found'}\n",
      "{'original_id': '6F38-b', 'matched_id': '6f38_b', 'similarity_score': '', 'notes': 'Stage 2', 'n_a3m_files': '3', 'n_rows_dropped': '', 'hhfilter_rows': '', 'diversity_filtered_rows': '', 'status': 'Failed: no A3M found'}\n",
      "{'original_id': '6FAI-j', 'matched_id': '6fai_j', 'similarity_score': '', 'notes': 'Stage 2', 'n_a3m_files': '3', 'n_rows_dropped': '', 'hhfilter_rows': '', 'diversity_filtered_rows': '', 'status': 'Failed: no A3M found'}\n",
      "{'original_id': '6FF7-w', 'matched_id': '6ff7_w', 'similarity_score': '', 'notes': 'Stage 2', 'n_a3m_files': '3', 'n_rows_dropped': '', 'hhfilter_rows': '', 'diversity_filtered_rows': '', 'status': 'Failed: no A3M found'}\n",
      "{'original_id': '6FKH-a', 'matched_id': '6fkf_a', 'similarity_score': '', 'notes': 'Stage 2', 'n_a3m_files': '3', 'n_rows_dropped': '', 'hhfilter_rows': '', 'diversity_filtered_rows': '', 'status': 'Failed: no A3M found'}\n",
      "{'original_id': '6FKI-d', 'matched_id': '6fkf_d', 'similarity_score': '', 'notes': 'Stage 2', 'n_a3m_files': '3', 'n_rows_dropped': '', 'hhfilter_rows': '', 'diversity_filtered_rows': '', 'status': 'Failed: no A3M found'}\n",
      "{'original_id': '6FKI-p', 'matched_id': '6fkf_p', 'similarity_score': '', 'notes': 'Stage 2', 'n_a3m_files': '3', 'n_rows_dropped': '', 'hhfilter_rows': '', 'diversity_filtered_rows': '', 'status': 'Failed: no A3M found'}\n",
      "{'original_id': '6FKI-g', 'matched_id': '6fkf_g', 'similarity_score': '', 'notes': 'Stage 2', 'n_a3m_files': '3', 'n_rows_dropped': '', 'hhfilter_rows': '', 'diversity_filtered_rows': '', 'status': 'Failed: no A3M found'}\n",
      "{'original_id': '6FRK-r', 'matched_id': '6frk_r', 'similarity_score': '', 'notes': 'Stage 2', 'n_a3m_files': '2', 'n_rows_dropped': '', 'hhfilter_rows': '', 'diversity_filtered_rows': '', 'status': 'Failed: no A3M found'}\n",
      "{'original_id': '6FRK-z', 'matched_id': '6frk_z', 'similarity_score': '', 'notes': 'Stage 2', 'n_a3m_files': '3', 'n_rows_dropped': '', 'hhfilter_rows': '', 'diversity_filtered_rows': '', 'status': 'Failed: no A3M found'}\n",
      "{'original_id': '6FT6-r', 'matched_id': '3jct_r', 'similarity_score': '', 'notes': 'Stage 2', 'n_a3m_files': '3', 'n_rows_dropped': '', 'hhfilter_rows': '', 'diversity_filtered_rows': '', 'status': 'Failed: no A3M found'}\n",
      "{'original_id': '6FXC-Ab', 'matched_id': '6fxc_Ab', 'similarity_score': '', 'notes': 'Stage 2', 'n_a3m_files': '3', 'n_rows_dropped': '', 'hhfilter_rows': '', 'diversity_filtered_rows': '', 'status': 'Failed: no A3M found'}\n",
      "{'original_id': '6FYX-q', 'matched_id': '6fyx_q', 'similarity_score': '', 'notes': 'Stage 2', 'n_a3m_files': '3', 'n_rows_dropped': '', 'hhfilter_rows': '', 'diversity_filtered_rows': '', 'status': 'Failed: no A3M found'}\n",
      "{'original_id': '6FYY-r', 'matched_id': '6fyx_r', 'similarity_score': '', 'notes': 'Stage 2', 'n_a3m_files': '3', 'n_rows_dropped': '', 'hhfilter_rows': '', 'diversity_filtered_rows': '', 'status': 'Failed: no A3M found'}\n",
      "{'original_id': '6G18-t', 'matched_id': '6g18_t', 'similarity_score': '', 'notes': 'Stage 2', 'n_a3m_files': '3', 'n_rows_dropped': '', 'hhfilter_rows': '', 'diversity_filtered_rows': '', 'status': 'Failed: no A3M found'}\n",
      "{'original_id': '6G18-v', 'matched_id': '6g18_v', 'similarity_score': '', 'notes': 'Stage 2', 'n_a3m_files': '3', 'n_rows_dropped': '', 'hhfilter_rows': '', 'diversity_filtered_rows': '', 'status': 'Failed: no A3M found'}\n",
      "{'original_id': '6G18-w', 'matched_id': '6g18_w', 'similarity_score': '', 'notes': 'Stage 2', 'n_a3m_files': '3', 'n_rows_dropped': '', 'hhfilter_rows': '', 'diversity_filtered_rows': '', 'status': 'Failed: no A3M found'}\n",
      "{'original_id': '6G18-x', 'matched_id': '6g18_x', 'similarity_score': '', 'notes': 'Stage 2', 'n_a3m_files': '3', 'n_rows_dropped': '', 'hhfilter_rows': '', 'diversity_filtered_rows': '', 'status': 'Failed: no A3M found'}\n",
      "{'original_id': '6G4S-u', 'matched_id': '6g18_u', 'similarity_score': '', 'notes': 'Stage 2', 'n_a3m_files': '3', 'n_rows_dropped': '', 'hhfilter_rows': '', 'diversity_filtered_rows': '', 'status': 'Failed: no A3M found'}\n",
      "{'original_id': '6G5I-z', 'matched_id': '6g5i_z', 'similarity_score': '', 'notes': 'Stage 2', 'n_a3m_files': '3', 'n_rows_dropped': '', 'hhfilter_rows': '', 'diversity_filtered_rows': '', 'status': 'Failed: no A3M found'}\n",
      "{'original_id': '6GAW-Ag', 'matched_id': '6gaw_Ag', 'similarity_score': '', 'notes': 'Stage 2', 'n_a3m_files': '3', 'n_rows_dropped': '', 'hhfilter_rows': '', 'diversity_filtered_rows': '', 'status': 'Failed: no A3M found'}\n",
      "{'original_id': '6GAW-Ah', 'matched_id': '6gaw_Ah', 'similarity_score': '', 'notes': 'Stage 2', 'n_a3m_files': '3', 'n_rows_dropped': '', 'hhfilter_rows': '', 'diversity_filtered_rows': '', 'status': 'Failed: no A3M found'}\n",
      "{'original_id': '6GAW-Bv', 'matched_id': '6gaw_Bv', 'similarity_score': '', 'notes': 'Stage 2', 'n_a3m_files': '3', 'n_rows_dropped': '', 'hhfilter_rows': '', 'diversity_filtered_rows': '', 'status': 'Failed: no A3M found'}\n",
      "{'original_id': '6GAZ-Aa', 'matched_id': '6gaw_Aa', 'similarity_score': '', 'notes': 'Stage 2', 'n_a3m_files': '3', 'n_rows_dropped': '', 'hhfilter_rows': '', 'diversity_filtered_rows': '', 'status': 'Failed: no A3M found'}\n",
      "{'original_id': '6GAW-Ao', 'matched_id': '6gaw_Ao', 'similarity_score': '', 'notes': 'Stage 2', 'n_a3m_files': '3', 'n_rows_dropped': '', 'hhfilter_rows': '', 'diversity_filtered_rows': '', 'status': 'Failed: no A3M found'}\n",
      "{'original_id': '6GAW-Bm', 'matched_id': '4v1a_m', 'similarity_score': '', 'notes': 'Stage 2', 'n_a3m_files': '3', 'n_rows_dropped': '', 'hhfilter_rows': '', 'diversity_filtered_rows': '', 'status': 'Failed: no A3M found'}\n",
      "{'original_id': '6GAW-Bn', 'matched_id': '6gaw_Bn', 'similarity_score': '', 'notes': 'Stage 2', 'n_a3m_files': '3', 'n_rows_dropped': '', 'hhfilter_rows': '', 'diversity_filtered_rows': '', 'status': 'Failed: no A3M found'}\n",
      "{'original_id': '6GAZ-Ae', 'matched_id': '6gaz_Ae', 'similarity_score': '', 'notes': 'Stage 2', 'n_a3m_files': '3', 'n_rows_dropped': '', 'hhfilter_rows': '', 'diversity_filtered_rows': '', 'status': 'Failed: no A3M found'}\n",
      "{'original_id': '6GAW-Am', 'matched_id': '5aj3_m', 'similarity_score': '', 'notes': 'Stage 2', 'n_a3m_files': '3', 'n_rows_dropped': '', 'hhfilter_rows': '', 'diversity_filtered_rows': '', 'status': 'Failed: no A3M found'}\n",
      "{'original_id': '6GAW-Bb', 'matched_id': '4ce4_b', 'similarity_score': '', 'notes': 'Stage 2', 'n_a3m_files': '3', 'n_rows_dropped': '', 'hhfilter_rows': '', 'diversity_filtered_rows': '', 'status': 'Failed: no A3M found'}\n",
      "{'original_id': '6GAZ-Ad', 'matched_id': '5aj3_d', 'similarity_score': '', 'notes': 'Stage 2', 'n_a3m_files': '3', 'n_rows_dropped': '', 'hhfilter_rows': '', 'diversity_filtered_rows': '', 'status': 'Failed: no A3M found'}\n",
      "{'original_id': '6GB2-Be', 'matched_id': '4v1a_e', 'similarity_score': '', 'notes': 'Stage 2', 'n_a3m_files': '3', 'n_rows_dropped': '', 'hhfilter_rows': '', 'diversity_filtered_rows': '', 'status': 'Failed: no A3M found'}\n",
      "{'original_id': '6GB2-Bh', 'matched_id': '4v1a_h', 'similarity_score': '', 'notes': 'Stage 2', 'n_a3m_files': '3', 'n_rows_dropped': '', 'hhfilter_rows': '', 'diversity_filtered_rows': '', 'status': 'Failed: no A3M found'}\n",
      "{'original_id': '6GB2-Bk', 'matched_id': '4v1a_k', 'similarity_score': '', 'notes': 'Stage 2', 'n_a3m_files': '3', 'n_rows_dropped': '', 'hhfilter_rows': '', 'diversity_filtered_rows': '', 'status': 'Failed: no A3M found'}\n",
      "{'original_id': '6GB2-Bq', 'matched_id': '4v1a_q', 'similarity_score': '', 'notes': 'Stage 2', 'n_a3m_files': '3', 'n_rows_dropped': '', 'hhfilter_rows': '', 'diversity_filtered_rows': '', 'status': 'Failed: no A3M found'}\n",
      "{'original_id': '6GB2-Bt', 'matched_id': '4v1a_t', 'similarity_score': '', 'notes': 'Stage 2', 'n_a3m_files': '3', 'n_rows_dropped': '', 'hhfilter_rows': '', 'diversity_filtered_rows': '', 'status': 'Failed: no A3M found'}\n",
      "{'original_id': '6GB2-Bw', 'matched_id': '6gaw_Bw', 'similarity_score': '', 'notes': 'Stage 2', 'n_a3m_files': '3', 'n_rows_dropped': '', 'hhfilter_rows': '', 'diversity_filtered_rows': '', 'status': 'Failed: no A3M found'}\n",
      "{'original_id': '6GXO-v', 'matched_id': '6gwt_v', 'similarity_score': '', 'notes': 'Stage 2', 'n_a3m_files': '3', 'n_rows_dropped': '', 'hhfilter_rows': '', 'diversity_filtered_rows': '', 'status': 'Failed: no A3M found'}\n",
      "{'original_id': '6GZ5-AK', 'matched_id': '3j7p_q', 'similarity_score': '', 'notes': 'Stage 2', 'n_a3m_files': '3', 'n_rows_dropped': '', 'hhfilter_rows': '', 'diversity_filtered_rows': '', 'status': 'Failed: no A3M found'}\n",
      "{'original_id': '6HCM-k1', 'matched_id': '5lzv_jj', 'similarity_score': '', 'notes': 'Stage 2', 'n_a3m_files': '3', 'n_rows_dropped': '', 'hhfilter_rows': '', 'diversity_filtered_rows': '', 'status': 'Failed: no A3M found'}\n",
      "{'original_id': '6HCJ-a3', 'matched_id': '5lzs_a', 'similarity_score': '', 'notes': 'Stage 2', 'n_a3m_files': '3', 'n_rows_dropped': '', 'hhfilter_rows': '', 'diversity_filtered_rows': '', 'status': 'Failed: no A3M found'}\n",
      "{'original_id': '6HCF-u3', 'matched_id': '3j7r_z', 'similarity_score': '', 'notes': 'Stage 2', 'n_a3m_files': '3', 'n_rows_dropped': '', 'hhfilter_rows': '', 'diversity_filtered_rows': '', 'status': 'Failed: no A3M found'}\n",
      "{'original_id': '6HIV-Al', 'matched_id': '6hiv_Al', 'similarity_score': '', 'notes': 'Stage 2', 'n_a3m_files': '3', 'n_rows_dropped': '', 'hhfilter_rows': '', 'diversity_filtered_rows': '', 'status': 'Failed: no A3M found'}\n",
      "{'original_id': '6HIV-Ca', 'matched_id': '6hiv_Ca', 'similarity_score': '', 'notes': 'Stage 2', 'n_a3m_files': '3', 'n_rows_dropped': '', 'hhfilter_rows': '', 'diversity_filtered_rows': '', 'status': 'Failed: no A3M found'}\n",
      "{'original_id': '6HIV-Cd', 'matched_id': '6hiv_Cd', 'similarity_score': '', 'notes': 'Stage 2', 'n_a3m_files': '3', 'n_rows_dropped': '', 'hhfilter_rows': '', 'diversity_filtered_rows': '', 'status': 'Failed: no A3M found'}\n",
      "{'original_id': '6HIW-Cb', 'matched_id': '6hiw_Cb', 'similarity_score': '', 'notes': 'Stage 2', 'n_a3m_files': '3', 'n_rows_dropped': '', 'hhfilter_rows': '', 'diversity_filtered_rows': '', 'status': 'Failed: no A3M found'}\n",
      "{'original_id': '6HIX-Ag', 'matched_id': '6hiv_Ag', 'similarity_score': '', 'notes': 'Stage 2', 'n_a3m_files': '3', 'n_rows_dropped': '', 'hhfilter_rows': '', 'diversity_filtered_rows': '', 'status': 'Failed: no A3M found'}\n",
      "{'original_id': '6HIZ-Cg', 'matched_id': '6hiv_Cg', 'similarity_score': '', 'notes': 'Stage 2', 'n_a3m_files': '3', 'n_rows_dropped': '', 'hhfilter_rows': '', 'diversity_filtered_rows': '', 'status': 'Failed: no A3M found'}\n",
      "{'original_id': '6HU9-d', 'matched_id': '6hu9_d', 'similarity_score': '', 'notes': 'Stage 2', 'n_a3m_files': '3', 'n_rows_dropped': '', 'hhfilter_rows': '', 'diversity_filtered_rows': '', 'status': 'Failed: no A3M found'}\n",
      "{'original_id': '6HU9-e', 'matched_id': '6hu9_e', 'similarity_score': '', 'notes': 'Stage 2', 'n_a3m_files': '3', 'n_rows_dropped': '', 'hhfilter_rows': '', 'diversity_filtered_rows': '', 'status': 'Failed: no A3M found'}\n",
      "{'original_id': '6HU9-l', 'matched_id': '6hu9_l', 'similarity_score': '', 'notes': 'Stage 2', 'n_a3m_files': '3', 'n_rows_dropped': '', 'hhfilter_rows': '', 'diversity_filtered_rows': '', 'status': 'Failed: no A3M found'}\n",
      "{'original_id': '6ICZ-o', 'matched_id': '5xjc_o', 'similarity_score': '', 'notes': 'Stage 2', 'n_a3m_files': '3', 'n_rows_dropped': '', 'hhfilter_rows': '', 'diversity_filtered_rows': '', 'status': 'Failed: no A3M found'}\n",
      "{'original_id': '6ICZ-v', 'matched_id': '5xjc_v', 'similarity_score': '', 'notes': 'Stage 2', 'n_a3m_files': '3', 'n_rows_dropped': '', 'hhfilter_rows': '', 'diversity_filtered_rows': '', 'status': 'Failed: no A3M found'}\n",
      "{'original_id': '6MDR-a', 'matched_id': '6mdr_a', 'similarity_score': '', 'notes': 'Stage 2', 'n_a3m_files': '3', 'n_rows_dropped': '', 'hhfilter_rows': '', 'diversity_filtered_rows': '', 'status': 'Failed: no A3M found'}\n",
      "{'original_id': '6MTD-v', 'matched_id': '6mtd_v', 'similarity_score': '', 'notes': 'Stage 2', 'n_a3m_files': '3', 'n_rows_dropped': '', 'hhfilter_rows': '', 'diversity_filtered_rows': '', 'status': 'Failed: no A3M found'}\n",
      "{'original_id': '6N2Z-b1', 'matched_id': '6n2y_b1', 'similarity_score': '', 'notes': 'Stage 2', 'n_a3m_files': '3', 'n_rows_dropped': '', 'hhfilter_rows': '', 'diversity_filtered_rows': '', 'status': 'Failed: no A3M found'}\n",
      "{'original_id': '6NCL-a7', 'matched_id': '6ncl_a7', 'similarity_score': '', 'notes': 'Stage 2', 'n_a3m_files': '3', 'n_rows_dropped': '', 'hhfilter_rows': '', 'diversity_filtered_rows': '', 'status': 'Failed: no A3M found'}\n",
      "{'original_id': '6NCL-a1', 'matched_id': '6ncl_a1', 'similarity_score': '', 'notes': 'Stage 2', 'n_a3m_files': '3', 'n_rows_dropped': '', 'hhfilter_rows': '', 'diversity_filtered_rows': '', 'status': 'Failed: no A3M found'}\n",
      "{'original_id': '6NCL-a0', 'matched_id': '6ncl_a0', 'similarity_score': '', 'notes': 'Stage 2', 'n_a3m_files': '3', 'n_rows_dropped': '', 'hhfilter_rows': '', 'diversity_filtered_rows': '', 'status': 'Failed: no A3M found'}\n",
      "{'original_id': '6NCL-l4', 'matched_id': '6ncl_l4', 'similarity_score': '', 'notes': 'Stage 2', 'n_a3m_files': '3', 'n_rows_dropped': '', 'hhfilter_rows': '', 'diversity_filtered_rows': '', 'status': 'Failed: no A3M found'}\n",
      "{'original_id': '6NCL-a4', 'matched_id': '6ncl_a4', 'similarity_score': '', 'notes': 'Stage 2', 'n_a3m_files': '3', 'n_rows_dropped': '', 'hhfilter_rows': '', 'diversity_filtered_rows': '', 'status': 'Failed: no A3M found'}\n",
      "{'original_id': '6NEQ-d', 'matched_id': '3jd5_d', 'similarity_score': '', 'notes': 'Stage 2', 'n_a3m_files': '3', 'n_rows_dropped': '', 'hhfilter_rows': '', 'diversity_filtered_rows': '', 'status': 'Failed: no A3M found'}\n",
      "{'original_id': '6NEQ-g', 'matched_id': '6neq_g', 'similarity_score': '', 'notes': 'Stage 2', 'n_a3m_files': '3', 'n_rows_dropped': '', 'hhfilter_rows': '', 'diversity_filtered_rows': '', 'status': 'Failed: no A3M found'}\n",
      "{'original_id': '6NEQ-h', 'matched_id': '3jd5_h', 'similarity_score': '', 'notes': 'Stage 2', 'n_a3m_files': '3', 'n_rows_dropped': '', 'hhfilter_rows': '', 'diversity_filtered_rows': '', 'status': 'Failed: no A3M found'}\n",
      "{'original_id': '6NEQ-m', 'matched_id': '3jd5_m', 'similarity_score': '', 'notes': 'Stage 2', 'n_a3m_files': '3', 'n_rows_dropped': '', 'hhfilter_rows': '', 'diversity_filtered_rows': '', 'status': 'Failed: no A3M found'}\n",
      "{'original_id': '6NF8-a', 'matched_id': '3jd5_a', 'similarity_score': '', 'notes': 'Stage 2', 'n_a3m_files': '3', 'n_rows_dropped': '', 'hhfilter_rows': '', 'diversity_filtered_rows': '', 'status': 'Failed: no A3M found'}\n",
      "{'original_id': '6NF8-z', 'matched_id': '6neq_z', 'similarity_score': '', 'notes': 'Stage 2', 'n_a3m_files': '3', 'n_rows_dropped': '', 'hhfilter_rows': '', 'diversity_filtered_rows': '', 'status': 'Failed: no A3M found'}\n",
      "{'original_id': '6NU3-b', 'matched_id': '5ool_b', 'similarity_score': '', 'notes': 'Stage 2', 'n_a3m_files': '3', 'n_rows_dropped': '', 'hhfilter_rows': '', 'diversity_filtered_rows': '', 'status': 'Failed: no A3M found'}\n",
      "{'original_id': '6NU3-c', 'matched_id': '3j7y_c', 'similarity_score': '', 'notes': 'Stage 2', 'n_a3m_files': '3', 'n_rows_dropped': '', 'hhfilter_rows': '', 'diversity_filtered_rows': '', 'status': 'Failed: no A3M found'}\n",
      "{'original_id': '6NU3-g', 'matched_id': '3j7y_g', 'similarity_score': '', 'notes': 'Stage 2', 'n_a3m_files': '3', 'n_rows_dropped': '', 'hhfilter_rows': '', 'diversity_filtered_rows': '', 'status': 'Failed: no A3M found'}\n",
      "{'original_id': '6Q8Y-z', 'matched_id': '6q8y_z', 'similarity_score': '', 'notes': 'Stage 2', 'n_a3m_files': '3', 'n_rows_dropped': '', 'hhfilter_rows': '', 'diversity_filtered_rows': '', 'status': 'Failed: no A3M found'}\n",
      "{'original_id': '6QDV-e', 'matched_id': '6qdv_e', 'similarity_score': '', 'notes': 'Stage 2', 'n_a3m_files': '3', 'n_rows_dropped': '', 'hhfilter_rows': '', 'diversity_filtered_rows': '', 'status': 'Failed: no A3M found'}\n",
      "{'original_id': '6QDV-o', 'matched_id': '6qdv_o', 'similarity_score': '', 'notes': 'Stage 2', 'n_a3m_files': '2', 'n_rows_dropped': '', 'hhfilter_rows': '', 'diversity_filtered_rows': '', 'status': 'Failed: no A3M found'}\n"
     ]
    }
   ],
   "source": [
    "import csv\n",
    "\n",
    "file_path = r\"C:\\Users\\rfrjo\\Documents\\Codebases\\PFP_Testing\\data\\protein_matching_results_counts_updated.tsv\"\n",
    "\n",
    "with open(file_path, newline='') as tsvfile:\n",
    "    reader = csv.DictReader(tsvfile, delimiter='\\t')\n",
    "    for row in reader:\n",
    "        if row['status'].strip() != 'Success':\n",
    "            print(row)"
   ]
  },
  {
   "cell_type": "code",
   "execution_count": 11,
   "metadata": {},
   "outputs": [
    {
     "name": "stdout",
     "output_type": "stream",
     "text": [
      "🔄 Retry Failed MSA Processing with Case Fix\n",
      "============================================================\n",
      "Started at: 2025-06-13 11:11:51\n",
      "📖 Reading TSV file...\n",
      "   Total rows: 29744\n",
      "   Found 327 retryable failures\n",
      "\n",
      "📋 Sample failures to retry:\n",
      "   1W8X-M -> 1w8x_M : Failed: only 1 rows after stripping\n",
      "   2WWX-B -> 2wwx_B : Failed: only 1 rows after stripping\n",
      "   1W8X-M -> 1w8x_M : Failed: only 1 rows after stripping\n",
      "   2WWX-B -> 2wwx_B : Failed: only 1 rows after stripping\n",
      "   1W8X-M -> 1w8x_M : Failed: only 1 rows after stripping\n",
      "   ... and 322 more\n",
      "\n",
      "📊 Failure breakdown:\n",
      "   318 proteins: Failed: no A3M found\n",
      "     9 proteins: Failed: only 1 rows after stripping\n",
      "\n",
      "🚀 Processing 327 proteins...\n",
      "   Workers: 6\n",
      "   Note: Output may appear interleaved due to parallel execution\n",
      "\n",
      "================================================================================\n"
     ]
    },
    {
     "data": {
      "application/vnd.jupyter.widget-view+json": {
       "model_id": "c4f940a1ac65491691d90ba61792999d",
       "version_major": 2,
       "version_minor": 0
      },
      "text/plain": [
       "Processing:   0%|          | 0/327 [00:00<?, ?protein/s]"
      ]
     },
     "metadata": {},
     "output_type": "display_data"
    },
    {
     "name": "stdout",
     "output_type": "stream",
     "text": [
      "   → Found bfd_uniclust_hits.a3m using case variant #2: pdb/1w8x_M/a3m/bfd_uniclust_hits.a3m\n",
      "   → Found bfd_uniclust_hits.a3m using case variant #2: pdb/1w8x_M/a3m/bfd_uniclust_hits.a3m\n",
      "   → Found bfd_uniclust_hits.a3m using case variant #2: pdb/2wwx_B/a3m/bfd_uniclust_hits.a3m\n",
      "   → Found bfd_uniclust_hits.a3m using case variant #2: pdb/1w8x_M/a3m/bfd_uniclust_hits.a3m\n",
      "[11:11:59] ❌ 2WWX-B (2wwx_B): STILL FAILED\n",
      "   Old: 'Failed: only 1 rows after stripping'\n",
      "   New: 'Failed: [WinError 183] Cannot create a file when that file already exists: 'C:\\\\Users\\\\rfrjo\\\\Documents\\\\Cod'\n",
      "[11:11:59] ❌ 2WWX-B (2wwx_B): STILL FAILED\n",
      "   Old: 'Failed: only 1 rows after stripping'\n",
      "   New: 'Failed: [WinError 183] Cannot create a file when that file already exists: 'C:\\\\Users\\\\rfrjo\\\\Documents\\\\Cod'\n",
      "   → Found mgnify_hits.a3m using case variant #2: pdb/1w8x_M/a3m/mgnify_hits.a3m\n",
      "   → Found mgnify_hits.a3m using case variant #2: pdb/1w8x_M/a3m/mgnify_hits.a3m\n",
      "   → Found mgnify_hits.a3m using case variant #2: pdb/1w8x_M/a3m/mgnify_hits.a3m\n",
      "   → Found mgnify_hits.a3m using case variant #2: pdb/2wwx_B/a3m/mgnify_hits.a3m\n",
      "   → Found uniref90_hits.a3m using case variant #2: pdb/1w8x_M/a3m/uniref90_hits.a3m\n",
      "[11:11:59] ❌ 1W8X-M (1w8x_M): STILL FAILED\n",
      "   Old: 'Failed: only 1 rows after stripping'\n",
      "   New: 'Failed: [WinError 183] Cannot create a file when that file already exists: 'C:\\\\Users\\\\rfrjo\\\\Documents\\\\Cod'\n",
      "[11:11:59] ❌ 1W8X-M (1w8x_M): STILL FAILED\n",
      "   Old: 'Failed: only 1 rows after stripping'\n",
      "   New: 'Failed: [WinError 183] Cannot create a file when that file already exists: 'C:\\\\Users\\\\rfrjo\\\\Documents\\\\Cod'\n",
      "[11:11:59] ❌ 1W8X-M (1w8x_M): STILL FAILED\n",
      "   Old: 'Failed: only 1 rows after stripping'\n",
      "   New: 'Failed: [Errno 2] No such file or directory: 'C:\\\\Users\\\\rfrjo\\\\Documents\\\\Codebases\\\\PFP_Testing\\\\data\\\\pro'\n",
      "   → Found uniref90_hits.a3m using case variant #2: pdb/2wwx_B/a3m/uniref90_hits.a3m\n",
      "[11:11:59] ❌ 2WWX-B (2wwx_B): STILL FAILED\n",
      "   Old: 'Failed: only 1 rows after stripping'\n",
      "   New: 'Failed: [Errno 2] No such file or directory: 'C:\\\\Users\\\\rfrjo\\\\Documents\\\\Codebases\\\\PFP_Testing\\\\data\\\\pro'\n",
      "[11:12:01] ✅ 3J79-b (3j79_b): FIXED! Was: 'Failed: no A3M found' → Now: Success\n",
      "   → Downloaded 3/3 A3M files\n",
      "   → Sequences: 291 → 291 after stripping\n",
      "   → Diversity filtered: 35 sequences\n",
      "[11:12:01] ✅ 3J79-c (3j79_c): FIXED! Was: 'Failed: no A3M found' → Now: Success\n",
      "   → Downloaded 3/3 A3M files\n",
      "   → Sequences: 277 → 277 after stripping\n",
      "   → Diversity filtered: 21 sequences\n",
      "[11:12:01] ✅ 3JAH-ff (3jah_ff): FIXED! Was: 'Failed: no A3M found' → Now: Success\n",
      "   → Downloaded 3/3 A3M files\n",
      "   → Sequences: 275 → 275 after stripping\n",
      "   → Diversity filtered: 19 sequences\n",
      "[11:12:01] ✅ 3J9M-b (3j7y_b): FIXED! Was: 'Failed: no A3M found' → Now: Success\n",
      "   → Downloaded 3/3 A3M files\n",
      "   → Sequences: 367 → 367 after stripping\n",
      "   → Diversity filtered: 111 sequences\n",
      "   → Found bfd_uniclust_hits.a3m using case variant #3: pdb/3jbn_Aa/a3m/bfd_uniclust_hits.a3m\n",
      "[11:12:02] ✅ 3J5V-a (3j5v_a): FIXED! Was: 'Failed: no A3M found' → Now: Success\n",
      "   → Downloaded 3/3 A3M files\n",
      "   → Sequences: 764 → 764 after stripping\n",
      "   → Diversity filtered: 508 sequences\n",
      "   → Found mgnify_hits.a3m using case variant #3: pdb/3jbn_Aa/a3m/mgnify_hits.a3m\n",
      "   → Found uniref90_hits.a3m using case variant #3: pdb/3jbn_Aa/a3m/uniref90_hits.a3m\n",
      "[11:12:04] ✅ 3JBP-Aa (3jbn_Aa): FIXED! Was: 'Failed: no A3M found' → Now: Success\n",
      "   → Downloaded 3/3 A3M files\n",
      "   → Sequences: 328 → 328 after stripping\n",
      "   → Diversity filtered: 72 sequences\n",
      "[11:12:04] ✅ 3J9Y-i (3j9y_i): FIXED! Was: 'Failed: no A3M found' → Now: Success\n",
      "   → Downloaded 3/3 A3M files\n",
      "   → Sequences: 274 → 274 after stripping\n",
      "   → Diversity filtered: 18 sequences\n",
      "   → Found bfd_uniclust_hits.a3m using case variant #3: pdb/3jc1_Ab/a3m/bfd_uniclust_hits.a3m\n",
      "   → Found bfd_uniclust_hits.a3m using case variant #3: pdb/3jc8_Ba/a3m/bfd_uniclust_hits.a3m\n",
      "   → Found mgnify_hits.a3m using case variant #3: pdb/3jc1_Ab/a3m/mgnify_hits.a3m\n",
      "   → Found mgnify_hits.a3m using case variant #3: pdb/3jc8_Ba/a3m/mgnify_hits.a3m\n",
      "   → Found uniref90_hits.a3m using case variant #3: pdb/3jc1_Ab/a3m/uniref90_hits.a3m\n",
      "   → Found uniref90_hits.a3m using case variant #3: pdb/3jc8_Ba/a3m/uniref90_hits.a3m\n",
      "[11:12:06] ✅ 3JC1-Ab (3jc1_Ab): FIXED! Was: 'Failed: no A3M found' → Now: Success\n",
      "   → Downloaded 3/3 A3M files\n",
      "   → Sequences: 366 → 366 after stripping\n",
      "   → Diversity filtered: 110 sequences\n",
      "[11:12:07] ✅ 3JBU-E (3j9y_e): FIXED! Was: 'Failed: no A3M found' → Now: Success\n",
      "   → Downloaded 3/3 A3M files\n",
      "   → Sequences: 322 → 322 after stripping\n",
      "   → Diversity filtered: 66 sequences\n",
      "[11:12:07] ✅ 3JAP-p (3jap_p): FIXED! Was: 'Failed: no A3M found' → Now: Success\n",
      "   → Downloaded 3/3 A3M files\n",
      "   → Sequences: 865 → 865 after stripping\n",
      "   → Diversity filtered: 609 sequences\n",
      "   → Found bfd_uniclust_hits.a3m using case variant #3: pdb/3jc8_Qa/a3m/bfd_uniclust_hits.a3m\n",
      "   → Found bfd_uniclust_hits.a3m using case variant #3: pdb/3jc8_Ca/a3m/bfd_uniclust_hits.a3m\n",
      "[11:12:08] ✅ 3JB9-c (3jb9_c): FIXED! Was: 'Failed: no A3M found' → Now: Success\n",
      "   → Downloaded 3/3 A3M files\n",
      "   → Sequences: 1366 → 1366 after stripping\n",
      "   → Diversity filtered: 1110 sequences\n",
      "   → Found bfd_uniclust_hits.a3m using case variant #3: pdb/3jc8_Na/a3m/bfd_uniclust_hits.a3m\n",
      "   → Found mgnify_hits.a3m using case variant #3: pdb/3jc8_Ca/a3m/mgnify_hits.a3m\n",
      "   → Found mgnify_hits.a3m using case variant #3: pdb/3jc8_Na/a3m/mgnify_hits.a3m\n",
      "   → Found mgnify_hits.a3m using case variant #3: pdb/3jc8_Qa/a3m/mgnify_hits.a3m\n",
      "   → Found uniref90_hits.a3m using case variant #3: pdb/3jc8_Ca/a3m/uniref90_hits.a3m\n",
      "   → Found uniref90_hits.a3m using case variant #3: pdb/3jc8_Na/a3m/uniref90_hits.a3m\n",
      "   → Found uniref90_hits.a3m using case variant #3: pdb/3jc8_Qa/a3m/uniref90_hits.a3m\n",
      "[11:12:10] ✅ 3JAJ-z (3jaj_z): FIXED! Was: 'Failed: no A3M found' → Now: Success\n",
      "   → Downloaded 3/3 A3M files\n",
      "   → Sequences: 967 → 967 after stripping\n",
      "   → Diversity filtered: 711 sequences\n",
      "   → Found bfd_uniclust_hits.a3m using case variant #2: pdb/3m7g_A/a3m/bfd_uniclust_hits.a3m\n",
      "   → Found mgnify_hits.a3m using case variant #2: pdb/3m7g_A/a3m/mgnify_hits.a3m\n",
      "   → Found uniref90_hits.a3m using case variant #2: pdb/3m7g_A/a3m/uniref90_hits.a3m\n",
      "[11:12:11] ❌ 3M7G-A (3m7g_A): STILL FAILED\n",
      "   Old: 'Failed: only 1 rows after stripping'\n",
      "   New: 'Failed: only 1 rows after stripping'\n",
      "[11:12:12] ✅ 3JC9-Na (3jc8_Na): FIXED! Was: 'Failed: no A3M found' → Now: Success\n",
      "   → Downloaded 3/3 A3M files\n",
      "   → Sequences: 546 → 546 after stripping\n",
      "   → Diversity filtered: 290 sequences\n",
      "[11:12:14] ✅ 4CE4-h (4ce4_h): FIXED! Was: 'Failed: no A3M found' → Now: Success\n",
      "   → Downloaded 3/3 A3M files\n",
      "   → Sequences: 592 → 592 after stripping\n",
      "   → Diversity filtered: 336 sequences\n",
      "[11:12:16] ✅ 4KZY-l (4kzx_l): FIXED! Was: 'Failed: no A3M found' → Now: Success\n",
      "   → Downloaded 3/3 A3M files\n",
      "   → Sequences: 320 → 320 after stripping\n",
      "   → Diversity filtered: 64 sequences\n",
      "[11:12:16] ✅ 3JC8-Ba (3jc8_Ba): FIXED! Was: 'Failed: no A3M found' → Now: Success\n",
      "   → Downloaded 3/3 A3M files\n",
      "   → Sequences: 1032 → 1032 after stripping\n",
      "   → Diversity filtered: 776 sequences\n",
      "[11:12:17] ✅ 3JC9-Ca (3jc8_Ca): FIXED! Was: 'Failed: no A3M found' → Now: Success\n",
      "   → Downloaded 3/3 A3M files\n",
      "   → Sequences: 618 → 618 after stripping\n",
      "   → Diversity filtered: 362 sequences\n",
      "[11:12:18] ✅ 4KZZ-n (4kzy_n): FIXED! Was: 'Failed: no A3M found' → Now: Success\n",
      "   → Downloaded 3/3 A3M files\n",
      "   → Sequences: 363 → 363 after stripping\n",
      "   → Diversity filtered: 107 sequences\n",
      "[11:12:19] ✅ 4V1A-g (4v1a_g): FIXED! Was: 'Failed: no A3M found' → Now: Success\n",
      "   → Downloaded 3/3 A3M files\n",
      "   → Sequences: 441 → 441 after stripping\n",
      "   → Diversity filtered: 185 sequences\n",
      "   → Found bfd_uniclust_hits.a3m using case variant #3: pdb/4v4n_Ak/a3m/bfd_uniclust_hits.a3m\n",
      "   → Found mgnify_hits.a3m using case variant #3: pdb/4v4n_Ak/a3m/mgnify_hits.a3m\n",
      "   → Found uniref90_hits.a3m using case variant #3: pdb/4v4n_Ak/a3m/uniref90_hits.a3m\n",
      "[11:12:20] ✅ 4V1A-x (4v1a_x): FIXED! Was: 'Failed: no A3M found' → Now: Success\n",
      "   → Downloaded 3/3 A3M files\n",
      "   → Sequences: 626 → 626 after stripping\n",
      "   → Diversity filtered: 370 sequences\n",
      "[11:12:21] ✅ 4D61-i (4d61_i): FIXED! Was: 'Failed: no A3M found' → Now: Success\n",
      "   → Downloaded 3/3 A3M files\n",
      "   → Sequences: 767 → 767 after stripping\n",
      "   → Diversity filtered: 511 sequences\n",
      "   → Found bfd_uniclust_hits.a3m using case variant #3: pdb/4v5z_Ae/a3m/bfd_uniclust_hits.a3m\n",
      "[11:12:22] ✅ 4V1A-c (4v1a_c): FIXED! Was: 'Failed: no A3M found' → Now: Success\n",
      "   → Downloaded 3/3 A3M files\n",
      "   → Sequences: 825 → 825 after stripping\n",
      "   → Diversity filtered: 569 sequences\n",
      "[11:12:22] ✅ 4V4P-AP (1ml5_p): FIXED! Was: 'Failed: no A3M found' → Now: Success\n",
      "   → Downloaded 3/3 A3M files\n",
      "   → Sequences: 304 → 304 after stripping\n",
      "   → Diversity filtered: 48 sequences\n",
      "   → Found mgnify_hits.a3m using case variant #3: pdb/4v5z_Ae/a3m/mgnify_hits.a3m\n",
      "[11:12:23] ✅ 4V4N-Ak (4v4n_Ak): FIXED! Was: 'Failed: no A3M found' → Now: Success\n",
      "   → Downloaded 3/3 A3M files\n",
      "   → Sequences: 519 → 519 after stripping\n",
      "   → Diversity filtered: 263 sequences\n",
      "   → Found bfd_uniclust_hits.a3m using case variant #3: pdb/4v5z_Bc/a3m/bfd_uniclust_hits.a3m\n",
      "   → Found mgnify_hits.a3m using case variant #3: pdb/4v5z_Bc/a3m/mgnify_hits.a3m\n",
      "   → Found uniref90_hits.a3m using case variant #3: pdb/4v5z_Ae/a3m/uniref90_hits.a3m\n",
      "   → Found uniref90_hits.a3m using case variant #3: pdb/4v5z_Bc/a3m/uniref90_hits.a3m\n",
      "[11:12:27] ✅ 4V6L-AV (3j9y_r): FIXED! Was: 'Failed: no A3M found' → Now: Success\n",
      "   → Downloaded 3/3 A3M files\n",
      "   → Sequences: 329 → 329 after stripping\n",
      "   → Diversity filtered: 73 sequences\n",
      "[11:12:27] ✅ 4V6K-BO (3j9y_k): FIXED! Was: 'Failed: no A3M found' → Now: Success\n",
      "   → Downloaded 3/3 A3M files\n",
      "   → Sequences: 408 → 408 after stripping\n",
      "   → Diversity filtered: 152 sequences\n",
      "[11:12:27] ✅ 4V5Z-Ae (4v5z_Ae): FIXED! Was: 'Failed: no A3M found' → Now: Success\n",
      "   → Downloaded 3/3 A3M files\n",
      "   → Sequences: 330 → 330 after stripping\n",
      "   → Diversity filtered: 74 sequences\n",
      "   → Found bfd_uniclust_hits.a3m using case variant #3: pdb/4v6u_Bl/a3m/bfd_uniclust_hits.a3m\n",
      "   → Found bfd_uniclust_hits.a3m using case variant #3: pdb/4v6x_Cu/a3m/bfd_uniclust_hits.a3m\n",
      "   → Found bfd_uniclust_hits.a3m using case variant #3: pdb/4v7e_Ba/a3m/bfd_uniclust_hits.a3m\n",
      "   → Found mgnify_hits.a3m using case variant #3: pdb/4v6u_Bl/a3m/mgnify_hits.a3m\n",
      "   → Found mgnify_hits.a3m using case variant #3: pdb/4v6x_Cu/a3m/mgnify_hits.a3m\n",
      "   → Found mgnify_hits.a3m using case variant #3: pdb/4v7e_Ba/a3m/mgnify_hits.a3m\n",
      "   → Found uniref90_hits.a3m using case variant #3: pdb/4v6x_Cu/a3m/uniref90_hits.a3m\n",
      "[11:12:30] ✅ 3JC8-Qa (3jc8_Qa): FIXED! Was: 'Failed: no A3M found' → Now: Success\n",
      "   → Downloaded 3/3 A3M files\n",
      "   → Sequences: 1794 → 1794 after stripping\n",
      "   → Diversity filtered: 1538 sequences\n",
      "   → Found uniref90_hits.a3m using case variant #3: pdb/4v7e_Ba/a3m/uniref90_hits.a3m\n",
      "   → Found uniref90_hits.a3m using case variant #3: pdb/4v6u_Bl/a3m/uniref90_hits.a3m\n",
      "[11:12:30] ✅ 4V5Z-Bc (4v5z_Bc): FIXED! Was: 'Failed: no A3M found' → Now: Success\n",
      "   → Downloaded 3/3 A3M files\n",
      "   → Sequences: 1054 → 1054 after stripping\n",
      "   → Diversity filtered: 798 sequences\n",
      "   → Found bfd_uniclust_hits.a3m using case variant #3: pdb/4v7e_Bc/a3m/bfd_uniclust_hits.a3m\n",
      "[11:12:30] ✅ 4V6U-Bl (4v6u_Bl): FIXED! Was: 'Failed: no A3M found' → Now: Success\n",
      "   → Downloaded 3/3 A3M files\n",
      "   → Sequences: 268 → 268 after stripping\n",
      "   → Diversity filtered: 12 sequences\n",
      "   → Found bfd_uniclust_hits.a3m using case variant #3: pdb/4v7e_Cb/a3m/bfd_uniclust_hits.a3m\n",
      "[11:12:31] ✅ 4V7E-Ba (4v7e_Ba): FIXED! Was: 'Failed: no A3M found' → Now: Success\n",
      "   → Downloaded 3/3 A3M files\n",
      "   → Sequences: 347 → 347 after stripping\n",
      "   → Diversity filtered: 91 sequences\n",
      "   → Found mgnify_hits.a3m using case variant #3: pdb/4v7e_Bc/a3m/mgnify_hits.a3m\n",
      "   → Found bfd_uniclust_hits.a3m using case variant #3: pdb/4v8m_Ba/a3m/bfd_uniclust_hits.a3m\n",
      "   → Found mgnify_hits.a3m using case variant #3: pdb/4v7e_Cb/a3m/mgnify_hits.a3m\n",
      "[11:12:31] ✅ 4V6X-Cu (4v6x_Cu): FIXED! Was: 'Failed: no A3M found' → Now: Success\n",
      "   → Downloaded 3/3 A3M files\n",
      "   → Sequences: 342 → 342 after stripping\n",
      "   → Diversity filtered: 86 sequences\n",
      "   → Found uniref90_hits.a3m using case variant #3: pdb/4v7e_Bc/a3m/uniref90_hits.a3m\n",
      "   → Found mgnify_hits.a3m using case variant #3: pdb/4v8m_Ba/a3m/mgnify_hits.a3m\n",
      "   → Found uniref90_hits.a3m using case variant #3: pdb/4v7e_Cb/a3m/uniref90_hits.a3m\n",
      "   → Found bfd_uniclust_hits.a3m using case variant #3: pdb/4v8m_Bb/a3m/bfd_uniclust_hits.a3m\n",
      "   → Found uniref90_hits.a3m using case variant #3: pdb/4v8m_Ba/a3m/uniref90_hits.a3m\n",
      "[11:12:32] ✅ 4V7E-Cb (4v7e_Cb): FIXED! Was: 'Failed: no A3M found' → Now: Success\n",
      "   → Downloaded 3/3 A3M files\n",
      "   → Sequences: 284 → 284 after stripping\n",
      "   → Diversity filtered: 28 sequences\n",
      "[11:12:32] ✅ 4V7E-Bc (4v7e_Bc): FIXED! Was: 'Failed: no A3M found' → Now: Success\n",
      "   → Downloaded 3/3 A3M files\n",
      "   → Sequences: 301 → 301 after stripping\n",
      "   → Diversity filtered: 45 sequences\n",
      "   → Found bfd_uniclust_hits.a3m using case variant #3: pdb/4v8m_Bd/a3m/bfd_uniclust_hits.a3m\n",
      "   → Found mgnify_hits.a3m using case variant #3: pdb/4v8m_Bb/a3m/mgnify_hits.a3m\n",
      "   → Found mgnify_hits.a3m using case variant #3: pdb/4v8m_Bd/a3m/mgnify_hits.a3m\n",
      "   → Found bfd_uniclust_hits.a3m using case variant #3: pdb/4v8m_Bh/a3m/bfd_uniclust_hits.a3m\n",
      "   → Found bfd_uniclust_hits.a3m using case variant #3: pdb/4v8m_Bg/a3m/bfd_uniclust_hits.a3m\n",
      "[11:12:32] ✅ 4V8M-Ba (4v8m_Ba): FIXED! Was: 'Failed: no A3M found' → Now: Success\n",
      "   → Downloaded 3/3 A3M files\n",
      "   → Sequences: 310 → 310 after stripping\n",
      "   → Diversity filtered: 54 sequences\n",
      "   → Found uniref90_hits.a3m using case variant #3: pdb/4v8m_Bb/a3m/uniref90_hits.a3m\n",
      "   → Found uniref90_hits.a3m using case variant #3: pdb/4v8m_Bd/a3m/uniref90_hits.a3m\n",
      "   → Found mgnify_hits.a3m using case variant #3: pdb/4v8m_Bh/a3m/mgnify_hits.a3m\n",
      "   → Found mgnify_hits.a3m using case variant #3: pdb/4v8m_Bg/a3m/mgnify_hits.a3m\n",
      "   → Found bfd_uniclust_hits.a3m using case variant #3: pdb/4v9k_Be/a3m/bfd_uniclust_hits.a3m\n",
      "[11:12:33] ✅ 3JCN-b (3jcj_f): FIXED! Was: 'Failed: no A3M found' → Now: Success\n",
      "   → Downloaded 3/3 A3M files\n",
      "   → Sequences: 2627 → 2627 after stripping\n",
      "   → Diversity filtered: 2371 sequences\n",
      "[11:12:33] ✅ 4V8M-Bd (4v8m_Bd): FIXED! Was: 'Failed: no A3M found' → Now: Success\n",
      "   → Downloaded 3/3 A3M files\n",
      "   → Sequences: 271 → 271 after stripping\n",
      "   → Diversity filtered: 15 sequences\n",
      "   → Found uniref90_hits.a3m using case variant #3: pdb/4v8m_Bg/a3m/uniref90_hits.a3m\n",
      "   → Found uniref90_hits.a3m using case variant #3: pdb/4v8m_Bh/a3m/uniref90_hits.a3m\n",
      "   → Found mgnify_hits.a3m using case variant #3: pdb/4v9k_Be/a3m/mgnify_hits.a3m\n",
      "   → Found bfd_uniclust_hits.a3m using case variant #3: pdb/4v9j_Be/a3m/bfd_uniclust_hits.a3m\n",
      "[11:12:34] ✅ 4V8M-Bb (4v8m_Bb): FIXED! Was: 'Failed: no A3M found' → Now: Success\n",
      "   → Downloaded 3/3 A3M files\n",
      "   → Sequences: 533 → 533 after stripping\n",
      "   → Diversity filtered: 277 sequences\n",
      "   → Found mgnify_hits.a3m using case variant #3: pdb/4v9j_Be/a3m/mgnify_hits.a3m\n",
      "[11:12:34] ✅ 4V8M-Bg (4v8m_Bg): FIXED! Was: 'Failed: no A3M found' → Now: Success\n",
      "   → Downloaded 3/3 A3M files\n",
      "   → Sequences: 274 → 274 after stripping\n",
      "   → Diversity filtered: 18 sequences\n",
      "[11:12:34] ✅ 4V8M-Bh (4v8m_Bh): FIXED! Was: 'Failed: no A3M found' → Now: Success\n",
      "   → Downloaded 3/3 A3M files\n",
      "   → Sequences: 420 → 420 after stripping\n",
      "   → Diversity filtered: 164 sequences\n",
      "   → Found bfd_uniclust_hits.a3m using case variant #3: pdb/5aj4_Ad/a3m/bfd_uniclust_hits.a3m\n",
      "   → Found bfd_uniclust_hits.a3m using case variant #3: pdb/5aj4_Ao/a3m/bfd_uniclust_hits.a3m\n",
      "   → Found uniref90_hits.a3m using case variant #3: pdb/4v9j_Be/a3m/uniref90_hits.a3m\n",
      "   → Found uniref90_hits.a3m using case variant #3: pdb/4v9k_Be/a3m/uniref90_hits.a3m\n",
      "   → Found mgnify_hits.a3m using case variant #3: pdb/5aj4_Ad/a3m/mgnify_hits.a3m\n",
      "   → Found mgnify_hits.a3m using case variant #3: pdb/5aj4_Ao/a3m/mgnify_hits.a3m\n",
      "   → Found uniref90_hits.a3m using case variant #3: pdb/5aj4_Ad/a3m/uniref90_hits.a3m\n",
      "   → Found uniref90_hits.a3m using case variant #3: pdb/5aj4_Ao/a3m/uniref90_hits.a3m\n",
      "[11:12:36] ✅ 5AJ4-Ad (5aj4_Ad): FIXED! Was: 'Failed: no A3M found' → Now: Success\n",
      "   → Downloaded 3/3 A3M files\n",
      "   → Sequences: 323 → 323 after stripping\n",
      "   → Diversity filtered: 67 sequences\n",
      "[11:12:37] ✅ 5AJ4-Ao (5aj4_Ao): FIXED! Was: 'Failed: no A3M found' → Now: Success\n",
      "   → Downloaded 3/3 A3M files\n",
      "   → Sequences: 459 → 459 after stripping\n",
      "   → Diversity filtered: 203 sequences\n",
      "[11:12:37] ✅ 5AJ4-Bj (4v1a_j): FIXED! Was: 'Failed: no A3M found' → Now: Success\n",
      "   → Downloaded 3/3 A3M files\n",
      "   → Sequences: 862 → 862 after stripping\n",
      "   → Diversity filtered: 606 sequences\n",
      "[11:12:38] ✅ 4W29-Be (4v9j_Be): FIXED! Was: 'Failed: no A3M found' → Now: Success\n",
      "   → Downloaded 3/3 A3M files\n",
      "   → Sequences: 338 → 338 after stripping\n",
      "   → Diversity filtered: 82 sequences\n",
      "[11:12:38] ✅ 4V9M-Be (4v9k_Be): FIXED! Was: 'Failed: no A3M found' → Now: Success\n",
      "   → Downloaded 3/3 A3M files\n",
      "   → Sequences: 330 → 330 after stripping\n",
      "   → Diversity filtered: 74 sequences\n",
      "[11:12:38] ✅ 5AJ0-AK (3j92_s): FIXED! Was: 'Failed: no A3M found' → Now: Success\n",
      "   → Downloaded 3/3 A3M files\n",
      "   → Sequences: 677 → 677 after stripping\n",
      "   → Diversity filtered: 421 sequences\n",
      "[11:12:38] ✅ 5AJ4-Bo (4v1a_o): FIXED! Was: 'Failed: no A3M found' → Now: Success\n",
      "   → Downloaded 3/3 A3M files\n",
      "   → Sequences: 272 → 272 after stripping\n",
      "   → Diversity filtered: 16 sequences\n",
      "[11:12:39] ✅ 5AJ4-Ba (4v1a_a): FIXED! Was: 'Failed: no A3M found' → Now: Success\n",
      "   → Downloaded 3/3 A3M files\n",
      "   → Sequences: 683 → 683 after stripping\n",
      "   → Diversity filtered: 427 sequences\n",
      "   → Found bfd_uniclust_hits.a3m using case variant #2: pdb/5gao_E/a3m/bfd_uniclust_hits.a3m\n",
      "   → Found mgnify_hits.a3m using case variant #2: pdb/5gao_E/a3m/mgnify_hits.a3m\n",
      "   → Found uniref90_hits.a3m using case variant #2: pdb/5gao_E/a3m/uniref90_hits.a3m\n",
      "[11:12:40] ❌ 5GAO-E (5gao_E): STILL FAILED\n",
      "   Old: 'Failed: only 1 rows after stripping'\n",
      "   New: 'Failed: only 1 rows after stripping'\n",
      "[11:12:41] ✅ 5DAT-d2 (5dat_d2): FIXED! Was: 'Failed: no A3M found' → Now: Success\n",
      "   → Downloaded 3/3 A3M files\n",
      "   → Sequences: 277 → 277 after stripping\n",
      "   → Diversity filtered: 21 sequences\n",
      "[11:12:44] ✅ 5GJQ-g (5gjq_g): FIXED! Was: 'Failed: no A3M found' → Now: Success\n",
      "   → Downloaded 3/3 A3M files\n",
      "   → Sequences: 574 → 574 after stripping\n",
      "   → Diversity filtered: 318 sequences\n",
      "[11:12:44] ✅ 5APN-x (5apn_x): FIXED! Was: 'Failed: no A3M found' → Now: Success\n",
      "   → Downloaded 3/3 A3M files\n",
      "   → Sequences: 1191 → 1191 after stripping\n",
      "   → Diversity filtered: 935 sequences\n",
      "[11:12:44] ✅ 5GM6-b (5gm6_b): FIXED! Was: 'Failed: no A3M found' → Now: Success\n",
      "   → Downloaded 3/3 A3M files\n",
      "   → Sequences: 999 → 999 after stripping\n",
      "   → Diversity filtered: 743 sequences\n",
      "   → Found bfd_uniclust_hits.a3m using case variant #3: pdb/5gpn_Ac/a3m/bfd_uniclust_hits.a3m\n",
      "[11:12:45] ✅ 5GJQ-a (5gjq_a): FIXED! Was: 'Failed: no A3M found' → Now: Success\n",
      "   → Downloaded 3/3 A3M files\n",
      "   → Sequences: 465 → 465 after stripping\n",
      "   → Diversity filtered: 209 sequences\n",
      "[11:12:45] ✅ 5FL8-r (5fl8_r): FIXED! Was: 'Failed: no A3M found' → Now: Success\n",
      "   → Downloaded 3/3 A3M files\n",
      "   → Sequences: 764 → 764 after stripping\n",
      "   → Diversity filtered: 508 sequences\n",
      "   → Found bfd_uniclust_hits.a3m using case variant #3: pdb/5gpn_Aj/a3m/bfd_uniclust_hits.a3m\n",
      "   → Found mgnify_hits.a3m using case variant #3: pdb/5gpn_Ac/a3m/mgnify_hits.a3m\n",
      "   → Found mgnify_hits.a3m using case variant #3: pdb/5gpn_Aj/a3m/mgnify_hits.a3m\n",
      "   → Found bfd_uniclust_hits.a3m using case variant #3: pdb/5gpn_Ak/a3m/bfd_uniclust_hits.a3m\n",
      "   → Found uniref90_hits.a3m using case variant #3: pdb/5gpn_Ac/a3m/uniref90_hits.a3m\n",
      "   → Found mgnify_hits.a3m using case variant #3: pdb/5gpn_Ak/a3m/mgnify_hits.a3m\n",
      "   → Found uniref90_hits.a3m using case variant #3: pdb/5gpn_Aj/a3m/uniref90_hits.a3m\n",
      "   → Found bfd_uniclust_hits.a3m using case variant #3: pdb/5gpn_Al/a3m/bfd_uniclust_hits.a3m\n",
      "[11:12:46] ✅ 5GPN-Ac (5gpn_Ac): FIXED! Was: 'Failed: no A3M found' → Now: Success\n",
      "   → Downloaded 3/3 A3M files\n",
      "   → Sequences: 266 → 266 after stripping\n",
      "   → Diversity filtered: 10 sequences\n",
      "   → Found uniref90_hits.a3m using case variant #3: pdb/5gpn_Ak/a3m/uniref90_hits.a3m\n",
      "   → Found mgnify_hits.a3m using case variant #3: pdb/5gpn_Al/a3m/mgnify_hits.a3m\n",
      "   → Found bfd_uniclust_hits.a3m using case variant #3: pdb/5gpn_Am/a3m/bfd_uniclust_hits.a3m\n",
      "[11:12:46] ✅ 5GPN-Aj (5gpn_Aj): FIXED! Was: 'Failed: no A3M found' → Now: Success\n",
      "   → Downloaded 3/3 A3M files\n",
      "   → Sequences: 386 → 386 after stripping\n",
      "   → Diversity filtered: 130 sequences\n",
      "   → Found uniref90_hits.a3m using case variant #3: pdb/5gpn_Al/a3m/uniref90_hits.a3m\n",
      "   → Found mgnify_hits.a3m using case variant #3: pdb/5gpn_Am/a3m/mgnify_hits.a3m\n",
      "[11:12:47] ✅ 5GPN-Ak (5gpn_Ak): FIXED! Was: 'Failed: no A3M found' → Now: Success\n",
      "   → Downloaded 3/3 A3M files\n",
      "   → Sequences: 511 → 511 after stripping\n",
      "   → Diversity filtered: 255 sequences\n",
      "[11:12:47] ✅ 5GPN-Al (5gpn_Al): FIXED! Was: 'Failed: no A3M found' → Now: Success\n",
      "   → Downloaded 3/3 A3M files\n",
      "   → Sequences: 310 → 310 after stripping\n",
      "   → Diversity filtered: 54 sequences\n",
      "   → Found uniref90_hits.a3m using case variant #3: pdb/5gpn_Am/a3m/uniref90_hits.a3m\n",
      "[11:12:48] ✅ 5GPN-Am (5gpn_Am): FIXED! Was: 'Failed: no A3M found' → Now: Success\n",
      "   → Downloaded 3/3 A3M files\n",
      "   → Sequences: 215 → 215 after stripping\n",
      "[11:12:48] ✅ 5GPN-m (5gpn_m): FIXED! Was: 'Failed: no A3M found' → Now: Success\n",
      "   → Downloaded 3/3 A3M files\n",
      "   → Sequences: 267 → 267 after stripping\n",
      "   → Diversity filtered: 11 sequences\n",
      "[11:12:49] ✅ 5GPN-o (5gpn_o): FIXED! Was: 'Failed: no A3M found' → Now: Success\n",
      "   → Downloaded 3/3 A3M files\n",
      "   → Sequences: 290 → 290 after stripping\n",
      "   → Diversity filtered: 34 sequences\n",
      "   → Found bfd_uniclust_hits.a3m using case variant #3: pdb/5gpn_Aa/a3m/bfd_uniclust_hits.a3m\n",
      "   → Found mgnify_hits.a3m using case variant #3: pdb/5gpn_Aa/a3m/mgnify_hits.a3m\n",
      "[11:12:50] ✅ 5GPN-a (5gpn_a): FIXED! Was: 'Failed: no A3M found' → Now: Success\n",
      "   → Downloaded 3/3 A3M files\n",
      "   → Sequences: 756 → 756 after stripping\n",
      "   → Diversity filtered: 500 sequences\n",
      "[11:12:51] ✅ 5GPN-r (5gpn_r): FIXED! Was: 'Failed: no A3M found' → Now: Success\n",
      "   → Downloaded 3/3 A3M files\n",
      "   → Sequences: 387 → 387 after stripping\n",
      "   → Diversity filtered: 131 sequences\n",
      "[11:12:51] ✅ 5GPN-g (5gpn_g): FIXED! Was: 'Failed: no A3M found' → Now: Success\n",
      "   → Downloaded 3/3 A3M files\n",
      "   → Sequences: 403 → 403 after stripping\n",
      "   → Diversity filtered: 147 sequences\n",
      "   → Found uniref90_hits.a3m using case variant #3: pdb/5gpn_Aa/a3m/uniref90_hits.a3m\n",
      "   → Found bfd_uniclust_hits.a3m using case variant #3: pdb/5gpn_Ai/a3m/bfd_uniclust_hits.a3m\n",
      "   → Found bfd_uniclust_hits.a3m using case variant #3: pdb/5gup_Ae/a3m/bfd_uniclust_hits.a3m\n",
      "   → Found mgnify_hits.a3m using case variant #3: pdb/5gup_Ae/a3m/mgnify_hits.a3m\n",
      "   → Found mgnify_hits.a3m using case variant #3: pdb/5gpn_Ai/a3m/mgnify_hits.a3m\n",
      "[11:12:52] ✅ 5GPN-q (5gpn_q): FIXED! Was: 'Failed: no A3M found' → Now: Success\n",
      "   → Downloaded 3/3 A3M files\n",
      "   → Sequences: 821 → 821 after stripping\n",
      "   → Diversity filtered: 565 sequences\n",
      "   → Found uniref90_hits.a3m using case variant #3: pdb/5gup_Ae/a3m/uniref90_hits.a3m\n",
      "   → Found uniref90_hits.a3m using case variant #3: pdb/5gpn_Ai/a3m/uniref90_hits.a3m\n",
      "[11:12:52] ✅ 5GUP-Ae (5gup_Ae): FIXED! Was: 'Failed: no A3M found' → Now: Success\n",
      "   → Downloaded 3/3 A3M files\n",
      "   → Sequences: 269 → 269 after stripping\n",
      "   → Diversity filtered: 13 sequences\n",
      "[11:12:53] ✅ 5GPN-u (5gpn_Ai): FIXED! Was: 'Failed: no A3M found' → Now: Success\n",
      "   → Downloaded 3/3 A3M files\n",
      "   → Sequences: 433 → 433 after stripping\n",
      "   → Diversity filtered: 177 sequences\n",
      "[11:12:53] ✅ 5FL8-q (3jct_x): FIXED! Was: 'Failed: no A3M found' → Now: Success\n",
      "   → Downloaded 3/3 A3M files\n",
      "   → Sequences: 2639 → 2639 after stripping\n",
      "   → Diversity filtered: 2383 sequences\n",
      "[11:12:53] ✅ 5GUP-c (5gup_c): FIXED! Was: 'Failed: no A3M found' → Now: Success\n",
      "   → Downloaded 3/3 A3M files\n",
      "   → Sequences: 468 → 468 after stripping\n",
      "   → Diversity filtered: 212 sequences\n",
      "   → Found bfd_uniclust_hits.a3m using case variant #3: pdb/5gpn_Ae/a3m/bfd_uniclust_hits.a3m\n",
      "[11:12:54] ✅ 5GUP-F (5gpn_x): FIXED! Was: 'Failed: no A3M found' → Now: Success\n",
      "   → Downloaded 3/3 A3M files\n",
      "   → Sequences: 441 → 441 after stripping\n",
      "   → Diversity filtered: 185 sequences\n",
      "   → Found mgnify_hits.a3m using case variant #3: pdb/5gpn_Ae/a3m/mgnify_hits.a3m\n",
      "[11:12:54] ✅ 5GPN-t (5gpn_Aa): FIXED! Was: 'Failed: no A3M found' → Now: Success\n",
      "   → Downloaded 3/3 A3M files\n",
      "   → Sequences: 861 → 861 after stripping\n",
      "   → Diversity filtered: 605 sequences\n",
      "   → Found uniref90_hits.a3m using case variant #3: pdb/5gpn_Ae/a3m/uniref90_hits.a3m\n",
      "[11:12:56] ✅ 5GUP-o (5gup_o): FIXED! Was: 'Failed: no A3M found' → Now: Success\n",
      "   → Downloaded 3/3 A3M files\n",
      "   → Sequences: 353 → 353 after stripping\n",
      "   → Diversity filtered: 97 sequences\n",
      "[11:12:56] ✅ 5GUP-N (5gpn_Ae): FIXED! Was: 'Failed: no A3M found' → Now: Success\n",
      "   → Downloaded 3/3 A3M files\n",
      "   → Sequences: 299 → 299 after stripping\n",
      "   → Diversity filtered: 43 sequences\n",
      "[11:12:56] ✅ 5GUP-P (5gpn_n): FIXED! Was: 'Failed: no A3M found' → Now: Success\n",
      "   → Downloaded 3/3 A3M files\n",
      "   → Sequences: 395 → 395 after stripping\n",
      "   → Diversity filtered: 139 sequences\n",
      "   → Found bfd_uniclust_hits.a3m using case variant #3: pdb/5gpn_An/a3m/bfd_uniclust_hits.a3m\n",
      "   → Found mgnify_hits.a3m using case variant #3: pdb/5gpn_An/a3m/mgnify_hits.a3m\n",
      "   → Found uniref90_hits.a3m using case variant #3: pdb/5gpn_An/a3m/uniref90_hits.a3m\n",
      "[11:12:59] ✅ 5GUP-s (5gpn_An): FIXED! Was: 'Failed: no A3M found' → Now: Success\n",
      "   → Downloaded 3/3 A3M files\n",
      "   → Sequences: 450 → 450 after stripping\n",
      "   → Diversity filtered: 194 sequences\n",
      "[11:12:59] ✅ 5GUP-H (5gpn_b): FIXED! Was: 'Failed: no A3M found' → Now: Success\n",
      "   → Downloaded 3/3 A3M files\n",
      "   → Sequences: 763 → 763 after stripping\n",
      "   → Diversity filtered: 507 sequences\n",
      "   → Found bfd_uniclust_hits.a3m using case variant #3: pdb/5gpn_Ag/a3m/bfd_uniclust_hits.a3m\n",
      "   → Found mgnify_hits.a3m using case variant #3: pdb/5gpn_Ag/a3m/mgnify_hits.a3m\n",
      "[11:13:00] ✅ 5GUP-t (5gup_t): FIXED! Was: 'Failed: no A3M found' → Now: Success\n",
      "   → Downloaded 3/3 A3M files\n",
      "   → Sequences: 299 → 299 after stripping\n",
      "   → Diversity filtered: 43 sequences\n",
      "   → Found uniref90_hits.a3m using case variant #3: pdb/5gpn_Ag/a3m/uniref90_hits.a3m\n",
      "[11:13:01] ✅ 5GUP-V (5gpn_Ag): FIXED! Was: 'Failed: no A3M found' → Now: Success\n",
      "   → Downloaded 3/3 A3M files\n",
      "   → Sequences: 361 → 361 after stripping\n",
      "   → Diversity filtered: 105 sequences\n",
      "[11:13:01] ✅ 5GUP-B (5gpn_c): FIXED! Was: 'Failed: no A3M found' → Now: Success\n",
      "   → Downloaded 3/3 A3M files\n",
      "   → Sequences: 873 → 873 after stripping\n",
      "   → Diversity filtered: 617 sequences\n",
      "[11:13:02] ✅ 5IT7-kk (5it7_kk): FIXED! Was: 'Failed: no A3M found' → Now: Success\n",
      "   → Downloaded 3/3 A3M files\n",
      "   → Sequences: 265 → 265 after stripping\n",
      "   → Diversity filtered: 9 sequences\n",
      "[11:13:03] ✅ 5GUP-L (5gpn_p): FIXED! Was: 'Failed: no A3M found' → Now: Success\n",
      "   → Downloaded 3/3 A3M files\n",
      "   → Sequences: 1039 → 1039 after stripping\n",
      "   → Diversity filtered: 783 sequences\n",
      "[11:13:03] ✅ 5H4P-w (5h4p_w): FIXED! Was: 'Failed: no A3M found' → Now: Success\n",
      "   → Downloaded 3/3 A3M files\n",
      "   → Sequences: 620 → 620 after stripping\n",
      "   → Diversity filtered: 364 sequences\n",
      "[11:13:04] ✅ 5GUP-r (5gpn_e): FIXED! Was: 'Failed: no A3M found' → Now: Success\n",
      "   → Downloaded 3/3 A3M files\n",
      "   → Sequences: 624 → 624 after stripping\n",
      "   → Diversity filtered: 368 sequences\n",
      "[11:13:05] ✅ 5JTE-AU (3j9y_u): FIXED! Was: 'Failed: no A3M found' → Now: Success\n",
      "   → Downloaded 3/3 A3M files\n",
      "   → Sequences: 271 → 271 after stripping\n",
      "   → Diversity filtered: 15 sequences\n",
      "[11:13:06] ✅ 5K0Y-i (5k0y_i): FIXED! Was: 'Failed: no A3M found' → Now: Success\n",
      "   → Downloaded 3/3 A3M files\n",
      "   → Sequences: 437 → 437 after stripping\n",
      "   → Diversity filtered: 181 sequences\n",
      "[11:13:07] ✅ 5GUP-q (5gpn_h): FIXED! Was: 'Failed: no A3M found' → Now: Success\n",
      "   → Downloaded 3/3 A3M files\n",
      "   → Sequences: 930 → 930 after stripping\n",
      "   → Diversity filtered: 674 sequences\n",
      "[11:13:07] ✅ 5JU8-AF (3j9y_f): FIXED! Was: 'Failed: no A3M found' → Now: Success\n",
      "   → Downloaded 3/3 A3M files\n",
      "   → Sequences: 377 → 377 after stripping\n",
      "   → Diversity filtered: 121 sequences\n",
      "[11:13:10] ✅ 5K0Y-c (5k0y_c): FIXED! Was: 'Failed: no A3M found' → Now: Success\n",
      "   → Downloaded 3/3 A3M files\n",
      "   → Sequences: 487 → 487 after stripping\n",
      "   → Diversity filtered: 231 sequences\n",
      "[11:13:11] ✅ 5LDW-i (5ldw_i): FIXED! Was: 'Failed: no A3M found' → Now: Success\n",
      "   → Downloaded 3/3 A3M files\n",
      "   → Sequences: 343 → 343 after stripping\n",
      "   → Diversity filtered: 87 sequences\n",
      "[11:13:12] ✅ 5L4G-U (5gjq_f): FIXED! Was: 'Failed: no A3M found' → Now: Success\n",
      "   → Downloaded 3/3 A3M files\n",
      "   → Sequences: 448 → 448 after stripping\n",
      "   → Diversity filtered: 192 sequences\n",
      "[11:13:13] ✅ 5L3P-c (3j9y_c): FIXED! Was: 'Failed: no A3M found' → Now: Success\n",
      "   → Downloaded 3/3 A3M files\n",
      "   → Sequences: 498 → 498 after stripping\n",
      "   → Diversity filtered: 242 sequences\n",
      "[11:13:13] ✅ 5L4G-8 (5gjq_b): FIXED! Was: 'Failed: no A3M found' → Now: Success\n",
      "   → Downloaded 3/3 A3M files\n",
      "   → Sequences: 595 → 595 after stripping\n",
      "   → Diversity filtered: 339 sequences\n",
      "   → Found bfd_uniclust_hits.a3m using case variant #3: pdb/5lks_Lb/a3m/bfd_uniclust_hits.a3m\n",
      "   → Found mgnify_hits.a3m using case variant #3: pdb/5lks_Lb/a3m/mgnify_hits.a3m\n",
      "   → Found uniref90_hits.a3m using case variant #3: pdb/5lks_Lb/a3m/uniref90_hits.a3m\n",
      "[11:13:16] ✅ 5LI0-r (5li0_r): FIXED! Was: 'Failed: no A3M found' → Now: Success\n",
      "   → Downloaded 3/3 A3M files\n",
      "   → Sequences: 325 → 325 after stripping\n",
      "   → Diversity filtered: 69 sequences\n",
      "[11:13:16] ✅ 5LKS-Lb (5lks_Lb): FIXED! Was: 'Failed: no A3M found' → Now: Success\n",
      "   → Downloaded 3/3 A3M files\n",
      "   → Sequences: 588 → 588 after stripping\n",
      "   → Diversity filtered: 332 sequences\n",
      "[11:13:16] ✅ 5LI0-k (5li0_k): FIXED! Was: 'Failed: no A3M found' → Now: Success\n",
      "   → Downloaded 3/3 A3M files\n",
      "   → Sequences: 386 → 386 after stripping\n",
      "   → Diversity filtered: 130 sequences\n",
      "[11:13:17] ✅ 5LJ5-W (5gmk_b): FIXED! Was: 'Failed: no A3M found' → Now: Success\n",
      "   → Downloaded 3/3 A3M files\n",
      "   → Sequences: 941 → 941 after stripping\n",
      "   → Diversity filtered: 685 sequences\n",
      "[11:13:17] ✅ 5LNK-o (5lnk_o): FIXED! Was: 'Failed: no A3M found' → Now: Success\n",
      "   → Downloaded 3/3 A3M files\n",
      "   → Sequences: 288 → 288 after stripping\n",
      "   → Diversity filtered: 32 sequences\n",
      "[11:13:18] ✅ 5LNK-p (5lnk_p): FIXED! Was: 'Failed: no A3M found' → Now: Success\n",
      "   → Downloaded 3/3 A3M files\n",
      "   → Sequences: 361 → 361 after stripping\n",
      "   → Diversity filtered: 105 sequences\n",
      "[11:13:18] ✅ 5LNK-q (5lnk_q): FIXED! Was: 'Failed: no A3M found' → Now: Success\n",
      "   → Downloaded 3/3 A3M files\n",
      "   → Sequences: 375 → 375 after stripping\n",
      "   → Diversity filtered: 119 sequences\n",
      "[11:13:20] ✅ 5KCS-1w (3j9y_w): FIXED! Was: 'Failed: no A3M found' → Now: Success\n",
      "   → Downloaded 3/3 A3M files\n",
      "   → Sequences: 1117 → 1117 after stripping\n",
      "   → Diversity filtered: 861 sequences\n",
      "[11:13:20] ✅ 5LNK-u (5lnk_u): FIXED! Was: 'Failed: no A3M found' → Now: Success\n",
      "   → Downloaded 3/3 A3M files\n",
      "   → Sequences: 265 → 265 after stripping\n",
      "   → Diversity filtered: 9 sequences\n",
      "[11:13:20] ✅ 5LNK-s (5lnk_s): FIXED! Was: 'Failed: no A3M found' → Now: Success\n",
      "   → Downloaded 3/3 A3M files\n",
      "   → Sequences: 305 → 305 after stripping\n",
      "   → Diversity filtered: 49 sequences\n",
      "[11:13:20] ✅ 5LNK-r (5lnk_r): FIXED! Was: 'Failed: no A3M found' → Now: Success\n",
      "   → Downloaded 3/3 A3M files\n",
      "   → Sequences: 293 → 293 after stripping\n",
      "   → Diversity filtered: 37 sequences\n",
      "[11:13:22] ✅ 5J8B-z (4w2e_y): FIXED! Was: 'Failed: no A3M found' → Now: Success\n",
      "   → Downloaded 3/3 A3M files\n",
      "   → Sequences: 2302 → 2302 after stripping\n",
      "   → Diversity filtered: 2046 sequences\n",
      "[11:13:22] ✅ 5LNK-v (5lnk_v): FIXED! Was: 'Failed: no A3M found' → Now: Success\n",
      "   → Downloaded 3/3 A3M files\n",
      "   → Sequences: 373 → 373 after stripping\n",
      "   → Diversity filtered: 117 sequences\n",
      "[11:13:22] ✅ 5LYB-c2 (5lyb_c2): FIXED! Was: 'Failed: no A3M found' → Now: Success\n",
      "   → Downloaded 3/3 A3M files\n",
      "   → Sequences: 282 → 282 after stripping\n",
      "   → Diversity filtered: 26 sequences\n",
      "[11:13:22] ✅ 5LNK-t (5lnk_t): FIXED! Was: 'Failed: no A3M found' → Now: Success\n",
      "   → Downloaded 3/3 A3M files\n",
      "   → Sequences: 551 → 551 after stripping\n",
      "   → Diversity filtered: 295 sequences\n",
      "[11:13:23] ✅ 5LN3-5 (5gjq_e): FIXED! Was: 'Failed: no A3M found' → Now: Success\n",
      "   → Downloaded 3/3 A3M files\n",
      "   → Sequences: 643 → 643 after stripping\n",
      "   → Diversity filtered: 387 sequences\n",
      "[11:13:24] ✅ 5LYB-p0 (5lyb_p0): FIXED! Was: 'Failed: no A3M found' → Now: Success\n",
      "   → Downloaded 3/3 A3M files\n",
      "   → Sequences: 540 → 540 after stripping\n",
      "   → Diversity filtered: 284 sequences\n",
      "[11:13:24] ✅ 5LZX-t (3j92_t): FIXED! Was: 'Failed: no A3M found' → Now: Success\n",
      "   → Downloaded 3/3 A3M files\n",
      "   → Sequences: 394 → 394 after stripping\n",
      "   → Diversity filtered: 138 sequences\n",
      "[11:13:27] ✅ 5LZY-ii (5lzw_ii): FIXED! Was: 'Failed: no A3M found' → Now: Success\n",
      "   → Downloaded 3/3 A3M files\n",
      "   → Sequences: 873 → 873 after stripping\n",
      "   → Diversity filtered: 617 sequences\n",
      "[11:13:28] ✅ 5MMJ-x (5mmj_x): FIXED! Was: 'Failed: no A3M found' → Now: Success\n",
      "   → Downloaded 3/3 A3M files\n",
      "   → Sequences: 323 → 323 after stripping\n",
      "   → Diversity filtered: 67 sequences\n",
      "[11:13:29] ✅ 5MMJ-r (5mmj_r): FIXED! Was: 'Failed: no A3M found' → Now: Success\n",
      "   → Downloaded 3/3 A3M files\n",
      "   → Sequences: 297 → 297 after stripping\n",
      "   → Diversity filtered: 41 sequences\n",
      "[11:13:29] ✅ 5MMJ-m (5mmj_m): FIXED! Was: 'Failed: no A3M found' → Now: Success\n",
      "   → Downloaded 3/3 A3M files\n",
      "   → Sequences: 449 → 449 after stripping\n",
      "   → Diversity filtered: 193 sequences\n",
      "[11:13:30] ✅ 5MMM-7 (5h1s_h): FIXED! Was: 'Failed: no A3M found' → Now: Success\n",
      "   → Downloaded 3/3 A3M files\n",
      "   → Sequences: 270 → 270 after stripping\n",
      "   → Diversity filtered: 14 sequences\n",
      "[11:13:33] ✅ 5LZS-jj (5lzs_jj): FIXED! Was: 'Failed: no A3M found' → Now: Success\n",
      "   → Downloaded 3/3 A3M files\n",
      "   → Sequences: 805 → 805 after stripping\n",
      "   → Diversity filtered: 549 sequences\n",
      "[11:13:34] ✅ 5MMM-j (5mmj_j): FIXED! Was: 'Failed: no A3M found' → Now: Success\n",
      "   → Downloaded 3/3 A3M files\n",
      "   → Sequences: 651 → 651 after stripping\n",
      "   → Diversity filtered: 395 sequences\n",
      "[11:13:35] ✅ 5M32-h (5m32_h): FIXED! Was: 'Failed: no A3M found' → Now: Success\n",
      "   → Downloaded 3/3 A3M files\n",
      "   → Sequences: 1455 → 1455 after stripping\n",
      "   → Diversity filtered: 1199 sequences\n",
      "[11:13:35] ✅ 5MMM-i (5mmj_i): FIXED! Was: 'Failed: no A3M found' → Now: Success\n",
      "   → Downloaded 3/3 A3M files\n",
      "   → Sequences: 718 → 718 after stripping\n",
      "   → Diversity filtered: 462 sequences\n",
      "[11:13:36] ✅ 5MMM-u (5mmj_u): FIXED! Was: 'Failed: no A3M found' → Now: Success\n",
      "   → Downloaded 3/3 A3M files\n",
      "   → Sequences: 564 → 564 after stripping\n",
      "   → Diversity filtered: 308 sequences\n",
      "[11:13:36] ✅ 5MMJ-y (5mmj_y): FIXED! Was: 'Failed: no A3M found' → Now: Success\n",
      "   → Downloaded 3/3 A3M files\n",
      "   → Sequences: 810 → 810 after stripping\n",
      "   → Diversity filtered: 554 sequences\n",
      "[11:13:37] ✅ 5LZD-z (5lzb_z): FIXED! Was: 'Failed: no A3M found' → Now: Success\n",
      "   → Downloaded 3/3 A3M files\n",
      "   → Sequences: 1227 → 1227 after stripping\n",
      "   → Diversity filtered: 971 sequences\n",
      "[11:13:37] ✅ 5MMM-w (5mmj_w): FIXED! Was: 'Failed: no A3M found' → Now: Success\n",
      "   → Downloaded 3/3 A3M files\n",
      "   → Sequences: 409 → 409 after stripping\n",
      "   → Diversity filtered: 153 sequences\n",
      "[11:13:37] ✅ 5MMM-t (5mmj_t): FIXED! Was: 'Failed: no A3M found' → Now: Success\n",
      "   → Downloaded 3/3 A3M files\n",
      "   → Sequences: 604 → 604 after stripping\n",
      "   → Diversity filtered: 348 sequences\n",
      "[11:13:38] ✅ 5MMM-q (5mmj_q): FIXED! Was: 'Failed: no A3M found' → Now: Success\n",
      "   → Downloaded 3/3 A3M files\n",
      "   → Sequences: 504 → 504 after stripping\n",
      "   → Diversity filtered: 248 sequences\n",
      "[11:13:41] ✅ 5ND8-m (5nd8_m): FIXED! Was: 'Failed: no A3M found' → Now: Success\n",
      "   → Downloaded 3/3 A3M files\n",
      "   → Sequences: 307 → 307 after stripping\n",
      "   → Diversity filtered: 51 sequences\n",
      "[11:13:41] ✅ 5ND8-n (5nd8_n): FIXED! Was: 'Failed: no A3M found' → Now: Success\n",
      "   → Downloaded 3/3 A3M files\n",
      "   → Sequences: 272 → 272 after stripping\n",
      "   → Diversity filtered: 16 sequences\n",
      "[11:13:41] ✅ 5ND8-r (5nd8_r): FIXED! Was: 'Failed: no A3M found' → Now: Success\n",
      "   → Downloaded 3/3 A3M files\n",
      "   → Sequences: 329 → 329 after stripping\n",
      "   → Diversity filtered: 73 sequences\n",
      "[11:13:42] ✅ 5ND8-d (5nd8_d): FIXED! Was: 'Failed: no A3M found' → Now: Success\n",
      "   → Downloaded 3/3 A3M files\n",
      "   → Sequences: 478 → 478 after stripping\n",
      "   → Diversity filtered: 222 sequences\n",
      "[11:13:42] ✅ 5ND8-c (5li0_c): FIXED! Was: 'Failed: no A3M found' → Now: Success\n",
      "   → Downloaded 3/3 A3M files\n",
      "   → Sequences: 456 → 456 after stripping\n",
      "   → Diversity filtered: 200 sequences\n",
      "[11:13:44] ✅ 5ND8-v (5nd8_v): FIXED! Was: 'Failed: no A3M found' → Now: Success\n",
      "   → Downloaded 3/3 A3M files\n",
      "   → Sequences: 613 → 613 after stripping\n",
      "   → Diversity filtered: 357 sequences\n",
      "[11:13:45] ✅ 5ND9-j (5li0_j): FIXED! Was: 'Failed: no A3M found' → Now: Success\n",
      "   → Downloaded 3/3 A3M files\n",
      "   → Sequences: 280 → 280 after stripping\n",
      "   → Diversity filtered: 24 sequences\n",
      "[11:13:46] ✅ 5ND9-g (5nd8_g): FIXED! Was: 'Failed: no A3M found' → Now: Success\n",
      "   → Downloaded 3/3 A3M files\n",
      "   → Sequences: 392 → 392 after stripping\n",
      "   → Diversity filtered: 136 sequences\n",
      "[11:13:46] ✅ 5ND9-e (5nd8_e): FIXED! Was: 'Failed: no A3M found' → Now: Success\n",
      "   → Downloaded 3/3 A3M files\n",
      "   → Sequences: 328 → 328 after stripping\n",
      "   → Diversity filtered: 72 sequences\n",
      "[11:13:47] ✅ 5ND9-h (5nd8_h): FIXED! Was: 'Failed: no A3M found' → Now: Success\n",
      "   → Downloaded 3/3 A3M files\n",
      "   → Sequences: 356 → 356 after stripping\n",
      "   → Diversity filtered: 100 sequences\n",
      "[11:13:47] ✅ 5ND9-b (5li0_b): FIXED! Was: 'Failed: no A3M found' → Now: Success\n",
      "   → Downloaded 3/3 A3M files\n",
      "   → Sequences: 388 → 388 after stripping\n",
      "   → Diversity filtered: 132 sequences\n",
      "[11:13:47] ✅ 5ND9-q (5nd8_q): FIXED! Was: 'Failed: no A3M found' → Now: Success\n",
      "   → Downloaded 3/3 A3M files\n",
      "   → Sequences: 269 → 269 after stripping\n",
      "   → Diversity filtered: 13 sequences\n",
      "[11:13:49] ✅ 5NW4-l (5adx_b): FIXED! Was: 'Failed: no A3M found' → Now: Success\n",
      "   → Downloaded 3/3 A3M files\n",
      "   → Sequences: 262 → 262 after stripping\n",
      "   → Diversity filtered: 6 sequences\n",
      "[11:13:49] ✅ 5O31-m (5o31_m): FIXED! Was: 'Failed: no A3M found' → Now: Success\n",
      "   → Downloaded 3/3 A3M files\n",
      "   → Sequences: 348 → 348 after stripping\n",
      "   → Diversity filtered: 92 sequences\n",
      "[11:13:49] ✅ 5NGM-Af (5nd8_f): FIXED! Was: 'Failed: no A3M found' → Now: Success\n",
      "   → Downloaded 3/3 A3M files\n",
      "   → Sequences: 273 → 273 after stripping\n",
      "   → Diversity filtered: 17 sequences\n",
      "[11:13:50] ✅ 5NW4-h (5nw4_h): FIXED! Was: 'Failed: no A3M found' → Now: Success\n",
      "   → Downloaded 3/3 A3M files\n",
      "   → Sequences: 645 → 645 after stripping\n",
      "   → Diversity filtered: 389 sequences\n",
      "[11:13:50] ✅ 5OOM-a (3j7y_a): FIXED! Was: 'Failed: no A3M found' → Now: Success\n",
      "   → Downloaded 3/3 A3M files\n",
      "   → Sequences: 295 → 295 after stripping\n",
      "   → Diversity filtered: 39 sequences\n",
      "[11:13:50] ✅ 5NGM-Al (5nd8_l): FIXED! Was: 'Failed: no A3M found' → Now: Success\n",
      "   → Downloaded 3/3 A3M files\n",
      "   → Sequences: 338 → 338 after stripping\n",
      "   → Diversity filtered: 82 sequences\n",
      "[11:13:51] ✅ 5NGM-Ai (5nd8_i): FIXED! Was: 'Failed: no A3M found' → Now: Success\n",
      "   → Downloaded 3/3 A3M files\n",
      "   → Sequences: 306 → 306 after stripping\n",
      "   → Diversity filtered: 50 sequences\n",
      "[11:13:51] ✅ 5OOM-m (3j9m_m): FIXED! Was: 'Failed: no A3M found' → Now: Success\n",
      "   → Downloaded 3/3 A3M files\n",
      "   → Sequences: 285 → 285 after stripping\n",
      "   → Diversity filtered: 29 sequences\n",
      "[11:13:52] ✅ 5OOM-v (5ool_v): FIXED! Was: 'Failed: no A3M found' → Now: Success\n",
      "   → Downloaded 3/3 A3M files\n",
      "   → Sequences: 389 → 389 after stripping\n",
      "   → Diversity filtered: 133 sequences\n",
      "[11:13:52] ✅ 5OPT-a (5opt_a): FIXED! Was: 'Failed: no A3M found' → Now: Success\n",
      "   → Downloaded 3/3 A3M files\n",
      "   → Sequences: 302 → 302 after stripping\n",
      "   → Diversity filtered: 46 sequences\n",
      "[11:13:52] ✅ 5OPT-c (5opt_c): FIXED! Was: 'Failed: no A3M found' → Now: Success\n",
      "   → Downloaded 3/3 A3M files\n",
      "   → Sequences: 298 → 298 after stripping\n",
      "   → Diversity filtered: 42 sequences\n",
      "[11:13:54] ✅ 5OOL-w (5ool_w): FIXED! Was: 'Failed: no A3M found' → Now: Success\n",
      "   → Downloaded 3/3 A3M files\n",
      "   → Sequences: 848 → 848 after stripping\n",
      "   → Diversity filtered: 592 sequences\n",
      "[11:13:54] ✅ 5OPT-g (5opt_g): FIXED! Was: 'Failed: no A3M found' → Now: Success\n",
      "   → Downloaded 3/3 A3M files\n",
      "   → Sequences: 373 → 373 after stripping\n",
      "   → Diversity filtered: 117 sequences\n",
      "[11:13:55] ✅ 5OPT-h (5opt_h): FIXED! Was: 'Failed: no A3M found' → Now: Success\n",
      "   → Downloaded 3/3 A3M files\n",
      "   → Sequences: 577 → 577 after stripping\n",
      "   → Diversity filtered: 321 sequences\n",
      "[11:13:55] ✅ 5OPT-i (5opt_i): FIXED! Was: 'Failed: no A3M found' → Now: Success\n",
      "   → Downloaded 3/3 A3M files\n",
      "   → Sequences: 302 → 302 after stripping\n",
      "   → Diversity filtered: 46 sequences\n",
      "[11:13:56] ✅ 5OOM-u (5ool_u): FIXED! Was: 'Failed: no A3M found' → Now: Success\n",
      "   → Downloaded 3/3 A3M files\n",
      "   → Sequences: 667 → 667 after stripping\n",
      "   → Diversity filtered: 411 sequences\n",
      "[11:13:57] ✅ 5OPT-k (5opt_k): FIXED! Was: 'Failed: no A3M found' → Now: Success\n",
      "   → Downloaded 3/3 A3M files\n",
      "   → Sequences: 439 → 439 after stripping\n",
      "   → Diversity filtered: 183 sequences\n",
      "[11:13:57] ✅ 5OPT-n (5opt_n): FIXED! Was: 'Failed: no A3M found' → Now: Success\n",
      "   → Downloaded 3/3 A3M files\n",
      "   → Sequences: 586 → 586 after stripping\n",
      "   → Diversity filtered: 330 sequences\n",
      "[11:13:58] ✅ 5OPT-j (5opt_j): FIXED! Was: 'Failed: no A3M found' → Now: Success\n",
      "   → Downloaded 3/3 A3M files\n",
      "   → Sequences: 491 → 491 after stripping\n",
      "   → Diversity filtered: 235 sequences\n",
      "[11:13:59] ✅ 5OQL-q (5oql_q): FIXED! Was: 'Failed: no A3M found' → Now: Success\n",
      "   → Downloaded 3/3 A3M files\n",
      "   → Sequences: 486 → 486 after stripping\n",
      "   → Diversity filtered: 230 sequences\n",
      "[11:13:59] ✅ 5OPT-d (5opt_d): FIXED! Was: 'Failed: no A3M found' → Now: Success\n",
      "   → Downloaded 3/3 A3M files\n",
      "   → Sequences: 615 → 615 after stripping\n",
      "   → Diversity filtered: 359 sequences\n",
      "[11:13:59] ✅ 5OPT-f (5opt_f): FIXED! Was: 'Failed: no A3M found' → Now: Success\n",
      "   → Downloaded 3/3 A3M files\n",
      "   → Sequences: 598 → 598 after stripping\n",
      "   → Diversity filtered: 342 sequences\n",
      "[11:14:00] ✅ 5OQL-s (5oql_s): FIXED! Was: 'Failed: no A3M found' → Now: Success\n",
      "   → Downloaded 3/3 A3M files\n",
      "   → Sequences: 360 → 360 after stripping\n",
      "   → Diversity filtered: 104 sequences\n",
      "[11:14:00] ✅ 5OQM-h (5oqm_h): FIXED! Was: 'Failed: no A3M found' → Now: Success\n",
      "   → Downloaded 3/3 A3M files\n",
      "   → Sequences: 433 → 433 after stripping\n",
      "   → Diversity filtered: 177 sequences\n",
      "[11:14:00] ✅ 5OQL-w (5oql_w): FIXED! Was: 'Failed: no A3M found' → Now: Success\n",
      "   → Downloaded 3/3 A3M files\n",
      "   → Sequences: 293 → 293 after stripping\n",
      "   → Diversity filtered: 37 sequences\n",
      "   → Found bfd_uniclust_hits.a3m using case variant #2: pdb/5oxe_A/a3m/bfd_uniclust_hits.a3m\n",
      "   → Found mgnify_hits.a3m using case variant #2: pdb/5oxe_A/a3m/mgnify_hits.a3m\n",
      "[11:14:01] ✅ 5OQM-k (5oqm_k): FIXED! Was: 'Failed: no A3M found' → Now: Success\n",
      "   → Downloaded 3/3 A3M files\n",
      "   → Sequences: 305 → 305 after stripping\n",
      "   → Diversity filtered: 49 sequences\n",
      "[11:14:01] ✅ 5OQM-m (5oqm_m): FIXED! Was: 'Failed: no A3M found' → Now: Success\n",
      "   → Downloaded 3/3 A3M files\n",
      "   → Sequences: 300 → 300 after stripping\n",
      "   → Diversity filtered: 44 sequences\n",
      "   → Found uniref90_hits.a3m using case variant #2: pdb/5oxe_A/a3m/uniref90_hits.a3m\n",
      "[11:14:01] ❌ 5OXE-A (5oxe_A): STILL FAILED\n",
      "   Old: 'Failed: only 1 rows after stripping'\n",
      "   New: 'Failed: only 1 rows after stripping'\n",
      "[11:14:02] ✅ 5OQM-o (5oqm_o): FIXED! Was: 'Failed: no A3M found' → Now: Success\n",
      "   → Downloaded 3/3 A3M files\n",
      "   → Sequences: 440 → 440 after stripping\n",
      "   → Diversity filtered: 184 sequences\n",
      "[11:14:03] ✅ 5OSG-h (5osg_h): FIXED! Was: 'Failed: no A3M found' → Now: Success\n",
      "   → Downloaded 3/3 A3M files\n",
      "   → Sequences: 442 → 442 after stripping\n",
      "   → Diversity filtered: 186 sequences\n",
      "[11:14:03] ✅ 5T2A-k (5t2a_k): FIXED! Was: 'Failed: no A3M found' → Now: Success\n",
      "   → Downloaded 3/3 A3M files\n",
      "   → Sequences: 288 → 288 after stripping\n",
      "   → Diversity filtered: 32 sequences\n",
      "[11:14:03] ✅ 5OQM-l (5oqm_l): FIXED! Was: 'Failed: no A3M found' → Now: Success\n",
      "   → Downloaded 3/3 A3M files\n",
      "   → Sequences: 735 → 735 after stripping\n",
      "   → Diversity filtered: 479 sequences\n",
      "[11:14:04] ✅ 5T2A-g (5t2a_g): FIXED! Was: 'Failed: no A3M found' → Now: Success\n",
      "   → Downloaded 3/3 A3M files\n",
      "   → Sequences: 309 → 309 after stripping\n",
      "   → Diversity filtered: 53 sequences\n",
      "[11:14:04] ✅ 5T5H-a (5t5h_a): FIXED! Was: 'Failed: no A3M found' → Now: Success\n",
      "   → Downloaded 3/3 A3M files\n",
      "   → Sequences: 352 → 352 after stripping\n",
      "   → Diversity filtered: 96 sequences\n",
      "[11:14:04] ✅ 5T5H-d (5t5h_d): FIXED! Was: 'Failed: no A3M found' → Now: Success\n",
      "   → Downloaded 3/3 A3M files\n",
      "   → Sequences: 275 → 275 after stripping\n",
      "   → Diversity filtered: 19 sequences\n",
      "[11:14:04] ✅ 5T5H-c (5t5h_c): FIXED! Was: 'Failed: no A3M found' → Now: Success\n",
      "   → Downloaded 3/3 A3M files\n",
      "   → Sequences: 353 → 353 after stripping\n",
      "   → Diversity filtered: 97 sequences\n",
      "[11:14:05] ✅ 5T5H-b (5t5h_b): FIXED! Was: 'Failed: no A3M found' → Now: Success\n",
      "   → Downloaded 3/3 A3M files\n",
      "   → Sequences: 480 → 480 after stripping\n",
      "   → Diversity filtered: 224 sequences\n",
      "[11:14:06] ✅ 5T5H-g (5t5h_g): FIXED! Was: 'Failed: no A3M found' → Now: Success\n",
      "   → Downloaded 3/3 A3M files\n",
      "   → Sequences: 339 → 339 after stripping\n",
      "   → Diversity filtered: 83 sequences\n",
      "[11:14:06] ✅ 5T5H-h (5t5h_h): FIXED! Was: 'Failed: no A3M found' → Now: Success\n",
      "   → Downloaded 3/3 A3M files\n",
      "   → Sequences: 419 → 419 after stripping\n",
      "   → Diversity filtered: 163 sequences\n",
      "[11:14:06] ✅ 5T5H-k (5t5h_k): FIXED! Was: 'Failed: no A3M found' → Now: Success\n",
      "   → Downloaded 3/3 A3M files\n",
      "   → Sequences: 491 → 491 after stripping\n",
      "   → Diversity filtered: 235 sequences\n",
      "[11:14:07] ✅ 5T5H-m (5t5h_m): FIXED! Was: 'Failed: no A3M found' → Now: Success\n",
      "   → Downloaded 3/3 A3M files\n",
      "   → Sequences: 268 → 268 after stripping\n",
      "   → Diversity filtered: 12 sequences\n",
      "[11:14:08] ✅ 5TGM-p0 (5tgm_p0): FIXED! Was: 'Failed: no A3M found' → Now: Success\n",
      "   → Downloaded 3/3 A3M files\n",
      "   → Sequences: 329 → 329 after stripping\n",
      "   → Diversity filtered: 73 sequences\n",
      "[11:14:09] ✅ 5T5H-f (5t5h_f): FIXED! Was: 'Failed: no A3M found' → Now: Success\n",
      "   → Downloaded 3/3 A3M files\n",
      "   → Sequences: 738 → 738 after stripping\n",
      "   → Diversity filtered: 482 sequences\n",
      "[11:14:10] ✅ 5T0J-f (5t0g_f): FIXED! Was: 'Failed: no A3M found' → Now: Success\n",
      "   → Downloaded 3/3 A3M files\n",
      "   → Sequences: 1131 → 1131 after stripping\n",
      "   → Diversity filtered: 875 sequences\n",
      "[11:14:12] ✅ 5V93-f (5v93_f): FIXED! Was: 'Failed: no A3M found' → Now: Success\n",
      "   → Downloaded 3/3 A3M files\n",
      "   → Sequences: 286 → 286 after stripping\n",
      "   → Diversity filtered: 30 sequences\n",
      "[11:14:12] ✅ 5V93-e (5v93_e): FIXED! Was: 'Failed: no A3M found' → Now: Success\n",
      "   → Downloaded 3/3 A3M files\n",
      "   → Sequences: 455 → 455 after stripping\n",
      "   → Diversity filtered: 199 sequences\n",
      "[11:14:13] ✅ 5V93-i (5v93_i): FIXED! Was: 'Failed: no A3M found' → Now: Success\n",
      "   → Downloaded 3/3 A3M files\n",
      "   → Sequences: 357 → 357 after stripping\n",
      "   → Diversity filtered: 101 sequences\n",
      "[11:14:13] ✅ 5V93-c (5v93_c): FIXED! Was: 'Failed: no A3M found' → Now: Success\n",
      "   → Downloaded 3/3 A3M files\n",
      "   → Sequences: 765 → 765 after stripping\n",
      "   → Diversity filtered: 509 sequences\n",
      "[11:14:14] ✅ 5V93-m (5v93_m): FIXED! Was: 'Failed: no A3M found' → Now: Success\n",
      "   → Downloaded 3/3 A3M files\n",
      "   → Sequences: 359 → 359 after stripping\n",
      "   → Diversity filtered: 103 sequences\n",
      "[11:14:14] ✅ 5V93-k (5v93_k): FIXED! Was: 'Failed: no A3M found' → Now: Success\n",
      "   → Downloaded 3/3 A3M files\n",
      "   → Sequences: 352 → 352 after stripping\n",
      "   → Diversity filtered: 96 sequences\n",
      "   → Found bfd_uniclust_hits.a3m using case variant #3: pdb/5t0c_Ad/a3m/bfd_uniclust_hits.a3m\n",
      "   → Found mgnify_hits.a3m using case variant #3: pdb/5t0c_Ad/a3m/mgnify_hits.a3m\n",
      "[11:14:16] ✅ 5VKU-g (5vku_g): FIXED! Was: 'Failed: no A3M found' → Now: Success\n",
      "   → Downloaded 3/3 A3M files\n",
      "   → Sequences: 85 → 85 after stripping\n",
      "   → Found uniref90_hits.a3m using case variant #3: pdb/5t0c_Ad/a3m/uniref90_hits.a3m\n",
      "[11:14:16] ✅ 5V93-o (5v93_o): FIXED! Was: 'Failed: no A3M found' → Now: Success\n",
      "   → Downloaded 3/3 A3M files\n",
      "   → Sequences: 270 → 270 after stripping\n",
      "   → Diversity filtered: 14 sequences\n",
      "[11:14:16] ✅ 5VKU-h (5vku_h): FIXED! Was: 'Failed: no A3M found' → Now: Success\n",
      "   → Downloaded 3/3 A3M files\n",
      "   → Sequences: 85 → 85 after stripping\n",
      "   → Found bfd_uniclust_hits.a3m using case variant #3: pdb/5lks_Se/a3m/bfd_uniclust_hits.a3m\n",
      "   → Found mgnify_hits.a3m using case variant #3: pdb/5lks_Se/a3m/mgnify_hits.a3m\n",
      "[11:14:18] ✅ 5V93-r (5v93_r): FIXED! Was: 'Failed: no A3M found' → Now: Success\n",
      "   → Downloaded 3/3 A3M files\n",
      "   → Sequences: 292 → 292 after stripping\n",
      "   → Diversity filtered: 36 sequences\n",
      "   → Found uniref90_hits.a3m using case variant #3: pdb/5lks_Se/a3m/uniref90_hits.a3m\n",
      "[11:14:18] ✅ 5V93-p (5v93_p): FIXED! Was: 'Failed: no A3M found' → Now: Success\n",
      "   → Downloaded 3/3 A3M files\n",
      "   → Sequences: 564 → 564 after stripping\n",
      "   → Diversity filtered: 308 sequences\n",
      "[11:14:18] ✅ 5V93-q (5v93_q): FIXED! Was: 'Failed: no A3M found' → Now: Success\n",
      "   → Downloaded 3/3 A3M files\n",
      "   → Sequences: 460 → 460 after stripping\n",
      "   → Diversity filtered: 204 sequences\n",
      "[11:14:18] ✅ 5VFU-d (5t0c_Ad): FIXED! Was: 'Failed: no A3M found' → Now: Success\n",
      "   → Downloaded 3/3 A3M files\n",
      "   → Sequences: 557 → 557 after stripping\n",
      "   → Diversity filtered: 301 sequences\n",
      "[11:14:19] ✅ 5VYC-l1 (5vyc_l1): FIXED! Was: 'Failed: no A3M found' → Now: Success\n",
      "   → Downloaded 3/3 A3M files\n",
      "   → Sequences: 646 → 646 after stripping\n",
      "   → Diversity filtered: 390 sequences\n",
      "[11:14:20] ✅ 5X8P-u (5x8p_u): FIXED! Was: 'Failed: no A3M found' → Now: Success\n",
      "   → Downloaded 3/3 A3M files\n",
      "   → Sequences: 301 → 301 after stripping\n",
      "   → Diversity filtered: 45 sequences\n",
      "[11:14:21] ✅ 5VYC-e1 (5lks_Se): FIXED! Was: 'Failed: no A3M found' → Now: Success\n",
      "   → Downloaded 3/3 A3M files\n",
      "   → Sequences: 588 → 588 after stripping\n",
      "   → Diversity filtered: 332 sequences\n",
      "[11:14:21] ✅ 5X8P-j (5x8p_j): FIXED! Was: 'Failed: no A3M found' → Now: Success\n",
      "   → Downloaded 3/3 A3M files\n",
      "   → Sequences: 307 → 307 after stripping\n",
      "   → Diversity filtered: 51 sequences\n",
      "[11:14:22] ✅ 5X8P-q (5x8p_q): FIXED! Was: 'Failed: no A3M found' → Now: Success\n",
      "   → Downloaded 3/3 A3M files\n",
      "   → Sequences: 305 → 305 after stripping\n",
      "   → Diversity filtered: 49 sequences\n",
      "[11:14:24] ✅ 5X8P-b (5mmj_b): FIXED! Was: 'Failed: no A3M found' → Now: Success\n",
      "   → Downloaded 3/3 A3M files\n",
      "   → Sequences: 370 → 370 after stripping\n",
      "   → Diversity filtered: 114 sequences\n",
      "[11:14:24] ✅ 5X8R-t (5x8p_t): FIXED! Was: 'Failed: no A3M found' → Now: Success\n",
      "   → Downloaded 3/3 A3M files\n",
      "   → Sequences: 446 → 446 after stripping\n",
      "   → Diversity filtered: 190 sequences\n",
      "[11:14:24] ✅ 5X8T-0 (5h1s_a): FIXED! Was: 'Failed: no A3M found' → Now: Success\n",
      "   → Downloaded 3/3 A3M files\n",
      "   → Sequences: 285 → 285 after stripping\n",
      "   → Diversity filtered: 29 sequences\n",
      "[11:14:25] ✅ 5X8R-i (5x8p_i): FIXED! Was: 'Failed: no A3M found' → Now: Success\n",
      "   → Downloaded 3/3 A3M files\n",
      "   → Sequences: 374 → 374 after stripping\n",
      "   → Diversity filtered: 118 sequences\n",
      "[11:14:26] ✅ 5XTC-d (5xtc_d): FIXED! Was: 'Failed: no A3M found' → Now: Success\n",
      "   → Downloaded 3/3 A3M files\n",
      "   → Sequences: 398 → 398 after stripping\n",
      "   → Diversity filtered: 142 sequences\n",
      "[11:14:26] ✅ 5X8R-k (5mmj_k): FIXED! Was: 'Failed: no A3M found' → Now: Success\n",
      "   → Downloaded 3/3 A3M files\n",
      "   → Sequences: 361 → 361 after stripping\n",
      "   → Diversity filtered: 105 sequences\n",
      "[11:14:26] ✅ 5X8R-e (5x8p_e): FIXED! Was: 'Failed: no A3M found' → Now: Success\n",
      "   → Downloaded 3/3 A3M files\n",
      "   → Sequences: 754 → 754 after stripping\n",
      "   → Diversity filtered: 498 sequences\n",
      "[11:14:26] ✅ 5XTD-o (5xtc_o): FIXED! Was: 'Failed: no A3M found' → Now: Success\n",
      "   → Downloaded 3/3 A3M files\n",
      "   → Sequences: 367 → 367 after stripping\n",
      "   → Diversity filtered: 111 sequences\n",
      "[11:14:27] ✅ 5XTD-v (5xtd_v): FIXED! Was: 'Failed: no A3M found' → Now: Success\n",
      "   → Downloaded 3/3 A3M files\n",
      "   → Sequences: 296 → 296 after stripping\n",
      "   → Diversity filtered: 40 sequences\n",
      "[11:14:27] ✅ 5XTH-c (5xtc_c): FIXED! Was: 'Failed: no A3M found' → Now: Success\n",
      "   → Downloaded 3/3 A3M files\n",
      "   → Sequences: 368 → 368 after stripping\n",
      "   → Diversity filtered: 112 sequences\n",
      "[11:14:28] ✅ 5XTI-h (5xtc_h): FIXED! Was: 'Failed: no A3M found' → Now: Success\n",
      "   → Downloaded 3/3 A3M files\n",
      "   → Sequences: 293 → 293 after stripping\n",
      "   → Diversity filtered: 37 sequences\n",
      "[11:14:28] ✅ 5XTH-g (5xtc_g): FIXED! Was: 'Failed: no A3M found' → Now: Success\n",
      "   → Downloaded 3/3 A3M files\n",
      "   → Sequences: 278 → 278 after stripping\n",
      "   → Diversity filtered: 22 sequences\n",
      "[11:14:29] ✅ 5XTH-k (5xtc_k): FIXED! Was: 'Failed: no A3M found' → Now: Success\n",
      "   → Downloaded 3/3 A3M files\n",
      "   → Sequences: 369 → 369 after stripping\n",
      "   → Diversity filtered: 113 sequences\n",
      "[11:14:31] ✅ 5XTI-m (5xtc_m): FIXED! Was: 'Failed: no A3M found' → Now: Success\n",
      "   → Downloaded 3/3 A3M files\n",
      "   → Sequences: 329 → 329 after stripping\n",
      "   → Diversity filtered: 73 sequences\n",
      "[11:14:32] ✅ 5XY3-k (5xy3_k): FIXED! Was: 'Failed: no A3M found' → Now: Success\n",
      "   → Downloaded 3/3 A3M files\n",
      "   → Sequences: 272 → 272 after stripping\n",
      "   → Diversity filtered: 16 sequences\n",
      "[11:14:32] ✅ 5XTI-j (5xtc_j): FIXED! Was: 'Failed: no A3M found' → Now: Success\n",
      "   → Downloaded 3/3 A3M files\n",
      "   → Sequences: 306 → 306 after stripping\n",
      "   → Diversity filtered: 50 sequences\n",
      "[11:14:33] ✅ 5YK3-n (5yk3_n): FIXED! Was: 'Failed: no A3M found' → Now: Success\n",
      "   → Downloaded 3/3 A3M files\n",
      "   → Sequences: 263 → 263 after stripping\n",
      "   → Diversity filtered: 7 sequences\n",
      "[11:14:40] ✅ 5XTI-r (5xtc_r): FIXED! Was: 'Failed: no A3M found' → Now: Success\n",
      "   → Downloaded 3/3 A3M files\n",
      "   → Sequences: 976 → 976 after stripping\n",
      "   → Diversity filtered: 720 sequences\n",
      "[11:14:40] ✅ 5YZG-w (5xjc_w): FIXED! Was: 'Failed: no A3M found' → Now: Success\n",
      "   → Downloaded 3/3 A3M files\n",
      "   → Sequences: 1129 → 1129 after stripping\n",
      "   → Diversity filtered: 873 sequences\n",
      "[11:14:41] ✅ 5XTC-l (5xtc_l): FIXED! Was: 'Failed: no A3M found' → Now: Success\n",
      "   → Downloaded 3/3 A3M files\n",
      "   → Sequences: 1401 → 1401 after stripping\n",
      "   → Diversity filtered: 1145 sequences\n",
      "[11:14:43] ✅ 5ZZ8-h (5zap_f): FIXED! Was: 'Failed: no A3M found' → Now: Success\n",
      "   → Downloaded 3/3 A3M files\n",
      "   → Sequences: 36 → 36 after stripping\n",
      "[11:14:43] ✅ 5Y6P-dy (5y6p_dy): FIXED! Was: 'Failed: no A3M found' → Now: Success\n",
      "   → Downloaded 3/3 A3M files\n",
      "   → Sequences: 1221 → 1221 after stripping\n",
      "   → Diversity filtered: 965 sequences\n",
      "[11:14:44] ✅ 5ZZ8-q (5zz8_q): FIXED! Was: 'Failed: no A3M found' → Now: Success\n",
      "   → Downloaded 3/3 A3M files\n",
      "   → Sequences: 104 → 104 after stripping\n",
      "[11:14:44] ✅ 5Y6P-a2 (5y6p_a2): FIXED! Was: 'Failed: no A3M found' → Now: Success\n",
      "   → Downloaded 3/3 A3M files\n",
      "   → Sequences: 1432 → 1432 after stripping\n",
      "   → Diversity filtered: 1176 sequences\n",
      "[11:14:44] ✅ 5ZZ8-r (5zz8_r): FIXED! Was: 'Failed: no A3M found' → Now: Success\n",
      "   → Downloaded 3/3 A3M files\n",
      "   → Sequences: 134 → 134 after stripping\n",
      "[11:14:45] ✅ 5ZEB-1 (5o60_a): FIXED! Was: 'Failed: no A3M found' → Now: Success\n",
      "   → Downloaded 3/3 A3M files\n",
      "   → Sequences: 280 → 280 after stripping\n",
      "   → Diversity filtered: 24 sequences\n",
      "[11:14:46] ✅ 5XTI-i (5xtc_i): FIXED! Was: 'Failed: no A3M found' → Now: Success\n",
      "   → Downloaded 3/3 A3M files\n",
      "   → Sequences: 639 → 639 after stripping\n",
      "   → Diversity filtered: 383 sequences\n",
      "[11:14:47] ✅ 6AZ1-d (6az1_d): FIXED! Was: 'Failed: no A3M found' → Now: Success\n",
      "   → Downloaded 3/3 A3M files\n",
      "   → Sequences: 280 → 280 after stripping\n",
      "   → Diversity filtered: 24 sequences\n",
      "[11:14:47] ✅ 6AZ3-g (6az3_g): FIXED! Was: 'Failed: no A3M found' → Now: Success\n",
      "   → Downloaded 3/3 A3M files\n",
      "   → Sequences: 300 → 300 after stripping\n",
      "   → Diversity filtered: 44 sequences\n",
      "[11:14:48] ✅ 6C0F-w (6c0f_w): FIXED! Was: 'Failed: no A3M found' → Now: Success\n",
      "   → Downloaded 3/3 A3M files\n",
      "   → Sequences: 552 → 552 after stripping\n",
      "   → Diversity filtered: 296 sequences\n",
      "[11:14:48] ✅ 5ZEP-x (5zep_x): FIXED! Was: 'Failed: no A3M found' → Now: Success\n",
      "   → Downloaded 3/3 A3M files\n",
      "   → Sequences: 538 → 538 after stripping\n",
      "   → Diversity filtered: 282 sequences\n",
      "[11:14:49] ✅ 6CGR-k (6cgr_k): FIXED! Was: 'Failed: no A3M found' → Now: Success\n",
      "   → Downloaded 3/3 A3M files\n",
      "   → Sequences: 76 → 76 after stripping\n",
      "[11:14:49] ✅ 6CGR-l (6cgr_l): FIXED! Was: 'Failed: no A3M found' → Now: Success\n",
      "   → Downloaded 3/3 A3M files\n",
      "   → Sequences: 134 → 134 after stripping\n",
      "[11:14:49] ✅ 6AH0-w (5z56_w): FIXED! Was: 'Failed: no A3M found' → Now: Success\n",
      "   → Downloaded 3/3 A3M files\n",
      "   → Sequences: 670 → 670 after stripping\n",
      "   → Diversity filtered: 414 sequences\n",
      "[11:14:49] ✅ 6AHD-v (5z56_v): FIXED! Was: 'Failed: no A3M found' → Now: Success\n",
      "   → Downloaded 3/3 A3M files\n",
      "   → Sequences: 1096 → 1096 after stripping\n",
      "   → Diversity filtered: 840 sequences\n",
      "[11:14:51] ✅ 6ELZ-l (6elz_l): FIXED! Was: 'Failed: no A3M found' → Now: Success\n",
      "   → Downloaded 3/3 A3M files\n",
      "   → Sequences: 413 → 413 after stripping\n",
      "   → Diversity filtered: 157 sequences\n",
      "[11:14:52] ✅ 6D9J-t (6d90_t): FIXED! Was: 'Failed: no A3M found' → Now: Success\n",
      "   → Downloaded 3/3 A3M files\n",
      "   → Sequences: 430 → 430 after stripping\n",
      "   → Diversity filtered: 174 sequences\n",
      "[11:14:53] ✅ 6ELZ-z (3jct_z): FIXED! Was: 'Failed: no A3M found' → Now: Success\n",
      "   → Downloaded 3/3 A3M files\n",
      "   → Sequences: 389 → 389 after stripping\n",
      "   → Diversity filtered: 133 sequences\n",
      "[11:14:53] ✅ 6CB1-t (6cb1_t): FIXED! Was: 'Failed: no A3M found' → Now: Success\n",
      "   → Downloaded 3/3 A3M files\n",
      "   → Sequences: 617 → 617 after stripping\n",
      "   → Diversity filtered: 361 sequences\n",
      "   → Found bfd_uniclust_hits.a3m using case variant #3: pdb/6eri_Ad/a3m/bfd_uniclust_hits.a3m\n",
      "   → Found mgnify_hits.a3m using case variant #3: pdb/6eri_Ad/a3m/mgnify_hits.a3m\n",
      "   → Found uniref90_hits.a3m using case variant #3: pdb/6eri_Ad/a3m/uniref90_hits.a3m\n",
      "[11:14:55] ✅ 6EM1-t (3jct_t): FIXED! Was: 'Failed: no A3M found' → Now: Success\n",
      "   → Downloaded 3/3 A3M files\n",
      "   → Sequences: 685 → 685 after stripping\n",
      "   → Diversity filtered: 429 sequences\n",
      "[11:14:55] ✅ 6D9J-s (6d90_s): FIXED! Was: 'Failed: no A3M found' → Now: Success\n",
      "   → Downloaded 3/3 A3M files\n",
      "   → Sequences: 626 → 626 after stripping\n",
      "   → Diversity filtered: 370 sequences\n",
      "[11:14:57] ✅ 6ERI-Ad (6eri_Ad): FIXED! Was: 'Failed: no A3M found' → Now: Success\n",
      "   → Downloaded 3/3 A3M files\n",
      "   → Sequences: 267 → 267 after stripping\n",
      "   → Diversity filtered: 11 sequences\n",
      "[11:14:58] ✅ 6F38-a (6f38_a): FIXED! Was: 'Failed: no A3M found' → Now: Success\n",
      "   → Downloaded 3/3 A3M files\n",
      "   → Sequences: 274 → 274 after stripping\n",
      "   → Diversity filtered: 18 sequences\n",
      "[11:14:59] ✅ 6F1Y-j (6f1y_j): FIXED! Was: 'Failed: no A3M found' → Now: Success\n",
      "   → Downloaded 3/3 A3M files\n",
      "   → Sequences: 794 → 794 after stripping\n",
      "   → Diversity filtered: 538 sequences\n",
      "[11:15:02] ✅ 6F38-b (6f38_b): FIXED! Was: 'Failed: no A3M found' → Now: Success\n",
      "   → Downloaded 3/3 A3M files\n",
      "   → Sequences: 283 → 283 after stripping\n",
      "   → Diversity filtered: 27 sequences\n",
      "[11:15:03] ✅ 6F1T-i (6f1t_i): FIXED! Was: 'Failed: no A3M found' → Now: Success\n",
      "   → Downloaded 3/3 A3M files\n",
      "   → Sequences: 1134 → 1134 after stripping\n",
      "   → Diversity filtered: 878 sequences\n",
      "[11:15:04] ✅ 6FAI-j (6fai_j): FIXED! Was: 'Failed: no A3M found' → Now: Success\n",
      "   → Downloaded 3/3 A3M files\n",
      "   → Sequences: 669 → 669 after stripping\n",
      "   → Diversity filtered: 413 sequences\n",
      "[11:15:04] ✅ 6CB1-s (6cb1_s): FIXED! Was: 'Failed: no A3M found' → Now: Success\n",
      "   → Downloaded 3/3 A3M files\n",
      "   → Sequences: 2308 → 2308 after stripping\n",
      "   → Diversity filtered: 2052 sequences\n",
      "[11:15:05] ✅ 6FF7-w (6ff7_w): FIXED! Was: 'Failed: no A3M found' → Now: Success\n",
      "   → Downloaded 3/3 A3M files\n",
      "   → Sequences: 493 → 493 after stripping\n",
      "   → Diversity filtered: 237 sequences\n",
      "[11:15:06] ✅ 6ELZ-p (6elz_p): FIXED! Was: 'Failed: no A3M found' → Now: Success\n",
      "   → Downloaded 3/3 A3M files\n",
      "   → Sequences: 2534 → 2534 after stripping\n",
      "   → Diversity filtered: 2278 sequences\n",
      "[11:15:08] ✅ 6FKI-p (6fkf_p): FIXED! Was: 'Failed: no A3M found' → Now: Success\n",
      "   → Downloaded 3/3 A3M files\n",
      "   → Sequences: 668 → 668 after stripping\n",
      "   → Diversity filtered: 412 sequences\n",
      "[11:15:09] ✅ 6FRK-z (6frk_z): FIXED! Was: 'Failed: no A3M found' → Now: Success\n",
      "   → Downloaded 3/3 A3M files\n",
      "   → Sequences: 275 → 275 after stripping\n",
      "   → Diversity filtered: 19 sequences\n",
      "[11:15:09] ✅ 6FRK-r (6frk_r): FIXED! Was: 'Failed: no A3M found' → Now: Success\n",
      "   → Downloaded 2/3 A3M files\n",
      "   → Sequences: 642 → 642 after stripping\n",
      "   → Diversity filtered: 386 sequences\n",
      "   → Found bfd_uniclust_hits.a3m using case variant #3: pdb/6fxc_Ab/a3m/bfd_uniclust_hits.a3m\n",
      "   → Found mgnify_hits.a3m using case variant #3: pdb/6fxc_Ab/a3m/mgnify_hits.a3m\n",
      "[11:15:11] ✅ 6FKI-d (6fkf_d): FIXED! Was: 'Failed: no A3M found' → Now: Success\n",
      "   → Downloaded 3/3 A3M files\n",
      "   → Sequences: 902 → 902 after stripping\n",
      "   → Diversity filtered: 646 sequences\n",
      "[11:15:11] ✅ 6FKH-a (6fkf_a): FIXED! Was: 'Failed: no A3M found' → Now: Success\n",
      "   → Downloaded 3/3 A3M files\n",
      "   → Sequences: 663 → 663 after stripping\n",
      "   → Diversity filtered: 407 sequences\n",
      "   → Found uniref90_hits.a3m using case variant #3: pdb/6fxc_Ab/a3m/uniref90_hits.a3m\n",
      "[11:15:12] ✅ 6FT6-r (3jct_r): FIXED! Was: 'Failed: no A3M found' → Now: Success\n",
      "   → Downloaded 3/3 A3M files\n",
      "   → Sequences: 570 → 570 after stripping\n",
      "   → Diversity filtered: 314 sequences\n",
      "[11:15:15] ✅ 6FKI-g (6fkf_g): FIXED! Was: 'Failed: no A3M found' → Now: Success\n",
      "   → Downloaded 3/3 A3M files\n",
      "   → Sequences: 625 → 625 after stripping\n",
      "   → Diversity filtered: 369 sequences\n",
      "[11:15:15] ✅ 6FXC-Ab (6fxc_Ab): FIXED! Was: 'Failed: no A3M found' → Now: Success\n",
      "   → Downloaded 3/3 A3M files\n",
      "   → Sequences: 326 → 326 after stripping\n",
      "   → Diversity filtered: 70 sequences\n",
      "[11:15:17] ✅ 6G18-t (6g18_t): FIXED! Was: 'Failed: no A3M found' → Now: Success\n",
      "   → Downloaded 3/3 A3M files\n",
      "   → Sequences: 598 → 598 after stripping\n",
      "   → Diversity filtered: 342 sequences\n",
      "[11:15:17] ✅ 6FYX-q (6fyx_q): FIXED! Was: 'Failed: no A3M found' → Now: Success\n",
      "   → Downloaded 3/3 A3M files\n",
      "   → Sequences: 1081 → 1081 after stripping\n",
      "   → Diversity filtered: 825 sequences\n",
      "[11:15:19] ✅ 6FYY-r (6fyx_r): FIXED! Was: 'Failed: no A3M found' → Now: Success\n",
      "   → Downloaded 3/3 A3M files\n",
      "   → Sequences: 1279 → 1279 after stripping\n",
      "   → Diversity filtered: 1023 sequences\n",
      "[11:15:19] ✅ 6G18-w (6g18_w): FIXED! Was: 'Failed: no A3M found' → Now: Success\n",
      "   → Downloaded 3/3 A3M files\n",
      "   → Sequences: 566 → 566 after stripping\n",
      "   → Diversity filtered: 310 sequences\n",
      "[11:15:20] ✅ 6G18-x (6g18_x): FIXED! Was: 'Failed: no A3M found' → Now: Success\n",
      "   → Downloaded 3/3 A3M files\n",
      "   → Sequences: 656 → 656 after stripping\n",
      "   → Diversity filtered: 400 sequences\n",
      "   → Found bfd_uniclust_hits.a3m using case variant #3: pdb/6gaw_Ag/a3m/bfd_uniclust_hits.a3m\n",
      "   → Found bfd_uniclust_hits.a3m using case variant #3: pdb/6gaw_Ah/a3m/bfd_uniclust_hits.a3m\n",
      "   → Found mgnify_hits.a3m using case variant #3: pdb/6gaw_Ag/a3m/mgnify_hits.a3m\n",
      "   → Found mgnify_hits.a3m using case variant #3: pdb/6gaw_Ah/a3m/mgnify_hits.a3m\n",
      "   → Found uniref90_hits.a3m using case variant #3: pdb/6gaw_Ag/a3m/uniref90_hits.a3m\n",
      "   → Found uniref90_hits.a3m using case variant #3: pdb/6gaw_Ah/a3m/uniref90_hits.a3m\n",
      "[11:15:23] ✅ 6GAW-Ah (6gaw_Ah): FIXED! Was: 'Failed: no A3M found' → Now: Success\n",
      "   → Downloaded 3/3 A3M files\n",
      "   → Sequences: 664 → 664 after stripping\n",
      "   → Diversity filtered: 408 sequences\n",
      "[11:15:23] ✅ 6F1U-h (6f1t_g): FIXED! Was: 'Failed: no A3M found' → Now: Success\n",
      "   → Downloaded 3/3 A3M files\n",
      "   → Sequences: 3741 → 3741 after stripping\n",
      "   → Diversity filtered: 3485 sequences\n",
      "   → Found bfd_uniclust_hits.a3m using case variant #3: pdb/6gaw_Bv/a3m/bfd_uniclust_hits.a3m\n",
      "   → Found bfd_uniclust_hits.a3m using case variant #3: pdb/6gaw_Aa/a3m/bfd_uniclust_hits.a3m\n",
      "[11:15:24] ✅ 6GAW-Ag (6gaw_Ag): FIXED! Was: 'Failed: no A3M found' → Now: Success\n",
      "   → Downloaded 3/3 A3M files\n",
      "   → Sequences: 938 → 938 after stripping\n",
      "   → Diversity filtered: 682 sequences\n",
      "   → Found mgnify_hits.a3m using case variant #3: pdb/6gaw_Bv/a3m/mgnify_hits.a3m\n",
      "   → Found mgnify_hits.a3m using case variant #3: pdb/6gaw_Aa/a3m/mgnify_hits.a3m\n",
      "   → Found uniref90_hits.a3m using case variant #3: pdb/6gaw_Aa/a3m/uniref90_hits.a3m\n",
      "   → Found uniref90_hits.a3m using case variant #3: pdb/6gaw_Bv/a3m/uniref90_hits.a3m\n",
      "[11:15:26] ✅ 6GAZ-Aa (6gaw_Aa): FIXED! Was: 'Failed: no A3M found' → Now: Success\n",
      "   → Downloaded 3/3 A3M files\n",
      "   → Sequences: 493 → 493 after stripping\n",
      "   → Diversity filtered: 237 sequences\n",
      "[11:15:26] ✅ 6GAW-Bv (6gaw_Bv): FIXED! Was: 'Failed: no A3M found' → Now: Success\n",
      "   → Downloaded 3/3 A3M files\n",
      "   → Sequences: 482 → 482 after stripping\n",
      "   → Diversity filtered: 226 sequences\n",
      "   → Found bfd_uniclust_hits.a3m using case variant #3: pdb/6gaw_Ao/a3m/bfd_uniclust_hits.a3m\n",
      "   → Found bfd_uniclust_hits.a3m using case variant #3: pdb/6gaw_Bn/a3m/bfd_uniclust_hits.a3m\n",
      "   → Found mgnify_hits.a3m using case variant #3: pdb/6gaw_Ao/a3m/mgnify_hits.a3m\n",
      "   → Found mgnify_hits.a3m using case variant #3: pdb/6gaw_Bn/a3m/mgnify_hits.a3m\n",
      "[11:15:28] ✅ 6G4S-u (6g18_u): FIXED! Was: 'Failed: no A3M found' → Now: Success\n",
      "   → Downloaded 3/3 A3M files\n",
      "   → Sequences: 884 → 884 after stripping\n",
      "   → Diversity filtered: 628 sequences\n",
      "   → Found uniref90_hits.a3m using case variant #3: pdb/6gaw_Bn/a3m/uniref90_hits.a3m\n",
      "[11:15:29] ✅ 6GAW-Bm (4v1a_m): FIXED! Was: 'Failed: no A3M found' → Now: Success\n",
      "   → Downloaded 3/3 A3M files\n",
      "   → Sequences: 484 → 484 after stripping\n",
      "   → Diversity filtered: 228 sequences\n",
      "   → Found bfd_uniclust_hits.a3m using case variant #3: pdb/6gaz_Ae/a3m/bfd_uniclust_hits.a3m\n",
      "   → Found uniref90_hits.a3m using case variant #3: pdb/6gaw_Ao/a3m/uniref90_hits.a3m\n",
      "[11:15:29] ✅ 6GAW-Bn (6gaw_Bn): FIXED! Was: 'Failed: no A3M found' → Now: Success\n",
      "   → Downloaded 3/3 A3M files\n",
      "   → Sequences: 311 → 311 after stripping\n",
      "   → Diversity filtered: 55 sequences\n",
      "   → Found mgnify_hits.a3m using case variant #3: pdb/6gaz_Ae/a3m/mgnify_hits.a3m\n",
      "   → Found uniref90_hits.a3m using case variant #3: pdb/6gaz_Ae/a3m/uniref90_hits.a3m\n",
      "[11:15:30] ✅ 6G18-v (6g18_v): FIXED! Was: 'Failed: no A3M found' → Now: Success\n",
      "   → Downloaded 3/3 A3M files\n",
      "   → Sequences: 2187 → 2187 after stripping\n",
      "   → Diversity filtered: 1931 sequences\n",
      "[11:15:30] ✅ 6GAW-Am (5aj3_m): FIXED! Was: 'Failed: no A3M found' → Now: Success\n",
      "   → Downloaded 3/3 A3M files\n",
      "   → Sequences: 271 → 271 after stripping\n",
      "   → Diversity filtered: 15 sequences\n",
      "[11:15:32] ✅ 6GAZ-Ad (5aj3_d): FIXED! Was: 'Failed: no A3M found' → Now: Success\n",
      "   → Downloaded 3/3 A3M files\n",
      "   → Sequences: 362 → 362 after stripping\n",
      "   → Diversity filtered: 106 sequences\n",
      "[11:15:32] ✅ 6GAZ-Ae (6gaz_Ae): FIXED! Was: 'Failed: no A3M found' → Now: Success\n",
      "   → Downloaded 3/3 A3M files\n",
      "   → Sequences: 674 → 674 after stripping\n",
      "   → Diversity filtered: 418 sequences\n",
      "[11:15:33] ✅ 6GB2-Be (4v1a_e): FIXED! Was: 'Failed: no A3M found' → Now: Success\n",
      "   → Downloaded 3/3 A3M files\n",
      "   → Sequences: 383 → 383 after stripping\n",
      "   → Diversity filtered: 127 sequences\n",
      "[11:15:34] ✅ 6GAW-Bb (4ce4_b): FIXED! Was: 'Failed: no A3M found' → Now: Success\n",
      "   → Downloaded 3/3 A3M files\n",
      "   → Sequences: 1196 → 1196 after stripping\n",
      "   → Diversity filtered: 940 sequences\n",
      "[11:15:35] ✅ 6GB2-Bk (4v1a_k): FIXED! Was: 'Failed: no A3M found' → Now: Success\n",
      "   → Downloaded 3/3 A3M files\n",
      "   → Sequences: 630 → 630 after stripping\n",
      "   → Diversity filtered: 374 sequences\n",
      "[11:15:35] ✅ 6G5I-z (6g5i_z): FIXED! Was: 'Failed: no A3M found' → Now: Success\n",
      "   → Downloaded 3/3 A3M files\n",
      "   → Sequences: 2006 → 2006 after stripping\n",
      "   → Diversity filtered: 1750 sequences\n",
      "   → Found bfd_uniclust_hits.a3m using case variant #3: pdb/6gaw_Bw/a3m/bfd_uniclust_hits.a3m\n",
      "[11:15:35] ✅ 6GB2-Bq (4v1a_q): FIXED! Was: 'Failed: no A3M found' → Now: Success\n",
      "   → Downloaded 3/3 A3M files\n",
      "   → Sequences: 416 → 416 after stripping\n",
      "   → Diversity filtered: 160 sequences\n",
      "   → Found mgnify_hits.a3m using case variant #3: pdb/6gaw_Bw/a3m/mgnify_hits.a3m\n",
      "[11:15:36] ✅ 6GB2-Bt (4v1a_t): FIXED! Was: 'Failed: no A3M found' → Now: Success\n",
      "   → Downloaded 3/3 A3M files\n",
      "   → Sequences: 273 → 273 after stripping\n",
      "   → Diversity filtered: 17 sequences\n",
      "[11:15:36] ✅ 6GB2-Bh (4v1a_h): FIXED! Was: 'Failed: no A3M found' → Now: Success\n",
      "   → Downloaded 3/3 A3M files\n",
      "   → Sequences: 864 → 864 after stripping\n",
      "   → Diversity filtered: 608 sequences\n",
      "   → Found uniref90_hits.a3m using case variant #3: pdb/6gaw_Bw/a3m/uniref90_hits.a3m\n",
      "[11:15:38] ✅ 6GB2-Bw (6gaw_Bw): FIXED! Was: 'Failed: no A3M found' → Now: Success\n",
      "   → Downloaded 3/3 A3M files\n",
      "   → Sequences: 628 → 628 after stripping\n",
      "   → Diversity filtered: 372 sequences\n",
      "[11:15:39] ✅ 6HCJ-a3 (5lzs_a): FIXED! Was: 'Failed: no A3M found' → Now: Success\n",
      "   → Downloaded 3/3 A3M files\n",
      "   → Sequences: 519 → 519 after stripping\n",
      "   → Diversity filtered: 263 sequences\n",
      "[11:15:39] ✅ 6GZ5-AK (3j7p_q): FIXED! Was: 'Failed: no A3M found' → Now: Success\n",
      "   → Downloaded 3/3 A3M files\n",
      "   → Sequences: 506 → 506 after stripping\n",
      "   → Diversity filtered: 250 sequences\n",
      "   → Found bfd_uniclust_hits.a3m using case variant #3: pdb/6hiv_Ca/a3m/bfd_uniclust_hits.a3m\n",
      "   → Found bfd_uniclust_hits.a3m using case variant #3: pdb/6hiv_Al/a3m/bfd_uniclust_hits.a3m\n",
      "   → Found mgnify_hits.a3m using case variant #3: pdb/6hiv_Al/a3m/mgnify_hits.a3m\n",
      "   → Found mgnify_hits.a3m using case variant #3: pdb/6hiv_Ca/a3m/mgnify_hits.a3m\n",
      "[11:15:41] ✅ 6HCF-u3 (3j7r_z): FIXED! Was: 'Failed: no A3M found' → Now: Success\n",
      "   → Downloaded 3/3 A3M files\n",
      "   → Sequences: 401 → 401 after stripping\n",
      "   → Diversity filtered: 145 sequences\n",
      "[11:15:41] ✅ 6GXO-v (6gwt_v): FIXED! Was: 'Failed: no A3M found' → Now: Success\n",
      "   → Downloaded 3/3 A3M files\n",
      "   → Sequences: 498 → 498 after stripping\n",
      "   → Diversity filtered: 242 sequences\n",
      "   → Found uniref90_hits.a3m using case variant #3: pdb/6hiv_Al/a3m/uniref90_hits.a3m\n",
      "   → Found uniref90_hits.a3m using case variant #3: pdb/6hiv_Ca/a3m/uniref90_hits.a3m\n",
      "   → Found bfd_uniclust_hits.a3m using case variant #3: pdb/6hiv_Cd/a3m/bfd_uniclust_hits.a3m\n",
      "   → Found bfd_uniclust_hits.a3m using case variant #3: pdb/6hiw_Cb/a3m/bfd_uniclust_hits.a3m\n",
      "[11:15:42] ✅ 6HIV-Ca (6hiv_Ca): FIXED! Was: 'Failed: no A3M found' → Now: Success\n",
      "   → Downloaded 3/3 A3M files\n",
      "   → Sequences: 22 → 22 after stripping\n",
      "   → Found mgnify_hits.a3m using case variant #3: pdb/6hiv_Cd/a3m/mgnify_hits.a3m\n",
      "   → Found mgnify_hits.a3m using case variant #3: pdb/6hiw_Cb/a3m/mgnify_hits.a3m\n",
      "[11:15:42] ✅ 6HIV-Al (6hiv_Al): FIXED! Was: 'Failed: no A3M found' → Now: Success\n",
      "   → Downloaded 3/3 A3M files\n",
      "   → Sequences: 591 → 591 after stripping\n",
      "   → Diversity filtered: 335 sequences\n",
      "   → Found uniref90_hits.a3m using case variant #3: pdb/6hiv_Cd/a3m/uniref90_hits.a3m\n",
      "   → Found bfd_uniclust_hits.a3m using case variant #3: pdb/6hiv_Ag/a3m/bfd_uniclust_hits.a3m\n",
      "   → Found uniref90_hits.a3m using case variant #3: pdb/6hiw_Cb/a3m/uniref90_hits.a3m\n",
      "[11:15:43] ✅ 6HIV-Cd (6hiv_Cd): FIXED! Was: 'Failed: no A3M found' → Now: Success\n",
      "   → Downloaded 3/3 A3M files\n",
      "   → Sequences: 22 → 22 after stripping\n",
      "   → Found bfd_uniclust_hits.a3m using case variant #3: pdb/6hiv_Cg/a3m/bfd_uniclust_hits.a3m\n",
      "[11:15:43] ✅ 6HIW-Cb (6hiw_Cb): FIXED! Was: 'Failed: no A3M found' → Now: Success\n",
      "   → Downloaded 3/3 A3M files\n",
      "   → Sequences: 26 → 26 after stripping\n",
      "   → Found mgnify_hits.a3m using case variant #3: pdb/6hiv_Ag/a3m/mgnify_hits.a3m\n",
      "   → Found mgnify_hits.a3m using case variant #3: pdb/6hiv_Cg/a3m/mgnify_hits.a3m\n",
      "   → Found uniref90_hits.a3m using case variant #3: pdb/6hiv_Ag/a3m/uniref90_hits.a3m\n",
      "   → Found uniref90_hits.a3m using case variant #3: pdb/6hiv_Cg/a3m/uniref90_hits.a3m\n",
      "[11:15:45] ✅ 6HU9-e (6hu9_e): FIXED! Was: 'Failed: no A3M found' → Now: Success\n",
      "   → Downloaded 3/3 A3M files\n",
      "   → Sequences: 300 → 300 after stripping\n",
      "   → Diversity filtered: 44 sequences\n",
      "[11:15:45] ✅ 6HU9-d (6hu9_d): FIXED! Was: 'Failed: no A3M found' → Now: Success\n",
      "   → Downloaded 3/3 A3M files\n",
      "   → Sequences: 334 → 334 after stripping\n",
      "   → Diversity filtered: 78 sequences\n",
      "[11:15:45] ✅ 6HIX-Ag (6hiv_Ag): FIXED! Was: 'Failed: no A3M found' → Now: Success\n",
      "   → Downloaded 3/3 A3M files\n",
      "   → Sequences: 499 → 499 after stripping\n",
      "   → Diversity filtered: 243 sequences\n",
      "[11:15:45] ✅ 6GAW-Ao (6gaw_Ao): FIXED! Was: 'Failed: no A3M found' → Now: Success\n",
      "   → Downloaded 3/3 A3M files\n",
      "   → Sequences: 2611 → 2611 after stripping\n",
      "   → Diversity filtered: 2355 sequences\n",
      "[11:15:46] ✅ 6HU9-l (6hu9_l): FIXED! Was: 'Failed: no A3M found' → Now: Success\n",
      "   → Downloaded 3/3 A3M files\n",
      "   → Sequences: 46 → 46 after stripping\n",
      "[11:15:46] ✅ 6HIZ-Cg (6hiv_Cg): FIXED! Was: 'Failed: no A3M found' → Now: Success\n",
      "   → Downloaded 3/3 A3M files\n",
      "   → Sequences: 685 → 685 after stripping\n",
      "   → Diversity filtered: 429 sequences\n",
      "[11:15:47] ✅ 6ICZ-v (5xjc_v): FIXED! Was: 'Failed: no A3M found' → Now: Success\n",
      "   → Downloaded 3/3 A3M files\n",
      "   → Sequences: 334 → 334 after stripping\n",
      "   → Diversity filtered: 78 sequences\n",
      "[11:15:47] ✅ 6MDR-a (6mdr_a): FIXED! Was: 'Failed: no A3M found' → Now: Success\n",
      "   → Downloaded 3/3 A3M files\n",
      "   → Sequences: 546 → 546 after stripping\n",
      "   → Diversity filtered: 290 sequences\n",
      "[11:15:48] ✅ 6NCL-a7 (6ncl_a7): FIXED! Was: 'Failed: no A3M found' → Now: Success\n",
      "   → Downloaded 3/3 A3M files\n",
      "   → Sequences: 32 → 32 after stripping\n",
      "[11:15:49] ✅ 6NCL-a1 (6ncl_a1): FIXED! Was: 'Failed: no A3M found' → Now: Success\n",
      "   → Downloaded 3/3 A3M files\n",
      "   → Sequences: 362 → 362 after stripping\n",
      "   → Diversity filtered: 106 sequences\n",
      "[11:15:50] ✅ 6NCL-l4 (6ncl_l4): FIXED! Was: 'Failed: no A3M found' → Now: Success\n",
      "   → Downloaded 3/3 A3M files\n",
      "   → Sequences: 24 → 24 after stripping\n",
      "[11:15:52] ✅ 6N2Z-b1 (6n2y_b1): FIXED! Was: 'Failed: no A3M found' → Now: Success\n",
      "   → Downloaded 3/3 A3M files\n",
      "   → Sequences: 313 → 313 after stripping\n",
      "   → Diversity filtered: 57 sequences\n",
      "[11:15:52] ✅ 6NCL-a4 (6ncl_a4): FIXED! Was: 'Failed: no A3M found' → Now: Success\n",
      "   → Downloaded 3/3 A3M files\n",
      "   → Sequences: 73 → 73 after stripping\n",
      "[11:15:52] ✅ 6ICZ-o (5xjc_o): FIXED! Was: 'Failed: no A3M found' → Now: Success\n",
      "   → Downloaded 3/3 A3M files\n",
      "   → Sequences: 971 → 971 after stripping\n",
      "   → Diversity filtered: 715 sequences\n",
      "[11:15:53] ✅ 6NEQ-d (3jd5_d): FIXED! Was: 'Failed: no A3M found' → Now: Success\n",
      "   → Downloaded 3/3 A3M files\n",
      "   → Sequences: 347 → 347 after stripping\n",
      "   → Diversity filtered: 91 sequences\n",
      "[11:15:54] ✅ 6HCM-k1 (5lzv_jj): FIXED! Was: 'Failed: no A3M found' → Now: Success\n",
      "   → Downloaded 3/3 A3M files\n",
      "   → Sequences: 1861 → 1861 after stripping\n",
      "   → Diversity filtered: 1605 sequences\n",
      "[11:15:55] ✅ 6NEQ-m (3jd5_m): FIXED! Was: 'Failed: no A3M found' → Now: Success\n",
      "   → Downloaded 3/3 A3M files\n",
      "   → Sequences: 286 → 286 after stripping\n",
      "   → Diversity filtered: 30 sequences\n",
      "[11:15:55] ✅ 6NEQ-h (3jd5_h): FIXED! Was: 'Failed: no A3M found' → Now: Success\n",
      "   → Downloaded 3/3 A3M files\n",
      "   → Sequences: 666 → 666 after stripping\n",
      "   → Diversity filtered: 410 sequences\n",
      "[11:15:56] ✅ 6NEQ-g (6neq_g): FIXED! Was: 'Failed: no A3M found' → Now: Success\n",
      "   → Downloaded 3/3 A3M files\n",
      "   → Sequences: 719 → 719 after stripping\n",
      "   → Diversity filtered: 463 sequences\n",
      "[11:15:56] ✅ 6NF8-a (3jd5_a): FIXED! Was: 'Failed: no A3M found' → Now: Success\n",
      "   → Downloaded 3/3 A3M files\n",
      "   → Sequences: 512 → 512 after stripping\n",
      "   → Diversity filtered: 256 sequences\n",
      "[11:15:57] ✅ 6NCL-a0 (6ncl_a0): FIXED! Was: 'Failed: no A3M found' → Now: Success\n",
      "   → Downloaded 3/3 A3M files\n",
      "   → Sequences: 1465 → 1465 after stripping\n",
      "   → Diversity filtered: 1209 sequences\n",
      "[11:15:58] ✅ 6NU3-b (5ool_b): FIXED! Was: 'Failed: no A3M found' → Now: Success\n",
      "   → Downloaded 3/3 A3M files\n",
      "   → Sequences: 505 → 505 after stripping\n",
      "   → Diversity filtered: 249 sequences\n",
      "[11:15:58] ✅ 6NF8-z (6neq_z): FIXED! Was: 'Failed: no A3M found' → Now: Success\n",
      "   → Downloaded 3/3 A3M files\n",
      "   → Sequences: 534 → 534 after stripping\n",
      "   → Diversity filtered: 278 sequences\n",
      "[11:15:59] ✅ 6NU3-g (3j7y_g): FIXED! Was: 'Failed: no A3M found' → Now: Success\n",
      "   → Downloaded 3/3 A3M files\n",
      "   → Sequences: 472 → 472 after stripping\n",
      "   → Diversity filtered: 216 sequences\n",
      "[11:15:59] ✅ 6NU3-c (3j7y_c): FIXED! Was: 'Failed: no A3M found' → Now: Success\n",
      "   → Downloaded 3/3 A3M files\n",
      "   → Sequences: 871 → 871 after stripping\n",
      "   → Diversity filtered: 615 sequences\n",
      "[11:16:00] ✅ 6QDV-e (6qdv_e): FIXED! Was: 'Failed: no A3M found' → Now: Success\n",
      "   → Downloaded 3/3 A3M files\n",
      "   → Sequences: 319 → 319 after stripping\n",
      "   → Diversity filtered: 63 sequences\n",
      "[11:16:03] ✅ 6MTD-v (6mtd_v): FIXED! Was: 'Failed: no A3M found' → Now: Success\n",
      "   → Downloaded 3/3 A3M files\n",
      "   → Sequences: 1072 → 1072 after stripping\n",
      "   → Diversity filtered: 816 sequences\n",
      "[11:16:09] ✅ 6QDV-o (6qdv_o): FIXED! Was: 'Failed: no A3M found' → Now: Success\n",
      "   → Downloaded 2/3 A3M files\n",
      "   → Sequences: 1055 → 1055 after stripping\n",
      "   → Diversity filtered: 799 sequences\n",
      "[11:16:14] ✅ 6Q8Y-z (6q8y_z): FIXED! Was: 'Failed: no A3M found' → Now: Success\n",
      "   → Downloaded 3/3 A3M files\n",
      "   → Sequences: 1179 → 1179 after stripping\n",
      "   → Diversity filtered: 923 sequences\n",
      "================================================================================\n",
      "\n",
      "📝 Updating TSV file...\n",
      "   Backed up to: C:\\Users\\rfrjo\\Documents\\Codebases\\PFP_Testing\\data\\protein_matching_results_counts_updated.tsv.bak\n",
      "   Updated TSV saved!\n",
      "\n",
      "📊 Summary:\n",
      "   Total retried: 327\n",
      "   Now successful: 318\n",
      "   Still failed: 9\n",
      "   Success rate: 97.2%\n",
      "\n",
      "⚠️  Remaining failures:\n",
      "     4 proteins: Failed: [WinError 183] Cannot create a file when that file already exists: 'C:\\\\Users\\\\rfrjo\\\\Documents\\\\Cod\n",
      "     3 proteins: Failed: only 1 rows after stripping\n",
      "     2 proteins: Failed: [Errno 2] No such file or directory: 'C:\\\\Users\\\\rfrjo\\\\Documents\\\\Codebases\\\\PFP_Testing\\\\data\\\\pro\n",
      "\n",
      "⏱️  Total time: 0:04:22.780163\n",
      "Completed at: 2025-06-13 11:16:14\n"
     ]
    }
   ],
   "source": [
    "#!/usr/bin/env python\n",
    "\"\"\"\n",
    "retry_failed_msa_update.py - Re-process failed MSA downloads with case-sensitive fix\n",
    "Updates the TSV file in-place instead of appending duplicates\n",
    "\"\"\"\n",
    "\n",
    "import csv\n",
    "import shutil\n",
    "import subprocess\n",
    "import numpy as np\n",
    "from pathlib import Path\n",
    "from concurrent.futures import ThreadPoolExecutor, as_completed\n",
    "from typing import Dict, List, Tuple\n",
    "from tqdm.auto import tqdm\n",
    "from scipy.spatial.distance import pdist, squareform\n",
    "from datetime import datetime\n",
    "\n",
    "import boto3\n",
    "from boto3.s3.transfer import TransferConfig\n",
    "from botocore.config import Config\n",
    "from botocore import UNSIGNED\n",
    "import botocore.exceptions\n",
    "\n",
    "# ─── Configuration ───────────────────────────────────────────────────────\n",
    "ROOT = Path(r\"C:\\Users\\rfrjo\\Documents\\Codebases\\PFP_Testing\")\n",
    "TSV_FILE = ROOT / \"data\" / \"protein_matching_results_counts_updated.tsv\"\n",
    "PROTEIN_DIR = ROOT / \"data\" / \"protein_data_pdb\"\n",
    "MAX_ROWS = 256\n",
    "DL_CONCURRENCY = 8\n",
    "HH_PARALLEL = 6\n",
    "\n",
    "# S3 setup\n",
    "BUCKET = \"openfold\"\n",
    "A3M_FILES = (\"bfd_uniclust_hits.a3m\", \"mgnify_hits.a3m\", \"uniref90_hits.a3m\")\n",
    "transfer_cfg = TransferConfig(max_concurrency=DL_CONCURRENCY)\n",
    "s3 = boto3.client('s3', config=Config(signature_version=UNSIGNED))\n",
    "\n",
    "# ─── Helper Functions (same as before) ───────────────────────────────────\n",
    "def to_wsl(p: Path) -> str:\n",
    "    \"\"\"Convert Windows path to WSL path\"\"\"\n",
    "    posix = p.resolve().as_posix()\n",
    "    return posix if posix.startswith(\"/mnt/\") else f\"/mnt/{p.drive[0].lower()}{posix[2:]}\"\n",
    "\n",
    "def strip_insertions_a3m(seq: str) -> str:\n",
    "    \"\"\"Remove insertions from A3M sequences\"\"\"\n",
    "    return seq.translate({ord(c): None for c in 'abcdefghijklmnopqrstuvwxyz.*'})\n",
    "\n",
    "def load_msa_from_a3m(path: Path):\n",
    "    \"\"\"Load MSA from A3M file\"\"\"\n",
    "    msa, hdr, seq = [], None, []\n",
    "    with path.open() as fh:\n",
    "        for line in fh:\n",
    "            line = line.rstrip()\n",
    "            if line.startswith('>'):\n",
    "                if hdr is not None:\n",
    "                    msa.append((hdr, ''.join(seq)))\n",
    "                hdr, seq = line[1:], []\n",
    "            else:\n",
    "                seq.append(line)\n",
    "        if hdr is not None:\n",
    "            msa.append((hdr, ''.join(seq)))\n",
    "    return msa\n",
    "\n",
    "def diversity_max_subsample(msa, k):\n",
    "    \"\"\"Diversity maximizing subsample\"\"\"\n",
    "    if len(msa) <= k:\n",
    "        return msa\n",
    "    seqs = np.array([list(s) for _, s in msa], dtype='U1')\n",
    "    uniq = {aa: i for i, aa in enumerate(sorted({c for row in seqs for c in row}))}\n",
    "    arr = np.vectorize(uniq.get)(seqs)\n",
    "    dist = squareform(pdist(arr, metric='hamming'))\n",
    "    keep = [0]\n",
    "    selected = np.zeros(len(msa), bool)\n",
    "    selected[0] = True\n",
    "    while selected.sum() < k:\n",
    "        mean = dist[:, selected].mean(1)\n",
    "        mean[selected] = -1\n",
    "        idx = int(mean.argmax())\n",
    "        if mean[idx] <= 0:\n",
    "            break\n",
    "        selected[idx] = True\n",
    "        keep.append(idx)\n",
    "    return [msa[i] for i in keep]\n",
    "\n",
    "# ─── Case-Sensitive Download Function ────────────────────────────────────\n",
    "def download_with_case_fix(pdb: str, chain: str, fname: str, dest: Path) -> bool:\n",
    "    \"\"\"\n",
    "    Try different case combinations for the chain letter.\n",
    "    The key insight: OpenFold stores files with the exact case from the PDB ID.\n",
    "    \"\"\"\n",
    "    base = f\"pdb/{pdb.lower()}_\"\n",
    "    \n",
    "    # Try these in order of likelihood\n",
    "    candidates = [\n",
    "        f\"{base}{chain.lower()}/a3m/{fname}\",  # Most common: lowercase chain\n",
    "        f\"{base}{chain.upper()}/a3m/{fname}\",  # Sometimes uppercase\n",
    "        f\"{base}{chain}/a3m/{fname}\",          # Original case (if mixed)\n",
    "    ]\n",
    "    \n",
    "    for i, key in enumerate(candidates):\n",
    "        try:\n",
    "            dest.parent.mkdir(parents=True, exist_ok=True)\n",
    "            s3.download_file(BUCKET, key, str(dest), Config=transfer_cfg)\n",
    "            if i > 0:  # Only print if not the first attempt\n",
    "                print(f\"   → Found {fname} using case variant #{i+1}: {key}\")\n",
    "            return True\n",
    "        except botocore.exceptions.ClientError as e:\n",
    "            if e.response[\"Error\"][\"Code\"] == \"404\":\n",
    "                continue  # Try next candidate\n",
    "            # For other errors (network, permissions), propagate\n",
    "            raise\n",
    "    return False  # All candidates failed\n",
    "\n",
    "# ─── Process Chain Function ──────────────────────────────────────────────\n",
    "def process_chain_fixed(chain_folder: Path, row_data: Dict[str, str]) -> Dict[str, str]:\n",
    "    \"\"\"Process a single chain with fixed case handling\"\"\"\n",
    "    try:\n",
    "        # Parse the matched_id - preserve the original case!\n",
    "        matched_id = row_data['matched_id']\n",
    "        if '_' not in matched_id:\n",
    "            return {**row_data, **{\n",
    "                'n_rows_dropped': '',\n",
    "                'hhfilter_rows': '',\n",
    "                'diversity_filtered_rows': '',\n",
    "                'status': 'Failed: invalid matched_id format'\n",
    "            }}\n",
    "        \n",
    "        parts = matched_id.split('_')\n",
    "        pdb = parts[0]\n",
    "        chain = parts[1]  # Keep original case!\n",
    "        \n",
    "        a3m_dir = chain_folder / \"_tmp_a3m\"\n",
    "        \n",
    "        # Download with case fix\n",
    "        downloaded = []\n",
    "        download_count = 0\n",
    "        for fname in A3M_FILES:\n",
    "            dest = a3m_dir / fname\n",
    "            if download_with_case_fix(pdb, chain, fname, dest):\n",
    "                downloaded.append(dest)\n",
    "                download_count += 1\n",
    "        \n",
    "        if not downloaded:\n",
    "            return {**row_data, **{\n",
    "                'n_rows_dropped': '',\n",
    "                'hhfilter_rows': '',\n",
    "                'diversity_filtered_rows': '',\n",
    "                'status': 'Failed: no A3M found (all cases tried)'\n",
    "            }}\n",
    "        \n",
    "        # Concatenate\n",
    "        raw_path = a3m_dir / \"concat_raw.a3m\"\n",
    "        with raw_path.open('w') as out:\n",
    "            for f in downloaded:\n",
    "                out.write(f.read_text())\n",
    "        \n",
    "        # HHfilter\n",
    "        hh_out = a3m_dir / f\"hhfiltered_{MAX_ROWS}.a3m\"\n",
    "        result = subprocess.run([\n",
    "            \"wsl\", \"hhfilter\", \"-i\", to_wsl(raw_path), \"-o\", to_wsl(hh_out),\n",
    "            \"-diff\", str(MAX_ROWS)\n",
    "        ], capture_output=True, text=True)\n",
    "        \n",
    "        if result.returncode != 0:\n",
    "            return {**row_data, **{\n",
    "                'n_rows_dropped': '',\n",
    "                'hhfilter_rows': '',\n",
    "                'diversity_filtered_rows': '',\n",
    "                'status': f'Failed: hhfilter error: {result.stderr[:100]}'\n",
    "            }}\n",
    "        \n",
    "        # Load and process MSA\n",
    "        msa = load_msa_from_a3m(hh_out)\n",
    "        hh_rows = len(msa)\n",
    "        if not msa:\n",
    "            return {**row_data, **{\n",
    "                'n_rows_dropped': '',\n",
    "                'hhfilter_rows': str(hh_rows),\n",
    "                'diversity_filtered_rows': '',\n",
    "                'status': 'Failed: hhfilter empty'\n",
    "            }}\n",
    "        \n",
    "        # Strip insertions\n",
    "        target_len = len(strip_insertions_a3m(msa[0][1]))\n",
    "        kept, dropped = [], 0\n",
    "        for hdr, seq in msa:\n",
    "            clean = strip_insertions_a3m(seq)\n",
    "            if len(clean) == target_len:\n",
    "                kept.append((hdr, clean))\n",
    "            else:\n",
    "                dropped += 1\n",
    "        \n",
    "        if len(kept) < 2:\n",
    "            return {**row_data, **{\n",
    "                'n_rows_dropped': str(dropped),\n",
    "                'hhfilter_rows': str(hh_rows),\n",
    "                'diversity_filtered_rows': '',\n",
    "                'status': f'Failed: only {len(kept)} rows after stripping'\n",
    "            }}\n",
    "        \n",
    "        # Diversity filtering if needed\n",
    "        rows_before_div = len(kept)\n",
    "        div_filtered = 0\n",
    "        if rows_before_div > MAX_ROWS:\n",
    "            kept = diversity_max_subsample(kept, MAX_ROWS)\n",
    "            div_filtered = rows_before_div - len(kept)\n",
    "        \n",
    "        # Save final MSA\n",
    "        final_path = chain_folder / \"final_filtered_256_stripped.a3m\"\n",
    "        with final_path.open('w') as fh:\n",
    "            for hdr, seq in kept:\n",
    "                fh.write(f\">{hdr}\\n{seq}\\n\")\n",
    "        \n",
    "        return {**row_data, **{\n",
    "            'n_rows_dropped': str(dropped),\n",
    "            'hhfilter_rows': str(hh_rows),\n",
    "            'diversity_filtered_rows': str(div_filtered),\n",
    "            'status': 'Success',\n",
    "            '_download_count': str(download_count)  # Internal use only\n",
    "        }}\n",
    "    \n",
    "    except Exception as e:\n",
    "        return {**row_data, **{\n",
    "            'n_rows_dropped': '',\n",
    "            'hhfilter_rows': '',\n",
    "            'diversity_filtered_rows': '',\n",
    "            'status': f'Failed: {str(e)[:100]}'\n",
    "        }}\n",
    "    \n",
    "    finally:\n",
    "        # Cleanup\n",
    "        a3m_dir = chain_folder / \"_tmp_a3m\"\n",
    "        if a3m_dir.exists():\n",
    "            shutil.rmtree(a3m_dir, ignore_errors=True)\n",
    "\n",
    "# ─── Main Processing ─────────────────────────────────────────────────────\n",
    "def main():\n",
    "    start_time = datetime.now()\n",
    "    print(\"🔄 Retry Failed MSA Processing with Case Fix\")\n",
    "    print(\"=\" * 60)\n",
    "    print(f\"Started at: {start_time.strftime('%Y-%m-%d %H:%M:%S')}\")\n",
    "    \n",
    "    # Check hhfilter\n",
    "    if subprocess.run([\"wsl\", \"which\", \"hhfilter\"], capture_output=True).returncode:\n",
    "        raise RuntimeError(\"hhfilter not found in WSL - please install HH-suite\")\n",
    "    \n",
    "    # Read current TSV\n",
    "    print(\"📖 Reading TSV file...\")\n",
    "    with TSV_FILE.open('r', newline='') as fh:\n",
    "        reader = csv.DictReader(fh, delimiter='\\t')\n",
    "        fieldnames = reader.fieldnames\n",
    "        all_rows = list(reader)\n",
    "    \n",
    "    print(f\"   Total rows: {len(all_rows)}\")\n",
    "    \n",
    "    # Find failed rows (excluding permanent failures)\n",
    "    PERMANENT_FAILURES = {'Failed: mapping missing', 'Failed: invalid chain ID'}\n",
    "    failed_rows = []\n",
    "    failed_indices = []\n",
    "    \n",
    "    for i, row in enumerate(all_rows):\n",
    "        status = row.get('status', '')\n",
    "        if status != 'Success' and not any(perm in status for perm in PERMANENT_FAILURES):\n",
    "            failed_rows.append(row)\n",
    "            failed_indices.append(i)\n",
    "    \n",
    "    if not failed_rows:\n",
    "        print(\"✅ No retryable failures found!\")\n",
    "        return\n",
    "    \n",
    "    print(f\"   Found {len(failed_rows)} retryable failures\")\n",
    "    \n",
    "    # Show some examples\n",
    "    print(\"\\n📋 Sample failures to retry:\")\n",
    "    for row in failed_rows[:5]:\n",
    "        print(f\"   {row['original_id']} -> {row['matched_id']} : {row['status']}\")\n",
    "    if len(failed_rows) > 5:\n",
    "        print(f\"   ... and {len(failed_rows) - 5} more\")\n",
    "    \n",
    "    # Count failure types\n",
    "    failure_types = {}\n",
    "    for row in failed_rows:\n",
    "        status = row['status']\n",
    "        failure_types[status] = failure_types.get(status, 0) + 1\n",
    "    \n",
    "    print(\"\\n📊 Failure breakdown:\")\n",
    "    for status, count in sorted(failure_types.items(), key=lambda x: -x[1])[:5]:\n",
    "        print(f\"   {count:3d} proteins: {status}\")\n",
    "    \n",
    "    # Process in parallel\n",
    "    print(f\"\\n🚀 Processing {len(failed_rows)} proteins...\")\n",
    "    print(f\"   Workers: {HH_PARALLEL}\")\n",
    "    print(f\"   Note: Output may appear interleaved due to parallel execution\")\n",
    "    \n",
    "    updated_rows = {}  # Use dict to maintain order\n",
    "    \n",
    "    with ThreadPoolExecutor(max_workers=HH_PARALLEL) as pool:\n",
    "        # Submit all jobs\n",
    "        futures = {}\n",
    "        for i, row in enumerate(failed_rows):\n",
    "            chain_folder = PROTEIN_DIR / row['original_id']\n",
    "            future = pool.submit(process_chain_fixed, chain_folder, row)\n",
    "            futures[future] = (i, row)  # Track index for ordering\n",
    "        \n",
    "        # Process results with progress bar\n",
    "        print(\"\\n\" + \"=\"*80)\n",
    "        with tqdm(total=len(futures), desc=\"Processing\", unit=\"protein\") as pbar:\n",
    "            for future in as_completed(futures):\n",
    "                idx, original_row = futures[future]\n",
    "                result = future.result()\n",
    "                updated_rows[idx] = result  # Store with original index\n",
    "                \n",
    "                # Print detailed status for each protein\n",
    "                old_status = original_row['status']\n",
    "                new_status = result['status']\n",
    "                protein_id = result['original_id']\n",
    "                matched_id = result['matched_id']\n",
    "                \n",
    "                if new_status == 'Success':\n",
    "                    download_count = result.get('_download_count', '?')\n",
    "                    timestamp = datetime.now().strftime(\"%H:%M:%S\")\n",
    "                    print(f\"[{timestamp}] ✅ {protein_id} ({matched_id}): FIXED! Was: '{old_status}' → Now: Success\")\n",
    "                    print(f\"   → Downloaded {download_count}/3 A3M files\")\n",
    "                    print(f\"   → Sequences: {result['hhfilter_rows']} → {int(result['hhfilter_rows']) - int(result['n_rows_dropped'] or 0)} after stripping\")\n",
    "                    if result['diversity_filtered_rows'] and int(result['diversity_filtered_rows']) > 0:\n",
    "                        print(f\"   → Diversity filtered: {result['diversity_filtered_rows']} sequences\")\n",
    "                    pbar.set_postfix_str(f\"✓ {protein_id}\")\n",
    "                else:\n",
    "                    timestamp = datetime.now().strftime(\"%H:%M:%S\")\n",
    "                    print(f\"[{timestamp}] ❌ {protein_id} ({matched_id}): STILL FAILED\")\n",
    "                    print(f\"   Old: '{old_status}'\")\n",
    "                    print(f\"   New: '{new_status}'\")\n",
    "                    pbar.set_postfix_str(f\"✗ {protein_id}\")\n",
    "                \n",
    "                pbar.update(1)\n",
    "        print(\"=\"*80)\n",
    "    \n",
    "    # Sort results back to original order\n",
    "    sorted_updated_rows = [updated_rows[i] for i in sorted(updated_rows.keys())]\n",
    "    \n",
    "    # Update the original rows\n",
    "    print(\"\\n📝 Updating TSV file...\")\n",
    "    success_count = 0\n",
    "    for updated_row, idx in zip(sorted_updated_rows, failed_indices):\n",
    "        # Remove internal fields before saving (make a copy)\n",
    "        clean_row = {k: v for k, v in updated_row.items() if not k.startswith('_')}\n",
    "        all_rows[idx] = clean_row\n",
    "        if clean_row['status'] == 'Success':\n",
    "            success_count += 1\n",
    "    \n",
    "    # Write updated TSV (backup original first)\n",
    "    backup_path = TSV_FILE.with_suffix('.tsv.bak')\n",
    "    shutil.copy2(TSV_FILE, backup_path)\n",
    "    print(f\"   Backed up to: {backup_path}\")\n",
    "    \n",
    "    with TSV_FILE.open('w', newline='') as fh:\n",
    "        writer = csv.DictWriter(fh, fieldnames=fieldnames, delimiter='\\t')\n",
    "        writer.writeheader()\n",
    "        writer.writerows(all_rows)\n",
    "    \n",
    "    print(f\"   Updated TSV saved!\")\n",
    "    \n",
    "    # Summary\n",
    "    print(\"\\n📊 Summary:\")\n",
    "    print(f\"   Total retried: {len(failed_rows)}\")\n",
    "    print(f\"   Now successful: {success_count}\")\n",
    "    print(f\"   Still failed: {len(failed_rows) - success_count}\")\n",
    "    print(f\"   Success rate: {success_count/len(failed_rows)*100:.1f}%\")\n",
    "    \n",
    "    # Show remaining failures\n",
    "    still_failed = [r for r in sorted_updated_rows if r['status'] != 'Success']\n",
    "    if still_failed:\n",
    "        print(\"\\n⚠️  Remaining failures:\")\n",
    "        failure_types = {}\n",
    "        for row in still_failed:\n",
    "            status = row['status']\n",
    "            failure_types[status] = failure_types.get(status, 0) + 1\n",
    "        \n",
    "        for status, count in sorted(failure_types.items(), key=lambda x: -x[1]):\n",
    "            print(f\"   {count:3d} proteins: {status}\")\n",
    "    \n",
    "    # Print timing\n",
    "    end_time = datetime.now()\n",
    "    duration = end_time - start_time\n",
    "    print(f\"\\n⏱️  Total time: {duration}\")\n",
    "    print(f\"Completed at: {end_time.strftime('%Y-%m-%d %H:%M:%S')}\")\n",
    "\n",
    "if __name__ == \"__main__\":\n",
    "    main()"
   ]
  },
  {
   "cell_type": "code",
   "execution_count": 2,
   "metadata": {},
   "outputs": [
    {
     "name": "stdout",
     "output_type": "stream",
     "text": [
      "🚀 Starting processing for protein: 5gup_6\n",
      "\n",
      "🧬 Processing protein: 5gup_6\n",
      "   PDB ID: 5gup\n",
      "   Chain: 6\n",
      "   Output directory: C:\\Users\\rfrjo\\Documents\\Codebases\\PFP_Testing\\data\\openfold_msas\\5GUP-6\n",
      "\n",
      "📥 Downloading MSA files from S3...\n",
      "   S3 prefix: pdb/5gup_6/a3m/\n",
      "   Downloading pdb/5gup_6/a3m/bfd_uniclust_hits.a3m... ✓\n",
      "   Downloading pdb/5gup_6/a3m/mgnify_hits.a3m... ✓\n",
      "   Downloading pdb/5gup_6/a3m/uniref90_hits.a3m... ✓\n",
      "   Successfully downloaded 3 MSA files\n",
      "\n",
      "📋 Concatenating MSA files...\n",
      "   ✓ Concatenated MSA saved to: C:\\Users\\rfrjo\\Documents\\Codebases\\PFP_Testing\\data\\openfold_msas\\5GUP-6\\all_raw.a3m\n",
      "\n",
      "🔧 Running hhfilter...\n",
      "   ✓ Filtered MSA saved to: C:\\Users\\rfrjo\\Documents\\Codebases\\PFP_Testing\\data\\openfold_msas\\5GUP-6\\all_hhfiltered_256.a3m\n",
      "\n",
      "📊 Processing sequences...\n",
      "   Loaded 638 sequences from hhfilter output\n",
      "   Query sequence length: 453\n",
      "   After length filtering: 638 sequences\n",
      "   Applying diversity maximizing: 638 → 256\n",
      "\n",
      "✅ Final MSA:\n",
      "   Sequences: 256\n",
      "   Length: 453\n",
      "   Saved to: C:\\Users\\rfrjo\\Documents\\Codebases\\PFP_Testing\\data\\openfold_msas\\5GUP-6\\final_msa_256.a3m\n",
      "\n",
      "🎉 Successfully processed 5gup_6!\n",
      "   All files saved to: C:\\Users\\rfrjo\\Documents\\Codebases\\PFP_Testing\\data\\openfold_msas\\5GUP-6\n",
      "\n",
      "✅ Success! Files saved to: C:\\Users\\rfrjo\\Documents\\Codebases\\PFP_Testing\\data\\openfold_msas\\5GUP-6\n"
     ]
    }
   ],
   "source": [
    "# ===== INPUT CONFIGURATION =====\n",
    "# Change this protein ID to process different proteins\n",
    "protein_input = \"5gup_6\"  # Example: \"3j9m_m\", \"5opt_h\", etc.\n",
    "\n",
    "#!/usr/bin/env python3\n",
    "\"\"\"\n",
    "Simple OpenFold MSA Processor - Jupyter Notebook Version\n",
    "Just change the protein_input variable above and run all cells!\n",
    "\"\"\"\n",
    "\n",
    "import sys\n",
    "import boto3\n",
    "from botocore.config import Config\n",
    "from botocore import UNSIGNED\n",
    "from pathlib import Path\n",
    "import subprocess\n",
    "import numpy as np\n",
    "from scipy.spatial.distance import pdist, squareform\n",
    "\n",
    "# ===== CONFIGURATION =====\n",
    "SAVE_ROOT = Path(r\"C:\\Users\\rfrjo\\Documents\\Codebases\\PFP_Testing\\data\\openfold_msas\")\n",
    "MAX_ROWS = 256\n",
    "GENERATE_ESM_EMBED = False  # Set to True if you want ESM embeddings\n",
    "\n",
    "# ===== HELPER FUNCTIONS =====\n",
    "def to_wsl(p: Path) -> str:\n",
    "    \"\"\"Convert Windows path to WSL path\"\"\"\n",
    "    p = Path(p).resolve()\n",
    "    posix = p.as_posix()\n",
    "    if posix.startswith(\"/mnt/\"):\n",
    "        return posix\n",
    "    return f\"/mnt/{p.drive[0].lower()}{posix[2:]}\"\n",
    "\n",
    "def strip_insertions_a3m(seq: str) -> str:\n",
    "    \"\"\"Remove insertions from A3M format sequences\"\"\"\n",
    "    cleaned = \"\"\n",
    "    for char in seq:\n",
    "        if char.isupper() or char == '-':\n",
    "            cleaned += char\n",
    "        elif char.islower() or char == '.' or char == '*':\n",
    "            continue\n",
    "        else:\n",
    "            print(f\"Warning: unexpected character '{char}' in sequence\")\n",
    "    return cleaned\n",
    "\n",
    "def load_msa_from_a3m(a3m_path, max_sequences=None):\n",
    "    \"\"\"Load MSA from A3M file\"\"\"\n",
    "    msa_sequences = []\n",
    "    with open(a3m_path) as f:\n",
    "        description = None\n",
    "        sequence = \"\"\n",
    "        \n",
    "        for line in f:\n",
    "            line = line.strip()\n",
    "            if line.startswith('>'):\n",
    "                if description is not None:\n",
    "                    msa_sequences.append((description, sequence))\n",
    "                    if max_sequences and len(msa_sequences) >= max_sequences:\n",
    "                        break\n",
    "                description = line[1:]\n",
    "                sequence = \"\"\n",
    "            else:\n",
    "                sequence += line\n",
    "        \n",
    "        if description is not None:\n",
    "            msa_sequences.append((description, sequence))\n",
    "    \n",
    "    return msa_sequences\n",
    "\n",
    "def diversity_maximizing_subsample(sequences, target_count):\n",
    "    \"\"\"Greedy Max-Hamming subsampling\"\"\"\n",
    "    n = len(sequences)\n",
    "    if n <= target_count:\n",
    "        return sequences\n",
    "    \n",
    "    # Convert sequences to numeric array\n",
    "    amino_acids = set()\n",
    "    for _, seq in sequences:\n",
    "        amino_acids.update(seq)\n",
    "    \n",
    "    aa_to_num = {aa: i for i, aa in enumerate(sorted(amino_acids))}\n",
    "    \n",
    "    seq_length = len(sequences[0][1])\n",
    "    arr = np.zeros((n, seq_length), dtype=np.int8)\n",
    "    \n",
    "    for i, (_, seq) in enumerate(sequences):\n",
    "        for j, aa in enumerate(seq):\n",
    "            arr[i, j] = aa_to_num[aa]\n",
    "    \n",
    "    # Pair-wise Hamming distances\n",
    "    dmat = squareform(pdist(arr, metric=\"hamming\"))\n",
    "    \n",
    "    # Greedy selection\n",
    "    selected_mask = np.zeros(n, dtype=bool)\n",
    "    selected_mask[0] = True\n",
    "    selected = [0]\n",
    "    \n",
    "    while selected_mask.sum() < target_count:\n",
    "        avg = dmat[:, selected_mask].mean(axis=1)\n",
    "        avg[selected_mask] = -1\n",
    "        idx = int(avg.argmax())\n",
    "        if avg[idx] <= 0:\n",
    "            break\n",
    "        selected_mask[idx] = True\n",
    "        selected.append(idx)\n",
    "    \n",
    "    return [sequences[i] for i in selected]\n",
    "\n",
    "# ===== MAIN PROCESSING FUNCTION =====\n",
    "def process_protein(protein_id):\n",
    "    \"\"\"Process a single protein ID\"\"\"\n",
    "    \n",
    "    # Parse the protein ID - expecting format like \"3j9m_m\" or \"5opt_h\"\n",
    "    if '_' not in protein_id:\n",
    "        raise ValueError(f\"Invalid protein ID format: {protein_id}. Expected format: pdbid_chain (e.g., 3j9m_m)\")\n",
    "    \n",
    "    parts = protein_id.split('_')\n",
    "    if len(parts) != 2:\n",
    "        raise ValueError(f\"Invalid protein ID format: {protein_id}. Expected format: pdbid_chain (e.g., 3j9m_m)\")\n",
    "    \n",
    "    pdb_id = parts[0].lower()  # PDB ID should be lowercase\n",
    "    chain_id = parts[1]  # Keep chain ID as-is (preserve case!)\n",
    "    \n",
    "    print(f\"\\n🧬 Processing protein: {protein_id}\")\n",
    "    print(f\"   PDB ID: {pdb_id}\")\n",
    "    print(f\"   Chain: {chain_id}\")\n",
    "    \n",
    "    # Create output directory\n",
    "    output_dir = SAVE_ROOT / f\"{pdb_id.upper()}-{chain_id.upper()}\"\n",
    "    output_dir.mkdir(parents=True, exist_ok=True)\n",
    "    print(f\"   Output directory: {output_dir}\")\n",
    "    \n",
    "    # Setup S3 client\n",
    "    s3 = boto3.client('s3', config=Config(signature_version=UNSIGNED))\n",
    "    bucket = \"openfold\"\n",
    "    \n",
    "    # Download MSA files - IMPORTANT: Use the exact case from protein_id!\n",
    "    prefix = f\"pdb/{pdb_id}_{chain_id}/a3m/\"  # This preserves the original case\n",
    "    \n",
    "    print(f\"\\n📥 Downloading MSA files from S3...\")\n",
    "    print(f\"   S3 prefix: {prefix}\")\n",
    "    \n",
    "    msa_files = []\n",
    "    for fname in (\"bfd_uniclust_hits.a3m\", \"mgnify_hits.a3m\", \"uniref90_hits.a3m\"):\n",
    "        key = prefix + fname\n",
    "        dest = output_dir / fname\n",
    "        try:\n",
    "            print(f\"   Downloading {key}...\", end=\"\")\n",
    "            s3.download_file(bucket, key, str(dest))\n",
    "            msa_files.append(dest)\n",
    "            print(\" ✓\")\n",
    "        except Exception as e:\n",
    "            print(f\" ✗ ({str(e)[:50]}...)\")\n",
    "    \n",
    "    if not msa_files:\n",
    "        raise RuntimeError(f\"No MSA files found for {protein_id}\")\n",
    "    \n",
    "    print(f\"   Successfully downloaded {len(msa_files)} MSA files\")\n",
    "    \n",
    "    # Concatenate MSA files\n",
    "    raw_cat = output_dir / \"all_raw.a3m\"\n",
    "    print(f\"\\n📋 Concatenating MSA files...\")\n",
    "    with open(raw_cat, \"w\") as out:\n",
    "        for f in msa_files:\n",
    "            out.write(f.read_text())\n",
    "    print(f\"   ✓ Concatenated MSA saved to: {raw_cat}\")\n",
    "    \n",
    "    # Filter with hhfilter\n",
    "    filtered = output_dir / f\"all_hhfiltered_{MAX_ROWS}.a3m\"\n",
    "    print(f\"\\n🔧 Running hhfilter...\")\n",
    "    \n",
    "    # Check if hhfilter is available\n",
    "    check_hhfilter = subprocess.run([\"wsl\", \"which\", \"hhfilter\"], capture_output=True, text=True)\n",
    "    if check_hhfilter.returncode != 0:\n",
    "        raise RuntimeError(\"hhfilter not found in WSL. Please install HH-suite.\")\n",
    "    \n",
    "    subprocess.run(\n",
    "        [\n",
    "            \"wsl\", \"hhfilter\",\n",
    "            \"-i\", to_wsl(raw_cat),\n",
    "            \"-o\", to_wsl(filtered),\n",
    "            \"-diff\", str(MAX_ROWS)\n",
    "        ],\n",
    "        check=True,\n",
    "        capture_output=True\n",
    "    )\n",
    "    print(f\"   ✓ Filtered MSA saved to: {filtered}\")\n",
    "    \n",
    "    # Load and process sequences\n",
    "    print(f\"\\n📊 Processing sequences...\")\n",
    "    all_sequences = load_msa_from_a3m(filtered)\n",
    "    print(f\"   Loaded {len(all_sequences)} sequences from hhfilter output\")\n",
    "    \n",
    "    if not all_sequences:\n",
    "        raise RuntimeError(\"No sequences found in filtered A3M file\")\n",
    "    \n",
    "    # Strip insertions and ensure equal length\n",
    "    processed_sequences = []\n",
    "    query_seq_stripped = None\n",
    "    target_length = None\n",
    "    \n",
    "    for i, (description, sequence) in enumerate(all_sequences):\n",
    "        stripped_seq = strip_insertions_a3m(sequence)\n",
    "        \n",
    "        if i == 0:  # First sequence is the query\n",
    "            query_seq_stripped = stripped_seq\n",
    "            target_length = len(stripped_seq)\n",
    "            print(f\"   Query sequence length: {target_length}\")\n",
    "        \n",
    "        if len(stripped_seq) == target_length:\n",
    "            processed_sequences.append((description, stripped_seq))\n",
    "    \n",
    "    print(f\"   After length filtering: {len(processed_sequences)} sequences\")\n",
    "    \n",
    "    if len(processed_sequences) < 2:\n",
    "        raise RuntimeError(f\"Not enough valid sequences after filtering: {len(processed_sequences)}\")\n",
    "    \n",
    "    # Apply diversity maximizing if needed\n",
    "    if len(processed_sequences) > MAX_ROWS:\n",
    "        print(f\"   Applying diversity maximizing: {len(processed_sequences)} → {MAX_ROWS}\")\n",
    "        processed_sequences = diversity_maximizing_subsample(processed_sequences, MAX_ROWS)\n",
    "    \n",
    "    print(f\"\\n✅ Final MSA:\")\n",
    "    print(f\"   Sequences: {len(processed_sequences)}\")\n",
    "    print(f\"   Length: {len(processed_sequences[0][1])}\")\n",
    "    \n",
    "    # Save final MSA\n",
    "    final_msa = output_dir / f\"final_msa_{MAX_ROWS}.a3m\"\n",
    "    with open(final_msa, \"w\") as f:\n",
    "        for desc, seq in processed_sequences:\n",
    "            f.write(f\">{desc}\\n{seq}\\n\")\n",
    "    print(f\"   Saved to: {final_msa}\")\n",
    "    \n",
    "    # Generate ESM embeddings if requested\n",
    "    if GENERATE_ESM_EMBED:\n",
    "        print(f\"\\n🧠 Generating ESM embeddings...\")\n",
    "        try:\n",
    "            import torch\n",
    "            import esm\n",
    "            \n",
    "            model, alphabet = esm.pretrained.esm_msa1b_t12_100M_UR50S()\n",
    "            batch_converter = alphabet.get_batch_converter()\n",
    "            model.eval()\n",
    "            \n",
    "            device = torch.device(\"cuda\" if torch.cuda.is_available() else \"cpu\")\n",
    "            model = model.to(device)\n",
    "            print(f\"   Using device: {device}\")\n",
    "            \n",
    "            # Prepare MSA for ESM\n",
    "            msa_tuples = [(f\"seq_{i}\", seq) for i, (_, seq) in enumerate(processed_sequences)]\n",
    "            labels, strs, tokens = batch_converter([msa_tuples])\n",
    "            tokens = tokens.to(device)\n",
    "            \n",
    "            # Run inference\n",
    "            with torch.no_grad():\n",
    "                results = model(tokens, repr_layers=[12])\n",
    "                msa_embeddings = results[\"representations\"][12].cpu()\n",
    "            \n",
    "            # Save embeddings\n",
    "            embeddings_path = output_dir / f\"{pdb_id}_{chain_id}_msa_emb.pt\"\n",
    "            torch.save(msa_embeddings, embeddings_path)\n",
    "            print(f\"   ✓ Embeddings saved to: {embeddings_path}\")\n",
    "            \n",
    "        except ImportError:\n",
    "            print(\"   ⚠️  ESM not installed - skipping embeddings\")\n",
    "        except Exception as e:\n",
    "            print(f\"   ❌ Error generating embeddings: {e}\")\n",
    "    \n",
    "    print(f\"\\n🎉 Successfully processed {protein_id}!\")\n",
    "    print(f\"   All files saved to: {output_dir}\")\n",
    "    \n",
    "    return output_dir\n",
    "\n",
    "# ===== RUN THE PROCESSING =====\n",
    "# This will run automatically when you execute the cell\n",
    "try:\n",
    "    print(f\"🚀 Starting processing for protein: {protein_input}\")\n",
    "    output_dir = process_protein(protein_input)\n",
    "    print(f\"\\n✅ Success! Files saved to: {output_dir}\")\n",
    "except Exception as e:\n",
    "    print(f\"\\n❌ Error: {e}\")\n",
    "    import traceback\n",
    "    traceback.print_exc()"
   ]
  },
  {
   "cell_type": "code",
   "execution_count": 16,
   "metadata": {},
   "outputs": [
    {
     "ename": "SyntaxError",
     "evalue": "Generator expression must be parenthesized (195751666.py, line 110)",
     "output_type": "error",
     "traceback": [
      "\u001b[1;36m  Cell \u001b[1;32mIn[16], line 110\u001b[1;36m\u001b[0m\n\u001b[1;33m    for pid, ident, _, _ in sorted(r for r in results if r[2] == \"FAIL\",\u001b[0m\n\u001b[1;37m                                   ^\u001b[0m\n\u001b[1;31mSyntaxError\u001b[0m\u001b[1;31m:\u001b[0m Generator expression must be parenthesized\n"
     ]
    }
   ],
   "source": [
    "# %% ---------------------------------------------------------------------\n",
    "# Sanity-check: query vs reference identity for every processed protein\n",
    "# ------------------------------------------------------------------------\n",
    "from pathlib import Path\n",
    "from tqdm.auto import tqdm\n",
    "import textwrap\n",
    "\n",
    "# ─── CONFIG ─────────────────────────────────────────────────────────────\n",
    "ROOT = Path(r\"C:\\Users\\rfrjo\\Documents\\Codebases\\PFP_Testing\")\n",
    "PROTEIN_DIR = ROOT / \"data\" / \"protein_data_pdb\"\n",
    "\n",
    "SKIP_IDS = {\"2WWX-B\", \"3M7G-A\", \"5GAO-E\", \"5OXE-A\", \"1W8X-M\"}\n",
    "\n",
    "A3M_NAME = \"final_filtered_256_stripped.a3m\"\n",
    "SEQ_TXT  = \"sequence.txt\"\n",
    "\n",
    "PASS_THRESHOLD = 95.0        # ≥ 95 % identity → success\n",
    "\n",
    "# %% ---------------------------------------------------------------------\n",
    "# Helper functions\n",
    "# ------------------------------------------------------------------------\n",
    "def read_first_seq_from_a3m(path: Path) -> str:\n",
    "    \"\"\"\n",
    "    Return the first sequence block in an A3M file (query row).\n",
    "    Ignores lowercase insertions and gaps ('-') by design.\n",
    "    \"\"\"\n",
    "    with path.open() as fh:\n",
    "        for line in fh:\n",
    "            if line.startswith(\">\"):\n",
    "                break          # header found – next lines are residues\n",
    "        residues = []\n",
    "        for line in fh:\n",
    "            if line.startswith(\">\"):\n",
    "                break          # next header → stop\n",
    "            residues.append(line.strip())\n",
    "    if not residues:\n",
    "        raise ValueError(\"No residues found\")\n",
    "    seq = \"\".join(residues)\n",
    "    # The A3M is already stripped, so any leftover lowercase/gap chars\n",
    "    return seq.replace(\"-\", \"\").replace(\".\", \"\").upper()\n",
    "\n",
    "def read_sequence_txt(path: Path) -> str:\n",
    "    with path.open() as fh:\n",
    "        return fh.read().strip().upper()\n",
    "\n",
    "def seq_identity(seq1: str, seq2: str) -> float:\n",
    "    \"\"\"Simple global identity on the *shorter* length if unequal.\"\"\"\n",
    "    L = min(len(seq1), len(seq2))\n",
    "    if L == 0:\n",
    "        return 0.0\n",
    "    matches = sum(a == b for a, b in zip(seq1[:L], seq2[:L]))\n",
    "    return matches / L * 100.0\n",
    "\n",
    "# %% ---------------------------------------------------------------------\n",
    "# Scan folders, compute identities\n",
    "# ------------------------------------------------------------------------\n",
    "all_folders   = sorted(p for p in PROTEIN_DIR.iterdir() if p.is_dir())\n",
    "folders_to_do = [p for p in all_folders if p.name not in SKIP_IDS]\n",
    "\n",
    "results = []           # keep (id, identity, status, msg) for summary\n",
    "errors  = []\n",
    "\n",
    "print(f\"Checking {len(folders_to_do):,} proteins (skipping {len(SKIP_IDS)})…\\n\")\n",
    "\n",
    "for folder in tqdm(folders_to_do, unit=\"protein\"):\n",
    "    pid = folder.name\n",
    "    try:\n",
    "        a3m_path = folder / A3M_NAME\n",
    "        ref_path = folder / SEQ_TXT\n",
    "\n",
    "        if not a3m_path.exists():\n",
    "            raise FileNotFoundError(f\"{A3M_NAME} missing\")\n",
    "        if not ref_path.exists():\n",
    "            raise FileNotFoundError(f\"{SEQ_TXT} missing\")\n",
    "\n",
    "        query_seq = read_first_seq_from_a3m(a3m_path)\n",
    "        ref_seq   = read_sequence_txt(ref_path)\n",
    "        ident     = seq_identity(query_seq, ref_seq)\n",
    "\n",
    "        status = \"PASS\" if ident >= PASS_THRESHOLD else \"FAIL\"\n",
    "        results.append((pid, ident, status, \"\"))\n",
    "\n",
    "    except Exception as e:\n",
    "        # Record as failure with explanatory message\n",
    "        results.append((pid, 0.0, \"ERROR\", str(e)))\n",
    "        errors.append((pid, str(e)))\n",
    "\n",
    "# %% ---------------------------------------------------------------------\n",
    "# Report\n",
    "# ------------------------------------------------------------------------\n",
    "n = len(results)\n",
    "n_pass  = sum(1 for r in results if r[2] == \"PASS\")\n",
    "n_fail  = sum(1 for r in results if r[2] == \"FAIL\")\n",
    "n_error = sum(1 for r in results if r[2] == \"ERROR\")\n",
    "\n",
    "print(textwrap.dedent(f\"\"\"\n",
    "────────────────────────────────────────────────────────────────────────\n",
    "SUMMARY\n",
    "────────────────────────────────────────────────────────────────────────\n",
    " total checked : {n}\n",
    "   PASS (≥ {PASS_THRESHOLD:.1f} %) : {n_pass}\n",
    "   FAIL (< {PASS_THRESHOLD:.1f} %) : {n_fail}\n",
    "   ERROR (I/O etc.) : {n_error}\n",
    " success rate  : {n_pass/n*100:5.1f} %\n",
    "────────────────────────────────────────────────────────────────────────\n",
    "\"\"\"))\n",
    "\n",
    "if n_fail:\n",
    "    print(\"❌  Proteins below threshold:\")\n",
    "    for pid, ident, _, _ in sorted(r for r in results if r[2] == \"FAIL\",\n",
    "                                   key=lambda x: x[1]):\n",
    "        print(f\"   {pid:<10}  {ident:6.2f}%\")\n",
    "\n",
    "if n_error:\n",
    "    print(\"\\n⚠️  Errors:\")\n",
    "    for pid, msg in errors:\n",
    "        print(f\"   {pid:<10}  {msg}\")\n"
   ]
  },
  {
   "cell_type": "code",
   "execution_count": null,
   "metadata": {},
   "outputs": [
    {
     "data": {
      "application/vnd.jupyter.widget-view+json": {
       "model_id": "d27cbd64292444a6a052a54ac3196e93",
       "version_major": 2,
       "version_minor": 0
      },
      "text/plain": [
       "Chains:   0%|          | 0/2 [00:00<?, ?chain/s]"
      ]
     },
     "metadata": {},
     "output_type": "display_data"
    },
    {
     "data": {
      "application/vnd.jupyter.widget-view+json": {
       "model_id": "6d800158033141dc9c7a1787e8507a68",
       "version_major": 2,
       "version_minor": 0
      },
      "text/plain": [
       "DL 154L-A:   0%|          | 0/3 [00:00<?, ?file/s]"
      ]
     },
     "metadata": {},
     "output_type": "display_data"
    },
    {
     "data": {
      "application/vnd.jupyter.widget-view+json": {
       "model_id": "4548110b85a24292a65a7b553bc3b66d",
       "version_major": 2,
       "version_minor": 0
      },
      "text/plain": [
       "Strip 154L-A:   0%|          | 0/434 [00:00<?, ?it/s]"
      ]
     },
     "metadata": {},
     "output_type": "display_data"
    },
    {
     "data": {
      "application/vnd.jupyter.widget-view+json": {
       "model_id": "292fbf4b4c844223a9db25506a1a40ac",
       "version_major": 2,
       "version_minor": 0
      },
      "text/plain": [
       "DL 155C-A:   0%|          | 0/3 [00:00<?, ?file/s]"
      ]
     },
     "metadata": {},
     "output_type": "display_data"
    },
    {
     "data": {
      "application/vnd.jupyter.widget-view+json": {
       "model_id": "e934164c3d6546ec86f708f800d977e9",
       "version_major": 2,
       "version_minor": 0
      },
      "text/plain": [
       "Strip 155C-A:   0%|          | 0/323 [00:00<?, ?it/s]"
      ]
     },
     "metadata": {},
     "output_type": "display_data"
    },
    {
     "name": "stdout",
     "output_type": "stream",
     "text": [
      "\n",
      "✅ Finished.  Log → C:\\Users\\rfrjo\\Documents\\Codebases\\PFP_Testing\\data\\protein_matching_results_counts_updated.tsv\n"
     ]
    }
   ],
   "source": [
    "# %% ---------------------------------------------------------------------\n",
    "# CONFIG – change paths or limits here\n",
    "# ------------------------------------------------------------------------\n",
    "from pathlib import Path\n",
    "import csv, os, re, subprocess, tempfile\n",
    "from collections import defaultdict\n",
    "import boto3\n",
    "from botocore.config import Config\n",
    "from botocore import UNSIGNED\n",
    "from tqdm.auto import tqdm\n",
    "import numpy as np\n",
    "from scipy.spatial.distance import pdist, squareform\n",
    "\n",
    "ROOT = Path(r\"C:\\Users\\rfrjo\\Documents\\Codebases\\PFP_Testing\")\n",
    "PROTEIN_DIR = ROOT / \"data\" / \"protein_data_pdb\"\n",
    "MATCH_FILE  = ROOT / \"data\" / \"protein_matching_results_counts.tsv\"\n",
    "UPDATED_OUT = ROOT / \"data\" / \"protein_matching_results_counts_updated.tsv\"\n",
    "\n",
    "MAX_ROWS    = 256          # target sequences in final MSA\n",
    "MAX_CHAINS  = 2         # e.g. 10 → process first 10 chains, None → all\n",
    "BUCKET      = \"openfold\"\n",
    "A3M_FILES   = (\"bfd_uniclust_hits.a3m\", \"mgnify_hits.a3m\", \"uniref90_hits.a3m\")\n",
    "\n",
    "# ------------------------------------------------------------------------\n",
    "# HELPERS\n",
    "# ------------------------------------------------------------------------\n",
    "def parse_chain_id(s: str):\n",
    "    s = s.strip()\n",
    "    if '-' in s:\n",
    "        pdb, chain = s.split('-')\n",
    "    elif '_' in s:\n",
    "        pdb, chain = s.split('_')\n",
    "    elif re.fullmatch(r\"[0-9][A-Za-z0-9]{3}[A-Za-z]\", s):\n",
    "        pdb, chain = s[:4], s[4]\n",
    "    else:\n",
    "        raise ValueError(f\"Cannot parse chain ID from '{s}'\")\n",
    "    return pdb.upper(), chain.upper()\n",
    "\n",
    "def to_wsl(p: Path) -> str:\n",
    "    posix = p.resolve().as_posix()\n",
    "    return posix if posix.startswith(\"/mnt/\") else f\"/mnt/{p.drive[0].lower()}{posix[2:]}\"\n",
    "\n",
    "LOWER = ''.join(chr(c) for c in range(97,123))  # ascii_lowercase\n",
    "def strip_insertions_a3m(seq: str) -> str:\n",
    "    \"\"\"Remove lowercase insertions, '.', '*'.\"\"\"\n",
    "    return seq.translate({ord(c): None for c in LOWER + \".*\"})\n",
    "\n",
    "def load_msa_from_a3m(path):\n",
    "    msa, hdr, seq = [], None, []\n",
    "    with open(path) as fh:\n",
    "        for line in fh:\n",
    "            line = line.rstrip()\n",
    "            if line.startswith('>'):\n",
    "                if hdr is not None:\n",
    "                    msa.append((hdr, ''.join(seq)))\n",
    "                hdr, seq = line[1:], []\n",
    "            else:\n",
    "                seq.append(line)\n",
    "        if hdr is not None:\n",
    "            msa.append((hdr, ''.join(seq)))\n",
    "    return msa\n",
    "\n",
    "def diversity_max_subsample(msa, k):\n",
    "    \"\"\"Greedy max-Hamming subsample to k rows (msa = [(hdr, seq), …]).\"\"\"\n",
    "    if len(msa) <= k:\n",
    "        return msa\n",
    "    seqs = np.array([list(s) for _, s in msa], dtype='U1')\n",
    "    uniq = {aa:i for i, aa in enumerate(sorted({c for row in seqs for c in row}))}\n",
    "    arr  = np.vectorize(uniq.get)(seqs)\n",
    "    dist = squareform(pdist(arr, metric='hamming'))\n",
    "    keep = [0]                              # always keep query row\n",
    "    selected = np.zeros(len(msa), bool); selected[0] = True\n",
    "    while selected.sum() < k:\n",
    "        mean = dist[:, selected].mean(1)\n",
    "        mean[selected] = -1\n",
    "        idx = int(mean.argmax())\n",
    "        if mean[idx] <= 0: break\n",
    "        selected[idx] = True\n",
    "        keep.append(idx)\n",
    "    return [msa[i] for i in keep]\n",
    "\n",
    "# ------------------------------------------------------------------------\n",
    "# S3 client (anonymous)\n",
    "s3 = boto3.client('s3', config=Config(signature_version=UNSIGNED))\n",
    "\n",
    "# ----------------- read mapping once ------------------------------------\n",
    "with open(MATCH_FILE, newline='') as fh:\n",
    "    reader = csv.DictReader(fh, delimiter='\\t')\n",
    "    mapping = {row['original_id'].strip(): row for row in reader}\n",
    "\n",
    "# sanity: hhfilter ?\n",
    "if subprocess.run([\"wsl\", \"which\", \"hhfilter\"], capture_output=True).returncode:\n",
    "    raise RuntimeError(\"hhfilter not found inside WSL; install HH-suite first\")\n",
    "\n",
    "# ------------------------------------------------------------------------\n",
    "# MAIN LOOP  –  with a single progress bar\n",
    "# ------------------------------------------------------------------------\n",
    "results = []\n",
    "chain_folders = sorted([p for p in PROTEIN_DIR.iterdir() if p.is_dir()])\n",
    "if MAX_CHAINS is not None:\n",
    "    chain_folders = chain_folders[:MAX_CHAINS]\n",
    "\n",
    "outer_pbar = tqdm(chain_folders, desc=\"Chains\", unit=\"chain\")\n",
    "\n",
    "for chain_folder in outer_pbar:\n",
    "    chain_name = chain_folder.name          # e.g. 1A0C-A\n",
    "    outer_pbar.set_postfix_str(chain_name)\n",
    "\n",
    "    row_base = mapping.get(chain_name)\n",
    "    if row_base is None:\n",
    "        results.append({'original_id': chain_name,\n",
    "                        'matched_id':'',\n",
    "                        'n_rows_dropped':'',\n",
    "                        'hhfilter_rows': '',\n",
    "                        'diversity_filtered_rows': '',\n",
    "                        'status':'Failed: mapping missing'})\n",
    "        continue\n",
    "\n",
    "    matched_id = row_base['matched_id'].replace('_','-')\n",
    "    pdb, chain = parse_chain_id(matched_id)\n",
    "    prefix = f\"pdb/{pdb.lower()}_{chain}/a3m/\"\n",
    "    \n",
    "    tmp_dir = tempfile.TemporaryDirectory()\n",
    "    tmp_path = Path(tmp_dir.name)\n",
    "\n",
    "    # download\n",
    "    downloaded = []\n",
    "    for fname in A3M_FILES:\n",
    "        key  = prefix + fname\n",
    "        dest = tmp_path / fname\n",
    "        try:\n",
    "            s3.download_file(BUCKET, key, str(dest))\n",
    "            downloaded.append(dest)\n",
    "        except Exception: \n",
    "            pass\n",
    "\n",
    "    if not downloaded:\n",
    "        results.append({**row_base, 'n_rows_dropped':'',\n",
    "                        'hhfilter_rows': '', 'diversity_filtered_rows': '',\n",
    "                        'status':'Failed: no A3M found'})\n",
    "        tmp_dir.cleanup()\n",
    "        continue\n",
    "\n",
    "    # concat into a temporary file\n",
    "    raw_path = tmp_path / \"concat_raw.a3m\"\n",
    "    with open(raw_path, 'w') as out:\n",
    "        for f in downloaded:\n",
    "            with open(f) as infile:\n",
    "                out.write(infile.read())\n",
    "\n",
    "    # hhfilter\n",
    "    hh_out = tmp_path / f\"hhfiltered_{MAX_ROWS}.a3m\"\n",
    "    subprocess.run([\"wsl\", \"hhfilter\",\n",
    "                    \"-i\", to_wsl(raw_path),\n",
    "                    \"-o\", to_wsl(hh_out),\n",
    "                    \"-diff\", str(MAX_ROWS)],\n",
    "                   check=True, capture_output=True)\n",
    "\n",
    "    msa = load_msa_from_a3m(hh_out)\n",
    "    hhfilter_rows = len(msa)\n",
    "    \n",
    "    if not msa:\n",
    "        results.append({**row_base,'n_rows_dropped':'',\n",
    "                        'hhfilter_rows': hhfilter_rows, 'diversity_filtered_rows': '',\n",
    "                        'status':'Failed: hhfilter empty'})\n",
    "        tmp_dir.cleanup()\n",
    "        continue\n",
    "\n",
    "    # strip insertions\n",
    "    target_len = len(strip_insertions_a3m(msa[0][1]))\n",
    "    kept, dropped = [], 0\n",
    "\n",
    "    for hdr, seq in msa:\n",
    "        clean = strip_insertions_a3m(seq)\n",
    "        if len(clean) == target_len:\n",
    "            kept.append((hdr, clean))\n",
    "        else:\n",
    "            dropped += 1\n",
    "\n",
    "    if len(kept) < 2:\n",
    "        results.append({**row_base,\n",
    "                        'n_rows_dropped': dropped,\n",
    "                        'hhfilter_rows': hhfilter_rows,\n",
    "                        'diversity_filtered_rows': '',\n",
    "                        'status': f'Failed: only {len(kept)} rows after stripping'})\n",
    "        tmp_dir.cleanup()\n",
    "        continue\n",
    "    \n",
    "    rows_before_diversity_filter = len(kept)\n",
    "    diversity_filtered_rows = 0\n",
    "    if rows_before_diversity_filter > MAX_ROWS:\n",
    "        kept = diversity_max_subsample(kept, MAX_ROWS)\n",
    "        diversity_filtered_rows = rows_before_diversity_filter - len(kept)\n",
    "\n",
    "    # save final A3M\n",
    "    final_path = chain_folder / \"final_filtered_256_stripped.a3m\"\n",
    "    with open(final_path, 'w') as fh:\n",
    "        for hdr, seq in kept:\n",
    "            fh.write(f\">{hdr}\\n{seq}\\n\")\n",
    "\n",
    "    results.append({**row_base,\n",
    "                    'n_rows_dropped': dropped,\n",
    "                    'hhfilter_rows': hhfilter_rows,\n",
    "                    'diversity_filtered_rows': diversity_filtered_rows,\n",
    "                    'status':'Success'})\n",
    "    tmp_dir.cleanup()\n",
    "\n",
    "# ------------------------------------------------------------------------\n",
    "# WRITE UPDATED TSV\n",
    "# ------------------------------------------------------------------------\n",
    "orig_cols  = list(next(iter(mapping.values())).keys())\n",
    "extra_cols = ['n_rows_dropped', 'hhfilter_rows', 'diversity_filtered_rows', 'status']\n",
    "fieldnames = orig_cols + [c for c in extra_cols if c not in orig_cols]\n",
    "\n",
    "with open(UPDATED_OUT, 'w', newline='') as fh:\n",
    "    writer = csv.DictWriter(fh, fieldnames=fieldnames, delimiter='\\t')\n",
    "    writer.writeheader()\n",
    "    for row in results:\n",
    "        writer.writerow(row)\n",
    "\n",
    "print(f\"\\n✅ Finished.  Log → {UPDATED_OUT}\")"
   ]
  },
  {
   "cell_type": "code",
   "execution_count": 2,
   "metadata": {},
   "outputs": [
    {
     "name": "stdout",
     "output_type": "stream",
     "text": [
      "🧬 Starting Resumable MSA Pipeline...\n",
      "📊 Found existing results:\n",
      "   ✅ Successful: 12796\n",
      "   ❌ Permanent failures (skipped): 0\n",
      "   🔄 Retryable failures: 4\n",
      "   📋 Total to skip: 12796\n",
      "📈 Progress Status:\n",
      "   Total proteins: 29740\n",
      "   Already processed: 12796\n",
      "   Remaining: 16944\n",
      "🚀 Resuming from protein 12797/29740\n",
      "   Batch size: 50\n",
      "   Download workers: 14\n",
      "   Processing workers: 10\n",
      "\n"
     ]
    },
    {
     "data": {
      "application/vnd.jupyter.widget-view+json": {
       "model_id": "5af9b10295134468990baef0eb83dff1",
       "version_major": 2,
       "version_minor": 0
      },
      "text/plain": [
       "Chains:  43%|####3     | 12796/29740 [00:00<?, ?chain/s]"
      ]
     },
     "metadata": {},
     "output_type": "display_data"
    },
    {
     "data": {
      "application/vnd.jupyter.widget-view+json": {
       "model_id": "5d8b63774f9d4ea8a220184da69eb65f",
       "version_major": 2,
       "version_minor": 0
      },
      "text/plain": [
       "Batch 1 Downloads:   0%|          | 0/150 [00:00<?, ?file/s]"
      ]
     },
     "metadata": {},
     "output_type": "display_data"
    },
    {
     "data": {
      "application/vnd.jupyter.widget-view+json": {
       "model_id": "adf29daa91fb4d6d99bcaaf1402e41c1",
       "version_major": 2,
       "version_minor": 0
      },
      "text/plain": [
       "Batch 1 Processing:   0%|          | 0/50 [00:00<?, ?protein/s]"
      ]
     },
     "metadata": {},
     "output_type": "display_data"
    },
    {
     "name": "stdout",
     "output_type": "stream",
     "text": [
      "📝 Batch 1 saved: 48/50 successful\n"
     ]
    },
    {
     "data": {
      "application/vnd.jupyter.widget-view+json": {
       "model_id": "7fd2a677107e4354ac426d0f1548e90b",
       "version_major": 2,
       "version_minor": 0
      },
      "text/plain": [
       "Batch 2 Downloads:   0%|          | 0/150 [00:00<?, ?file/s]"
      ]
     },
     "metadata": {},
     "output_type": "display_data"
    },
    {
     "data": {
      "application/vnd.jupyter.widget-view+json": {
       "model_id": "f0c0ac2956bc45388e73b8b020eb5c3a",
       "version_major": 2,
       "version_minor": 0
      },
      "text/plain": [
       "Batch 2 Processing:   0%|          | 0/50 [00:00<?, ?protein/s]"
      ]
     },
     "metadata": {},
     "output_type": "display_data"
    },
    {
     "name": "stdout",
     "output_type": "stream",
     "text": [
      "📝 Batch 2 saved: 50/50 successful\n"
     ]
    },
    {
     "data": {
      "application/vnd.jupyter.widget-view+json": {
       "model_id": "293d5e00d82246bd99376f1e8d067178",
       "version_major": 2,
       "version_minor": 0
      },
      "text/plain": [
       "Batch 3 Downloads:   0%|          | 0/150 [00:00<?, ?file/s]"
      ]
     },
     "metadata": {},
     "output_type": "display_data"
    },
    {
     "data": {
      "application/vnd.jupyter.widget-view+json": {
       "model_id": "703ed39a8f2e4f4bb3e0588a1d03bb32",
       "version_major": 2,
       "version_minor": 0
      },
      "text/plain": [
       "Batch 3 Processing:   0%|          | 0/50 [00:00<?, ?protein/s]"
      ]
     },
     "metadata": {},
     "output_type": "display_data"
    },
    {
     "name": "stdout",
     "output_type": "stream",
     "text": [
      "📝 Batch 3 saved: 47/50 successful\n"
     ]
    },
    {
     "data": {
      "application/vnd.jupyter.widget-view+json": {
       "model_id": "ddbf014787334b5f96b01d32f89106ac",
       "version_major": 2,
       "version_minor": 0
      },
      "text/plain": [
       "Batch 4 Downloads:   0%|          | 0/150 [00:00<?, ?file/s]"
      ]
     },
     "metadata": {},
     "output_type": "display_data"
    },
    {
     "data": {
      "application/vnd.jupyter.widget-view+json": {
       "model_id": "70b196ac17ad45439704308217d85552",
       "version_major": 2,
       "version_minor": 0
      },
      "text/plain": [
       "Batch 4 Processing:   0%|          | 0/50 [00:00<?, ?protein/s]"
      ]
     },
     "metadata": {},
     "output_type": "display_data"
    },
    {
     "name": "stdout",
     "output_type": "stream",
     "text": [
      "📝 Batch 4 saved: 50/50 successful\n"
     ]
    },
    {
     "data": {
      "application/vnd.jupyter.widget-view+json": {
       "model_id": "8cd6b2eea38e41dd9c5121733dfb3034",
       "version_major": 2,
       "version_minor": 0
      },
      "text/plain": [
       "Batch 5 Downloads:   0%|          | 0/150 [00:00<?, ?file/s]"
      ]
     },
     "metadata": {},
     "output_type": "display_data"
    },
    {
     "data": {
      "application/vnd.jupyter.widget-view+json": {
       "model_id": "86e4fe8af0e14e4a8dbb488a4cdf4276",
       "version_major": 2,
       "version_minor": 0
      },
      "text/plain": [
       "Batch 5 Processing:   0%|          | 0/50 [00:00<?, ?protein/s]"
      ]
     },
     "metadata": {},
     "output_type": "display_data"
    },
    {
     "name": "stdout",
     "output_type": "stream",
     "text": [
      "📝 Batch 5 saved: 45/50 successful\n"
     ]
    },
    {
     "data": {
      "application/vnd.jupyter.widget-view+json": {
       "model_id": "331b5b6cc45647238cc177d4e95aa03a",
       "version_major": 2,
       "version_minor": 0
      },
      "text/plain": [
       "Batch 6 Downloads:   0%|          | 0/150 [00:00<?, ?file/s]"
      ]
     },
     "metadata": {},
     "output_type": "display_data"
    },
    {
     "data": {
      "application/vnd.jupyter.widget-view+json": {
       "model_id": "ae309ab1b32d495994abf7bec313dc29",
       "version_major": 2,
       "version_minor": 0
      },
      "text/plain": [
       "Batch 6 Processing:   0%|          | 0/50 [00:00<?, ?protein/s]"
      ]
     },
     "metadata": {},
     "output_type": "display_data"
    },
    {
     "name": "stdout",
     "output_type": "stream",
     "text": [
      "📝 Batch 6 saved: 43/50 successful\n"
     ]
    },
    {
     "data": {
      "application/vnd.jupyter.widget-view+json": {
       "model_id": "e7359b811d6047d4a79cd94ea94ed1d2",
       "version_major": 2,
       "version_minor": 0
      },
      "text/plain": [
       "Batch 7 Downloads:   0%|          | 0/150 [00:00<?, ?file/s]"
      ]
     },
     "metadata": {},
     "output_type": "display_data"
    },
    {
     "data": {
      "application/vnd.jupyter.widget-view+json": {
       "model_id": "93bc53df938e41f8a25938371b5e9458",
       "version_major": 2,
       "version_minor": 0
      },
      "text/plain": [
       "Batch 7 Processing:   0%|          | 0/50 [00:00<?, ?protein/s]"
      ]
     },
     "metadata": {},
     "output_type": "display_data"
    },
    {
     "name": "stdout",
     "output_type": "stream",
     "text": [
      "📝 Batch 7 saved: 48/50 successful\n"
     ]
    },
    {
     "data": {
      "application/vnd.jupyter.widget-view+json": {
       "model_id": "f39ed3966bac462f906d8d0db763645c",
       "version_major": 2,
       "version_minor": 0
      },
      "text/plain": [
       "Batch 8 Downloads:   0%|          | 0/150 [00:00<?, ?file/s]"
      ]
     },
     "metadata": {},
     "output_type": "display_data"
    },
    {
     "data": {
      "application/vnd.jupyter.widget-view+json": {
       "model_id": "cd3720ed1138479a9a8a090e288d6b0e",
       "version_major": 2,
       "version_minor": 0
      },
      "text/plain": [
       "Batch 8 Processing:   0%|          | 0/50 [00:00<?, ?protein/s]"
      ]
     },
     "metadata": {},
     "output_type": "display_data"
    },
    {
     "name": "stdout",
     "output_type": "stream",
     "text": [
      "📝 Batch 8 saved: 50/50 successful\n"
     ]
    },
    {
     "data": {
      "application/vnd.jupyter.widget-view+json": {
       "model_id": "188eaf5b2fb64215888bdecfadbf05e1",
       "version_major": 2,
       "version_minor": 0
      },
      "text/plain": [
       "Batch 9 Downloads:   0%|          | 0/150 [00:00<?, ?file/s]"
      ]
     },
     "metadata": {},
     "output_type": "display_data"
    },
    {
     "data": {
      "application/vnd.jupyter.widget-view+json": {
       "model_id": "2113afb5767b4815b805b2da478ad2da",
       "version_major": 2,
       "version_minor": 0
      },
      "text/plain": [
       "Batch 9 Processing:   0%|          | 0/50 [00:00<?, ?protein/s]"
      ]
     },
     "metadata": {},
     "output_type": "display_data"
    },
    {
     "name": "stdout",
     "output_type": "stream",
     "text": [
      "📝 Batch 9 saved: 50/50 successful\n"
     ]
    },
    {
     "data": {
      "application/vnd.jupyter.widget-view+json": {
       "model_id": "fe56621de8bd46dbb2157e4f6966a792",
       "version_major": 2,
       "version_minor": 0
      },
      "text/plain": [
       "Batch 10 Downloads:   0%|          | 0/150 [00:00<?, ?file/s]"
      ]
     },
     "metadata": {},
     "output_type": "display_data"
    },
    {
     "data": {
      "application/vnd.jupyter.widget-view+json": {
       "model_id": "64a61f57bd254e24acc9077169307c83",
       "version_major": 2,
       "version_minor": 0
      },
      "text/plain": [
       "Batch 10 Processing:   0%|          | 0/50 [00:00<?, ?protein/s]"
      ]
     },
     "metadata": {},
     "output_type": "display_data"
    },
    {
     "name": "stdout",
     "output_type": "stream",
     "text": [
      "📝 Batch 10 saved: 50/50 successful\n"
     ]
    },
    {
     "data": {
      "application/vnd.jupyter.widget-view+json": {
       "model_id": "23e0f0edcb564073a63b14334df020b1",
       "version_major": 2,
       "version_minor": 0
      },
      "text/plain": [
       "Batch 11 Downloads:   0%|          | 0/150 [00:00<?, ?file/s]"
      ]
     },
     "metadata": {},
     "output_type": "display_data"
    },
    {
     "data": {
      "application/vnd.jupyter.widget-view+json": {
       "model_id": "47383a89e7a64b4e95ed0913bb75fc56",
       "version_major": 2,
       "version_minor": 0
      },
      "text/plain": [
       "Batch 11 Processing:   0%|          | 0/50 [00:00<?, ?protein/s]"
      ]
     },
     "metadata": {},
     "output_type": "display_data"
    },
    {
     "name": "stdout",
     "output_type": "stream",
     "text": [
      "📝 Batch 11 saved: 50/50 successful\n"
     ]
    },
    {
     "data": {
      "application/vnd.jupyter.widget-view+json": {
       "model_id": "b3cc46ee27ae4a88b432ca7375cc166a",
       "version_major": 2,
       "version_minor": 0
      },
      "text/plain": [
       "Batch 12 Downloads:   0%|          | 0/150 [00:00<?, ?file/s]"
      ]
     },
     "metadata": {},
     "output_type": "display_data"
    },
    {
     "data": {
      "application/vnd.jupyter.widget-view+json": {
       "model_id": "3ac1f3cd233d43fab079e520ea647c0f",
       "version_major": 2,
       "version_minor": 0
      },
      "text/plain": [
       "Batch 12 Processing:   0%|          | 0/50 [00:00<?, ?protein/s]"
      ]
     },
     "metadata": {},
     "output_type": "display_data"
    },
    {
     "name": "stdout",
     "output_type": "stream",
     "text": [
      "📝 Batch 12 saved: 50/50 successful\n"
     ]
    },
    {
     "data": {
      "application/vnd.jupyter.widget-view+json": {
       "model_id": "cf2aa224039e484a9cbac9bdfdb2dd5a",
       "version_major": 2,
       "version_minor": 0
      },
      "text/plain": [
       "Batch 13 Downloads:   0%|          | 0/150 [00:00<?, ?file/s]"
      ]
     },
     "metadata": {},
     "output_type": "display_data"
    },
    {
     "data": {
      "application/vnd.jupyter.widget-view+json": {
       "model_id": "a0d6fd04ded7488bafdc17b89d817391",
       "version_major": 2,
       "version_minor": 0
      },
      "text/plain": [
       "Batch 13 Processing:   0%|          | 0/50 [00:00<?, ?protein/s]"
      ]
     },
     "metadata": {},
     "output_type": "display_data"
    },
    {
     "name": "stdout",
     "output_type": "stream",
     "text": [
      "📝 Batch 13 saved: 50/50 successful\n"
     ]
    },
    {
     "data": {
      "application/vnd.jupyter.widget-view+json": {
       "model_id": "e0f796027e6549baa345209ee71a1e74",
       "version_major": 2,
       "version_minor": 0
      },
      "text/plain": [
       "Batch 14 Downloads:   0%|          | 0/150 [00:00<?, ?file/s]"
      ]
     },
     "metadata": {},
     "output_type": "display_data"
    },
    {
     "data": {
      "application/vnd.jupyter.widget-view+json": {
       "model_id": "e68a0cab7c8a4025b5d912da87b29c3c",
       "version_major": 2,
       "version_minor": 0
      },
      "text/plain": [
       "Batch 14 Processing:   0%|          | 0/50 [00:00<?, ?protein/s]"
      ]
     },
     "metadata": {},
     "output_type": "display_data"
    },
    {
     "name": "stdout",
     "output_type": "stream",
     "text": [
      "📝 Batch 14 saved: 50/50 successful\n"
     ]
    },
    {
     "data": {
      "application/vnd.jupyter.widget-view+json": {
       "model_id": "e14eda3d34904692ab2746bdc52b1c8e",
       "version_major": 2,
       "version_minor": 0
      },
      "text/plain": [
       "Batch 15 Downloads:   0%|          | 0/150 [00:00<?, ?file/s]"
      ]
     },
     "metadata": {},
     "output_type": "display_data"
    },
    {
     "data": {
      "application/vnd.jupyter.widget-view+json": {
       "model_id": "994cba08dad44964ae9044d3b5a18804",
       "version_major": 2,
       "version_minor": 0
      },
      "text/plain": [
       "Batch 15 Processing:   0%|          | 0/50 [00:00<?, ?protein/s]"
      ]
     },
     "metadata": {},
     "output_type": "display_data"
    },
    {
     "name": "stdout",
     "output_type": "stream",
     "text": [
      "📝 Batch 15 saved: 50/50 successful\n"
     ]
    },
    {
     "data": {
      "application/vnd.jupyter.widget-view+json": {
       "model_id": "ba5d5d3d162b49ed9f97800552a71a74",
       "version_major": 2,
       "version_minor": 0
      },
      "text/plain": [
       "Batch 16 Downloads:   0%|          | 0/150 [00:00<?, ?file/s]"
      ]
     },
     "metadata": {},
     "output_type": "display_data"
    },
    {
     "data": {
      "application/vnd.jupyter.widget-view+json": {
       "model_id": "4d5c7e1a77084e758763307584a806ff",
       "version_major": 2,
       "version_minor": 0
      },
      "text/plain": [
       "Batch 16 Processing:   0%|          | 0/50 [00:00<?, ?protein/s]"
      ]
     },
     "metadata": {},
     "output_type": "display_data"
    },
    {
     "name": "stdout",
     "output_type": "stream",
     "text": [
      "📝 Batch 16 saved: 50/50 successful\n"
     ]
    },
    {
     "data": {
      "application/vnd.jupyter.widget-view+json": {
       "model_id": "28424ee2edca48f4add15f27c9fd66bd",
       "version_major": 2,
       "version_minor": 0
      },
      "text/plain": [
       "Batch 17 Downloads:   0%|          | 0/150 [00:00<?, ?file/s]"
      ]
     },
     "metadata": {},
     "output_type": "display_data"
    },
    {
     "data": {
      "application/vnd.jupyter.widget-view+json": {
       "model_id": "39cc6f5733894d58993b0cef31ba7dae",
       "version_major": 2,
       "version_minor": 0
      },
      "text/plain": [
       "Batch 17 Processing:   0%|          | 0/50 [00:00<?, ?protein/s]"
      ]
     },
     "metadata": {},
     "output_type": "display_data"
    },
    {
     "name": "stdout",
     "output_type": "stream",
     "text": [
      "📝 Batch 17 saved: 50/50 successful\n"
     ]
    },
    {
     "data": {
      "application/vnd.jupyter.widget-view+json": {
       "model_id": "e4eeacf2d78848d29adb3f46e89fb208",
       "version_major": 2,
       "version_minor": 0
      },
      "text/plain": [
       "Batch 18 Downloads:   0%|          | 0/150 [00:00<?, ?file/s]"
      ]
     },
     "metadata": {},
     "output_type": "display_data"
    },
    {
     "data": {
      "application/vnd.jupyter.widget-view+json": {
       "model_id": "63bdf5812c694442b2ffa2611cdc017f",
       "version_major": 2,
       "version_minor": 0
      },
      "text/plain": [
       "Batch 18 Processing:   0%|          | 0/50 [00:00<?, ?protein/s]"
      ]
     },
     "metadata": {},
     "output_type": "display_data"
    },
    {
     "name": "stdout",
     "output_type": "stream",
     "text": [
      "📝 Batch 18 saved: 50/50 successful\n"
     ]
    },
    {
     "data": {
      "application/vnd.jupyter.widget-view+json": {
       "model_id": "f848f079ea9e4ee08397d6afdad49b2b",
       "version_major": 2,
       "version_minor": 0
      },
      "text/plain": [
       "Batch 19 Downloads:   0%|          | 0/150 [00:00<?, ?file/s]"
      ]
     },
     "metadata": {},
     "output_type": "display_data"
    },
    {
     "data": {
      "application/vnd.jupyter.widget-view+json": {
       "model_id": "3ef30384ecaa452cbaeb9b08b5f713bf",
       "version_major": 2,
       "version_minor": 0
      },
      "text/plain": [
       "Batch 19 Processing:   0%|          | 0/50 [00:00<?, ?protein/s]"
      ]
     },
     "metadata": {},
     "output_type": "display_data"
    },
    {
     "name": "stdout",
     "output_type": "stream",
     "text": [
      "📝 Batch 19 saved: 50/50 successful\n"
     ]
    },
    {
     "data": {
      "application/vnd.jupyter.widget-view+json": {
       "model_id": "0aae9438a1c14c90a2801fd09a546b78",
       "version_major": 2,
       "version_minor": 0
      },
      "text/plain": [
       "Batch 20 Downloads:   0%|          | 0/150 [00:00<?, ?file/s]"
      ]
     },
     "metadata": {},
     "output_type": "display_data"
    },
    {
     "data": {
      "application/vnd.jupyter.widget-view+json": {
       "model_id": "3d6099c689db40afb4d791d68b2fa40c",
       "version_major": 2,
       "version_minor": 0
      },
      "text/plain": [
       "Batch 20 Processing:   0%|          | 0/50 [00:00<?, ?protein/s]"
      ]
     },
     "metadata": {},
     "output_type": "display_data"
    },
    {
     "name": "stdout",
     "output_type": "stream",
     "text": [
      "📝 Batch 20 saved: 49/50 successful\n"
     ]
    },
    {
     "data": {
      "application/vnd.jupyter.widget-view+json": {
       "model_id": "7acc94daf6ff4a0b81fbb0952fa6cd60",
       "version_major": 2,
       "version_minor": 0
      },
      "text/plain": [
       "Batch 21 Downloads:   0%|          | 0/150 [00:00<?, ?file/s]"
      ]
     },
     "metadata": {},
     "output_type": "display_data"
    },
    {
     "data": {
      "application/vnd.jupyter.widget-view+json": {
       "model_id": "320fed7ba21c4b3ca8a84de011dfd0be",
       "version_major": 2,
       "version_minor": 0
      },
      "text/plain": [
       "Batch 21 Processing:   0%|          | 0/50 [00:00<?, ?protein/s]"
      ]
     },
     "metadata": {},
     "output_type": "display_data"
    },
    {
     "name": "stdout",
     "output_type": "stream",
     "text": [
      "📝 Batch 21 saved: 50/50 successful\n"
     ]
    },
    {
     "data": {
      "application/vnd.jupyter.widget-view+json": {
       "model_id": "56987d2fca5b42808fed4400a7a7ba12",
       "version_major": 2,
       "version_minor": 0
      },
      "text/plain": [
       "Batch 22 Downloads:   0%|          | 0/150 [00:00<?, ?file/s]"
      ]
     },
     "metadata": {},
     "output_type": "display_data"
    },
    {
     "data": {
      "application/vnd.jupyter.widget-view+json": {
       "model_id": "df052c5caee946a98991b695b720166b",
       "version_major": 2,
       "version_minor": 0
      },
      "text/plain": [
       "Batch 22 Processing:   0%|          | 0/50 [00:00<?, ?protein/s]"
      ]
     },
     "metadata": {},
     "output_type": "display_data"
    },
    {
     "name": "stdout",
     "output_type": "stream",
     "text": [
      "📝 Batch 22 saved: 50/50 successful\n"
     ]
    },
    {
     "data": {
      "application/vnd.jupyter.widget-view+json": {
       "model_id": "b94f457a490348e28f7fb68f50e4031c",
       "version_major": 2,
       "version_minor": 0
      },
      "text/plain": [
       "Batch 23 Downloads:   0%|          | 0/150 [00:00<?, ?file/s]"
      ]
     },
     "metadata": {},
     "output_type": "display_data"
    },
    {
     "data": {
      "application/vnd.jupyter.widget-view+json": {
       "model_id": "0b644d9c79564e1081b01f3a962f4ed3",
       "version_major": 2,
       "version_minor": 0
      },
      "text/plain": [
       "Batch 23 Processing:   0%|          | 0/50 [00:00<?, ?protein/s]"
      ]
     },
     "metadata": {},
     "output_type": "display_data"
    },
    {
     "name": "stdout",
     "output_type": "stream",
     "text": [
      "📝 Batch 23 saved: 50/50 successful\n"
     ]
    },
    {
     "data": {
      "application/vnd.jupyter.widget-view+json": {
       "model_id": "8799feec91b84b2ea8ad00a86d01bdd9",
       "version_major": 2,
       "version_minor": 0
      },
      "text/plain": [
       "Batch 24 Downloads:   0%|          | 0/150 [00:00<?, ?file/s]"
      ]
     },
     "metadata": {},
     "output_type": "display_data"
    },
    {
     "data": {
      "application/vnd.jupyter.widget-view+json": {
       "model_id": "4126a2730d3c45719f1408708993f214",
       "version_major": 2,
       "version_minor": 0
      },
      "text/plain": [
       "Batch 24 Processing:   0%|          | 0/50 [00:00<?, ?protein/s]"
      ]
     },
     "metadata": {},
     "output_type": "display_data"
    },
    {
     "name": "stdout",
     "output_type": "stream",
     "text": [
      "📝 Batch 24 saved: 50/50 successful\n"
     ]
    },
    {
     "data": {
      "application/vnd.jupyter.widget-view+json": {
       "model_id": "1b68a72ada1946ca8af4f70318d5c086",
       "version_major": 2,
       "version_minor": 0
      },
      "text/plain": [
       "Batch 25 Downloads:   0%|          | 0/150 [00:00<?, ?file/s]"
      ]
     },
     "metadata": {},
     "output_type": "display_data"
    },
    {
     "data": {
      "application/vnd.jupyter.widget-view+json": {
       "model_id": "28ce1d8b709f40ca9b725f2e8a8f7e5e",
       "version_major": 2,
       "version_minor": 0
      },
      "text/plain": [
       "Batch 25 Processing:   0%|          | 0/50 [00:00<?, ?protein/s]"
      ]
     },
     "metadata": {},
     "output_type": "display_data"
    },
    {
     "name": "stdout",
     "output_type": "stream",
     "text": [
      "📝 Batch 25 saved: 50/50 successful\n"
     ]
    },
    {
     "data": {
      "application/vnd.jupyter.widget-view+json": {
       "model_id": "6971b900c3d7424fa2cc28c82a2e0093",
       "version_major": 2,
       "version_minor": 0
      },
      "text/plain": [
       "Batch 26 Downloads:   0%|          | 0/150 [00:00<?, ?file/s]"
      ]
     },
     "metadata": {},
     "output_type": "display_data"
    },
    {
     "data": {
      "application/vnd.jupyter.widget-view+json": {
       "model_id": "d8184d7e9d7a420f9372a5c74a4c7e2a",
       "version_major": 2,
       "version_minor": 0
      },
      "text/plain": [
       "Batch 26 Processing:   0%|          | 0/50 [00:00<?, ?protein/s]"
      ]
     },
     "metadata": {},
     "output_type": "display_data"
    },
    {
     "name": "stdout",
     "output_type": "stream",
     "text": [
      "📝 Batch 26 saved: 50/50 successful\n"
     ]
    },
    {
     "data": {
      "application/vnd.jupyter.widget-view+json": {
       "model_id": "94e9398d40714016a3cd4e09b198ef37",
       "version_major": 2,
       "version_minor": 0
      },
      "text/plain": [
       "Batch 27 Downloads:   0%|          | 0/150 [00:00<?, ?file/s]"
      ]
     },
     "metadata": {},
     "output_type": "display_data"
    },
    {
     "data": {
      "application/vnd.jupyter.widget-view+json": {
       "model_id": "bab9a423576544d9b09a8ac8958adca3",
       "version_major": 2,
       "version_minor": 0
      },
      "text/plain": [
       "Batch 27 Processing:   0%|          | 0/50 [00:00<?, ?protein/s]"
      ]
     },
     "metadata": {},
     "output_type": "display_data"
    },
    {
     "name": "stdout",
     "output_type": "stream",
     "text": [
      "📝 Batch 27 saved: 50/50 successful\n"
     ]
    },
    {
     "data": {
      "application/vnd.jupyter.widget-view+json": {
       "model_id": "ac3b545a8eb4433ea4291b3f9f3a7951",
       "version_major": 2,
       "version_minor": 0
      },
      "text/plain": [
       "Batch 28 Downloads:   0%|          | 0/150 [00:00<?, ?file/s]"
      ]
     },
     "metadata": {},
     "output_type": "display_data"
    },
    {
     "data": {
      "application/vnd.jupyter.widget-view+json": {
       "model_id": "b42571c29be448fcaf5af473008f3553",
       "version_major": 2,
       "version_minor": 0
      },
      "text/plain": [
       "Batch 28 Processing:   0%|          | 0/50 [00:00<?, ?protein/s]"
      ]
     },
     "metadata": {},
     "output_type": "display_data"
    },
    {
     "name": "stdout",
     "output_type": "stream",
     "text": [
      "📝 Batch 28 saved: 50/50 successful\n"
     ]
    },
    {
     "data": {
      "application/vnd.jupyter.widget-view+json": {
       "model_id": "6ec00a33aac749db8e1397da85c53859",
       "version_major": 2,
       "version_minor": 0
      },
      "text/plain": [
       "Batch 29 Downloads:   0%|          | 0/150 [00:00<?, ?file/s]"
      ]
     },
     "metadata": {},
     "output_type": "display_data"
    },
    {
     "data": {
      "application/vnd.jupyter.widget-view+json": {
       "model_id": "75f8b461dce84f769b9b6af4e43ede7b",
       "version_major": 2,
       "version_minor": 0
      },
      "text/plain": [
       "Batch 29 Processing:   0%|          | 0/50 [00:00<?, ?protein/s]"
      ]
     },
     "metadata": {},
     "output_type": "display_data"
    },
    {
     "name": "stdout",
     "output_type": "stream",
     "text": [
      "📝 Batch 29 saved: 50/50 successful\n"
     ]
    },
    {
     "data": {
      "application/vnd.jupyter.widget-view+json": {
       "model_id": "110a59a844ac48b398614ffe7c3ceae1",
       "version_major": 2,
       "version_minor": 0
      },
      "text/plain": [
       "Batch 30 Downloads:   0%|          | 0/150 [00:00<?, ?file/s]"
      ]
     },
     "metadata": {},
     "output_type": "display_data"
    },
    {
     "data": {
      "application/vnd.jupyter.widget-view+json": {
       "model_id": "c4474f54b0c94633957546011cf0e18e",
       "version_major": 2,
       "version_minor": 0
      },
      "text/plain": [
       "Batch 30 Processing:   0%|          | 0/50 [00:00<?, ?protein/s]"
      ]
     },
     "metadata": {},
     "output_type": "display_data"
    },
    {
     "name": "stdout",
     "output_type": "stream",
     "text": [
      "📝 Batch 30 saved: 50/50 successful\n"
     ]
    },
    {
     "data": {
      "application/vnd.jupyter.widget-view+json": {
       "model_id": "a90684e4fa09433599f5c76c50786de7",
       "version_major": 2,
       "version_minor": 0
      },
      "text/plain": [
       "Batch 31 Downloads:   0%|          | 0/150 [00:00<?, ?file/s]"
      ]
     },
     "metadata": {},
     "output_type": "display_data"
    },
    {
     "data": {
      "application/vnd.jupyter.widget-view+json": {
       "model_id": "6b5b31a0cbce401a950e898a7063835d",
       "version_major": 2,
       "version_minor": 0
      },
      "text/plain": [
       "Batch 31 Processing:   0%|          | 0/50 [00:00<?, ?protein/s]"
      ]
     },
     "metadata": {},
     "output_type": "display_data"
    },
    {
     "name": "stdout",
     "output_type": "stream",
     "text": [
      "📝 Batch 31 saved: 50/50 successful\n"
     ]
    },
    {
     "data": {
      "application/vnd.jupyter.widget-view+json": {
       "model_id": "77457897b6cf47f584e910fa6469e61c",
       "version_major": 2,
       "version_minor": 0
      },
      "text/plain": [
       "Batch 32 Downloads:   0%|          | 0/150 [00:00<?, ?file/s]"
      ]
     },
     "metadata": {},
     "output_type": "display_data"
    },
    {
     "data": {
      "application/vnd.jupyter.widget-view+json": {
       "model_id": "427f13ac96cd4a4f9604eb481feaa686",
       "version_major": 2,
       "version_minor": 0
      },
      "text/plain": [
       "Batch 32 Processing:   0%|          | 0/50 [00:00<?, ?protein/s]"
      ]
     },
     "metadata": {},
     "output_type": "display_data"
    },
    {
     "name": "stdout",
     "output_type": "stream",
     "text": [
      "📝 Batch 32 saved: 50/50 successful\n"
     ]
    },
    {
     "data": {
      "application/vnd.jupyter.widget-view+json": {
       "model_id": "cb30559b433f49afbd5eccfce77e6ff8",
       "version_major": 2,
       "version_minor": 0
      },
      "text/plain": [
       "Batch 33 Downloads:   0%|          | 0/150 [00:00<?, ?file/s]"
      ]
     },
     "metadata": {},
     "output_type": "display_data"
    },
    {
     "data": {
      "application/vnd.jupyter.widget-view+json": {
       "model_id": "511b9e1af94c40b2a469ba73ea5f0b99",
       "version_major": 2,
       "version_minor": 0
      },
      "text/plain": [
       "Batch 33 Processing:   0%|          | 0/50 [00:00<?, ?protein/s]"
      ]
     },
     "metadata": {},
     "output_type": "display_data"
    },
    {
     "name": "stdout",
     "output_type": "stream",
     "text": [
      "📝 Batch 33 saved: 50/50 successful\n"
     ]
    },
    {
     "data": {
      "application/vnd.jupyter.widget-view+json": {
       "model_id": "f745e5ffc0c34c11b61d7abc00af2a66",
       "version_major": 2,
       "version_minor": 0
      },
      "text/plain": [
       "Batch 34 Downloads:   0%|          | 0/150 [00:00<?, ?file/s]"
      ]
     },
     "metadata": {},
     "output_type": "display_data"
    },
    {
     "data": {
      "application/vnd.jupyter.widget-view+json": {
       "model_id": "38632e1f63204d678e41570f7149b802",
       "version_major": 2,
       "version_minor": 0
      },
      "text/plain": [
       "Batch 34 Processing:   0%|          | 0/50 [00:00<?, ?protein/s]"
      ]
     },
     "metadata": {},
     "output_type": "display_data"
    },
    {
     "name": "stdout",
     "output_type": "stream",
     "text": [
      "📝 Batch 34 saved: 50/50 successful\n"
     ]
    },
    {
     "data": {
      "application/vnd.jupyter.widget-view+json": {
       "model_id": "4ab3b9df8e194c9099f63120ecc70aa7",
       "version_major": 2,
       "version_minor": 0
      },
      "text/plain": [
       "Batch 35 Downloads:   0%|          | 0/150 [00:00<?, ?file/s]"
      ]
     },
     "metadata": {},
     "output_type": "display_data"
    },
    {
     "data": {
      "application/vnd.jupyter.widget-view+json": {
       "model_id": "1087a4a67ec34a6281b560cd09f1732d",
       "version_major": 2,
       "version_minor": 0
      },
      "text/plain": [
       "Batch 35 Processing:   0%|          | 0/50 [00:00<?, ?protein/s]"
      ]
     },
     "metadata": {},
     "output_type": "display_data"
    },
    {
     "name": "stdout",
     "output_type": "stream",
     "text": [
      "📝 Batch 35 saved: 50/50 successful\n"
     ]
    },
    {
     "data": {
      "application/vnd.jupyter.widget-view+json": {
       "model_id": "db95854f704145b1b2df37f35a61d6e3",
       "version_major": 2,
       "version_minor": 0
      },
      "text/plain": [
       "Batch 36 Downloads:   0%|          | 0/150 [00:00<?, ?file/s]"
      ]
     },
     "metadata": {},
     "output_type": "display_data"
    },
    {
     "data": {
      "application/vnd.jupyter.widget-view+json": {
       "model_id": "5d068921b5384e8d8f8eeecc7bd0dbb2",
       "version_major": 2,
       "version_minor": 0
      },
      "text/plain": [
       "Batch 36 Processing:   0%|          | 0/50 [00:00<?, ?protein/s]"
      ]
     },
     "metadata": {},
     "output_type": "display_data"
    },
    {
     "name": "stdout",
     "output_type": "stream",
     "text": [
      "📝 Batch 36 saved: 50/50 successful\n"
     ]
    },
    {
     "data": {
      "application/vnd.jupyter.widget-view+json": {
       "model_id": "d82e35fcd7e64c3dab16ba836db7a878",
       "version_major": 2,
       "version_minor": 0
      },
      "text/plain": [
       "Batch 37 Downloads:   0%|          | 0/150 [00:00<?, ?file/s]"
      ]
     },
     "metadata": {},
     "output_type": "display_data"
    },
    {
     "data": {
      "application/vnd.jupyter.widget-view+json": {
       "model_id": "d13aa6eadcda4e3d81748d1642231733",
       "version_major": 2,
       "version_minor": 0
      },
      "text/plain": [
       "Batch 37 Processing:   0%|          | 0/50 [00:00<?, ?protein/s]"
      ]
     },
     "metadata": {},
     "output_type": "display_data"
    },
    {
     "name": "stdout",
     "output_type": "stream",
     "text": [
      "📝 Batch 37 saved: 50/50 successful\n"
     ]
    },
    {
     "data": {
      "application/vnd.jupyter.widget-view+json": {
       "model_id": "050de7e20b774d32ab713413e732ce5b",
       "version_major": 2,
       "version_minor": 0
      },
      "text/plain": [
       "Batch 38 Downloads:   0%|          | 0/150 [00:00<?, ?file/s]"
      ]
     },
     "metadata": {},
     "output_type": "display_data"
    },
    {
     "data": {
      "application/vnd.jupyter.widget-view+json": {
       "model_id": "6911eb47a59f4246b1f599fb8a485a73",
       "version_major": 2,
       "version_minor": 0
      },
      "text/plain": [
       "Batch 38 Processing:   0%|          | 0/50 [00:00<?, ?protein/s]"
      ]
     },
     "metadata": {},
     "output_type": "display_data"
    },
    {
     "name": "stdout",
     "output_type": "stream",
     "text": [
      "📝 Batch 38 saved: 50/50 successful\n"
     ]
    },
    {
     "data": {
      "application/vnd.jupyter.widget-view+json": {
       "model_id": "3ee3ad397b7243e0943a1824d7281075",
       "version_major": 2,
       "version_minor": 0
      },
      "text/plain": [
       "Batch 39 Downloads:   0%|          | 0/150 [00:00<?, ?file/s]"
      ]
     },
     "metadata": {},
     "output_type": "display_data"
    },
    {
     "data": {
      "application/vnd.jupyter.widget-view+json": {
       "model_id": "78d27de5cad345b49bf8e2cc117e29e5",
       "version_major": 2,
       "version_minor": 0
      },
      "text/plain": [
       "Batch 39 Processing:   0%|          | 0/50 [00:00<?, ?protein/s]"
      ]
     },
     "metadata": {},
     "output_type": "display_data"
    },
    {
     "name": "stdout",
     "output_type": "stream",
     "text": [
      "📝 Batch 39 saved: 50/50 successful\n"
     ]
    },
    {
     "data": {
      "application/vnd.jupyter.widget-view+json": {
       "model_id": "3af62bc12ad34bdcb65fbcc8d3d35b63",
       "version_major": 2,
       "version_minor": 0
      },
      "text/plain": [
       "Batch 40 Downloads:   0%|          | 0/150 [00:00<?, ?file/s]"
      ]
     },
     "metadata": {},
     "output_type": "display_data"
    },
    {
     "data": {
      "application/vnd.jupyter.widget-view+json": {
       "model_id": "086933702dba4cd89beb5ba9f9eb33e9",
       "version_major": 2,
       "version_minor": 0
      },
      "text/plain": [
       "Batch 40 Processing:   0%|          | 0/50 [00:00<?, ?protein/s]"
      ]
     },
     "metadata": {},
     "output_type": "display_data"
    },
    {
     "name": "stdout",
     "output_type": "stream",
     "text": [
      "📝 Batch 40 saved: 50/50 successful\n"
     ]
    },
    {
     "data": {
      "application/vnd.jupyter.widget-view+json": {
       "model_id": "51020cec434847e7a47397f6aa4c8b11",
       "version_major": 2,
       "version_minor": 0
      },
      "text/plain": [
       "Batch 41 Downloads:   0%|          | 0/150 [00:00<?, ?file/s]"
      ]
     },
     "metadata": {},
     "output_type": "display_data"
    },
    {
     "data": {
      "application/vnd.jupyter.widget-view+json": {
       "model_id": "a8ea56a9004e417f884de550aac47368",
       "version_major": 2,
       "version_minor": 0
      },
      "text/plain": [
       "Batch 41 Processing:   0%|          | 0/50 [00:00<?, ?protein/s]"
      ]
     },
     "metadata": {},
     "output_type": "display_data"
    },
    {
     "name": "stdout",
     "output_type": "stream",
     "text": [
      "📝 Batch 41 saved: 50/50 successful\n"
     ]
    },
    {
     "data": {
      "application/vnd.jupyter.widget-view+json": {
       "model_id": "94ccba0e71684ef98f683b58aa01bdaa",
       "version_major": 2,
       "version_minor": 0
      },
      "text/plain": [
       "Batch 42 Downloads:   0%|          | 0/150 [00:00<?, ?file/s]"
      ]
     },
     "metadata": {},
     "output_type": "display_data"
    },
    {
     "data": {
      "application/vnd.jupyter.widget-view+json": {
       "model_id": "ddf6cf94c9fa424687a8915c1725f592",
       "version_major": 2,
       "version_minor": 0
      },
      "text/plain": [
       "Batch 42 Processing:   0%|          | 0/50 [00:00<?, ?protein/s]"
      ]
     },
     "metadata": {},
     "output_type": "display_data"
    },
    {
     "name": "stdout",
     "output_type": "stream",
     "text": [
      "📝 Batch 42 saved: 50/50 successful\n"
     ]
    },
    {
     "data": {
      "application/vnd.jupyter.widget-view+json": {
       "model_id": "af798c9a20664389ad79c3d45bb6bee3",
       "version_major": 2,
       "version_minor": 0
      },
      "text/plain": [
       "Batch 43 Downloads:   0%|          | 0/150 [00:00<?, ?file/s]"
      ]
     },
     "metadata": {},
     "output_type": "display_data"
    },
    {
     "data": {
      "application/vnd.jupyter.widget-view+json": {
       "model_id": "018e5f2cd595410c99d5d9f777ddd61c",
       "version_major": 2,
       "version_minor": 0
      },
      "text/plain": [
       "Batch 43 Processing:   0%|          | 0/50 [00:00<?, ?protein/s]"
      ]
     },
     "metadata": {},
     "output_type": "display_data"
    },
    {
     "name": "stdout",
     "output_type": "stream",
     "text": [
      "📝 Batch 43 saved: 50/50 successful\n"
     ]
    },
    {
     "data": {
      "application/vnd.jupyter.widget-view+json": {
       "model_id": "0806843379ba47c7988f4848a35c6486",
       "version_major": 2,
       "version_minor": 0
      },
      "text/plain": [
       "Batch 44 Downloads:   0%|          | 0/150 [00:00<?, ?file/s]"
      ]
     },
     "metadata": {},
     "output_type": "display_data"
    },
    {
     "data": {
      "application/vnd.jupyter.widget-view+json": {
       "model_id": "e0c99146e75340298b580ddabfd25166",
       "version_major": 2,
       "version_minor": 0
      },
      "text/plain": [
       "Batch 44 Processing:   0%|          | 0/50 [00:00<?, ?protein/s]"
      ]
     },
     "metadata": {},
     "output_type": "display_data"
    },
    {
     "name": "stdout",
     "output_type": "stream",
     "text": [
      "📝 Batch 44 saved: 50/50 successful\n"
     ]
    },
    {
     "data": {
      "application/vnd.jupyter.widget-view+json": {
       "model_id": "6b207262c9cf4c328e1e5f2702d0dd01",
       "version_major": 2,
       "version_minor": 0
      },
      "text/plain": [
       "Batch 45 Downloads:   0%|          | 0/150 [00:00<?, ?file/s]"
      ]
     },
     "metadata": {},
     "output_type": "display_data"
    },
    {
     "data": {
      "application/vnd.jupyter.widget-view+json": {
       "model_id": "ec4125d654ad47e3a22b34db93d363d9",
       "version_major": 2,
       "version_minor": 0
      },
      "text/plain": [
       "Batch 45 Processing:   0%|          | 0/50 [00:00<?, ?protein/s]"
      ]
     },
     "metadata": {},
     "output_type": "display_data"
    },
    {
     "name": "stdout",
     "output_type": "stream",
     "text": [
      "📝 Batch 45 saved: 50/50 successful\n"
     ]
    },
    {
     "data": {
      "application/vnd.jupyter.widget-view+json": {
       "model_id": "b00548c7563146feb49bb3fd4ca93230",
       "version_major": 2,
       "version_minor": 0
      },
      "text/plain": [
       "Batch 46 Downloads:   0%|          | 0/150 [00:00<?, ?file/s]"
      ]
     },
     "metadata": {},
     "output_type": "display_data"
    },
    {
     "data": {
      "application/vnd.jupyter.widget-view+json": {
       "model_id": "6cc37ad08b00495bba31bbdcffdc5f21",
       "version_major": 2,
       "version_minor": 0
      },
      "text/plain": [
       "Batch 46 Processing:   0%|          | 0/50 [00:00<?, ?protein/s]"
      ]
     },
     "metadata": {},
     "output_type": "display_data"
    },
    {
     "name": "stdout",
     "output_type": "stream",
     "text": [
      "📝 Batch 46 saved: 50/50 successful\n"
     ]
    },
    {
     "data": {
      "application/vnd.jupyter.widget-view+json": {
       "model_id": "7a668638093743e286851b06fdcd7e1f",
       "version_major": 2,
       "version_minor": 0
      },
      "text/plain": [
       "Batch 47 Downloads:   0%|          | 0/150 [00:00<?, ?file/s]"
      ]
     },
     "metadata": {},
     "output_type": "display_data"
    },
    {
     "data": {
      "application/vnd.jupyter.widget-view+json": {
       "model_id": "5f545c0eb29f4f14a81aefa60fcd54f5",
       "version_major": 2,
       "version_minor": 0
      },
      "text/plain": [
       "Batch 47 Processing:   0%|          | 0/50 [00:00<?, ?protein/s]"
      ]
     },
     "metadata": {},
     "output_type": "display_data"
    },
    {
     "name": "stdout",
     "output_type": "stream",
     "text": [
      "📝 Batch 47 saved: 50/50 successful\n"
     ]
    },
    {
     "data": {
      "application/vnd.jupyter.widget-view+json": {
       "model_id": "884ca0420ece48858507a304bf97f133",
       "version_major": 2,
       "version_minor": 0
      },
      "text/plain": [
       "Batch 48 Downloads:   0%|          | 0/150 [00:00<?, ?file/s]"
      ]
     },
     "metadata": {},
     "output_type": "display_data"
    },
    {
     "data": {
      "application/vnd.jupyter.widget-view+json": {
       "model_id": "75731288e2f548c88b9b031d6394724a",
       "version_major": 2,
       "version_minor": 0
      },
      "text/plain": [
       "Batch 48 Processing:   0%|          | 0/50 [00:00<?, ?protein/s]"
      ]
     },
     "metadata": {},
     "output_type": "display_data"
    },
    {
     "name": "stdout",
     "output_type": "stream",
     "text": [
      "📝 Batch 48 saved: 50/50 successful\n"
     ]
    },
    {
     "data": {
      "application/vnd.jupyter.widget-view+json": {
       "model_id": "d9c832edb4444296ac5b58356e5c872d",
       "version_major": 2,
       "version_minor": 0
      },
      "text/plain": [
       "Batch 49 Downloads:   0%|          | 0/150 [00:00<?, ?file/s]"
      ]
     },
     "metadata": {},
     "output_type": "display_data"
    },
    {
     "data": {
      "application/vnd.jupyter.widget-view+json": {
       "model_id": "251ec6d3d925400091178666750ace40",
       "version_major": 2,
       "version_minor": 0
      },
      "text/plain": [
       "Batch 49 Processing:   0%|          | 0/50 [00:00<?, ?protein/s]"
      ]
     },
     "metadata": {},
     "output_type": "display_data"
    },
    {
     "name": "stdout",
     "output_type": "stream",
     "text": [
      "📝 Batch 49 saved: 50/50 successful\n"
     ]
    },
    {
     "data": {
      "application/vnd.jupyter.widget-view+json": {
       "model_id": "ed5967c9bdda4fb9a3e78462674b7a68",
       "version_major": 2,
       "version_minor": 0
      },
      "text/plain": [
       "Batch 50 Downloads:   0%|          | 0/150 [00:00<?, ?file/s]"
      ]
     },
     "metadata": {},
     "output_type": "display_data"
    },
    {
     "data": {
      "application/vnd.jupyter.widget-view+json": {
       "model_id": "48cb8ab255d646118ea1ceab00b6f1d4",
       "version_major": 2,
       "version_minor": 0
      },
      "text/plain": [
       "Batch 50 Processing:   0%|          | 0/50 [00:00<?, ?protein/s]"
      ]
     },
     "metadata": {},
     "output_type": "display_data"
    },
    {
     "name": "stdout",
     "output_type": "stream",
     "text": [
      "📝 Batch 50 saved: 50/50 successful\n"
     ]
    },
    {
     "data": {
      "application/vnd.jupyter.widget-view+json": {
       "model_id": "f9a01972300847dfbed71b213e27edae",
       "version_major": 2,
       "version_minor": 0
      },
      "text/plain": [
       "Batch 51 Downloads:   0%|          | 0/150 [00:00<?, ?file/s]"
      ]
     },
     "metadata": {},
     "output_type": "display_data"
    },
    {
     "data": {
      "application/vnd.jupyter.widget-view+json": {
       "model_id": "630ef33db2e743f09c8b4e0b558d89ef",
       "version_major": 2,
       "version_minor": 0
      },
      "text/plain": [
       "Batch 51 Processing:   0%|          | 0/50 [00:00<?, ?protein/s]"
      ]
     },
     "metadata": {},
     "output_type": "display_data"
    },
    {
     "name": "stdout",
     "output_type": "stream",
     "text": [
      "📝 Batch 51 saved: 50/50 successful\n"
     ]
    },
    {
     "data": {
      "application/vnd.jupyter.widget-view+json": {
       "model_id": "572867ae723b481d8e42ffb1fd6cc864",
       "version_major": 2,
       "version_minor": 0
      },
      "text/plain": [
       "Batch 52 Downloads:   0%|          | 0/150 [00:00<?, ?file/s]"
      ]
     },
     "metadata": {},
     "output_type": "display_data"
    },
    {
     "data": {
      "application/vnd.jupyter.widget-view+json": {
       "model_id": "ba90b31599e74d82bfcf290e946a4039",
       "version_major": 2,
       "version_minor": 0
      },
      "text/plain": [
       "Batch 52 Processing:   0%|          | 0/50 [00:00<?, ?protein/s]"
      ]
     },
     "metadata": {},
     "output_type": "display_data"
    },
    {
     "name": "stdout",
     "output_type": "stream",
     "text": [
      "📝 Batch 52 saved: 50/50 successful\n"
     ]
    },
    {
     "data": {
      "application/vnd.jupyter.widget-view+json": {
       "model_id": "7e9a6ff74c8340f5ae30b49e028b7a8c",
       "version_major": 2,
       "version_minor": 0
      },
      "text/plain": [
       "Batch 53 Downloads:   0%|          | 0/150 [00:00<?, ?file/s]"
      ]
     },
     "metadata": {},
     "output_type": "display_data"
    },
    {
     "data": {
      "application/vnd.jupyter.widget-view+json": {
       "model_id": "2ad5127e839040748c5b7fd8add828e6",
       "version_major": 2,
       "version_minor": 0
      },
      "text/plain": [
       "Batch 53 Processing:   0%|          | 0/50 [00:00<?, ?protein/s]"
      ]
     },
     "metadata": {},
     "output_type": "display_data"
    },
    {
     "name": "stdout",
     "output_type": "stream",
     "text": [
      "📝 Batch 53 saved: 50/50 successful\n"
     ]
    },
    {
     "data": {
      "application/vnd.jupyter.widget-view+json": {
       "model_id": "cc6e664966c54cb99f43f3fe08f5c3b6",
       "version_major": 2,
       "version_minor": 0
      },
      "text/plain": [
       "Batch 54 Downloads:   0%|          | 0/150 [00:00<?, ?file/s]"
      ]
     },
     "metadata": {},
     "output_type": "display_data"
    },
    {
     "data": {
      "application/vnd.jupyter.widget-view+json": {
       "model_id": "4b16e66f6a7841b2a10f646c52374ad1",
       "version_major": 2,
       "version_minor": 0
      },
      "text/plain": [
       "Batch 54 Processing:   0%|          | 0/50 [00:00<?, ?protein/s]"
      ]
     },
     "metadata": {},
     "output_type": "display_data"
    },
    {
     "name": "stdout",
     "output_type": "stream",
     "text": [
      "📝 Batch 54 saved: 50/50 successful\n"
     ]
    },
    {
     "data": {
      "application/vnd.jupyter.widget-view+json": {
       "model_id": "1fbab0f5ed1e4df38e8f9573788ede05",
       "version_major": 2,
       "version_minor": 0
      },
      "text/plain": [
       "Batch 55 Downloads:   0%|          | 0/150 [00:00<?, ?file/s]"
      ]
     },
     "metadata": {},
     "output_type": "display_data"
    },
    {
     "data": {
      "application/vnd.jupyter.widget-view+json": {
       "model_id": "ebec82015d6d41ffa9d8bfdb723b95fc",
       "version_major": 2,
       "version_minor": 0
      },
      "text/plain": [
       "Batch 55 Processing:   0%|          | 0/50 [00:00<?, ?protein/s]"
      ]
     },
     "metadata": {},
     "output_type": "display_data"
    },
    {
     "name": "stdout",
     "output_type": "stream",
     "text": [
      "📝 Batch 55 saved: 50/50 successful\n"
     ]
    },
    {
     "data": {
      "application/vnd.jupyter.widget-view+json": {
       "model_id": "b1a401b8caf74ecf98461398558ea810",
       "version_major": 2,
       "version_minor": 0
      },
      "text/plain": [
       "Batch 56 Downloads:   0%|          | 0/150 [00:00<?, ?file/s]"
      ]
     },
     "metadata": {},
     "output_type": "display_data"
    },
    {
     "data": {
      "application/vnd.jupyter.widget-view+json": {
       "model_id": "455dd72588be436b9aeed85e3baf28c0",
       "version_major": 2,
       "version_minor": 0
      },
      "text/plain": [
       "Batch 56 Processing:   0%|          | 0/50 [00:00<?, ?protein/s]"
      ]
     },
     "metadata": {},
     "output_type": "display_data"
    },
    {
     "name": "stdout",
     "output_type": "stream",
     "text": [
      "📝 Batch 56 saved: 50/50 successful\n"
     ]
    },
    {
     "data": {
      "application/vnd.jupyter.widget-view+json": {
       "model_id": "6e7e745625ea4837b69659021966df9b",
       "version_major": 2,
       "version_minor": 0
      },
      "text/plain": [
       "Batch 57 Downloads:   0%|          | 0/150 [00:00<?, ?file/s]"
      ]
     },
     "metadata": {},
     "output_type": "display_data"
    },
    {
     "data": {
      "application/vnd.jupyter.widget-view+json": {
       "model_id": "6a2bb0e544a2497082733a42e8018500",
       "version_major": 2,
       "version_minor": 0
      },
      "text/plain": [
       "Batch 57 Processing:   0%|          | 0/50 [00:00<?, ?protein/s]"
      ]
     },
     "metadata": {},
     "output_type": "display_data"
    },
    {
     "name": "stdout",
     "output_type": "stream",
     "text": [
      "📝 Batch 57 saved: 50/50 successful\n"
     ]
    },
    {
     "data": {
      "application/vnd.jupyter.widget-view+json": {
       "model_id": "9a4360f48c1d47059d23b868665e95ff",
       "version_major": 2,
       "version_minor": 0
      },
      "text/plain": [
       "Batch 58 Downloads:   0%|          | 0/150 [00:00<?, ?file/s]"
      ]
     },
     "metadata": {},
     "output_type": "display_data"
    },
    {
     "data": {
      "application/vnd.jupyter.widget-view+json": {
       "model_id": "6e206db6e4794d508750b78ee0de66df",
       "version_major": 2,
       "version_minor": 0
      },
      "text/plain": [
       "Batch 58 Processing:   0%|          | 0/50 [00:00<?, ?protein/s]"
      ]
     },
     "metadata": {},
     "output_type": "display_data"
    },
    {
     "name": "stdout",
     "output_type": "stream",
     "text": [
      "📝 Batch 58 saved: 50/50 successful\n"
     ]
    },
    {
     "data": {
      "application/vnd.jupyter.widget-view+json": {
       "model_id": "e30fffc5d89642b2ad8ec5ee4ae03103",
       "version_major": 2,
       "version_minor": 0
      },
      "text/plain": [
       "Batch 59 Downloads:   0%|          | 0/150 [00:00<?, ?file/s]"
      ]
     },
     "metadata": {},
     "output_type": "display_data"
    },
    {
     "data": {
      "application/vnd.jupyter.widget-view+json": {
       "model_id": "25879f3e312b428e891bac1807fd5fb9",
       "version_major": 2,
       "version_minor": 0
      },
      "text/plain": [
       "Batch 59 Processing:   0%|          | 0/50 [00:00<?, ?protein/s]"
      ]
     },
     "metadata": {},
     "output_type": "display_data"
    },
    {
     "name": "stdout",
     "output_type": "stream",
     "text": [
      "📝 Batch 59 saved: 50/50 successful\n"
     ]
    },
    {
     "data": {
      "application/vnd.jupyter.widget-view+json": {
       "model_id": "fb9928b878fb4ad0b4d404fafe81adce",
       "version_major": 2,
       "version_minor": 0
      },
      "text/plain": [
       "Batch 60 Downloads:   0%|          | 0/150 [00:00<?, ?file/s]"
      ]
     },
     "metadata": {},
     "output_type": "display_data"
    },
    {
     "data": {
      "application/vnd.jupyter.widget-view+json": {
       "model_id": "ff49adce8d1c43788890df0b68b200e9",
       "version_major": 2,
       "version_minor": 0
      },
      "text/plain": [
       "Batch 60 Processing:   0%|          | 0/50 [00:00<?, ?protein/s]"
      ]
     },
     "metadata": {},
     "output_type": "display_data"
    },
    {
     "name": "stdout",
     "output_type": "stream",
     "text": [
      "📝 Batch 60 saved: 50/50 successful\n"
     ]
    },
    {
     "data": {
      "application/vnd.jupyter.widget-view+json": {
       "model_id": "520372f4d22a45119b7352da266f9216",
       "version_major": 2,
       "version_minor": 0
      },
      "text/plain": [
       "Batch 61 Downloads:   0%|          | 0/150 [00:00<?, ?file/s]"
      ]
     },
     "metadata": {},
     "output_type": "display_data"
    },
    {
     "data": {
      "application/vnd.jupyter.widget-view+json": {
       "model_id": "9fed5fc50d8c4533b0cdacf8c95e61dd",
       "version_major": 2,
       "version_minor": 0
      },
      "text/plain": [
       "Batch 61 Processing:   0%|          | 0/50 [00:00<?, ?protein/s]"
      ]
     },
     "metadata": {},
     "output_type": "display_data"
    },
    {
     "name": "stdout",
     "output_type": "stream",
     "text": [
      "📝 Batch 61 saved: 50/50 successful\n"
     ]
    },
    {
     "data": {
      "application/vnd.jupyter.widget-view+json": {
       "model_id": "afac4b00fee0438fa54e8050757ffb61",
       "version_major": 2,
       "version_minor": 0
      },
      "text/plain": [
       "Batch 62 Downloads:   0%|          | 0/150 [00:00<?, ?file/s]"
      ]
     },
     "metadata": {},
     "output_type": "display_data"
    },
    {
     "data": {
      "application/vnd.jupyter.widget-view+json": {
       "model_id": "769f5c38ade24fd88abd7f63669129e5",
       "version_major": 2,
       "version_minor": 0
      },
      "text/plain": [
       "Batch 62 Processing:   0%|          | 0/50 [00:00<?, ?protein/s]"
      ]
     },
     "metadata": {},
     "output_type": "display_data"
    },
    {
     "name": "stdout",
     "output_type": "stream",
     "text": [
      "📝 Batch 62 saved: 50/50 successful\n"
     ]
    },
    {
     "data": {
      "application/vnd.jupyter.widget-view+json": {
       "model_id": "ca0cc46bfc634d5eb726a81baf479b6b",
       "version_major": 2,
       "version_minor": 0
      },
      "text/plain": [
       "Batch 63 Downloads:   0%|          | 0/150 [00:00<?, ?file/s]"
      ]
     },
     "metadata": {},
     "output_type": "display_data"
    },
    {
     "data": {
      "application/vnd.jupyter.widget-view+json": {
       "model_id": "70cb2bc09b4b490d811a45b47f678697",
       "version_major": 2,
       "version_minor": 0
      },
      "text/plain": [
       "Batch 63 Processing:   0%|          | 0/50 [00:00<?, ?protein/s]"
      ]
     },
     "metadata": {},
     "output_type": "display_data"
    },
    {
     "name": "stdout",
     "output_type": "stream",
     "text": [
      "📝 Batch 63 saved: 50/50 successful\n"
     ]
    },
    {
     "data": {
      "application/vnd.jupyter.widget-view+json": {
       "model_id": "248b2a1220c1479d89a7527be386d0c6",
       "version_major": 2,
       "version_minor": 0
      },
      "text/plain": [
       "Batch 64 Downloads:   0%|          | 0/150 [00:00<?, ?file/s]"
      ]
     },
     "metadata": {},
     "output_type": "display_data"
    },
    {
     "data": {
      "application/vnd.jupyter.widget-view+json": {
       "model_id": "18e0d59733474c78aadbdc1839eb0bde",
       "version_major": 2,
       "version_minor": 0
      },
      "text/plain": [
       "Batch 64 Processing:   0%|          | 0/50 [00:00<?, ?protein/s]"
      ]
     },
     "metadata": {},
     "output_type": "display_data"
    },
    {
     "name": "stdout",
     "output_type": "stream",
     "text": [
      "📝 Batch 64 saved: 50/50 successful\n"
     ]
    },
    {
     "data": {
      "application/vnd.jupyter.widget-view+json": {
       "model_id": "70cf415fd46b4718930e4725511a1cf8",
       "version_major": 2,
       "version_minor": 0
      },
      "text/plain": [
       "Batch 65 Downloads:   0%|          | 0/150 [00:00<?, ?file/s]"
      ]
     },
     "metadata": {},
     "output_type": "display_data"
    },
    {
     "data": {
      "application/vnd.jupyter.widget-view+json": {
       "model_id": "3a6317be7103463e97cf6d600322a165",
       "version_major": 2,
       "version_minor": 0
      },
      "text/plain": [
       "Batch 65 Processing:   0%|          | 0/50 [00:00<?, ?protein/s]"
      ]
     },
     "metadata": {},
     "output_type": "display_data"
    },
    {
     "name": "stdout",
     "output_type": "stream",
     "text": [
      "📝 Batch 65 saved: 50/50 successful\n"
     ]
    },
    {
     "data": {
      "application/vnd.jupyter.widget-view+json": {
       "model_id": "bfa557b12989477f9794a4eaec5c2c84",
       "version_major": 2,
       "version_minor": 0
      },
      "text/plain": [
       "Batch 66 Downloads:   0%|          | 0/150 [00:00<?, ?file/s]"
      ]
     },
     "metadata": {},
     "output_type": "display_data"
    },
    {
     "data": {
      "application/vnd.jupyter.widget-view+json": {
       "model_id": "9e2acb786f8b4ca4ac0dacbd5ff43b7e",
       "version_major": 2,
       "version_minor": 0
      },
      "text/plain": [
       "Batch 66 Processing:   0%|          | 0/50 [00:00<?, ?protein/s]"
      ]
     },
     "metadata": {},
     "output_type": "display_data"
    },
    {
     "name": "stdout",
     "output_type": "stream",
     "text": [
      "📝 Batch 66 saved: 50/50 successful\n"
     ]
    },
    {
     "data": {
      "application/vnd.jupyter.widget-view+json": {
       "model_id": "8052ce6ac9d64530a65ab540f2eff0c0",
       "version_major": 2,
       "version_minor": 0
      },
      "text/plain": [
       "Batch 67 Downloads:   0%|          | 0/150 [00:00<?, ?file/s]"
      ]
     },
     "metadata": {},
     "output_type": "display_data"
    },
    {
     "data": {
      "application/vnd.jupyter.widget-view+json": {
       "model_id": "82c026b5ff7543758bc981a6de664589",
       "version_major": 2,
       "version_minor": 0
      },
      "text/plain": [
       "Batch 67 Processing:   0%|          | 0/50 [00:00<?, ?protein/s]"
      ]
     },
     "metadata": {},
     "output_type": "display_data"
    },
    {
     "name": "stdout",
     "output_type": "stream",
     "text": [
      "📝 Batch 67 saved: 50/50 successful\n"
     ]
    },
    {
     "data": {
      "application/vnd.jupyter.widget-view+json": {
       "model_id": "65cc97844d074cf39c2425b094a4172c",
       "version_major": 2,
       "version_minor": 0
      },
      "text/plain": [
       "Batch 68 Downloads:   0%|          | 0/150 [00:00<?, ?file/s]"
      ]
     },
     "metadata": {},
     "output_type": "display_data"
    },
    {
     "data": {
      "application/vnd.jupyter.widget-view+json": {
       "model_id": "679ea6a628ee466c8a9b4778e7ed5642",
       "version_major": 2,
       "version_minor": 0
      },
      "text/plain": [
       "Batch 68 Processing:   0%|          | 0/50 [00:00<?, ?protein/s]"
      ]
     },
     "metadata": {},
     "output_type": "display_data"
    },
    {
     "name": "stdout",
     "output_type": "stream",
     "text": [
      "📝 Batch 68 saved: 50/50 successful\n"
     ]
    },
    {
     "data": {
      "application/vnd.jupyter.widget-view+json": {
       "model_id": "3751348d2a824f4a82362545a9983346",
       "version_major": 2,
       "version_minor": 0
      },
      "text/plain": [
       "Batch 69 Downloads:   0%|          | 0/150 [00:00<?, ?file/s]"
      ]
     },
     "metadata": {},
     "output_type": "display_data"
    },
    {
     "data": {
      "application/vnd.jupyter.widget-view+json": {
       "model_id": "90d86870809042938e516f71b2cd26d8",
       "version_major": 2,
       "version_minor": 0
      },
      "text/plain": [
       "Batch 69 Processing:   0%|          | 0/50 [00:00<?, ?protein/s]"
      ]
     },
     "metadata": {},
     "output_type": "display_data"
    },
    {
     "name": "stdout",
     "output_type": "stream",
     "text": [
      "📝 Batch 69 saved: 50/50 successful\n"
     ]
    },
    {
     "data": {
      "application/vnd.jupyter.widget-view+json": {
       "model_id": "843b8afadf614d2ab06929e24e82368c",
       "version_major": 2,
       "version_minor": 0
      },
      "text/plain": [
       "Batch 70 Downloads:   0%|          | 0/150 [00:00<?, ?file/s]"
      ]
     },
     "metadata": {},
     "output_type": "display_data"
    },
    {
     "data": {
      "application/vnd.jupyter.widget-view+json": {
       "model_id": "b92293d6ca39428bb74e6cfa669220a3",
       "version_major": 2,
       "version_minor": 0
      },
      "text/plain": [
       "Batch 70 Processing:   0%|          | 0/50 [00:00<?, ?protein/s]"
      ]
     },
     "metadata": {},
     "output_type": "display_data"
    },
    {
     "name": "stdout",
     "output_type": "stream",
     "text": [
      "📝 Batch 70 saved: 50/50 successful\n"
     ]
    },
    {
     "data": {
      "application/vnd.jupyter.widget-view+json": {
       "model_id": "a0ded476adac41b7aa693fb41fb0f7dc",
       "version_major": 2,
       "version_minor": 0
      },
      "text/plain": [
       "Batch 71 Downloads:   0%|          | 0/150 [00:00<?, ?file/s]"
      ]
     },
     "metadata": {},
     "output_type": "display_data"
    },
    {
     "data": {
      "application/vnd.jupyter.widget-view+json": {
       "model_id": "90da86623c794bf5b28fa0920461cf95",
       "version_major": 2,
       "version_minor": 0
      },
      "text/plain": [
       "Batch 71 Processing:   0%|          | 0/50 [00:00<?, ?protein/s]"
      ]
     },
     "metadata": {},
     "output_type": "display_data"
    },
    {
     "name": "stdout",
     "output_type": "stream",
     "text": [
      "📝 Batch 71 saved: 50/50 successful\n"
     ]
    },
    {
     "data": {
      "application/vnd.jupyter.widget-view+json": {
       "model_id": "3a50561a2ad04852a3a26a3ec7e345f0",
       "version_major": 2,
       "version_minor": 0
      },
      "text/plain": [
       "Batch 72 Downloads:   0%|          | 0/150 [00:00<?, ?file/s]"
      ]
     },
     "metadata": {},
     "output_type": "display_data"
    },
    {
     "data": {
      "application/vnd.jupyter.widget-view+json": {
       "model_id": "5d5c1f969eeb46d28bfa1cb5264dedca",
       "version_major": 2,
       "version_minor": 0
      },
      "text/plain": [
       "Batch 72 Processing:   0%|          | 0/50 [00:00<?, ?protein/s]"
      ]
     },
     "metadata": {},
     "output_type": "display_data"
    },
    {
     "name": "stdout",
     "output_type": "stream",
     "text": [
      "📝 Batch 72 saved: 50/50 successful\n"
     ]
    },
    {
     "data": {
      "application/vnd.jupyter.widget-view+json": {
       "model_id": "7e36bf618f004403b1c2c21dfeabb953",
       "version_major": 2,
       "version_minor": 0
      },
      "text/plain": [
       "Batch 73 Downloads:   0%|          | 0/150 [00:00<?, ?file/s]"
      ]
     },
     "metadata": {},
     "output_type": "display_data"
    },
    {
     "data": {
      "application/vnd.jupyter.widget-view+json": {
       "model_id": "e8c14c43b0454674aae3f67af0b92c4c",
       "version_major": 2,
       "version_minor": 0
      },
      "text/plain": [
       "Batch 73 Processing:   0%|          | 0/50 [00:00<?, ?protein/s]"
      ]
     },
     "metadata": {},
     "output_type": "display_data"
    },
    {
     "name": "stdout",
     "output_type": "stream",
     "text": [
      "📝 Batch 73 saved: 50/50 successful\n"
     ]
    },
    {
     "data": {
      "application/vnd.jupyter.widget-view+json": {
       "model_id": "71fb2aba526e4b54892e3cd27bb2a46c",
       "version_major": 2,
       "version_minor": 0
      },
      "text/plain": [
       "Batch 74 Downloads:   0%|          | 0/150 [00:00<?, ?file/s]"
      ]
     },
     "metadata": {},
     "output_type": "display_data"
    },
    {
     "data": {
      "application/vnd.jupyter.widget-view+json": {
       "model_id": "0f8294d369994e2692a8321c516e08df",
       "version_major": 2,
       "version_minor": 0
      },
      "text/plain": [
       "Batch 74 Processing:   0%|          | 0/50 [00:00<?, ?protein/s]"
      ]
     },
     "metadata": {},
     "output_type": "display_data"
    },
    {
     "name": "stdout",
     "output_type": "stream",
     "text": [
      "📝 Batch 74 saved: 50/50 successful\n"
     ]
    },
    {
     "data": {
      "application/vnd.jupyter.widget-view+json": {
       "model_id": "1e536f2cc02747cda4c6bb23c00bd865",
       "version_major": 2,
       "version_minor": 0
      },
      "text/plain": [
       "Batch 75 Downloads:   0%|          | 0/150 [00:00<?, ?file/s]"
      ]
     },
     "metadata": {},
     "output_type": "display_data"
    },
    {
     "data": {
      "application/vnd.jupyter.widget-view+json": {
       "model_id": "1ee3ce65b8ed40329b56255ab91c32e0",
       "version_major": 2,
       "version_minor": 0
      },
      "text/plain": [
       "Batch 75 Processing:   0%|          | 0/50 [00:00<?, ?protein/s]"
      ]
     },
     "metadata": {},
     "output_type": "display_data"
    },
    {
     "name": "stdout",
     "output_type": "stream",
     "text": [
      "📝 Batch 75 saved: 50/50 successful\n"
     ]
    },
    {
     "data": {
      "application/vnd.jupyter.widget-view+json": {
       "model_id": "173c8cae931e453289ecaed3afe02e2e",
       "version_major": 2,
       "version_minor": 0
      },
      "text/plain": [
       "Batch 76 Downloads:   0%|          | 0/150 [00:00<?, ?file/s]"
      ]
     },
     "metadata": {},
     "output_type": "display_data"
    },
    {
     "data": {
      "application/vnd.jupyter.widget-view+json": {
       "model_id": "b0d67a2b8e0e4681afb6c766a6d62a8c",
       "version_major": 2,
       "version_minor": 0
      },
      "text/plain": [
       "Batch 76 Processing:   0%|          | 0/50 [00:00<?, ?protein/s]"
      ]
     },
     "metadata": {},
     "output_type": "display_data"
    },
    {
     "name": "stdout",
     "output_type": "stream",
     "text": [
      "📝 Batch 76 saved: 50/50 successful\n"
     ]
    },
    {
     "data": {
      "application/vnd.jupyter.widget-view+json": {
       "model_id": "b647f48aaa8a4ebd8c0432e4b7b3f556",
       "version_major": 2,
       "version_minor": 0
      },
      "text/plain": [
       "Batch 77 Downloads:   0%|          | 0/150 [00:00<?, ?file/s]"
      ]
     },
     "metadata": {},
     "output_type": "display_data"
    },
    {
     "data": {
      "application/vnd.jupyter.widget-view+json": {
       "model_id": "907f026c0b2d4e359751f24fd882cc36",
       "version_major": 2,
       "version_minor": 0
      },
      "text/plain": [
       "Batch 77 Processing:   0%|          | 0/50 [00:00<?, ?protein/s]"
      ]
     },
     "metadata": {},
     "output_type": "display_data"
    },
    {
     "name": "stdout",
     "output_type": "stream",
     "text": [
      "📝 Batch 77 saved: 50/50 successful\n"
     ]
    },
    {
     "data": {
      "application/vnd.jupyter.widget-view+json": {
       "model_id": "847164b08eae4fa784597414eadd0437",
       "version_major": 2,
       "version_minor": 0
      },
      "text/plain": [
       "Batch 78 Downloads:   0%|          | 0/150 [00:00<?, ?file/s]"
      ]
     },
     "metadata": {},
     "output_type": "display_data"
    },
    {
     "data": {
      "application/vnd.jupyter.widget-view+json": {
       "model_id": "0271bc9d54344458adfb8426d580f534",
       "version_major": 2,
       "version_minor": 0
      },
      "text/plain": [
       "Batch 78 Processing:   0%|          | 0/50 [00:00<?, ?protein/s]"
      ]
     },
     "metadata": {},
     "output_type": "display_data"
    },
    {
     "name": "stdout",
     "output_type": "stream",
     "text": [
      "📝 Batch 78 saved: 50/50 successful\n"
     ]
    },
    {
     "data": {
      "application/vnd.jupyter.widget-view+json": {
       "model_id": "9524b889168347349f3a1a63b107c2bf",
       "version_major": 2,
       "version_minor": 0
      },
      "text/plain": [
       "Batch 79 Downloads:   0%|          | 0/150 [00:00<?, ?file/s]"
      ]
     },
     "metadata": {},
     "output_type": "display_data"
    },
    {
     "data": {
      "application/vnd.jupyter.widget-view+json": {
       "model_id": "8993bb22472f40d0855b30ba61bd21f0",
       "version_major": 2,
       "version_minor": 0
      },
      "text/plain": [
       "Batch 79 Processing:   0%|          | 0/50 [00:00<?, ?protein/s]"
      ]
     },
     "metadata": {},
     "output_type": "display_data"
    },
    {
     "name": "stdout",
     "output_type": "stream",
     "text": [
      "📝 Batch 79 saved: 50/50 successful\n"
     ]
    },
    {
     "data": {
      "application/vnd.jupyter.widget-view+json": {
       "model_id": "4963ef8f140c44108fb961bcbe99d4f5",
       "version_major": 2,
       "version_minor": 0
      },
      "text/plain": [
       "Batch 80 Downloads:   0%|          | 0/150 [00:00<?, ?file/s]"
      ]
     },
     "metadata": {},
     "output_type": "display_data"
    },
    {
     "data": {
      "application/vnd.jupyter.widget-view+json": {
       "model_id": "e789d8f1e95346459bf535502bfeaa11",
       "version_major": 2,
       "version_minor": 0
      },
      "text/plain": [
       "Batch 80 Processing:   0%|          | 0/50 [00:00<?, ?protein/s]"
      ]
     },
     "metadata": {},
     "output_type": "display_data"
    },
    {
     "name": "stdout",
     "output_type": "stream",
     "text": [
      "📝 Batch 80 saved: 50/50 successful\n"
     ]
    },
    {
     "data": {
      "application/vnd.jupyter.widget-view+json": {
       "model_id": "94ea1b40e838418c852ad4da637d3030",
       "version_major": 2,
       "version_minor": 0
      },
      "text/plain": [
       "Batch 81 Downloads:   0%|          | 0/150 [00:00<?, ?file/s]"
      ]
     },
     "metadata": {},
     "output_type": "display_data"
    },
    {
     "data": {
      "application/vnd.jupyter.widget-view+json": {
       "model_id": "6d88318e89e846eabaf046e436fcb85f",
       "version_major": 2,
       "version_minor": 0
      },
      "text/plain": [
       "Batch 81 Processing:   0%|          | 0/50 [00:00<?, ?protein/s]"
      ]
     },
     "metadata": {},
     "output_type": "display_data"
    },
    {
     "name": "stdout",
     "output_type": "stream",
     "text": [
      "📝 Batch 81 saved: 50/50 successful\n"
     ]
    },
    {
     "data": {
      "application/vnd.jupyter.widget-view+json": {
       "model_id": "0d4b75ef5ce24cc1a21bc9d1e169adf5",
       "version_major": 2,
       "version_minor": 0
      },
      "text/plain": [
       "Batch 82 Downloads:   0%|          | 0/150 [00:00<?, ?file/s]"
      ]
     },
     "metadata": {},
     "output_type": "display_data"
    },
    {
     "data": {
      "application/vnd.jupyter.widget-view+json": {
       "model_id": "a3642da23c8847598bbd0d49d77b8a4e",
       "version_major": 2,
       "version_minor": 0
      },
      "text/plain": [
       "Batch 82 Processing:   0%|          | 0/50 [00:00<?, ?protein/s]"
      ]
     },
     "metadata": {},
     "output_type": "display_data"
    },
    {
     "name": "stdout",
     "output_type": "stream",
     "text": [
      "📝 Batch 82 saved: 50/50 successful\n"
     ]
    },
    {
     "data": {
      "application/vnd.jupyter.widget-view+json": {
       "model_id": "0aef2dbc2fe6420c9965e9e0f6443751",
       "version_major": 2,
       "version_minor": 0
      },
      "text/plain": [
       "Batch 83 Downloads:   0%|          | 0/150 [00:00<?, ?file/s]"
      ]
     },
     "metadata": {},
     "output_type": "display_data"
    },
    {
     "data": {
      "application/vnd.jupyter.widget-view+json": {
       "model_id": "5e5b566d755940ba982006e4065823b7",
       "version_major": 2,
       "version_minor": 0
      },
      "text/plain": [
       "Batch 83 Processing:   0%|          | 0/50 [00:00<?, ?protein/s]"
      ]
     },
     "metadata": {},
     "output_type": "display_data"
    },
    {
     "name": "stdout",
     "output_type": "stream",
     "text": [
      "📝 Batch 83 saved: 50/50 successful\n"
     ]
    },
    {
     "data": {
      "application/vnd.jupyter.widget-view+json": {
       "model_id": "745633f17c0f414b85c2f6bc9eaa3b21",
       "version_major": 2,
       "version_minor": 0
      },
      "text/plain": [
       "Batch 84 Downloads:   0%|          | 0/150 [00:00<?, ?file/s]"
      ]
     },
     "metadata": {},
     "output_type": "display_data"
    },
    {
     "data": {
      "application/vnd.jupyter.widget-view+json": {
       "model_id": "77f850c80f514ea8825a2993d94de168",
       "version_major": 2,
       "version_minor": 0
      },
      "text/plain": [
       "Batch 84 Processing:   0%|          | 0/50 [00:00<?, ?protein/s]"
      ]
     },
     "metadata": {},
     "output_type": "display_data"
    },
    {
     "name": "stdout",
     "output_type": "stream",
     "text": [
      "📝 Batch 84 saved: 49/50 successful\n"
     ]
    },
    {
     "data": {
      "application/vnd.jupyter.widget-view+json": {
       "model_id": "3ef8cf0b8f454379a32173c1f07fb488",
       "version_major": 2,
       "version_minor": 0
      },
      "text/plain": [
       "Batch 85 Downloads:   0%|          | 0/150 [00:00<?, ?file/s]"
      ]
     },
     "metadata": {},
     "output_type": "display_data"
    },
    {
     "data": {
      "application/vnd.jupyter.widget-view+json": {
       "model_id": "a43929aea2114da0a43a123e3300d122",
       "version_major": 2,
       "version_minor": 0
      },
      "text/plain": [
       "Batch 85 Processing:   0%|          | 0/50 [00:00<?, ?protein/s]"
      ]
     },
     "metadata": {},
     "output_type": "display_data"
    },
    {
     "name": "stdout",
     "output_type": "stream",
     "text": [
      "📝 Batch 85 saved: 50/50 successful\n"
     ]
    },
    {
     "data": {
      "application/vnd.jupyter.widget-view+json": {
       "model_id": "fcfcce5dffd741979f44bb5949154f74",
       "version_major": 2,
       "version_minor": 0
      },
      "text/plain": [
       "Batch 86 Downloads:   0%|          | 0/150 [00:00<?, ?file/s]"
      ]
     },
     "metadata": {},
     "output_type": "display_data"
    },
    {
     "data": {
      "application/vnd.jupyter.widget-view+json": {
       "model_id": "cdd1cb92f0b5407eb31ad3e09745c594",
       "version_major": 2,
       "version_minor": 0
      },
      "text/plain": [
       "Batch 86 Processing:   0%|          | 0/50 [00:00<?, ?protein/s]"
      ]
     },
     "metadata": {},
     "output_type": "display_data"
    },
    {
     "name": "stdout",
     "output_type": "stream",
     "text": [
      "📝 Batch 86 saved: 50/50 successful\n"
     ]
    },
    {
     "data": {
      "application/vnd.jupyter.widget-view+json": {
       "model_id": "f4a38eca2c0e4b57b90ea88bda91da2f",
       "version_major": 2,
       "version_minor": 0
      },
      "text/plain": [
       "Batch 87 Downloads:   0%|          | 0/150 [00:00<?, ?file/s]"
      ]
     },
     "metadata": {},
     "output_type": "display_data"
    },
    {
     "data": {
      "application/vnd.jupyter.widget-view+json": {
       "model_id": "57ebb7358c704ba49027425765c140ec",
       "version_major": 2,
       "version_minor": 0
      },
      "text/plain": [
       "Batch 87 Processing:   0%|          | 0/50 [00:00<?, ?protein/s]"
      ]
     },
     "metadata": {},
     "output_type": "display_data"
    },
    {
     "name": "stdout",
     "output_type": "stream",
     "text": [
      "📝 Batch 87 saved: 49/50 successful\n"
     ]
    },
    {
     "data": {
      "application/vnd.jupyter.widget-view+json": {
       "model_id": "fdc15fa41a96431bb327c28a87b544ec",
       "version_major": 2,
       "version_minor": 0
      },
      "text/plain": [
       "Batch 88 Downloads:   0%|          | 0/150 [00:00<?, ?file/s]"
      ]
     },
     "metadata": {},
     "output_type": "display_data"
    },
    {
     "data": {
      "application/vnd.jupyter.widget-view+json": {
       "model_id": "4ef929e178ad4b4292b236f43284303c",
       "version_major": 2,
       "version_minor": 0
      },
      "text/plain": [
       "Batch 88 Processing:   0%|          | 0/50 [00:00<?, ?protein/s]"
      ]
     },
     "metadata": {},
     "output_type": "display_data"
    },
    {
     "name": "stdout",
     "output_type": "stream",
     "text": [
      "📝 Batch 88 saved: 50/50 successful\n"
     ]
    },
    {
     "data": {
      "application/vnd.jupyter.widget-view+json": {
       "model_id": "7c08b1fa492543b6a581854660c0453a",
       "version_major": 2,
       "version_minor": 0
      },
      "text/plain": [
       "Batch 89 Downloads:   0%|          | 0/150 [00:00<?, ?file/s]"
      ]
     },
     "metadata": {},
     "output_type": "display_data"
    },
    {
     "data": {
      "application/vnd.jupyter.widget-view+json": {
       "model_id": "8244df278ca143abbae7a04937521940",
       "version_major": 2,
       "version_minor": 0
      },
      "text/plain": [
       "Batch 89 Processing:   0%|          | 0/50 [00:00<?, ?protein/s]"
      ]
     },
     "metadata": {},
     "output_type": "display_data"
    },
    {
     "name": "stdout",
     "output_type": "stream",
     "text": [
      "📝 Batch 89 saved: 50/50 successful\n"
     ]
    },
    {
     "data": {
      "application/vnd.jupyter.widget-view+json": {
       "model_id": "5dc5c256be614091a0d276e65dcc0e55",
       "version_major": 2,
       "version_minor": 0
      },
      "text/plain": [
       "Batch 90 Downloads:   0%|          | 0/150 [00:00<?, ?file/s]"
      ]
     },
     "metadata": {},
     "output_type": "display_data"
    },
    {
     "data": {
      "application/vnd.jupyter.widget-view+json": {
       "model_id": "afcecaba22e34481993aafe5db8dd505",
       "version_major": 2,
       "version_minor": 0
      },
      "text/plain": [
       "Batch 90 Processing:   0%|          | 0/50 [00:00<?, ?protein/s]"
      ]
     },
     "metadata": {},
     "output_type": "display_data"
    },
    {
     "name": "stdout",
     "output_type": "stream",
     "text": [
      "📝 Batch 90 saved: 50/50 successful\n"
     ]
    },
    {
     "data": {
      "application/vnd.jupyter.widget-view+json": {
       "model_id": "ed90b9ea548a46e99aa234ba6c17732d",
       "version_major": 2,
       "version_minor": 0
      },
      "text/plain": [
       "Batch 91 Downloads:   0%|          | 0/150 [00:00<?, ?file/s]"
      ]
     },
     "metadata": {},
     "output_type": "display_data"
    },
    {
     "data": {
      "application/vnd.jupyter.widget-view+json": {
       "model_id": "3875e2c0800f48b38b0d9f96b199de5b",
       "version_major": 2,
       "version_minor": 0
      },
      "text/plain": [
       "Batch 91 Processing:   0%|          | 0/50 [00:00<?, ?protein/s]"
      ]
     },
     "metadata": {},
     "output_type": "display_data"
    },
    {
     "name": "stdout",
     "output_type": "stream",
     "text": [
      "📝 Batch 91 saved: 50/50 successful\n"
     ]
    },
    {
     "data": {
      "application/vnd.jupyter.widget-view+json": {
       "model_id": "57b91d683f6949488231cd9660f16af5",
       "version_major": 2,
       "version_minor": 0
      },
      "text/plain": [
       "Batch 92 Downloads:   0%|          | 0/150 [00:00<?, ?file/s]"
      ]
     },
     "metadata": {},
     "output_type": "display_data"
    },
    {
     "data": {
      "application/vnd.jupyter.widget-view+json": {
       "model_id": "38ba688e504542c4a73f6c075dbeec73",
       "version_major": 2,
       "version_minor": 0
      },
      "text/plain": [
       "Batch 92 Processing:   0%|          | 0/50 [00:00<?, ?protein/s]"
      ]
     },
     "metadata": {},
     "output_type": "display_data"
    },
    {
     "name": "stdout",
     "output_type": "stream",
     "text": [
      "📝 Batch 92 saved: 50/50 successful\n"
     ]
    },
    {
     "data": {
      "application/vnd.jupyter.widget-view+json": {
       "model_id": "08c27e2aa2804bdd8b9695a9f96236a7",
       "version_major": 2,
       "version_minor": 0
      },
      "text/plain": [
       "Batch 93 Downloads:   0%|          | 0/150 [00:00<?, ?file/s]"
      ]
     },
     "metadata": {},
     "output_type": "display_data"
    },
    {
     "data": {
      "application/vnd.jupyter.widget-view+json": {
       "model_id": "5211a3f24913468da91e013f33f31964",
       "version_major": 2,
       "version_minor": 0
      },
      "text/plain": [
       "Batch 93 Processing:   0%|          | 0/50 [00:00<?, ?protein/s]"
      ]
     },
     "metadata": {},
     "output_type": "display_data"
    },
    {
     "name": "stdout",
     "output_type": "stream",
     "text": [
      "📝 Batch 93 saved: 50/50 successful\n"
     ]
    },
    {
     "data": {
      "application/vnd.jupyter.widget-view+json": {
       "model_id": "44d545e819ea4c989867f8b8cd281700",
       "version_major": 2,
       "version_minor": 0
      },
      "text/plain": [
       "Batch 94 Downloads:   0%|          | 0/150 [00:00<?, ?file/s]"
      ]
     },
     "metadata": {},
     "output_type": "display_data"
    },
    {
     "data": {
      "application/vnd.jupyter.widget-view+json": {
       "model_id": "88bce84ac27242b6a4be28a63a848256",
       "version_major": 2,
       "version_minor": 0
      },
      "text/plain": [
       "Batch 94 Processing:   0%|          | 0/50 [00:00<?, ?protein/s]"
      ]
     },
     "metadata": {},
     "output_type": "display_data"
    },
    {
     "name": "stdout",
     "output_type": "stream",
     "text": [
      "📝 Batch 94 saved: 50/50 successful\n"
     ]
    },
    {
     "data": {
      "application/vnd.jupyter.widget-view+json": {
       "model_id": "67810414698044499389a8e068fa8563",
       "version_major": 2,
       "version_minor": 0
      },
      "text/plain": [
       "Batch 95 Downloads:   0%|          | 0/150 [00:00<?, ?file/s]"
      ]
     },
     "metadata": {},
     "output_type": "display_data"
    },
    {
     "data": {
      "application/vnd.jupyter.widget-view+json": {
       "model_id": "8670ad2e25f04a238c75f26e5ad8fbb0",
       "version_major": 2,
       "version_minor": 0
      },
      "text/plain": [
       "Batch 95 Processing:   0%|          | 0/50 [00:00<?, ?protein/s]"
      ]
     },
     "metadata": {},
     "output_type": "display_data"
    },
    {
     "name": "stdout",
     "output_type": "stream",
     "text": [
      "📝 Batch 95 saved: 50/50 successful\n"
     ]
    },
    {
     "data": {
      "application/vnd.jupyter.widget-view+json": {
       "model_id": "e694d0710a79479a84ca0c5b347f2bc8",
       "version_major": 2,
       "version_minor": 0
      },
      "text/plain": [
       "Batch 96 Downloads:   0%|          | 0/150 [00:00<?, ?file/s]"
      ]
     },
     "metadata": {},
     "output_type": "display_data"
    },
    {
     "data": {
      "application/vnd.jupyter.widget-view+json": {
       "model_id": "f8f746dc6b3d4544bb800ff228fcfb3c",
       "version_major": 2,
       "version_minor": 0
      },
      "text/plain": [
       "Batch 96 Processing:   0%|          | 0/50 [00:00<?, ?protein/s]"
      ]
     },
     "metadata": {},
     "output_type": "display_data"
    },
    {
     "name": "stdout",
     "output_type": "stream",
     "text": [
      "📝 Batch 96 saved: 50/50 successful\n"
     ]
    },
    {
     "data": {
      "application/vnd.jupyter.widget-view+json": {
       "model_id": "68434906f3414a67b35b0651d5e7f588",
       "version_major": 2,
       "version_minor": 0
      },
      "text/plain": [
       "Batch 97 Downloads:   0%|          | 0/150 [00:00<?, ?file/s]"
      ]
     },
     "metadata": {},
     "output_type": "display_data"
    },
    {
     "data": {
      "application/vnd.jupyter.widget-view+json": {
       "model_id": "5030f79d0e474d95b36cd860943e1770",
       "version_major": 2,
       "version_minor": 0
      },
      "text/plain": [
       "Batch 97 Processing:   0%|          | 0/50 [00:00<?, ?protein/s]"
      ]
     },
     "metadata": {},
     "output_type": "display_data"
    },
    {
     "name": "stdout",
     "output_type": "stream",
     "text": [
      "📝 Batch 97 saved: 50/50 successful\n"
     ]
    },
    {
     "data": {
      "application/vnd.jupyter.widget-view+json": {
       "model_id": "fedeaa2dab9b4547b5e94546ee77b23a",
       "version_major": 2,
       "version_minor": 0
      },
      "text/plain": [
       "Batch 98 Downloads:   0%|          | 0/150 [00:00<?, ?file/s]"
      ]
     },
     "metadata": {},
     "output_type": "display_data"
    },
    {
     "data": {
      "application/vnd.jupyter.widget-view+json": {
       "model_id": "e90844f7dba14b1db47a9a463778feb3",
       "version_major": 2,
       "version_minor": 0
      },
      "text/plain": [
       "Batch 98 Processing:   0%|          | 0/50 [00:00<?, ?protein/s]"
      ]
     },
     "metadata": {},
     "output_type": "display_data"
    },
    {
     "name": "stdout",
     "output_type": "stream",
     "text": [
      "📝 Batch 98 saved: 50/50 successful\n"
     ]
    },
    {
     "data": {
      "application/vnd.jupyter.widget-view+json": {
       "model_id": "8e8d576795e84f49937ec3fa1f927509",
       "version_major": 2,
       "version_minor": 0
      },
      "text/plain": [
       "Batch 99 Downloads:   0%|          | 0/150 [00:00<?, ?file/s]"
      ]
     },
     "metadata": {},
     "output_type": "display_data"
    },
    {
     "data": {
      "application/vnd.jupyter.widget-view+json": {
       "model_id": "f5c4802be6e245c1afd3cedb654e9e39",
       "version_major": 2,
       "version_minor": 0
      },
      "text/plain": [
       "Batch 99 Processing:   0%|          | 0/50 [00:00<?, ?protein/s]"
      ]
     },
     "metadata": {},
     "output_type": "display_data"
    },
    {
     "name": "stdout",
     "output_type": "stream",
     "text": [
      "📝 Batch 99 saved: 50/50 successful\n"
     ]
    },
    {
     "data": {
      "application/vnd.jupyter.widget-view+json": {
       "model_id": "1f548f5f33364b5b9034808c8663ff6c",
       "version_major": 2,
       "version_minor": 0
      },
      "text/plain": [
       "Batch 100 Downloads:   0%|          | 0/150 [00:00<?, ?file/s]"
      ]
     },
     "metadata": {},
     "output_type": "display_data"
    },
    {
     "data": {
      "application/vnd.jupyter.widget-view+json": {
       "model_id": "a073dafd9c5c4c91aa59fe228cbbdbc1",
       "version_major": 2,
       "version_minor": 0
      },
      "text/plain": [
       "Batch 100 Processing:   0%|          | 0/50 [00:00<?, ?protein/s]"
      ]
     },
     "metadata": {},
     "output_type": "display_data"
    },
    {
     "name": "stdout",
     "output_type": "stream",
     "text": [
      "📝 Batch 100 saved: 50/50 successful\n"
     ]
    },
    {
     "data": {
      "application/vnd.jupyter.widget-view+json": {
       "model_id": "ebf487d847994b72b372653585856b82",
       "version_major": 2,
       "version_minor": 0
      },
      "text/plain": [
       "Batch 101 Downloads:   0%|          | 0/150 [00:00<?, ?file/s]"
      ]
     },
     "metadata": {},
     "output_type": "display_data"
    },
    {
     "data": {
      "application/vnd.jupyter.widget-view+json": {
       "model_id": "0ceda665704340868cc50e31905bd866",
       "version_major": 2,
       "version_minor": 0
      },
      "text/plain": [
       "Batch 101 Processing:   0%|          | 0/50 [00:00<?, ?protein/s]"
      ]
     },
     "metadata": {},
     "output_type": "display_data"
    },
    {
     "name": "stdout",
     "output_type": "stream",
     "text": [
      "📝 Batch 101 saved: 50/50 successful\n"
     ]
    },
    {
     "data": {
      "application/vnd.jupyter.widget-view+json": {
       "model_id": "e91b8637ce014d00856707ddf3f6da05",
       "version_major": 2,
       "version_minor": 0
      },
      "text/plain": [
       "Batch 102 Downloads:   0%|          | 0/150 [00:00<?, ?file/s]"
      ]
     },
     "metadata": {},
     "output_type": "display_data"
    },
    {
     "data": {
      "application/vnd.jupyter.widget-view+json": {
       "model_id": "67ae9d44c50344cc8348d0170cc5a6bf",
       "version_major": 2,
       "version_minor": 0
      },
      "text/plain": [
       "Batch 102 Processing:   0%|          | 0/50 [00:00<?, ?protein/s]"
      ]
     },
     "metadata": {},
     "output_type": "display_data"
    },
    {
     "name": "stdout",
     "output_type": "stream",
     "text": [
      "📝 Batch 102 saved: 50/50 successful\n"
     ]
    },
    {
     "data": {
      "application/vnd.jupyter.widget-view+json": {
       "model_id": "cda5080612574c63b9af65729d374721",
       "version_major": 2,
       "version_minor": 0
      },
      "text/plain": [
       "Batch 103 Downloads:   0%|          | 0/150 [00:00<?, ?file/s]"
      ]
     },
     "metadata": {},
     "output_type": "display_data"
    },
    {
     "data": {
      "application/vnd.jupyter.widget-view+json": {
       "model_id": "3092b67b3b4e4c60bbceba60c239d574",
       "version_major": 2,
       "version_minor": 0
      },
      "text/plain": [
       "Batch 103 Processing:   0%|          | 0/50 [00:00<?, ?protein/s]"
      ]
     },
     "metadata": {},
     "output_type": "display_data"
    },
    {
     "name": "stdout",
     "output_type": "stream",
     "text": [
      "📝 Batch 103 saved: 50/50 successful\n"
     ]
    },
    {
     "data": {
      "application/vnd.jupyter.widget-view+json": {
       "model_id": "3c64b8eed7c14d7ea9d3fd1e3cbb29dd",
       "version_major": 2,
       "version_minor": 0
      },
      "text/plain": [
       "Batch 104 Downloads:   0%|          | 0/150 [00:00<?, ?file/s]"
      ]
     },
     "metadata": {},
     "output_type": "display_data"
    },
    {
     "data": {
      "application/vnd.jupyter.widget-view+json": {
       "model_id": "20da1ed59ae4448da94b0f1ad7d59a93",
       "version_major": 2,
       "version_minor": 0
      },
      "text/plain": [
       "Batch 104 Processing:   0%|          | 0/50 [00:00<?, ?protein/s]"
      ]
     },
     "metadata": {},
     "output_type": "display_data"
    },
    {
     "name": "stdout",
     "output_type": "stream",
     "text": [
      "📝 Batch 104 saved: 50/50 successful\n"
     ]
    },
    {
     "data": {
      "application/vnd.jupyter.widget-view+json": {
       "model_id": "f02a7439db664eec9bf824876f605531",
       "version_major": 2,
       "version_minor": 0
      },
      "text/plain": [
       "Batch 105 Downloads:   0%|          | 0/150 [00:00<?, ?file/s]"
      ]
     },
     "metadata": {},
     "output_type": "display_data"
    },
    {
     "data": {
      "application/vnd.jupyter.widget-view+json": {
       "model_id": "3746020b498b42db803ba8eb0c929919",
       "version_major": 2,
       "version_minor": 0
      },
      "text/plain": [
       "Batch 105 Processing:   0%|          | 0/50 [00:00<?, ?protein/s]"
      ]
     },
     "metadata": {},
     "output_type": "display_data"
    },
    {
     "name": "stdout",
     "output_type": "stream",
     "text": [
      "📝 Batch 105 saved: 50/50 successful\n"
     ]
    },
    {
     "data": {
      "application/vnd.jupyter.widget-view+json": {
       "model_id": "4f5893be75e94e0aa98322cfc3789081",
       "version_major": 2,
       "version_minor": 0
      },
      "text/plain": [
       "Batch 106 Downloads:   0%|          | 0/150 [00:00<?, ?file/s]"
      ]
     },
     "metadata": {},
     "output_type": "display_data"
    },
    {
     "data": {
      "application/vnd.jupyter.widget-view+json": {
       "model_id": "326a3a1061084f97b13726de5f8e0801",
       "version_major": 2,
       "version_minor": 0
      },
      "text/plain": [
       "Batch 106 Processing:   0%|          | 0/50 [00:00<?, ?protein/s]"
      ]
     },
     "metadata": {},
     "output_type": "display_data"
    },
    {
     "name": "stdout",
     "output_type": "stream",
     "text": [
      "📝 Batch 106 saved: 50/50 successful\n"
     ]
    },
    {
     "data": {
      "application/vnd.jupyter.widget-view+json": {
       "model_id": "839411bd1b534745a9ce80935dbf51b9",
       "version_major": 2,
       "version_minor": 0
      },
      "text/plain": [
       "Batch 107 Downloads:   0%|          | 0/150 [00:00<?, ?file/s]"
      ]
     },
     "metadata": {},
     "output_type": "display_data"
    },
    {
     "data": {
      "application/vnd.jupyter.widget-view+json": {
       "model_id": "87d77afca70f4ec0a042cc7fd5ad6984",
       "version_major": 2,
       "version_minor": 0
      },
      "text/plain": [
       "Batch 107 Processing:   0%|          | 0/50 [00:00<?, ?protein/s]"
      ]
     },
     "metadata": {},
     "output_type": "display_data"
    },
    {
     "name": "stdout",
     "output_type": "stream",
     "text": [
      "📝 Batch 107 saved: 50/50 successful\n"
     ]
    },
    {
     "data": {
      "application/vnd.jupyter.widget-view+json": {
       "model_id": "652a9bc3e94b4481807253d88a6a1c59",
       "version_major": 2,
       "version_minor": 0
      },
      "text/plain": [
       "Batch 108 Downloads:   0%|          | 0/150 [00:00<?, ?file/s]"
      ]
     },
     "metadata": {},
     "output_type": "display_data"
    },
    {
     "data": {
      "application/vnd.jupyter.widget-view+json": {
       "model_id": "d3b029999757456084dd6631baec004c",
       "version_major": 2,
       "version_minor": 0
      },
      "text/plain": [
       "Batch 108 Processing:   0%|          | 0/50 [00:00<?, ?protein/s]"
      ]
     },
     "metadata": {},
     "output_type": "display_data"
    },
    {
     "name": "stdout",
     "output_type": "stream",
     "text": [
      "📝 Batch 108 saved: 50/50 successful\n"
     ]
    },
    {
     "data": {
      "application/vnd.jupyter.widget-view+json": {
       "model_id": "b49a136d4a6749e38f3be0e88f913c74",
       "version_major": 2,
       "version_minor": 0
      },
      "text/plain": [
       "Batch 109 Downloads:   0%|          | 0/150 [00:00<?, ?file/s]"
      ]
     },
     "metadata": {},
     "output_type": "display_data"
    },
    {
     "data": {
      "application/vnd.jupyter.widget-view+json": {
       "model_id": "62c34226944a4c738558e655b657e4a3",
       "version_major": 2,
       "version_minor": 0
      },
      "text/plain": [
       "Batch 109 Processing:   0%|          | 0/50 [00:00<?, ?protein/s]"
      ]
     },
     "metadata": {},
     "output_type": "display_data"
    },
    {
     "name": "stdout",
     "output_type": "stream",
     "text": [
      "📝 Batch 109 saved: 50/50 successful\n"
     ]
    },
    {
     "data": {
      "application/vnd.jupyter.widget-view+json": {
       "model_id": "6f3d4490ef904417ad552f5de76e054d",
       "version_major": 2,
       "version_minor": 0
      },
      "text/plain": [
       "Batch 110 Downloads:   0%|          | 0/150 [00:00<?, ?file/s]"
      ]
     },
     "metadata": {},
     "output_type": "display_data"
    },
    {
     "data": {
      "application/vnd.jupyter.widget-view+json": {
       "model_id": "c392806772274be39f1a6f87840a99d4",
       "version_major": 2,
       "version_minor": 0
      },
      "text/plain": [
       "Batch 110 Processing:   0%|          | 0/50 [00:00<?, ?protein/s]"
      ]
     },
     "metadata": {},
     "output_type": "display_data"
    },
    {
     "name": "stdout",
     "output_type": "stream",
     "text": [
      "📝 Batch 110 saved: 50/50 successful\n"
     ]
    },
    {
     "data": {
      "application/vnd.jupyter.widget-view+json": {
       "model_id": "99a8eb14a4dc4b178f9f0dc5f7c9b158",
       "version_major": 2,
       "version_minor": 0
      },
      "text/plain": [
       "Batch 111 Downloads:   0%|          | 0/150 [00:00<?, ?file/s]"
      ]
     },
     "metadata": {},
     "output_type": "display_data"
    },
    {
     "data": {
      "application/vnd.jupyter.widget-view+json": {
       "model_id": "7bbea633b61f4d63ac2218301887dc84",
       "version_major": 2,
       "version_minor": 0
      },
      "text/plain": [
       "Batch 111 Processing:   0%|          | 0/50 [00:00<?, ?protein/s]"
      ]
     },
     "metadata": {},
     "output_type": "display_data"
    },
    {
     "name": "stdout",
     "output_type": "stream",
     "text": [
      "📝 Batch 111 saved: 50/50 successful\n"
     ]
    },
    {
     "data": {
      "application/vnd.jupyter.widget-view+json": {
       "model_id": "ac955c2d515d4c48b5a9ede9da5ecb84",
       "version_major": 2,
       "version_minor": 0
      },
      "text/plain": [
       "Batch 112 Downloads:   0%|          | 0/150 [00:00<?, ?file/s]"
      ]
     },
     "metadata": {},
     "output_type": "display_data"
    },
    {
     "data": {
      "application/vnd.jupyter.widget-view+json": {
       "model_id": "84ff28aea0454fcfa19ba4f6af955acd",
       "version_major": 2,
       "version_minor": 0
      },
      "text/plain": [
       "Batch 112 Processing:   0%|          | 0/50 [00:00<?, ?protein/s]"
      ]
     },
     "metadata": {},
     "output_type": "display_data"
    },
    {
     "name": "stdout",
     "output_type": "stream",
     "text": [
      "📝 Batch 112 saved: 50/50 successful\n"
     ]
    },
    {
     "data": {
      "application/vnd.jupyter.widget-view+json": {
       "model_id": "21722be75a28481a8819758ecb25ed6e",
       "version_major": 2,
       "version_minor": 0
      },
      "text/plain": [
       "Batch 113 Downloads:   0%|          | 0/150 [00:00<?, ?file/s]"
      ]
     },
     "metadata": {},
     "output_type": "display_data"
    },
    {
     "data": {
      "application/vnd.jupyter.widget-view+json": {
       "model_id": "8b433246ed2443bf90b37a545edd0531",
       "version_major": 2,
       "version_minor": 0
      },
      "text/plain": [
       "Batch 113 Processing:   0%|          | 0/50 [00:00<?, ?protein/s]"
      ]
     },
     "metadata": {},
     "output_type": "display_data"
    },
    {
     "name": "stdout",
     "output_type": "stream",
     "text": [
      "📝 Batch 113 saved: 50/50 successful\n"
     ]
    },
    {
     "data": {
      "application/vnd.jupyter.widget-view+json": {
       "model_id": "a30f28873a6a47e7bd7870b441ad6709",
       "version_major": 2,
       "version_minor": 0
      },
      "text/plain": [
       "Batch 114 Downloads:   0%|          | 0/150 [00:00<?, ?file/s]"
      ]
     },
     "metadata": {},
     "output_type": "display_data"
    },
    {
     "data": {
      "application/vnd.jupyter.widget-view+json": {
       "model_id": "740c597f3e724408881582177f2d70e2",
       "version_major": 2,
       "version_minor": 0
      },
      "text/plain": [
       "Batch 114 Processing:   0%|          | 0/50 [00:00<?, ?protein/s]"
      ]
     },
     "metadata": {},
     "output_type": "display_data"
    },
    {
     "name": "stdout",
     "output_type": "stream",
     "text": [
      "📝 Batch 114 saved: 50/50 successful\n"
     ]
    },
    {
     "data": {
      "application/vnd.jupyter.widget-view+json": {
       "model_id": "dc7ff8853b99492395b9d754b47b5219",
       "version_major": 2,
       "version_minor": 0
      },
      "text/plain": [
       "Batch 115 Downloads:   0%|          | 0/150 [00:00<?, ?file/s]"
      ]
     },
     "metadata": {},
     "output_type": "display_data"
    },
    {
     "data": {
      "application/vnd.jupyter.widget-view+json": {
       "model_id": "4dd5bd89db864576bd78a064c9cba39b",
       "version_major": 2,
       "version_minor": 0
      },
      "text/plain": [
       "Batch 115 Processing:   0%|          | 0/50 [00:00<?, ?protein/s]"
      ]
     },
     "metadata": {},
     "output_type": "display_data"
    },
    {
     "name": "stdout",
     "output_type": "stream",
     "text": [
      "📝 Batch 115 saved: 50/50 successful\n"
     ]
    },
    {
     "data": {
      "application/vnd.jupyter.widget-view+json": {
       "model_id": "a7ac19e5f47f4637b4e203356379efcf",
       "version_major": 2,
       "version_minor": 0
      },
      "text/plain": [
       "Batch 116 Downloads:   0%|          | 0/150 [00:00<?, ?file/s]"
      ]
     },
     "metadata": {},
     "output_type": "display_data"
    },
    {
     "data": {
      "application/vnd.jupyter.widget-view+json": {
       "model_id": "2e570921220044529bd05246cd0d98f2",
       "version_major": 2,
       "version_minor": 0
      },
      "text/plain": [
       "Batch 116 Processing:   0%|          | 0/50 [00:00<?, ?protein/s]"
      ]
     },
     "metadata": {},
     "output_type": "display_data"
    },
    {
     "name": "stdout",
     "output_type": "stream",
     "text": [
      "📝 Batch 116 saved: 50/50 successful\n"
     ]
    },
    {
     "data": {
      "application/vnd.jupyter.widget-view+json": {
       "model_id": "5b7b344c24b84ac6af36093bb6a41689",
       "version_major": 2,
       "version_minor": 0
      },
      "text/plain": [
       "Batch 117 Downloads:   0%|          | 0/150 [00:00<?, ?file/s]"
      ]
     },
     "metadata": {},
     "output_type": "display_data"
    },
    {
     "data": {
      "application/vnd.jupyter.widget-view+json": {
       "model_id": "96550fbb06f846318cdfccc3d2d795a8",
       "version_major": 2,
       "version_minor": 0
      },
      "text/plain": [
       "Batch 117 Processing:   0%|          | 0/50 [00:00<?, ?protein/s]"
      ]
     },
     "metadata": {},
     "output_type": "display_data"
    },
    {
     "name": "stdout",
     "output_type": "stream",
     "text": [
      "📝 Batch 117 saved: 50/50 successful\n"
     ]
    },
    {
     "data": {
      "application/vnd.jupyter.widget-view+json": {
       "model_id": "0901ce7636134567aca7c5c5b2267fff",
       "version_major": 2,
       "version_minor": 0
      },
      "text/plain": [
       "Batch 118 Downloads:   0%|          | 0/150 [00:00<?, ?file/s]"
      ]
     },
     "metadata": {},
     "output_type": "display_data"
    },
    {
     "data": {
      "application/vnd.jupyter.widget-view+json": {
       "model_id": "1b961590a82c435cbd13be482882a6c7",
       "version_major": 2,
       "version_minor": 0
      },
      "text/plain": [
       "Batch 118 Processing:   0%|          | 0/50 [00:00<?, ?protein/s]"
      ]
     },
     "metadata": {},
     "output_type": "display_data"
    },
    {
     "name": "stdout",
     "output_type": "stream",
     "text": [
      "📝 Batch 118 saved: 50/50 successful\n"
     ]
    },
    {
     "data": {
      "application/vnd.jupyter.widget-view+json": {
       "model_id": "05d86bbeb9ec4b1797e27cc8f52a8d5d",
       "version_major": 2,
       "version_minor": 0
      },
      "text/plain": [
       "Batch 119 Downloads:   0%|          | 0/150 [00:00<?, ?file/s]"
      ]
     },
     "metadata": {},
     "output_type": "display_data"
    },
    {
     "data": {
      "application/vnd.jupyter.widget-view+json": {
       "model_id": "ef283a72996b4af6ad861e1668a1b189",
       "version_major": 2,
       "version_minor": 0
      },
      "text/plain": [
       "Batch 119 Processing:   0%|          | 0/50 [00:00<?, ?protein/s]"
      ]
     },
     "metadata": {},
     "output_type": "display_data"
    },
    {
     "name": "stdout",
     "output_type": "stream",
     "text": [
      "📝 Batch 119 saved: 48/50 successful\n"
     ]
    },
    {
     "data": {
      "application/vnd.jupyter.widget-view+json": {
       "model_id": "d5cbead0e58147f7a8cf76f36dec457a",
       "version_major": 2,
       "version_minor": 0
      },
      "text/plain": [
       "Batch 120 Downloads:   0%|          | 0/150 [00:00<?, ?file/s]"
      ]
     },
     "metadata": {},
     "output_type": "display_data"
    },
    {
     "data": {
      "application/vnd.jupyter.widget-view+json": {
       "model_id": "bd8b8138e1564973b9601a7d27baa1fa",
       "version_major": 2,
       "version_minor": 0
      },
      "text/plain": [
       "Batch 120 Processing:   0%|          | 0/50 [00:00<?, ?protein/s]"
      ]
     },
     "metadata": {},
     "output_type": "display_data"
    },
    {
     "name": "stdout",
     "output_type": "stream",
     "text": [
      "📝 Batch 120 saved: 50/50 successful\n"
     ]
    },
    {
     "data": {
      "application/vnd.jupyter.widget-view+json": {
       "model_id": "7e8a99628a754b83ae08a868786dd554",
       "version_major": 2,
       "version_minor": 0
      },
      "text/plain": [
       "Batch 121 Downloads:   0%|          | 0/150 [00:00<?, ?file/s]"
      ]
     },
     "metadata": {},
     "output_type": "display_data"
    },
    {
     "data": {
      "application/vnd.jupyter.widget-view+json": {
       "model_id": "74c6c873be634acbb53cf436e11bb3fd",
       "version_major": 2,
       "version_minor": 0
      },
      "text/plain": [
       "Batch 121 Processing:   0%|          | 0/50 [00:00<?, ?protein/s]"
      ]
     },
     "metadata": {},
     "output_type": "display_data"
    },
    {
     "name": "stdout",
     "output_type": "stream",
     "text": [
      "📝 Batch 121 saved: 50/50 successful\n"
     ]
    },
    {
     "data": {
      "application/vnd.jupyter.widget-view+json": {
       "model_id": "9941ee36d2bc4d3ea4d46459aa82083a",
       "version_major": 2,
       "version_minor": 0
      },
      "text/plain": [
       "Batch 122 Downloads:   0%|          | 0/150 [00:00<?, ?file/s]"
      ]
     },
     "metadata": {},
     "output_type": "display_data"
    },
    {
     "data": {
      "application/vnd.jupyter.widget-view+json": {
       "model_id": "6ac70cc47cc34ca3bac58d0b72a819ed",
       "version_major": 2,
       "version_minor": 0
      },
      "text/plain": [
       "Batch 122 Processing:   0%|          | 0/50 [00:00<?, ?protein/s]"
      ]
     },
     "metadata": {},
     "output_type": "display_data"
    },
    {
     "name": "stdout",
     "output_type": "stream",
     "text": [
      "📝 Batch 122 saved: 50/50 successful\n"
     ]
    },
    {
     "data": {
      "application/vnd.jupyter.widget-view+json": {
       "model_id": "485c441d295b465fbc6f9ad47376ad08",
       "version_major": 2,
       "version_minor": 0
      },
      "text/plain": [
       "Batch 123 Downloads:   0%|          | 0/150 [00:00<?, ?file/s]"
      ]
     },
     "metadata": {},
     "output_type": "display_data"
    },
    {
     "data": {
      "application/vnd.jupyter.widget-view+json": {
       "model_id": "372c6b520c0743309faec46d5f5c9864",
       "version_major": 2,
       "version_minor": 0
      },
      "text/plain": [
       "Batch 123 Processing:   0%|          | 0/50 [00:00<?, ?protein/s]"
      ]
     },
     "metadata": {},
     "output_type": "display_data"
    },
    {
     "name": "stdout",
     "output_type": "stream",
     "text": [
      "📝 Batch 123 saved: 50/50 successful\n"
     ]
    },
    {
     "data": {
      "application/vnd.jupyter.widget-view+json": {
       "model_id": "51145218177e4ebdb8e8f6a624a056b5",
       "version_major": 2,
       "version_minor": 0
      },
      "text/plain": [
       "Batch 124 Downloads:   0%|          | 0/150 [00:00<?, ?file/s]"
      ]
     },
     "metadata": {},
     "output_type": "display_data"
    },
    {
     "data": {
      "application/vnd.jupyter.widget-view+json": {
       "model_id": "f7f37e6682f74b76b256f97db2194ee3",
       "version_major": 2,
       "version_minor": 0
      },
      "text/plain": [
       "Batch 124 Processing:   0%|          | 0/50 [00:00<?, ?protein/s]"
      ]
     },
     "metadata": {},
     "output_type": "display_data"
    },
    {
     "name": "stdout",
     "output_type": "stream",
     "text": [
      "📝 Batch 124 saved: 50/50 successful\n"
     ]
    },
    {
     "data": {
      "application/vnd.jupyter.widget-view+json": {
       "model_id": "5b1fb490b81341c4879630f34defb1df",
       "version_major": 2,
       "version_minor": 0
      },
      "text/plain": [
       "Batch 125 Downloads:   0%|          | 0/150 [00:00<?, ?file/s]"
      ]
     },
     "metadata": {},
     "output_type": "display_data"
    },
    {
     "data": {
      "application/vnd.jupyter.widget-view+json": {
       "model_id": "32ceabcb2b144b53b92dad8503746097",
       "version_major": 2,
       "version_minor": 0
      },
      "text/plain": [
       "Batch 125 Processing:   0%|          | 0/50 [00:00<?, ?protein/s]"
      ]
     },
     "metadata": {},
     "output_type": "display_data"
    },
    {
     "name": "stdout",
     "output_type": "stream",
     "text": [
      "📝 Batch 125 saved: 50/50 successful\n"
     ]
    },
    {
     "data": {
      "application/vnd.jupyter.widget-view+json": {
       "model_id": "14fb625d0cbf47eb9bb68342b029ce89",
       "version_major": 2,
       "version_minor": 0
      },
      "text/plain": [
       "Batch 126 Downloads:   0%|          | 0/150 [00:00<?, ?file/s]"
      ]
     },
     "metadata": {},
     "output_type": "display_data"
    },
    {
     "data": {
      "application/vnd.jupyter.widget-view+json": {
       "model_id": "f48beaf238934e99a6eff3345e1c525a",
       "version_major": 2,
       "version_minor": 0
      },
      "text/plain": [
       "Batch 126 Processing:   0%|          | 0/50 [00:00<?, ?protein/s]"
      ]
     },
     "metadata": {},
     "output_type": "display_data"
    },
    {
     "name": "stdout",
     "output_type": "stream",
     "text": [
      "📝 Batch 126 saved: 50/50 successful\n"
     ]
    },
    {
     "data": {
      "application/vnd.jupyter.widget-view+json": {
       "model_id": "185ac4e228f74d7ea33142b8df8624ee",
       "version_major": 2,
       "version_minor": 0
      },
      "text/plain": [
       "Batch 127 Downloads:   0%|          | 0/150 [00:00<?, ?file/s]"
      ]
     },
     "metadata": {},
     "output_type": "display_data"
    },
    {
     "data": {
      "application/vnd.jupyter.widget-view+json": {
       "model_id": "7ab3878293d348af8beba10856478c6d",
       "version_major": 2,
       "version_minor": 0
      },
      "text/plain": [
       "Batch 127 Processing:   0%|          | 0/50 [00:00<?, ?protein/s]"
      ]
     },
     "metadata": {},
     "output_type": "display_data"
    },
    {
     "name": "stdout",
     "output_type": "stream",
     "text": [
      "📝 Batch 127 saved: 50/50 successful\n"
     ]
    },
    {
     "data": {
      "application/vnd.jupyter.widget-view+json": {
       "model_id": "4d926e56fc814f22ad19b9876705aea8",
       "version_major": 2,
       "version_minor": 0
      },
      "text/plain": [
       "Batch 128 Downloads:   0%|          | 0/150 [00:00<?, ?file/s]"
      ]
     },
     "metadata": {},
     "output_type": "display_data"
    },
    {
     "data": {
      "application/vnd.jupyter.widget-view+json": {
       "model_id": "b2563931a2ca419ab55e8bf2d9529ba1",
       "version_major": 2,
       "version_minor": 0
      },
      "text/plain": [
       "Batch 128 Processing:   0%|          | 0/50 [00:00<?, ?protein/s]"
      ]
     },
     "metadata": {},
     "output_type": "display_data"
    },
    {
     "name": "stdout",
     "output_type": "stream",
     "text": [
      "📝 Batch 128 saved: 50/50 successful\n"
     ]
    },
    {
     "data": {
      "application/vnd.jupyter.widget-view+json": {
       "model_id": "b4a08925f3844a17abef62b6845985fc",
       "version_major": 2,
       "version_minor": 0
      },
      "text/plain": [
       "Batch 129 Downloads:   0%|          | 0/150 [00:00<?, ?file/s]"
      ]
     },
     "metadata": {},
     "output_type": "display_data"
    },
    {
     "data": {
      "application/vnd.jupyter.widget-view+json": {
       "model_id": "fd77f9cf6d534163b49ac45b63b7b367",
       "version_major": 2,
       "version_minor": 0
      },
      "text/plain": [
       "Batch 129 Processing:   0%|          | 0/50 [00:00<?, ?protein/s]"
      ]
     },
     "metadata": {},
     "output_type": "display_data"
    },
    {
     "name": "stdout",
     "output_type": "stream",
     "text": [
      "📝 Batch 129 saved: 50/50 successful\n"
     ]
    },
    {
     "data": {
      "application/vnd.jupyter.widget-view+json": {
       "model_id": "72a708a072b9496aa48ff837fb7b6ec7",
       "version_major": 2,
       "version_minor": 0
      },
      "text/plain": [
       "Batch 130 Downloads:   0%|          | 0/150 [00:00<?, ?file/s]"
      ]
     },
     "metadata": {},
     "output_type": "display_data"
    },
    {
     "data": {
      "application/vnd.jupyter.widget-view+json": {
       "model_id": "80f2374b3c2549798d9b78384b6f9238",
       "version_major": 2,
       "version_minor": 0
      },
      "text/plain": [
       "Batch 130 Processing:   0%|          | 0/50 [00:00<?, ?protein/s]"
      ]
     },
     "metadata": {},
     "output_type": "display_data"
    },
    {
     "name": "stdout",
     "output_type": "stream",
     "text": [
      "📝 Batch 130 saved: 50/50 successful\n"
     ]
    },
    {
     "data": {
      "application/vnd.jupyter.widget-view+json": {
       "model_id": "f7dd138d92754f8aad8c2d9ce1d87740",
       "version_major": 2,
       "version_minor": 0
      },
      "text/plain": [
       "Batch 131 Downloads:   0%|          | 0/150 [00:00<?, ?file/s]"
      ]
     },
     "metadata": {},
     "output_type": "display_data"
    },
    {
     "data": {
      "application/vnd.jupyter.widget-view+json": {
       "model_id": "763709576dac4485bc9bc5c92323fec0",
       "version_major": 2,
       "version_minor": 0
      },
      "text/plain": [
       "Batch 131 Processing:   0%|          | 0/50 [00:00<?, ?protein/s]"
      ]
     },
     "metadata": {},
     "output_type": "display_data"
    },
    {
     "name": "stdout",
     "output_type": "stream",
     "text": [
      "📝 Batch 131 saved: 50/50 successful\n"
     ]
    },
    {
     "data": {
      "application/vnd.jupyter.widget-view+json": {
       "model_id": "d669f1d5a1f44691a0f311d598454ab1",
       "version_major": 2,
       "version_minor": 0
      },
      "text/plain": [
       "Batch 132 Downloads:   0%|          | 0/150 [00:00<?, ?file/s]"
      ]
     },
     "metadata": {},
     "output_type": "display_data"
    },
    {
     "data": {
      "application/vnd.jupyter.widget-view+json": {
       "model_id": "bc106f3e29fd43d7b6ca002e564af85a",
       "version_major": 2,
       "version_minor": 0
      },
      "text/plain": [
       "Batch 132 Processing:   0%|          | 0/50 [00:00<?, ?protein/s]"
      ]
     },
     "metadata": {},
     "output_type": "display_data"
    },
    {
     "name": "stdout",
     "output_type": "stream",
     "text": [
      "📝 Batch 132 saved: 50/50 successful\n"
     ]
    },
    {
     "data": {
      "application/vnd.jupyter.widget-view+json": {
       "model_id": "c48625364c2b4a1daf011e0059e501b1",
       "version_major": 2,
       "version_minor": 0
      },
      "text/plain": [
       "Batch 133 Downloads:   0%|          | 0/150 [00:00<?, ?file/s]"
      ]
     },
     "metadata": {},
     "output_type": "display_data"
    },
    {
     "data": {
      "application/vnd.jupyter.widget-view+json": {
       "model_id": "4bc368052d164b638a164182319896a2",
       "version_major": 2,
       "version_minor": 0
      },
      "text/plain": [
       "Batch 133 Processing:   0%|          | 0/50 [00:00<?, ?protein/s]"
      ]
     },
     "metadata": {},
     "output_type": "display_data"
    },
    {
     "name": "stdout",
     "output_type": "stream",
     "text": [
      "📝 Batch 133 saved: 50/50 successful\n"
     ]
    },
    {
     "data": {
      "application/vnd.jupyter.widget-view+json": {
       "model_id": "dce41ecb67c34114bdb820bca4eb8f1b",
       "version_major": 2,
       "version_minor": 0
      },
      "text/plain": [
       "Batch 134 Downloads:   0%|          | 0/150 [00:00<?, ?file/s]"
      ]
     },
     "metadata": {},
     "output_type": "display_data"
    },
    {
     "data": {
      "application/vnd.jupyter.widget-view+json": {
       "model_id": "d6be4cfaa820493593a7670a5f239a52",
       "version_major": 2,
       "version_minor": 0
      },
      "text/plain": [
       "Batch 134 Processing:   0%|          | 0/50 [00:00<?, ?protein/s]"
      ]
     },
     "metadata": {},
     "output_type": "display_data"
    },
    {
     "name": "stdout",
     "output_type": "stream",
     "text": [
      "📝 Batch 134 saved: 50/50 successful\n"
     ]
    },
    {
     "data": {
      "application/vnd.jupyter.widget-view+json": {
       "model_id": "f6959a8093d04f2aac07a19274a12b2c",
       "version_major": 2,
       "version_minor": 0
      },
      "text/plain": [
       "Batch 135 Downloads:   0%|          | 0/150 [00:00<?, ?file/s]"
      ]
     },
     "metadata": {},
     "output_type": "display_data"
    },
    {
     "data": {
      "application/vnd.jupyter.widget-view+json": {
       "model_id": "d5724205f6334bb5a5e89c1ab6e335ad",
       "version_major": 2,
       "version_minor": 0
      },
      "text/plain": [
       "Batch 135 Processing:   0%|          | 0/50 [00:00<?, ?protein/s]"
      ]
     },
     "metadata": {},
     "output_type": "display_data"
    },
    {
     "name": "stdout",
     "output_type": "stream",
     "text": [
      "📝 Batch 135 saved: 50/50 successful\n"
     ]
    },
    {
     "data": {
      "application/vnd.jupyter.widget-view+json": {
       "model_id": "e3d81ae5e013435da2b832f182143fe1",
       "version_major": 2,
       "version_minor": 0
      },
      "text/plain": [
       "Batch 136 Downloads:   0%|          | 0/150 [00:00<?, ?file/s]"
      ]
     },
     "metadata": {},
     "output_type": "display_data"
    },
    {
     "data": {
      "application/vnd.jupyter.widget-view+json": {
       "model_id": "fd1f9edadf694323b03b8c744d050902",
       "version_major": 2,
       "version_minor": 0
      },
      "text/plain": [
       "Batch 136 Processing:   0%|          | 0/50 [00:00<?, ?protein/s]"
      ]
     },
     "metadata": {},
     "output_type": "display_data"
    },
    {
     "name": "stdout",
     "output_type": "stream",
     "text": [
      "📝 Batch 136 saved: 50/50 successful\n"
     ]
    },
    {
     "data": {
      "application/vnd.jupyter.widget-view+json": {
       "model_id": "1279411fcab14169893d267a8b6bd5ad",
       "version_major": 2,
       "version_minor": 0
      },
      "text/plain": [
       "Batch 137 Downloads:   0%|          | 0/150 [00:00<?, ?file/s]"
      ]
     },
     "metadata": {},
     "output_type": "display_data"
    },
    {
     "data": {
      "application/vnd.jupyter.widget-view+json": {
       "model_id": "0e2c07327a594f0589e10d332a61d924",
       "version_major": 2,
       "version_minor": 0
      },
      "text/plain": [
       "Batch 137 Processing:   0%|          | 0/50 [00:00<?, ?protein/s]"
      ]
     },
     "metadata": {},
     "output_type": "display_data"
    },
    {
     "name": "stdout",
     "output_type": "stream",
     "text": [
      "📝 Batch 137 saved: 50/50 successful\n"
     ]
    },
    {
     "data": {
      "application/vnd.jupyter.widget-view+json": {
       "model_id": "34903b5eba3e4dbaa0c0f43ba0af9a18",
       "version_major": 2,
       "version_minor": 0
      },
      "text/plain": [
       "Batch 138 Downloads:   0%|          | 0/150 [00:00<?, ?file/s]"
      ]
     },
     "metadata": {},
     "output_type": "display_data"
    },
    {
     "data": {
      "application/vnd.jupyter.widget-view+json": {
       "model_id": "ff99bdc04f2342779b2febf44a445b9a",
       "version_major": 2,
       "version_minor": 0
      },
      "text/plain": [
       "Batch 138 Processing:   0%|          | 0/50 [00:00<?, ?protein/s]"
      ]
     },
     "metadata": {},
     "output_type": "display_data"
    },
    {
     "name": "stdout",
     "output_type": "stream",
     "text": [
      "📝 Batch 138 saved: 50/50 successful\n"
     ]
    },
    {
     "data": {
      "application/vnd.jupyter.widget-view+json": {
       "model_id": "92d274047f3a495e842e7f38b2154a40",
       "version_major": 2,
       "version_minor": 0
      },
      "text/plain": [
       "Batch 139 Downloads:   0%|          | 0/150 [00:00<?, ?file/s]"
      ]
     },
     "metadata": {},
     "output_type": "display_data"
    },
    {
     "data": {
      "application/vnd.jupyter.widget-view+json": {
       "model_id": "c6f8a746e339482f8fa712d43d475efd",
       "version_major": 2,
       "version_minor": 0
      },
      "text/plain": [
       "Batch 139 Processing:   0%|          | 0/50 [00:00<?, ?protein/s]"
      ]
     },
     "metadata": {},
     "output_type": "display_data"
    },
    {
     "name": "stdout",
     "output_type": "stream",
     "text": [
      "📝 Batch 139 saved: 50/50 successful\n"
     ]
    },
    {
     "data": {
      "application/vnd.jupyter.widget-view+json": {
       "model_id": "7b0b6cef552941b1b3066e588c0224ab",
       "version_major": 2,
       "version_minor": 0
      },
      "text/plain": [
       "Batch 140 Downloads:   0%|          | 0/150 [00:00<?, ?file/s]"
      ]
     },
     "metadata": {},
     "output_type": "display_data"
    },
    {
     "data": {
      "application/vnd.jupyter.widget-view+json": {
       "model_id": "882ee8efc862421899ae877050c9ed67",
       "version_major": 2,
       "version_minor": 0
      },
      "text/plain": [
       "Batch 140 Processing:   0%|          | 0/50 [00:00<?, ?protein/s]"
      ]
     },
     "metadata": {},
     "output_type": "display_data"
    },
    {
     "name": "stdout",
     "output_type": "stream",
     "text": [
      "📝 Batch 140 saved: 50/50 successful\n"
     ]
    },
    {
     "data": {
      "application/vnd.jupyter.widget-view+json": {
       "model_id": "25c2dc3d44b6403ba703637768f79222",
       "version_major": 2,
       "version_minor": 0
      },
      "text/plain": [
       "Batch 141 Downloads:   0%|          | 0/150 [00:00<?, ?file/s]"
      ]
     },
     "metadata": {},
     "output_type": "display_data"
    },
    {
     "data": {
      "application/vnd.jupyter.widget-view+json": {
       "model_id": "468661a5def04c9b8a9b2940668a2a4a",
       "version_major": 2,
       "version_minor": 0
      },
      "text/plain": [
       "Batch 141 Processing:   0%|          | 0/50 [00:00<?, ?protein/s]"
      ]
     },
     "metadata": {},
     "output_type": "display_data"
    },
    {
     "name": "stdout",
     "output_type": "stream",
     "text": [
      "📝 Batch 141 saved: 50/50 successful\n"
     ]
    },
    {
     "data": {
      "application/vnd.jupyter.widget-view+json": {
       "model_id": "f0fefb70e9e048959b8d152943acf290",
       "version_major": 2,
       "version_minor": 0
      },
      "text/plain": [
       "Batch 142 Downloads:   0%|          | 0/150 [00:00<?, ?file/s]"
      ]
     },
     "metadata": {},
     "output_type": "display_data"
    },
    {
     "data": {
      "application/vnd.jupyter.widget-view+json": {
       "model_id": "5f84610f88044f57a64c80837ca10cc2",
       "version_major": 2,
       "version_minor": 0
      },
      "text/plain": [
       "Batch 142 Processing:   0%|          | 0/50 [00:00<?, ?protein/s]"
      ]
     },
     "metadata": {},
     "output_type": "display_data"
    },
    {
     "name": "stdout",
     "output_type": "stream",
     "text": [
      "📝 Batch 142 saved: 50/50 successful\n"
     ]
    },
    {
     "data": {
      "application/vnd.jupyter.widget-view+json": {
       "model_id": "2403ba91c5ea48d98c656bc2b671bcb8",
       "version_major": 2,
       "version_minor": 0
      },
      "text/plain": [
       "Batch 143 Downloads:   0%|          | 0/150 [00:00<?, ?file/s]"
      ]
     },
     "metadata": {},
     "output_type": "display_data"
    },
    {
     "data": {
      "application/vnd.jupyter.widget-view+json": {
       "model_id": "a0aaf87bce62484bbf083dad5bdbbeb8",
       "version_major": 2,
       "version_minor": 0
      },
      "text/plain": [
       "Batch 143 Processing:   0%|          | 0/50 [00:00<?, ?protein/s]"
      ]
     },
     "metadata": {},
     "output_type": "display_data"
    },
    {
     "name": "stdout",
     "output_type": "stream",
     "text": [
      "📝 Batch 143 saved: 50/50 successful\n"
     ]
    },
    {
     "data": {
      "application/vnd.jupyter.widget-view+json": {
       "model_id": "22133d1120244a86af1b5eb06214b41b",
       "version_major": 2,
       "version_minor": 0
      },
      "text/plain": [
       "Batch 144 Downloads:   0%|          | 0/150 [00:00<?, ?file/s]"
      ]
     },
     "metadata": {},
     "output_type": "display_data"
    },
    {
     "data": {
      "application/vnd.jupyter.widget-view+json": {
       "model_id": "de1e1a1d5ca14e54a4d3b2cdda430360",
       "version_major": 2,
       "version_minor": 0
      },
      "text/plain": [
       "Batch 144 Processing:   0%|          | 0/50 [00:00<?, ?protein/s]"
      ]
     },
     "metadata": {},
     "output_type": "display_data"
    },
    {
     "name": "stdout",
     "output_type": "stream",
     "text": [
      "📝 Batch 144 saved: 50/50 successful\n"
     ]
    },
    {
     "data": {
      "application/vnd.jupyter.widget-view+json": {
       "model_id": "21bcf7b9d87b4ddca126cd0f335eafb3",
       "version_major": 2,
       "version_minor": 0
      },
      "text/plain": [
       "Batch 145 Downloads:   0%|          | 0/150 [00:00<?, ?file/s]"
      ]
     },
     "metadata": {},
     "output_type": "display_data"
    },
    {
     "data": {
      "application/vnd.jupyter.widget-view+json": {
       "model_id": "ed313d0e90834fd783fcbeeffe266b29",
       "version_major": 2,
       "version_minor": 0
      },
      "text/plain": [
       "Batch 145 Processing:   0%|          | 0/50 [00:00<?, ?protein/s]"
      ]
     },
     "metadata": {},
     "output_type": "display_data"
    },
    {
     "name": "stdout",
     "output_type": "stream",
     "text": [
      "📝 Batch 145 saved: 50/50 successful\n"
     ]
    },
    {
     "data": {
      "application/vnd.jupyter.widget-view+json": {
       "model_id": "9fcdf95776884fee8109aa6032ef8d88",
       "version_major": 2,
       "version_minor": 0
      },
      "text/plain": [
       "Batch 146 Downloads:   0%|          | 0/150 [00:00<?, ?file/s]"
      ]
     },
     "metadata": {},
     "output_type": "display_data"
    },
    {
     "data": {
      "application/vnd.jupyter.widget-view+json": {
       "model_id": "1b5e0d88c1fd4b50a12fa55d5bdee060",
       "version_major": 2,
       "version_minor": 0
      },
      "text/plain": [
       "Batch 146 Processing:   0%|          | 0/50 [00:00<?, ?protein/s]"
      ]
     },
     "metadata": {},
     "output_type": "display_data"
    },
    {
     "name": "stdout",
     "output_type": "stream",
     "text": [
      "📝 Batch 146 saved: 50/50 successful\n"
     ]
    },
    {
     "data": {
      "application/vnd.jupyter.widget-view+json": {
       "model_id": "1de3144effcf4b539eeb2694c58504ff",
       "version_major": 2,
       "version_minor": 0
      },
      "text/plain": [
       "Batch 147 Downloads:   0%|          | 0/150 [00:00<?, ?file/s]"
      ]
     },
     "metadata": {},
     "output_type": "display_data"
    },
    {
     "data": {
      "application/vnd.jupyter.widget-view+json": {
       "model_id": "06ee119f4f0644b69370e99f0df44d7d",
       "version_major": 2,
       "version_minor": 0
      },
      "text/plain": [
       "Batch 147 Processing:   0%|          | 0/50 [00:00<?, ?protein/s]"
      ]
     },
     "metadata": {},
     "output_type": "display_data"
    },
    {
     "name": "stdout",
     "output_type": "stream",
     "text": [
      "📝 Batch 147 saved: 50/50 successful\n"
     ]
    },
    {
     "data": {
      "application/vnd.jupyter.widget-view+json": {
       "model_id": "d01cad897c554aff9857d99317a034a0",
       "version_major": 2,
       "version_minor": 0
      },
      "text/plain": [
       "Batch 148 Downloads:   0%|          | 0/150 [00:00<?, ?file/s]"
      ]
     },
     "metadata": {},
     "output_type": "display_data"
    },
    {
     "data": {
      "application/vnd.jupyter.widget-view+json": {
       "model_id": "5462bbf97d83471f8e7dddb723869ea3",
       "version_major": 2,
       "version_minor": 0
      },
      "text/plain": [
       "Batch 148 Processing:   0%|          | 0/50 [00:00<?, ?protein/s]"
      ]
     },
     "metadata": {},
     "output_type": "display_data"
    },
    {
     "name": "stdout",
     "output_type": "stream",
     "text": [
      "📝 Batch 148 saved: 50/50 successful\n"
     ]
    },
    {
     "data": {
      "application/vnd.jupyter.widget-view+json": {
       "model_id": "33b04635856e415ebcf8cfd57c3ee1de",
       "version_major": 2,
       "version_minor": 0
      },
      "text/plain": [
       "Batch 149 Downloads:   0%|          | 0/150 [00:00<?, ?file/s]"
      ]
     },
     "metadata": {},
     "output_type": "display_data"
    },
    {
     "data": {
      "application/vnd.jupyter.widget-view+json": {
       "model_id": "aba53b2bd0434d76a3080088c1a4278a",
       "version_major": 2,
       "version_minor": 0
      },
      "text/plain": [
       "Batch 149 Processing:   0%|          | 0/50 [00:00<?, ?protein/s]"
      ]
     },
     "metadata": {},
     "output_type": "display_data"
    },
    {
     "name": "stdout",
     "output_type": "stream",
     "text": [
      "📝 Batch 149 saved: 50/50 successful\n"
     ]
    },
    {
     "data": {
      "application/vnd.jupyter.widget-view+json": {
       "model_id": "c0e766f064054dcd809b6ad99e64a4ec",
       "version_major": 2,
       "version_minor": 0
      },
      "text/plain": [
       "Batch 150 Downloads:   0%|          | 0/150 [00:00<?, ?file/s]"
      ]
     },
     "metadata": {},
     "output_type": "display_data"
    },
    {
     "data": {
      "application/vnd.jupyter.widget-view+json": {
       "model_id": "5b45aaa558604a8994d1aee4e4ff8f00",
       "version_major": 2,
       "version_minor": 0
      },
      "text/plain": [
       "Batch 150 Processing:   0%|          | 0/50 [00:00<?, ?protein/s]"
      ]
     },
     "metadata": {},
     "output_type": "display_data"
    },
    {
     "name": "stdout",
     "output_type": "stream",
     "text": [
      "📝 Batch 150 saved: 50/50 successful\n"
     ]
    },
    {
     "data": {
      "application/vnd.jupyter.widget-view+json": {
       "model_id": "c5598b5c2f374e4b8f535f808868e816",
       "version_major": 2,
       "version_minor": 0
      },
      "text/plain": [
       "Batch 151 Downloads:   0%|          | 0/150 [00:00<?, ?file/s]"
      ]
     },
     "metadata": {},
     "output_type": "display_data"
    },
    {
     "data": {
      "application/vnd.jupyter.widget-view+json": {
       "model_id": "4695a6571e7d44ffb06fa41f5b52b7aa",
       "version_major": 2,
       "version_minor": 0
      },
      "text/plain": [
       "Batch 151 Processing:   0%|          | 0/50 [00:00<?, ?protein/s]"
      ]
     },
     "metadata": {},
     "output_type": "display_data"
    },
    {
     "name": "stdout",
     "output_type": "stream",
     "text": [
      "📝 Batch 151 saved: 50/50 successful\n"
     ]
    },
    {
     "data": {
      "application/vnd.jupyter.widget-view+json": {
       "model_id": "94fbf5ac18a84082bb2eab6b1b7bcbee",
       "version_major": 2,
       "version_minor": 0
      },
      "text/plain": [
       "Batch 152 Downloads:   0%|          | 0/150 [00:00<?, ?file/s]"
      ]
     },
     "metadata": {},
     "output_type": "display_data"
    },
    {
     "data": {
      "application/vnd.jupyter.widget-view+json": {
       "model_id": "3b4dadcfa06b43b7a08b171dc90e9091",
       "version_major": 2,
       "version_minor": 0
      },
      "text/plain": [
       "Batch 152 Processing:   0%|          | 0/50 [00:00<?, ?protein/s]"
      ]
     },
     "metadata": {},
     "output_type": "display_data"
    },
    {
     "name": "stdout",
     "output_type": "stream",
     "text": [
      "📝 Batch 152 saved: 50/50 successful\n"
     ]
    },
    {
     "data": {
      "application/vnd.jupyter.widget-view+json": {
       "model_id": "e8880cbc7a7643a9946f4a44e649f020",
       "version_major": 2,
       "version_minor": 0
      },
      "text/plain": [
       "Batch 153 Downloads:   0%|          | 0/150 [00:00<?, ?file/s]"
      ]
     },
     "metadata": {},
     "output_type": "display_data"
    },
    {
     "data": {
      "application/vnd.jupyter.widget-view+json": {
       "model_id": "b46e906df65a4d5d9500cf30fbc4bb2e",
       "version_major": 2,
       "version_minor": 0
      },
      "text/plain": [
       "Batch 153 Processing:   0%|          | 0/50 [00:00<?, ?protein/s]"
      ]
     },
     "metadata": {},
     "output_type": "display_data"
    },
    {
     "name": "stdout",
     "output_type": "stream",
     "text": [
      "📝 Batch 153 saved: 50/50 successful\n"
     ]
    },
    {
     "data": {
      "application/vnd.jupyter.widget-view+json": {
       "model_id": "fca0674be426406d971fb61191be7d18",
       "version_major": 2,
       "version_minor": 0
      },
      "text/plain": [
       "Batch 154 Downloads:   0%|          | 0/150 [00:00<?, ?file/s]"
      ]
     },
     "metadata": {},
     "output_type": "display_data"
    },
    {
     "data": {
      "application/vnd.jupyter.widget-view+json": {
       "model_id": "ddc2abe17dd544079446907e24aced79",
       "version_major": 2,
       "version_minor": 0
      },
      "text/plain": [
       "Batch 154 Processing:   0%|          | 0/50 [00:00<?, ?protein/s]"
      ]
     },
     "metadata": {},
     "output_type": "display_data"
    },
    {
     "name": "stdout",
     "output_type": "stream",
     "text": [
      "📝 Batch 154 saved: 50/50 successful\n"
     ]
    },
    {
     "data": {
      "application/vnd.jupyter.widget-view+json": {
       "model_id": "c742431787eb47b39f654d7a57fbd1c8",
       "version_major": 2,
       "version_minor": 0
      },
      "text/plain": [
       "Batch 155 Downloads:   0%|          | 0/150 [00:00<?, ?file/s]"
      ]
     },
     "metadata": {},
     "output_type": "display_data"
    },
    {
     "data": {
      "application/vnd.jupyter.widget-view+json": {
       "model_id": "5cfe84a3f9bb42548e8d2797a17ab3de",
       "version_major": 2,
       "version_minor": 0
      },
      "text/plain": [
       "Batch 155 Processing:   0%|          | 0/50 [00:00<?, ?protein/s]"
      ]
     },
     "metadata": {},
     "output_type": "display_data"
    },
    {
     "name": "stdout",
     "output_type": "stream",
     "text": [
      "📝 Batch 155 saved: 50/50 successful\n"
     ]
    },
    {
     "data": {
      "application/vnd.jupyter.widget-view+json": {
       "model_id": "3affbd191cfa4df1b834ada8f6847d49",
       "version_major": 2,
       "version_minor": 0
      },
      "text/plain": [
       "Batch 156 Downloads:   0%|          | 0/150 [00:00<?, ?file/s]"
      ]
     },
     "metadata": {},
     "output_type": "display_data"
    },
    {
     "data": {
      "application/vnd.jupyter.widget-view+json": {
       "model_id": "3f4a5c6427ab452aa0c17869a10710cd",
       "version_major": 2,
       "version_minor": 0
      },
      "text/plain": [
       "Batch 156 Processing:   0%|          | 0/50 [00:00<?, ?protein/s]"
      ]
     },
     "metadata": {},
     "output_type": "display_data"
    },
    {
     "name": "stdout",
     "output_type": "stream",
     "text": [
      "📝 Batch 156 saved: 47/50 successful\n"
     ]
    },
    {
     "data": {
      "application/vnd.jupyter.widget-view+json": {
       "model_id": "62d6411a8e6748808c1f41a626d2f094",
       "version_major": 2,
       "version_minor": 0
      },
      "text/plain": [
       "Batch 157 Downloads:   0%|          | 0/150 [00:00<?, ?file/s]"
      ]
     },
     "metadata": {},
     "output_type": "display_data"
    },
    {
     "data": {
      "application/vnd.jupyter.widget-view+json": {
       "model_id": "e30cf647ad5b4c5993681bb405c1b68a",
       "version_major": 2,
       "version_minor": 0
      },
      "text/plain": [
       "Batch 157 Processing:   0%|          | 0/50 [00:00<?, ?protein/s]"
      ]
     },
     "metadata": {},
     "output_type": "display_data"
    },
    {
     "name": "stdout",
     "output_type": "stream",
     "text": [
      "📝 Batch 157 saved: 49/50 successful\n"
     ]
    },
    {
     "data": {
      "application/vnd.jupyter.widget-view+json": {
       "model_id": "b670fe84d96a4ab8b0d1b35621025fd6",
       "version_major": 2,
       "version_minor": 0
      },
      "text/plain": [
       "Batch 158 Downloads:   0%|          | 0/150 [00:00<?, ?file/s]"
      ]
     },
     "metadata": {},
     "output_type": "display_data"
    },
    {
     "data": {
      "application/vnd.jupyter.widget-view+json": {
       "model_id": "729eede76aa94b99b5782cb082fe3738",
       "version_major": 2,
       "version_minor": 0
      },
      "text/plain": [
       "Batch 158 Processing:   0%|          | 0/50 [00:00<?, ?protein/s]"
      ]
     },
     "metadata": {},
     "output_type": "display_data"
    },
    {
     "name": "stdout",
     "output_type": "stream",
     "text": [
      "📝 Batch 158 saved: 47/50 successful\n"
     ]
    },
    {
     "data": {
      "application/vnd.jupyter.widget-view+json": {
       "model_id": "52a4816c8b54455683343b1c22b79a98",
       "version_major": 2,
       "version_minor": 0
      },
      "text/plain": [
       "Batch 159 Downloads:   0%|          | 0/150 [00:00<?, ?file/s]"
      ]
     },
     "metadata": {},
     "output_type": "display_data"
    },
    {
     "data": {
      "application/vnd.jupyter.widget-view+json": {
       "model_id": "422acd09f3e64394afa540c1efdde1f2",
       "version_major": 2,
       "version_minor": 0
      },
      "text/plain": [
       "Batch 159 Processing:   0%|          | 0/50 [00:00<?, ?protein/s]"
      ]
     },
     "metadata": {},
     "output_type": "display_data"
    },
    {
     "name": "stdout",
     "output_type": "stream",
     "text": [
      "📝 Batch 159 saved: 47/50 successful\n"
     ]
    },
    {
     "data": {
      "application/vnd.jupyter.widget-view+json": {
       "model_id": "1bb5aaf4b9bb4bb6bcb54ad4df681ebe",
       "version_major": 2,
       "version_minor": 0
      },
      "text/plain": [
       "Batch 160 Downloads:   0%|          | 0/150 [00:00<?, ?file/s]"
      ]
     },
     "metadata": {},
     "output_type": "display_data"
    },
    {
     "data": {
      "application/vnd.jupyter.widget-view+json": {
       "model_id": "41f12661c74848128028b35236dc2c5a",
       "version_major": 2,
       "version_minor": 0
      },
      "text/plain": [
       "Batch 160 Processing:   0%|          | 0/50 [00:00<?, ?protein/s]"
      ]
     },
     "metadata": {},
     "output_type": "display_data"
    },
    {
     "name": "stdout",
     "output_type": "stream",
     "text": [
      "📝 Batch 160 saved: 46/50 successful\n"
     ]
    },
    {
     "data": {
      "application/vnd.jupyter.widget-view+json": {
       "model_id": "3fb9d9746ce544c6a54f0d0f890c4ff9",
       "version_major": 2,
       "version_minor": 0
      },
      "text/plain": [
       "Batch 161 Downloads:   0%|          | 0/150 [00:00<?, ?file/s]"
      ]
     },
     "metadata": {},
     "output_type": "display_data"
    },
    {
     "data": {
      "application/vnd.jupyter.widget-view+json": {
       "model_id": "ded4eed9440b4b039ef8b9f11883b6b7",
       "version_major": 2,
       "version_minor": 0
      },
      "text/plain": [
       "Batch 161 Processing:   0%|          | 0/50 [00:00<?, ?protein/s]"
      ]
     },
     "metadata": {},
     "output_type": "display_data"
    },
    {
     "name": "stdout",
     "output_type": "stream",
     "text": [
      "📝 Batch 161 saved: 50/50 successful\n"
     ]
    },
    {
     "data": {
      "application/vnd.jupyter.widget-view+json": {
       "model_id": "e66a97c544a144d9a80be44db22bdd52",
       "version_major": 2,
       "version_minor": 0
      },
      "text/plain": [
       "Batch 162 Downloads:   0%|          | 0/150 [00:00<?, ?file/s]"
      ]
     },
     "metadata": {},
     "output_type": "display_data"
    },
    {
     "data": {
      "application/vnd.jupyter.widget-view+json": {
       "model_id": "9de6cb99040d46d3a8ce98d6ed70daca",
       "version_major": 2,
       "version_minor": 0
      },
      "text/plain": [
       "Batch 162 Processing:   0%|          | 0/50 [00:00<?, ?protein/s]"
      ]
     },
     "metadata": {},
     "output_type": "display_data"
    },
    {
     "name": "stdout",
     "output_type": "stream",
     "text": [
      "📝 Batch 162 saved: 45/50 successful\n"
     ]
    },
    {
     "data": {
      "application/vnd.jupyter.widget-view+json": {
       "model_id": "b894ef10bbd147bc98224f99f739a5bb",
       "version_major": 2,
       "version_minor": 0
      },
      "text/plain": [
       "Batch 163 Downloads:   0%|          | 0/150 [00:00<?, ?file/s]"
      ]
     },
     "metadata": {},
     "output_type": "display_data"
    },
    {
     "data": {
      "application/vnd.jupyter.widget-view+json": {
       "model_id": "5268433971dc48e581a57e93eaa41862",
       "version_major": 2,
       "version_minor": 0
      },
      "text/plain": [
       "Batch 163 Processing:   0%|          | 0/50 [00:00<?, ?protein/s]"
      ]
     },
     "metadata": {},
     "output_type": "display_data"
    },
    {
     "name": "stdout",
     "output_type": "stream",
     "text": [
      "📝 Batch 163 saved: 48/50 successful\n"
     ]
    },
    {
     "data": {
      "application/vnd.jupyter.widget-view+json": {
       "model_id": "64ad60d8a5a146a8a5465e841a46b922",
       "version_major": 2,
       "version_minor": 0
      },
      "text/plain": [
       "Batch 164 Downloads:   0%|          | 0/150 [00:00<?, ?file/s]"
      ]
     },
     "metadata": {},
     "output_type": "display_data"
    },
    {
     "data": {
      "application/vnd.jupyter.widget-view+json": {
       "model_id": "d7cb9343c1a3411d9cb20c56890b9e00",
       "version_major": 2,
       "version_minor": 0
      },
      "text/plain": [
       "Batch 164 Processing:   0%|          | 0/50 [00:00<?, ?protein/s]"
      ]
     },
     "metadata": {},
     "output_type": "display_data"
    },
    {
     "name": "stdout",
     "output_type": "stream",
     "text": [
      "📝 Batch 164 saved: 50/50 successful\n"
     ]
    },
    {
     "data": {
      "application/vnd.jupyter.widget-view+json": {
       "model_id": "fe769232779d48238c5cc9ffdaa1a322",
       "version_major": 2,
       "version_minor": 0
      },
      "text/plain": [
       "Batch 165 Downloads:   0%|          | 0/150 [00:00<?, ?file/s]"
      ]
     },
     "metadata": {},
     "output_type": "display_data"
    },
    {
     "data": {
      "application/vnd.jupyter.widget-view+json": {
       "model_id": "ae15d81e4eb342449580ce80209679ac",
       "version_major": 2,
       "version_minor": 0
      },
      "text/plain": [
       "Batch 165 Processing:   0%|          | 0/50 [00:00<?, ?protein/s]"
      ]
     },
     "metadata": {},
     "output_type": "display_data"
    },
    {
     "name": "stdout",
     "output_type": "stream",
     "text": [
      "📝 Batch 165 saved: 50/50 successful\n"
     ]
    },
    {
     "data": {
      "application/vnd.jupyter.widget-view+json": {
       "model_id": "b1d638cc5cca47fd8b67f4d348635179",
       "version_major": 2,
       "version_minor": 0
      },
      "text/plain": [
       "Batch 166 Downloads:   0%|          | 0/150 [00:00<?, ?file/s]"
      ]
     },
     "metadata": {},
     "output_type": "display_data"
    },
    {
     "data": {
      "application/vnd.jupyter.widget-view+json": {
       "model_id": "35378a3927534d2ab4f647d4f87bf462",
       "version_major": 2,
       "version_minor": 0
      },
      "text/plain": [
       "Batch 166 Processing:   0%|          | 0/50 [00:00<?, ?protein/s]"
      ]
     },
     "metadata": {},
     "output_type": "display_data"
    },
    {
     "name": "stdout",
     "output_type": "stream",
     "text": [
      "📝 Batch 166 saved: 50/50 successful\n"
     ]
    },
    {
     "data": {
      "application/vnd.jupyter.widget-view+json": {
       "model_id": "05e25198657444428ca5011e5d2fe649",
       "version_major": 2,
       "version_minor": 0
      },
      "text/plain": [
       "Batch 167 Downloads:   0%|          | 0/150 [00:00<?, ?file/s]"
      ]
     },
     "metadata": {},
     "output_type": "display_data"
    },
    {
     "data": {
      "application/vnd.jupyter.widget-view+json": {
       "model_id": "640a6f15f0cb4cf79a9ad5bf42aa9b17",
       "version_major": 2,
       "version_minor": 0
      },
      "text/plain": [
       "Batch 167 Processing:   0%|          | 0/50 [00:00<?, ?protein/s]"
      ]
     },
     "metadata": {},
     "output_type": "display_data"
    },
    {
     "name": "stdout",
     "output_type": "stream",
     "text": [
      "📝 Batch 167 saved: 50/50 successful\n"
     ]
    },
    {
     "data": {
      "application/vnd.jupyter.widget-view+json": {
       "model_id": "fd38c59b74734326b8c84357818d1844",
       "version_major": 2,
       "version_minor": 0
      },
      "text/plain": [
       "Batch 168 Downloads:   0%|          | 0/150 [00:00<?, ?file/s]"
      ]
     },
     "metadata": {},
     "output_type": "display_data"
    },
    {
     "data": {
      "application/vnd.jupyter.widget-view+json": {
       "model_id": "aa3137b4f96a4bdcae9c3a2986cb5d1e",
       "version_major": 2,
       "version_minor": 0
      },
      "text/plain": [
       "Batch 168 Processing:   0%|          | 0/50 [00:00<?, ?protein/s]"
      ]
     },
     "metadata": {},
     "output_type": "display_data"
    },
    {
     "name": "stdout",
     "output_type": "stream",
     "text": [
      "📝 Batch 168 saved: 50/50 successful\n"
     ]
    },
    {
     "data": {
      "application/vnd.jupyter.widget-view+json": {
       "model_id": "637bc08713c743f4ad418f45899ebdc9",
       "version_major": 2,
       "version_minor": 0
      },
      "text/plain": [
       "Batch 169 Downloads:   0%|          | 0/150 [00:00<?, ?file/s]"
      ]
     },
     "metadata": {},
     "output_type": "display_data"
    },
    {
     "data": {
      "application/vnd.jupyter.widget-view+json": {
       "model_id": "65b455b1229340198ca316558e919efa",
       "version_major": 2,
       "version_minor": 0
      },
      "text/plain": [
       "Batch 169 Processing:   0%|          | 0/50 [00:00<?, ?protein/s]"
      ]
     },
     "metadata": {},
     "output_type": "display_data"
    },
    {
     "name": "stdout",
     "output_type": "stream",
     "text": [
      "📝 Batch 169 saved: 50/50 successful\n"
     ]
    },
    {
     "data": {
      "application/vnd.jupyter.widget-view+json": {
       "model_id": "64c61facef9347ce8c2173dd8e682f34",
       "version_major": 2,
       "version_minor": 0
      },
      "text/plain": [
       "Batch 170 Downloads:   0%|          | 0/150 [00:00<?, ?file/s]"
      ]
     },
     "metadata": {},
     "output_type": "display_data"
    },
    {
     "data": {
      "application/vnd.jupyter.widget-view+json": {
       "model_id": "8ef34ee596bb402aa00f900c6a3150b1",
       "version_major": 2,
       "version_minor": 0
      },
      "text/plain": [
       "Batch 170 Processing:   0%|          | 0/50 [00:00<?, ?protein/s]"
      ]
     },
     "metadata": {},
     "output_type": "display_data"
    },
    {
     "name": "stdout",
     "output_type": "stream",
     "text": [
      "📝 Batch 170 saved: 50/50 successful\n"
     ]
    },
    {
     "data": {
      "application/vnd.jupyter.widget-view+json": {
       "model_id": "b28166ada9104d1b83a97d30a8157cdc",
       "version_major": 2,
       "version_minor": 0
      },
      "text/plain": [
       "Batch 171 Downloads:   0%|          | 0/150 [00:00<?, ?file/s]"
      ]
     },
     "metadata": {},
     "output_type": "display_data"
    },
    {
     "data": {
      "application/vnd.jupyter.widget-view+json": {
       "model_id": "e6841d3ede98490dbfd967ce6029f6c9",
       "version_major": 2,
       "version_minor": 0
      },
      "text/plain": [
       "Batch 171 Processing:   0%|          | 0/50 [00:00<?, ?protein/s]"
      ]
     },
     "metadata": {},
     "output_type": "display_data"
    },
    {
     "name": "stdout",
     "output_type": "stream",
     "text": [
      "📝 Batch 171 saved: 50/50 successful\n"
     ]
    },
    {
     "data": {
      "application/vnd.jupyter.widget-view+json": {
       "model_id": "4ac85daba4c9497f9cce2e173569d993",
       "version_major": 2,
       "version_minor": 0
      },
      "text/plain": [
       "Batch 172 Downloads:   0%|          | 0/150 [00:00<?, ?file/s]"
      ]
     },
     "metadata": {},
     "output_type": "display_data"
    },
    {
     "data": {
      "application/vnd.jupyter.widget-view+json": {
       "model_id": "f8160a718f1a418e8bb4b525917205e8",
       "version_major": 2,
       "version_minor": 0
      },
      "text/plain": [
       "Batch 172 Processing:   0%|          | 0/50 [00:00<?, ?protein/s]"
      ]
     },
     "metadata": {},
     "output_type": "display_data"
    },
    {
     "name": "stdout",
     "output_type": "stream",
     "text": [
      "📝 Batch 172 saved: 50/50 successful\n"
     ]
    },
    {
     "data": {
      "application/vnd.jupyter.widget-view+json": {
       "model_id": "61a2c47f9ec1482393dd2ae18398a543",
       "version_major": 2,
       "version_minor": 0
      },
      "text/plain": [
       "Batch 173 Downloads:   0%|          | 0/150 [00:00<?, ?file/s]"
      ]
     },
     "metadata": {},
     "output_type": "display_data"
    },
    {
     "data": {
      "application/vnd.jupyter.widget-view+json": {
       "model_id": "63b5469d60f4411ba5bdc7bbc7c5e602",
       "version_major": 2,
       "version_minor": 0
      },
      "text/plain": [
       "Batch 173 Processing:   0%|          | 0/50 [00:00<?, ?protein/s]"
      ]
     },
     "metadata": {},
     "output_type": "display_data"
    },
    {
     "name": "stdout",
     "output_type": "stream",
     "text": [
      "📝 Batch 173 saved: 50/50 successful\n"
     ]
    },
    {
     "data": {
      "application/vnd.jupyter.widget-view+json": {
       "model_id": "d308be0765e24fce9a5262f6211a28f7",
       "version_major": 2,
       "version_minor": 0
      },
      "text/plain": [
       "Batch 174 Downloads:   0%|          | 0/150 [00:00<?, ?file/s]"
      ]
     },
     "metadata": {},
     "output_type": "display_data"
    },
    {
     "data": {
      "application/vnd.jupyter.widget-view+json": {
       "model_id": "d0f0208284944cc8b8f42d4e873820e9",
       "version_major": 2,
       "version_minor": 0
      },
      "text/plain": [
       "Batch 174 Processing:   0%|          | 0/50 [00:00<?, ?protein/s]"
      ]
     },
     "metadata": {},
     "output_type": "display_data"
    },
    {
     "name": "stdout",
     "output_type": "stream",
     "text": [
      "📝 Batch 174 saved: 50/50 successful\n"
     ]
    },
    {
     "data": {
      "application/vnd.jupyter.widget-view+json": {
       "model_id": "323006673ef34c428a313e5945d175f3",
       "version_major": 2,
       "version_minor": 0
      },
      "text/plain": [
       "Batch 175 Downloads:   0%|          | 0/150 [00:00<?, ?file/s]"
      ]
     },
     "metadata": {},
     "output_type": "display_data"
    },
    {
     "data": {
      "application/vnd.jupyter.widget-view+json": {
       "model_id": "2f6ef61820354960b1d8e507bddfdd4d",
       "version_major": 2,
       "version_minor": 0
      },
      "text/plain": [
       "Batch 175 Processing:   0%|          | 0/50 [00:00<?, ?protein/s]"
      ]
     },
     "metadata": {},
     "output_type": "display_data"
    },
    {
     "name": "stdout",
     "output_type": "stream",
     "text": [
      "📝 Batch 175 saved: 50/50 successful\n"
     ]
    },
    {
     "data": {
      "application/vnd.jupyter.widget-view+json": {
       "model_id": "96fd9ead91a34dcd97552d70a46d871a",
       "version_major": 2,
       "version_minor": 0
      },
      "text/plain": [
       "Batch 176 Downloads:   0%|          | 0/150 [00:00<?, ?file/s]"
      ]
     },
     "metadata": {},
     "output_type": "display_data"
    },
    {
     "data": {
      "application/vnd.jupyter.widget-view+json": {
       "model_id": "05fe4722cb8047a589711f1769c3dbf8",
       "version_major": 2,
       "version_minor": 0
      },
      "text/plain": [
       "Batch 176 Processing:   0%|          | 0/50 [00:00<?, ?protein/s]"
      ]
     },
     "metadata": {},
     "output_type": "display_data"
    },
    {
     "name": "stdout",
     "output_type": "stream",
     "text": [
      "📝 Batch 176 saved: 50/50 successful\n"
     ]
    },
    {
     "data": {
      "application/vnd.jupyter.widget-view+json": {
       "model_id": "0cb799d5fe8d4fb8a644092d99fcdbad",
       "version_major": 2,
       "version_minor": 0
      },
      "text/plain": [
       "Batch 177 Downloads:   0%|          | 0/150 [00:00<?, ?file/s]"
      ]
     },
     "metadata": {},
     "output_type": "display_data"
    },
    {
     "data": {
      "application/vnd.jupyter.widget-view+json": {
       "model_id": "7ed2e197f82c491db83704b61dac1583",
       "version_major": 2,
       "version_minor": 0
      },
      "text/plain": [
       "Batch 177 Processing:   0%|          | 0/50 [00:00<?, ?protein/s]"
      ]
     },
     "metadata": {},
     "output_type": "display_data"
    },
    {
     "name": "stdout",
     "output_type": "stream",
     "text": [
      "📝 Batch 177 saved: 50/50 successful\n"
     ]
    },
    {
     "data": {
      "application/vnd.jupyter.widget-view+json": {
       "model_id": "ab004fbec325480f949446351e576c8f",
       "version_major": 2,
       "version_minor": 0
      },
      "text/plain": [
       "Batch 178 Downloads:   0%|          | 0/150 [00:00<?, ?file/s]"
      ]
     },
     "metadata": {},
     "output_type": "display_data"
    },
    {
     "data": {
      "application/vnd.jupyter.widget-view+json": {
       "model_id": "2c163aa93165477f8078d837c6875d6c",
       "version_major": 2,
       "version_minor": 0
      },
      "text/plain": [
       "Batch 178 Processing:   0%|          | 0/50 [00:00<?, ?protein/s]"
      ]
     },
     "metadata": {},
     "output_type": "display_data"
    },
    {
     "name": "stdout",
     "output_type": "stream",
     "text": [
      "📝 Batch 178 saved: 50/50 successful\n"
     ]
    },
    {
     "data": {
      "application/vnd.jupyter.widget-view+json": {
       "model_id": "24f395ed3dc145ea92ad4c0180c92a31",
       "version_major": 2,
       "version_minor": 0
      },
      "text/plain": [
       "Batch 179 Downloads:   0%|          | 0/150 [00:00<?, ?file/s]"
      ]
     },
     "metadata": {},
     "output_type": "display_data"
    },
    {
     "data": {
      "application/vnd.jupyter.widget-view+json": {
       "model_id": "6614578bcd9a494c863a1e81f8230157",
       "version_major": 2,
       "version_minor": 0
      },
      "text/plain": [
       "Batch 179 Processing:   0%|          | 0/50 [00:00<?, ?protein/s]"
      ]
     },
     "metadata": {},
     "output_type": "display_data"
    },
    {
     "name": "stdout",
     "output_type": "stream",
     "text": [
      "📝 Batch 179 saved: 50/50 successful\n"
     ]
    },
    {
     "data": {
      "application/vnd.jupyter.widget-view+json": {
       "model_id": "88b1094cf9d346d192ae4179d1791908",
       "version_major": 2,
       "version_minor": 0
      },
      "text/plain": [
       "Batch 180 Downloads:   0%|          | 0/150 [00:00<?, ?file/s]"
      ]
     },
     "metadata": {},
     "output_type": "display_data"
    },
    {
     "data": {
      "application/vnd.jupyter.widget-view+json": {
       "model_id": "57930dadf49e45b78914175f74bac8ba",
       "version_major": 2,
       "version_minor": 0
      },
      "text/plain": [
       "Batch 180 Processing:   0%|          | 0/50 [00:00<?, ?protein/s]"
      ]
     },
     "metadata": {},
     "output_type": "display_data"
    },
    {
     "name": "stdout",
     "output_type": "stream",
     "text": [
      "📝 Batch 180 saved: 50/50 successful\n"
     ]
    },
    {
     "data": {
      "application/vnd.jupyter.widget-view+json": {
       "model_id": "f905dd8341574593b28dff4996280ab7",
       "version_major": 2,
       "version_minor": 0
      },
      "text/plain": [
       "Batch 181 Downloads:   0%|          | 0/150 [00:00<?, ?file/s]"
      ]
     },
     "metadata": {},
     "output_type": "display_data"
    },
    {
     "data": {
      "application/vnd.jupyter.widget-view+json": {
       "model_id": "8d198be97e894692af39e12f007d5f90",
       "version_major": 2,
       "version_minor": 0
      },
      "text/plain": [
       "Batch 181 Processing:   0%|          | 0/50 [00:00<?, ?protein/s]"
      ]
     },
     "metadata": {},
     "output_type": "display_data"
    },
    {
     "name": "stdout",
     "output_type": "stream",
     "text": [
      "📝 Batch 181 saved: 50/50 successful\n"
     ]
    },
    {
     "data": {
      "application/vnd.jupyter.widget-view+json": {
       "model_id": "1249db3f59104b1795c6b9ac11362d72",
       "version_major": 2,
       "version_minor": 0
      },
      "text/plain": [
       "Batch 182 Downloads:   0%|          | 0/150 [00:00<?, ?file/s]"
      ]
     },
     "metadata": {},
     "output_type": "display_data"
    },
    {
     "data": {
      "application/vnd.jupyter.widget-view+json": {
       "model_id": "c1cb7b4654fa4488937a1a6522f38624",
       "version_major": 2,
       "version_minor": 0
      },
      "text/plain": [
       "Batch 182 Processing:   0%|          | 0/50 [00:00<?, ?protein/s]"
      ]
     },
     "metadata": {},
     "output_type": "display_data"
    },
    {
     "name": "stdout",
     "output_type": "stream",
     "text": [
      "📝 Batch 182 saved: 50/50 successful\n"
     ]
    },
    {
     "data": {
      "application/vnd.jupyter.widget-view+json": {
       "model_id": "4838bdcdf9a34111a0a4eede7e0bf00e",
       "version_major": 2,
       "version_minor": 0
      },
      "text/plain": [
       "Batch 183 Downloads:   0%|          | 0/150 [00:00<?, ?file/s]"
      ]
     },
     "metadata": {},
     "output_type": "display_data"
    },
    {
     "data": {
      "application/vnd.jupyter.widget-view+json": {
       "model_id": "fa092bebe82c41a19450737640b0cce3",
       "version_major": 2,
       "version_minor": 0
      },
      "text/plain": [
       "Batch 183 Processing:   0%|          | 0/50 [00:00<?, ?protein/s]"
      ]
     },
     "metadata": {},
     "output_type": "display_data"
    },
    {
     "name": "stdout",
     "output_type": "stream",
     "text": [
      "📝 Batch 183 saved: 48/50 successful\n"
     ]
    },
    {
     "data": {
      "application/vnd.jupyter.widget-view+json": {
       "model_id": "81d7d282151d4c0589f6b1548f5f6197",
       "version_major": 2,
       "version_minor": 0
      },
      "text/plain": [
       "Batch 184 Downloads:   0%|          | 0/150 [00:00<?, ?file/s]"
      ]
     },
     "metadata": {},
     "output_type": "display_data"
    },
    {
     "data": {
      "application/vnd.jupyter.widget-view+json": {
       "model_id": "0fc0d12ac452453685966cc9f4ba2285",
       "version_major": 2,
       "version_minor": 0
      },
      "text/plain": [
       "Batch 184 Processing:   0%|          | 0/50 [00:00<?, ?protein/s]"
      ]
     },
     "metadata": {},
     "output_type": "display_data"
    },
    {
     "name": "stdout",
     "output_type": "stream",
     "text": [
      "📝 Batch 184 saved: 46/50 successful\n"
     ]
    },
    {
     "data": {
      "application/vnd.jupyter.widget-view+json": {
       "model_id": "32b5ab8c100c44b2a05c871c90e41b34",
       "version_major": 2,
       "version_minor": 0
      },
      "text/plain": [
       "Batch 185 Downloads:   0%|          | 0/150 [00:00<?, ?file/s]"
      ]
     },
     "metadata": {},
     "output_type": "display_data"
    },
    {
     "data": {
      "application/vnd.jupyter.widget-view+json": {
       "model_id": "eb8c605e0506407dbecbfff6ac0cc923",
       "version_major": 2,
       "version_minor": 0
      },
      "text/plain": [
       "Batch 185 Processing:   0%|          | 0/50 [00:00<?, ?protein/s]"
      ]
     },
     "metadata": {},
     "output_type": "display_data"
    },
    {
     "name": "stdout",
     "output_type": "stream",
     "text": [
      "📝 Batch 185 saved: 49/50 successful\n"
     ]
    },
    {
     "data": {
      "application/vnd.jupyter.widget-view+json": {
       "model_id": "82866c58ff124eac8b0438d400c4998c",
       "version_major": 2,
       "version_minor": 0
      },
      "text/plain": [
       "Batch 186 Downloads:   0%|          | 0/150 [00:00<?, ?file/s]"
      ]
     },
     "metadata": {},
     "output_type": "display_data"
    },
    {
     "data": {
      "application/vnd.jupyter.widget-view+json": {
       "model_id": "f0554167fa094082bfa5a113ba24eba1",
       "version_major": 2,
       "version_minor": 0
      },
      "text/plain": [
       "Batch 186 Processing:   0%|          | 0/50 [00:00<?, ?protein/s]"
      ]
     },
     "metadata": {},
     "output_type": "display_data"
    },
    {
     "name": "stdout",
     "output_type": "stream",
     "text": [
      "📝 Batch 186 saved: 50/50 successful\n"
     ]
    },
    {
     "data": {
      "application/vnd.jupyter.widget-view+json": {
       "model_id": "06b2186c80244211aa8659bfb69bd52f",
       "version_major": 2,
       "version_minor": 0
      },
      "text/plain": [
       "Batch 187 Downloads:   0%|          | 0/150 [00:00<?, ?file/s]"
      ]
     },
     "metadata": {},
     "output_type": "display_data"
    },
    {
     "data": {
      "application/vnd.jupyter.widget-view+json": {
       "model_id": "7c4c3bcda6604af19ea18d7f15cfd297",
       "version_major": 2,
       "version_minor": 0
      },
      "text/plain": [
       "Batch 187 Processing:   0%|          | 0/50 [00:00<?, ?protein/s]"
      ]
     },
     "metadata": {},
     "output_type": "display_data"
    },
    {
     "name": "stdout",
     "output_type": "stream",
     "text": [
      "📝 Batch 187 saved: 50/50 successful\n"
     ]
    },
    {
     "data": {
      "application/vnd.jupyter.widget-view+json": {
       "model_id": "756f74dfadb44c4393bf57dfd78f390a",
       "version_major": 2,
       "version_minor": 0
      },
      "text/plain": [
       "Batch 188 Downloads:   0%|          | 0/150 [00:00<?, ?file/s]"
      ]
     },
     "metadata": {},
     "output_type": "display_data"
    },
    {
     "data": {
      "application/vnd.jupyter.widget-view+json": {
       "model_id": "9f73d9c5af014418a0ada3faf6784ec7",
       "version_major": 2,
       "version_minor": 0
      },
      "text/plain": [
       "Batch 188 Processing:   0%|          | 0/50 [00:00<?, ?protein/s]"
      ]
     },
     "metadata": {},
     "output_type": "display_data"
    },
    {
     "name": "stdout",
     "output_type": "stream",
     "text": [
      "📝 Batch 188 saved: 50/50 successful\n"
     ]
    },
    {
     "data": {
      "application/vnd.jupyter.widget-view+json": {
       "model_id": "b71b7e19bdcd476094084f46747d430f",
       "version_major": 2,
       "version_minor": 0
      },
      "text/plain": [
       "Batch 189 Downloads:   0%|          | 0/150 [00:00<?, ?file/s]"
      ]
     },
     "metadata": {},
     "output_type": "display_data"
    },
    {
     "data": {
      "application/vnd.jupyter.widget-view+json": {
       "model_id": "d25c8a98c10a494baee3df1a934a436c",
       "version_major": 2,
       "version_minor": 0
      },
      "text/plain": [
       "Batch 189 Processing:   0%|          | 0/50 [00:00<?, ?protein/s]"
      ]
     },
     "metadata": {},
     "output_type": "display_data"
    },
    {
     "name": "stdout",
     "output_type": "stream",
     "text": [
      "📝 Batch 189 saved: 50/50 successful\n"
     ]
    },
    {
     "data": {
      "application/vnd.jupyter.widget-view+json": {
       "model_id": "5322686ca7624567826bb06de0aa40b5",
       "version_major": 2,
       "version_minor": 0
      },
      "text/plain": [
       "Batch 190 Downloads:   0%|          | 0/150 [00:00<?, ?file/s]"
      ]
     },
     "metadata": {},
     "output_type": "display_data"
    },
    {
     "data": {
      "application/vnd.jupyter.widget-view+json": {
       "model_id": "b26b8f2745d34ca6b265aaada65886b2",
       "version_major": 2,
       "version_minor": 0
      },
      "text/plain": [
       "Batch 190 Processing:   0%|          | 0/50 [00:00<?, ?protein/s]"
      ]
     },
     "metadata": {},
     "output_type": "display_data"
    },
    {
     "name": "stdout",
     "output_type": "stream",
     "text": [
      "📝 Batch 190 saved: 50/50 successful\n"
     ]
    },
    {
     "data": {
      "application/vnd.jupyter.widget-view+json": {
       "model_id": "618f062c9bff4dd6aef0db8e15b0bfe4",
       "version_major": 2,
       "version_minor": 0
      },
      "text/plain": [
       "Batch 191 Downloads:   0%|          | 0/150 [00:00<?, ?file/s]"
      ]
     },
     "metadata": {},
     "output_type": "display_data"
    },
    {
     "data": {
      "application/vnd.jupyter.widget-view+json": {
       "model_id": "c0ccbe83124c4629b9b9e12d8570878c",
       "version_major": 2,
       "version_minor": 0
      },
      "text/plain": [
       "Batch 191 Processing:   0%|          | 0/50 [00:00<?, ?protein/s]"
      ]
     },
     "metadata": {},
     "output_type": "display_data"
    },
    {
     "name": "stdout",
     "output_type": "stream",
     "text": [
      "📝 Batch 191 saved: 50/50 successful\n"
     ]
    },
    {
     "data": {
      "application/vnd.jupyter.widget-view+json": {
       "model_id": "c96ddad636984aafbad2cbe09c03e409",
       "version_major": 2,
       "version_minor": 0
      },
      "text/plain": [
       "Batch 192 Downloads:   0%|          | 0/150 [00:00<?, ?file/s]"
      ]
     },
     "metadata": {},
     "output_type": "display_data"
    },
    {
     "data": {
      "application/vnd.jupyter.widget-view+json": {
       "model_id": "18e5a631601145b888aa382639db4769",
       "version_major": 2,
       "version_minor": 0
      },
      "text/plain": [
       "Batch 192 Processing:   0%|          | 0/50 [00:00<?, ?protein/s]"
      ]
     },
     "metadata": {},
     "output_type": "display_data"
    },
    {
     "name": "stdout",
     "output_type": "stream",
     "text": [
      "📝 Batch 192 saved: 50/50 successful\n"
     ]
    },
    {
     "data": {
      "application/vnd.jupyter.widget-view+json": {
       "model_id": "c80f3aaf1a4548af9d256a461ab150d2",
       "version_major": 2,
       "version_minor": 0
      },
      "text/plain": [
       "Batch 193 Downloads:   0%|          | 0/150 [00:00<?, ?file/s]"
      ]
     },
     "metadata": {},
     "output_type": "display_data"
    },
    {
     "data": {
      "application/vnd.jupyter.widget-view+json": {
       "model_id": "0a7f7e7467654349b9dfd819815d91b5",
       "version_major": 2,
       "version_minor": 0
      },
      "text/plain": [
       "Batch 193 Processing:   0%|          | 0/50 [00:00<?, ?protein/s]"
      ]
     },
     "metadata": {},
     "output_type": "display_data"
    },
    {
     "name": "stdout",
     "output_type": "stream",
     "text": [
      "📝 Batch 193 saved: 50/50 successful\n"
     ]
    },
    {
     "data": {
      "application/vnd.jupyter.widget-view+json": {
       "model_id": "d8190a861c7a4b62b442037e0feee28c",
       "version_major": 2,
       "version_minor": 0
      },
      "text/plain": [
       "Batch 194 Downloads:   0%|          | 0/150 [00:00<?, ?file/s]"
      ]
     },
     "metadata": {},
     "output_type": "display_data"
    },
    {
     "data": {
      "application/vnd.jupyter.widget-view+json": {
       "model_id": "67166ea6c3cb47fd9e50f710eabc291b",
       "version_major": 2,
       "version_minor": 0
      },
      "text/plain": [
       "Batch 194 Processing:   0%|          | 0/50 [00:00<?, ?protein/s]"
      ]
     },
     "metadata": {},
     "output_type": "display_data"
    },
    {
     "name": "stdout",
     "output_type": "stream",
     "text": [
      "📝 Batch 194 saved: 49/50 successful\n"
     ]
    },
    {
     "data": {
      "application/vnd.jupyter.widget-view+json": {
       "model_id": "ccaadfc3f5204a568034896d2ee8eabd",
       "version_major": 2,
       "version_minor": 0
      },
      "text/plain": [
       "Batch 195 Downloads:   0%|          | 0/150 [00:00<?, ?file/s]"
      ]
     },
     "metadata": {},
     "output_type": "display_data"
    },
    {
     "data": {
      "application/vnd.jupyter.widget-view+json": {
       "model_id": "1a45f99718e64b27a8a5a4f9e31a2ced",
       "version_major": 2,
       "version_minor": 0
      },
      "text/plain": [
       "Batch 195 Processing:   0%|          | 0/50 [00:00<?, ?protein/s]"
      ]
     },
     "metadata": {},
     "output_type": "display_data"
    },
    {
     "name": "stdout",
     "output_type": "stream",
     "text": [
      "📝 Batch 195 saved: 50/50 successful\n"
     ]
    },
    {
     "data": {
      "application/vnd.jupyter.widget-view+json": {
       "model_id": "f2a7032ed39d444ead8822199667cc65",
       "version_major": 2,
       "version_minor": 0
      },
      "text/plain": [
       "Batch 196 Downloads:   0%|          | 0/150 [00:00<?, ?file/s]"
      ]
     },
     "metadata": {},
     "output_type": "display_data"
    },
    {
     "data": {
      "application/vnd.jupyter.widget-view+json": {
       "model_id": "52b2eff04d444cc99a6ce969c22cfd8d",
       "version_major": 2,
       "version_minor": 0
      },
      "text/plain": [
       "Batch 196 Processing:   0%|          | 0/50 [00:00<?, ?protein/s]"
      ]
     },
     "metadata": {},
     "output_type": "display_data"
    },
    {
     "name": "stdout",
     "output_type": "stream",
     "text": [
      "📝 Batch 196 saved: 50/50 successful\n"
     ]
    },
    {
     "data": {
      "application/vnd.jupyter.widget-view+json": {
       "model_id": "d80fc7e787314724ac0152b839f54b6d",
       "version_major": 2,
       "version_minor": 0
      },
      "text/plain": [
       "Batch 197 Downloads:   0%|          | 0/150 [00:00<?, ?file/s]"
      ]
     },
     "metadata": {},
     "output_type": "display_data"
    },
    {
     "data": {
      "application/vnd.jupyter.widget-view+json": {
       "model_id": "6fd4656a19f24822a27a10d717a36a17",
       "version_major": 2,
       "version_minor": 0
      },
      "text/plain": [
       "Batch 197 Processing:   0%|          | 0/50 [00:00<?, ?protein/s]"
      ]
     },
     "metadata": {},
     "output_type": "display_data"
    },
    {
     "name": "stdout",
     "output_type": "stream",
     "text": [
      "📝 Batch 197 saved: 50/50 successful\n"
     ]
    },
    {
     "data": {
      "application/vnd.jupyter.widget-view+json": {
       "model_id": "0e1bda6efc984bd8bffb8e4ab6138791",
       "version_major": 2,
       "version_minor": 0
      },
      "text/plain": [
       "Batch 198 Downloads:   0%|          | 0/150 [00:00<?, ?file/s]"
      ]
     },
     "metadata": {},
     "output_type": "display_data"
    },
    {
     "data": {
      "application/vnd.jupyter.widget-view+json": {
       "model_id": "4e54aa3ff47242118229e743977b9d0e",
       "version_major": 2,
       "version_minor": 0
      },
      "text/plain": [
       "Batch 198 Processing:   0%|          | 0/50 [00:00<?, ?protein/s]"
      ]
     },
     "metadata": {},
     "output_type": "display_data"
    },
    {
     "name": "stdout",
     "output_type": "stream",
     "text": [
      "📝 Batch 198 saved: 50/50 successful\n"
     ]
    },
    {
     "data": {
      "application/vnd.jupyter.widget-view+json": {
       "model_id": "c391ff332cfd4f8b8c4fde0568038885",
       "version_major": 2,
       "version_minor": 0
      },
      "text/plain": [
       "Batch 199 Downloads:   0%|          | 0/150 [00:00<?, ?file/s]"
      ]
     },
     "metadata": {},
     "output_type": "display_data"
    },
    {
     "data": {
      "application/vnd.jupyter.widget-view+json": {
       "model_id": "13aecaf993c149ea8cf692bebdd208ea",
       "version_major": 2,
       "version_minor": 0
      },
      "text/plain": [
       "Batch 199 Processing:   0%|          | 0/50 [00:00<?, ?protein/s]"
      ]
     },
     "metadata": {},
     "output_type": "display_data"
    },
    {
     "name": "stdout",
     "output_type": "stream",
     "text": [
      "📝 Batch 199 saved: 50/50 successful\n"
     ]
    },
    {
     "data": {
      "application/vnd.jupyter.widget-view+json": {
       "model_id": "22a3689ce629474fa70c7c9af2303ccb",
       "version_major": 2,
       "version_minor": 0
      },
      "text/plain": [
       "Batch 200 Downloads:   0%|          | 0/150 [00:00<?, ?file/s]"
      ]
     },
     "metadata": {},
     "output_type": "display_data"
    },
    {
     "data": {
      "application/vnd.jupyter.widget-view+json": {
       "model_id": "0bcb88e79acc4380854b3fb420baf1b7",
       "version_major": 2,
       "version_minor": 0
      },
      "text/plain": [
       "Batch 200 Processing:   0%|          | 0/50 [00:00<?, ?protein/s]"
      ]
     },
     "metadata": {},
     "output_type": "display_data"
    },
    {
     "name": "stdout",
     "output_type": "stream",
     "text": [
      "📝 Batch 200 saved: 50/50 successful\n"
     ]
    },
    {
     "data": {
      "application/vnd.jupyter.widget-view+json": {
       "model_id": "7fb8bc607e4340608f78ce1599d4c6ea",
       "version_major": 2,
       "version_minor": 0
      },
      "text/plain": [
       "Batch 201 Downloads:   0%|          | 0/150 [00:00<?, ?file/s]"
      ]
     },
     "metadata": {},
     "output_type": "display_data"
    },
    {
     "data": {
      "application/vnd.jupyter.widget-view+json": {
       "model_id": "ba40a2e6cd4f4f86849ccf44e9551e7b",
       "version_major": 2,
       "version_minor": 0
      },
      "text/plain": [
       "Batch 201 Processing:   0%|          | 0/50 [00:00<?, ?protein/s]"
      ]
     },
     "metadata": {},
     "output_type": "display_data"
    },
    {
     "name": "stdout",
     "output_type": "stream",
     "text": [
      "📝 Batch 201 saved: 50/50 successful\n"
     ]
    },
    {
     "data": {
      "application/vnd.jupyter.widget-view+json": {
       "model_id": "3ed3f39ffdb4453ba3979780b625476f",
       "version_major": 2,
       "version_minor": 0
      },
      "text/plain": [
       "Batch 202 Downloads:   0%|          | 0/150 [00:00<?, ?file/s]"
      ]
     },
     "metadata": {},
     "output_type": "display_data"
    },
    {
     "data": {
      "application/vnd.jupyter.widget-view+json": {
       "model_id": "7ae4368e1b514f9f8e41f96d1092ef7e",
       "version_major": 2,
       "version_minor": 0
      },
      "text/plain": [
       "Batch 202 Processing:   0%|          | 0/50 [00:00<?, ?protein/s]"
      ]
     },
     "metadata": {},
     "output_type": "display_data"
    },
    {
     "name": "stdout",
     "output_type": "stream",
     "text": [
      "📝 Batch 202 saved: 50/50 successful\n"
     ]
    },
    {
     "data": {
      "application/vnd.jupyter.widget-view+json": {
       "model_id": "07f767ce022b42e0ad81c67b539d918a",
       "version_major": 2,
       "version_minor": 0
      },
      "text/plain": [
       "Batch 203 Downloads:   0%|          | 0/150 [00:00<?, ?file/s]"
      ]
     },
     "metadata": {},
     "output_type": "display_data"
    },
    {
     "data": {
      "application/vnd.jupyter.widget-view+json": {
       "model_id": "e67b6f6027084e5bbe649fae7b1d96e1",
       "version_major": 2,
       "version_minor": 0
      },
      "text/plain": [
       "Batch 203 Processing:   0%|          | 0/50 [00:00<?, ?protein/s]"
      ]
     },
     "metadata": {},
     "output_type": "display_data"
    },
    {
     "name": "stdout",
     "output_type": "stream",
     "text": [
      "📝 Batch 203 saved: 50/50 successful\n"
     ]
    },
    {
     "data": {
      "application/vnd.jupyter.widget-view+json": {
       "model_id": "d22daca4683f4d51a199e58b1d048c57",
       "version_major": 2,
       "version_minor": 0
      },
      "text/plain": [
       "Batch 204 Downloads:   0%|          | 0/150 [00:00<?, ?file/s]"
      ]
     },
     "metadata": {},
     "output_type": "display_data"
    },
    {
     "data": {
      "application/vnd.jupyter.widget-view+json": {
       "model_id": "aa83d80278cb454a8a942a059b60ca78",
       "version_major": 2,
       "version_minor": 0
      },
      "text/plain": [
       "Batch 204 Processing:   0%|          | 0/50 [00:00<?, ?protein/s]"
      ]
     },
     "metadata": {},
     "output_type": "display_data"
    },
    {
     "name": "stdout",
     "output_type": "stream",
     "text": [
      "📝 Batch 204 saved: 48/50 successful\n"
     ]
    },
    {
     "data": {
      "application/vnd.jupyter.widget-view+json": {
       "model_id": "557aa3b0683947e390a02c10571764df",
       "version_major": 2,
       "version_minor": 0
      },
      "text/plain": [
       "Batch 205 Downloads:   0%|          | 0/150 [00:00<?, ?file/s]"
      ]
     },
     "metadata": {},
     "output_type": "display_data"
    },
    {
     "data": {
      "application/vnd.jupyter.widget-view+json": {
       "model_id": "de2fb65ce50b4698911061ce308fcde4",
       "version_major": 2,
       "version_minor": 0
      },
      "text/plain": [
       "Batch 205 Processing:   0%|          | 0/50 [00:00<?, ?protein/s]"
      ]
     },
     "metadata": {},
     "output_type": "display_data"
    },
    {
     "name": "stdout",
     "output_type": "stream",
     "text": [
      "📝 Batch 205 saved: 50/50 successful\n"
     ]
    },
    {
     "data": {
      "application/vnd.jupyter.widget-view+json": {
       "model_id": "22e052ce3d5f44648ab6b44da898c0ad",
       "version_major": 2,
       "version_minor": 0
      },
      "text/plain": [
       "Batch 206 Downloads:   0%|          | 0/150 [00:00<?, ?file/s]"
      ]
     },
     "metadata": {},
     "output_type": "display_data"
    },
    {
     "data": {
      "application/vnd.jupyter.widget-view+json": {
       "model_id": "53ac6986c23f41ac8a47d3dac0bc660a",
       "version_major": 2,
       "version_minor": 0
      },
      "text/plain": [
       "Batch 206 Processing:   0%|          | 0/50 [00:00<?, ?protein/s]"
      ]
     },
     "metadata": {},
     "output_type": "display_data"
    },
    {
     "name": "stdout",
     "output_type": "stream",
     "text": [
      "📝 Batch 206 saved: 50/50 successful\n"
     ]
    },
    {
     "data": {
      "application/vnd.jupyter.widget-view+json": {
       "model_id": "a5fd717516674ff486c3d0915e7abd72",
       "version_major": 2,
       "version_minor": 0
      },
      "text/plain": [
       "Batch 207 Downloads:   0%|          | 0/150 [00:00<?, ?file/s]"
      ]
     },
     "metadata": {},
     "output_type": "display_data"
    },
    {
     "data": {
      "application/vnd.jupyter.widget-view+json": {
       "model_id": "a967a48a5cdb4ca48e445c50cf76d708",
       "version_major": 2,
       "version_minor": 0
      },
      "text/plain": [
       "Batch 207 Processing:   0%|          | 0/50 [00:00<?, ?protein/s]"
      ]
     },
     "metadata": {},
     "output_type": "display_data"
    },
    {
     "name": "stdout",
     "output_type": "stream",
     "text": [
      "📝 Batch 207 saved: 46/50 successful\n"
     ]
    },
    {
     "data": {
      "application/vnd.jupyter.widget-view+json": {
       "model_id": "7b2b70af479c42cba110100b97b8aabc",
       "version_major": 2,
       "version_minor": 0
      },
      "text/plain": [
       "Batch 208 Downloads:   0%|          | 0/150 [00:00<?, ?file/s]"
      ]
     },
     "metadata": {},
     "output_type": "display_data"
    },
    {
     "data": {
      "application/vnd.jupyter.widget-view+json": {
       "model_id": "3c0e781c93844f6e881237047e9fddd0",
       "version_major": 2,
       "version_minor": 0
      },
      "text/plain": [
       "Batch 208 Processing:   0%|          | 0/50 [00:00<?, ?protein/s]"
      ]
     },
     "metadata": {},
     "output_type": "display_data"
    },
    {
     "name": "stdout",
     "output_type": "stream",
     "text": [
      "📝 Batch 208 saved: 37/50 successful\n"
     ]
    },
    {
     "data": {
      "application/vnd.jupyter.widget-view+json": {
       "model_id": "0e93de66d25c4bb8b41bb366675bd2fb",
       "version_major": 2,
       "version_minor": 0
      },
      "text/plain": [
       "Batch 209 Downloads:   0%|          | 0/150 [00:00<?, ?file/s]"
      ]
     },
     "metadata": {},
     "output_type": "display_data"
    },
    {
     "data": {
      "application/vnd.jupyter.widget-view+json": {
       "model_id": "19b43905953c44b6b5a8c863712280bc",
       "version_major": 2,
       "version_minor": 0
      },
      "text/plain": [
       "Batch 209 Processing:   0%|          | 0/50 [00:00<?, ?protein/s]"
      ]
     },
     "metadata": {},
     "output_type": "display_data"
    },
    {
     "name": "stdout",
     "output_type": "stream",
     "text": [
      "📝 Batch 209 saved: 36/50 successful\n"
     ]
    },
    {
     "data": {
      "application/vnd.jupyter.widget-view+json": {
       "model_id": "1eac9572180444ad85b2adeb53991cc5",
       "version_major": 2,
       "version_minor": 0
      },
      "text/plain": [
       "Batch 210 Downloads:   0%|          | 0/150 [00:00<?, ?file/s]"
      ]
     },
     "metadata": {},
     "output_type": "display_data"
    },
    {
     "data": {
      "application/vnd.jupyter.widget-view+json": {
       "model_id": "dbfadd9ca264415193d8def487a22c0f",
       "version_major": 2,
       "version_minor": 0
      },
      "text/plain": [
       "Batch 210 Processing:   0%|          | 0/50 [00:00<?, ?protein/s]"
      ]
     },
     "metadata": {},
     "output_type": "display_data"
    },
    {
     "name": "stdout",
     "output_type": "stream",
     "text": [
      "📝 Batch 210 saved: 49/50 successful\n"
     ]
    },
    {
     "data": {
      "application/vnd.jupyter.widget-view+json": {
       "model_id": "869e29f2bb4c4307909fb3dbdd757c6e",
       "version_major": 2,
       "version_minor": 0
      },
      "text/plain": [
       "Batch 211 Downloads:   0%|          | 0/150 [00:00<?, ?file/s]"
      ]
     },
     "metadata": {},
     "output_type": "display_data"
    },
    {
     "data": {
      "application/vnd.jupyter.widget-view+json": {
       "model_id": "f12b56b387294b869cb04b9aa5d9aa7d",
       "version_major": 2,
       "version_minor": 0
      },
      "text/plain": [
       "Batch 211 Processing:   0%|          | 0/50 [00:00<?, ?protein/s]"
      ]
     },
     "metadata": {},
     "output_type": "display_data"
    },
    {
     "name": "stdout",
     "output_type": "stream",
     "text": [
      "📝 Batch 211 saved: 50/50 successful\n"
     ]
    },
    {
     "data": {
      "application/vnd.jupyter.widget-view+json": {
       "model_id": "6fe64821a4a94c27b8fc8daf39b13775",
       "version_major": 2,
       "version_minor": 0
      },
      "text/plain": [
       "Batch 212 Downloads:   0%|          | 0/150 [00:00<?, ?file/s]"
      ]
     },
     "metadata": {},
     "output_type": "display_data"
    },
    {
     "data": {
      "application/vnd.jupyter.widget-view+json": {
       "model_id": "81c8383ce3104c0b8c43b29b405eb638",
       "version_major": 2,
       "version_minor": 0
      },
      "text/plain": [
       "Batch 212 Processing:   0%|          | 0/50 [00:00<?, ?protein/s]"
      ]
     },
     "metadata": {},
     "output_type": "display_data"
    },
    {
     "name": "stdout",
     "output_type": "stream",
     "text": [
      "📝 Batch 212 saved: 50/50 successful\n"
     ]
    },
    {
     "data": {
      "application/vnd.jupyter.widget-view+json": {
       "model_id": "be452ec3adb04b7f86e2fdf8e8873b82",
       "version_major": 2,
       "version_minor": 0
      },
      "text/plain": [
       "Batch 213 Downloads:   0%|          | 0/150 [00:00<?, ?file/s]"
      ]
     },
     "metadata": {},
     "output_type": "display_data"
    },
    {
     "data": {
      "application/vnd.jupyter.widget-view+json": {
       "model_id": "36c685cb90d646939d4ab62be665f638",
       "version_major": 2,
       "version_minor": 0
      },
      "text/plain": [
       "Batch 213 Processing:   0%|          | 0/50 [00:00<?, ?protein/s]"
      ]
     },
     "metadata": {},
     "output_type": "display_data"
    },
    {
     "name": "stdout",
     "output_type": "stream",
     "text": [
      "📝 Batch 213 saved: 50/50 successful\n"
     ]
    },
    {
     "data": {
      "application/vnd.jupyter.widget-view+json": {
       "model_id": "4926a812d97f46c5868e214c9d625226",
       "version_major": 2,
       "version_minor": 0
      },
      "text/plain": [
       "Batch 214 Downloads:   0%|          | 0/150 [00:00<?, ?file/s]"
      ]
     },
     "metadata": {},
     "output_type": "display_data"
    },
    {
     "data": {
      "application/vnd.jupyter.widget-view+json": {
       "model_id": "11a28a7cc8bd4f21a42755bc6e60aeff",
       "version_major": 2,
       "version_minor": 0
      },
      "text/plain": [
       "Batch 214 Processing:   0%|          | 0/50 [00:00<?, ?protein/s]"
      ]
     },
     "metadata": {},
     "output_type": "display_data"
    },
    {
     "name": "stdout",
     "output_type": "stream",
     "text": [
      "📝 Batch 214 saved: 50/50 successful\n"
     ]
    },
    {
     "data": {
      "application/vnd.jupyter.widget-view+json": {
       "model_id": "c7fd224ff7dc44fbb42a1e615d52460f",
       "version_major": 2,
       "version_minor": 0
      },
      "text/plain": [
       "Batch 215 Downloads:   0%|          | 0/150 [00:00<?, ?file/s]"
      ]
     },
     "metadata": {},
     "output_type": "display_data"
    },
    {
     "data": {
      "application/vnd.jupyter.widget-view+json": {
       "model_id": "19e5074373c749ac8d6514b64c0e9abb",
       "version_major": 2,
       "version_minor": 0
      },
      "text/plain": [
       "Batch 215 Processing:   0%|          | 0/50 [00:00<?, ?protein/s]"
      ]
     },
     "metadata": {},
     "output_type": "display_data"
    },
    {
     "name": "stdout",
     "output_type": "stream",
     "text": [
      "📝 Batch 215 saved: 50/50 successful\n"
     ]
    },
    {
     "data": {
      "application/vnd.jupyter.widget-view+json": {
       "model_id": "26bf211897ed4fdba8bdab2926770958",
       "version_major": 2,
       "version_minor": 0
      },
      "text/plain": [
       "Batch 216 Downloads:   0%|          | 0/150 [00:00<?, ?file/s]"
      ]
     },
     "metadata": {},
     "output_type": "display_data"
    },
    {
     "data": {
      "application/vnd.jupyter.widget-view+json": {
       "model_id": "91d2730eb707418bafd80c24a04920fb",
       "version_major": 2,
       "version_minor": 0
      },
      "text/plain": [
       "Batch 216 Processing:   0%|          | 0/50 [00:00<?, ?protein/s]"
      ]
     },
     "metadata": {},
     "output_type": "display_data"
    },
    {
     "name": "stdout",
     "output_type": "stream",
     "text": [
      "📝 Batch 216 saved: 50/50 successful\n"
     ]
    },
    {
     "data": {
      "application/vnd.jupyter.widget-view+json": {
       "model_id": "71d932f48273479bb5c9928dccc29ec0",
       "version_major": 2,
       "version_minor": 0
      },
      "text/plain": [
       "Batch 217 Downloads:   0%|          | 0/150 [00:00<?, ?file/s]"
      ]
     },
     "metadata": {},
     "output_type": "display_data"
    },
    {
     "data": {
      "application/vnd.jupyter.widget-view+json": {
       "model_id": "cda5701da2a04ddebd0661940ae7bc24",
       "version_major": 2,
       "version_minor": 0
      },
      "text/plain": [
       "Batch 217 Processing:   0%|          | 0/50 [00:00<?, ?protein/s]"
      ]
     },
     "metadata": {},
     "output_type": "display_data"
    },
    {
     "name": "stdout",
     "output_type": "stream",
     "text": [
      "📝 Batch 217 saved: 50/50 successful\n"
     ]
    },
    {
     "data": {
      "application/vnd.jupyter.widget-view+json": {
       "model_id": "b2b7e3c69c24432e9aa4578c5f0b7a7c",
       "version_major": 2,
       "version_minor": 0
      },
      "text/plain": [
       "Batch 218 Downloads:   0%|          | 0/150 [00:00<?, ?file/s]"
      ]
     },
     "metadata": {},
     "output_type": "display_data"
    },
    {
     "data": {
      "application/vnd.jupyter.widget-view+json": {
       "model_id": "b9694e0d01384ca0a5b4bb11b0dc6448",
       "version_major": 2,
       "version_minor": 0
      },
      "text/plain": [
       "Batch 218 Processing:   0%|          | 0/50 [00:00<?, ?protein/s]"
      ]
     },
     "metadata": {},
     "output_type": "display_data"
    },
    {
     "name": "stdout",
     "output_type": "stream",
     "text": [
      "📝 Batch 218 saved: 49/50 successful\n"
     ]
    },
    {
     "data": {
      "application/vnd.jupyter.widget-view+json": {
       "model_id": "5e11d2ed36644169af62b071ef708635",
       "version_major": 2,
       "version_minor": 0
      },
      "text/plain": [
       "Batch 219 Downloads:   0%|          | 0/150 [00:00<?, ?file/s]"
      ]
     },
     "metadata": {},
     "output_type": "display_data"
    },
    {
     "data": {
      "application/vnd.jupyter.widget-view+json": {
       "model_id": "c0c85c6bd34e4e40b2104c113a80c392",
       "version_major": 2,
       "version_minor": 0
      },
      "text/plain": [
       "Batch 219 Processing:   0%|          | 0/50 [00:00<?, ?protein/s]"
      ]
     },
     "metadata": {},
     "output_type": "display_data"
    },
    {
     "name": "stdout",
     "output_type": "stream",
     "text": [
      "📝 Batch 219 saved: 50/50 successful\n"
     ]
    },
    {
     "data": {
      "application/vnd.jupyter.widget-view+json": {
       "model_id": "ece89f37194b458697c0d3b42e7014bf",
       "version_major": 2,
       "version_minor": 0
      },
      "text/plain": [
       "Batch 220 Downloads:   0%|          | 0/150 [00:00<?, ?file/s]"
      ]
     },
     "metadata": {},
     "output_type": "display_data"
    },
    {
     "data": {
      "application/vnd.jupyter.widget-view+json": {
       "model_id": "d916521070f04ff6b6329526efe5352e",
       "version_major": 2,
       "version_minor": 0
      },
      "text/plain": [
       "Batch 220 Processing:   0%|          | 0/50 [00:00<?, ?protein/s]"
      ]
     },
     "metadata": {},
     "output_type": "display_data"
    },
    {
     "name": "stdout",
     "output_type": "stream",
     "text": [
      "📝 Batch 220 saved: 49/50 successful\n"
     ]
    },
    {
     "data": {
      "application/vnd.jupyter.widget-view+json": {
       "model_id": "d0833bc469644e77813a66ea66711c99",
       "version_major": 2,
       "version_minor": 0
      },
      "text/plain": [
       "Batch 221 Downloads:   0%|          | 0/150 [00:00<?, ?file/s]"
      ]
     },
     "metadata": {},
     "output_type": "display_data"
    },
    {
     "data": {
      "application/vnd.jupyter.widget-view+json": {
       "model_id": "8a11c6cb61c24a1aac7277f51d6b7259",
       "version_major": 2,
       "version_minor": 0
      },
      "text/plain": [
       "Batch 221 Processing:   0%|          | 0/50 [00:00<?, ?protein/s]"
      ]
     },
     "metadata": {},
     "output_type": "display_data"
    },
    {
     "name": "stdout",
     "output_type": "stream",
     "text": [
      "📝 Batch 221 saved: 50/50 successful\n"
     ]
    },
    {
     "data": {
      "application/vnd.jupyter.widget-view+json": {
       "model_id": "7c0a9454d4794f8392c2e768df310e38",
       "version_major": 2,
       "version_minor": 0
      },
      "text/plain": [
       "Batch 222 Downloads:   0%|          | 0/150 [00:00<?, ?file/s]"
      ]
     },
     "metadata": {},
     "output_type": "display_data"
    },
    {
     "data": {
      "application/vnd.jupyter.widget-view+json": {
       "model_id": "fc467fe8121d4f3786450d83df44580f",
       "version_major": 2,
       "version_minor": 0
      },
      "text/plain": [
       "Batch 222 Processing:   0%|          | 0/50 [00:00<?, ?protein/s]"
      ]
     },
     "metadata": {},
     "output_type": "display_data"
    },
    {
     "name": "stdout",
     "output_type": "stream",
     "text": [
      "📝 Batch 222 saved: 50/50 successful\n"
     ]
    },
    {
     "data": {
      "application/vnd.jupyter.widget-view+json": {
       "model_id": "e30277566a3e4e92812ebb1d2eeb466e",
       "version_major": 2,
       "version_minor": 0
      },
      "text/plain": [
       "Batch 223 Downloads:   0%|          | 0/150 [00:00<?, ?file/s]"
      ]
     },
     "metadata": {},
     "output_type": "display_data"
    },
    {
     "data": {
      "application/vnd.jupyter.widget-view+json": {
       "model_id": "43fc57ee01214ebc905024f9a6cc2c39",
       "version_major": 2,
       "version_minor": 0
      },
      "text/plain": [
       "Batch 223 Processing:   0%|          | 0/50 [00:00<?, ?protein/s]"
      ]
     },
     "metadata": {},
     "output_type": "display_data"
    },
    {
     "name": "stdout",
     "output_type": "stream",
     "text": [
      "📝 Batch 223 saved: 48/50 successful\n"
     ]
    },
    {
     "data": {
      "application/vnd.jupyter.widget-view+json": {
       "model_id": "563d8f86333842d6bd529c9f51f39e8f",
       "version_major": 2,
       "version_minor": 0
      },
      "text/plain": [
       "Batch 224 Downloads:   0%|          | 0/150 [00:00<?, ?file/s]"
      ]
     },
     "metadata": {},
     "output_type": "display_data"
    },
    {
     "data": {
      "application/vnd.jupyter.widget-view+json": {
       "model_id": "2dadd599b48f48baa299cc586a0d0e70",
       "version_major": 2,
       "version_minor": 0
      },
      "text/plain": [
       "Batch 224 Processing:   0%|          | 0/50 [00:00<?, ?protein/s]"
      ]
     },
     "metadata": {},
     "output_type": "display_data"
    },
    {
     "name": "stdout",
     "output_type": "stream",
     "text": [
      "📝 Batch 224 saved: 50/50 successful\n"
     ]
    },
    {
     "data": {
      "application/vnd.jupyter.widget-view+json": {
       "model_id": "384069c1939145efab75cd1b3009b56c",
       "version_major": 2,
       "version_minor": 0
      },
      "text/plain": [
       "Batch 225 Downloads:   0%|          | 0/150 [00:00<?, ?file/s]"
      ]
     },
     "metadata": {},
     "output_type": "display_data"
    },
    {
     "data": {
      "application/vnd.jupyter.widget-view+json": {
       "model_id": "26e6c716d2e24d42a38a04094c2604ac",
       "version_major": 2,
       "version_minor": 0
      },
      "text/plain": [
       "Batch 225 Processing:   0%|          | 0/50 [00:00<?, ?protein/s]"
      ]
     },
     "metadata": {},
     "output_type": "display_data"
    },
    {
     "name": "stdout",
     "output_type": "stream",
     "text": [
      "📝 Batch 225 saved: 48/50 successful\n"
     ]
    },
    {
     "data": {
      "application/vnd.jupyter.widget-view+json": {
       "model_id": "5ab99df12f3949bb9e001365ef06488b",
       "version_major": 2,
       "version_minor": 0
      },
      "text/plain": [
       "Batch 226 Downloads:   0%|          | 0/150 [00:00<?, ?file/s]"
      ]
     },
     "metadata": {},
     "output_type": "display_data"
    },
    {
     "data": {
      "application/vnd.jupyter.widget-view+json": {
       "model_id": "132cbc909516422fadabc72a171b9cd0",
       "version_major": 2,
       "version_minor": 0
      },
      "text/plain": [
       "Batch 226 Processing:   0%|          | 0/50 [00:00<?, ?protein/s]"
      ]
     },
     "metadata": {},
     "output_type": "display_data"
    },
    {
     "name": "stdout",
     "output_type": "stream",
     "text": [
      "📝 Batch 226 saved: 49/50 successful\n"
     ]
    },
    {
     "data": {
      "application/vnd.jupyter.widget-view+json": {
       "model_id": "80ce4b07797b4a6091b826751bb1079a",
       "version_major": 2,
       "version_minor": 0
      },
      "text/plain": [
       "Batch 227 Downloads:   0%|          | 0/150 [00:00<?, ?file/s]"
      ]
     },
     "metadata": {},
     "output_type": "display_data"
    },
    {
     "data": {
      "application/vnd.jupyter.widget-view+json": {
       "model_id": "e4082934576d483299a176e42b0b73b8",
       "version_major": 2,
       "version_minor": 0
      },
      "text/plain": [
       "Batch 227 Processing:   0%|          | 0/50 [00:00<?, ?protein/s]"
      ]
     },
     "metadata": {},
     "output_type": "display_data"
    },
    {
     "name": "stdout",
     "output_type": "stream",
     "text": [
      "📝 Batch 227 saved: 50/50 successful\n"
     ]
    },
    {
     "data": {
      "application/vnd.jupyter.widget-view+json": {
       "model_id": "106a847f0cf4456aa453a672d423c3ef",
       "version_major": 2,
       "version_minor": 0
      },
      "text/plain": [
       "Batch 228 Downloads:   0%|          | 0/150 [00:00<?, ?file/s]"
      ]
     },
     "metadata": {},
     "output_type": "display_data"
    },
    {
     "data": {
      "application/vnd.jupyter.widget-view+json": {
       "model_id": "312a2a74292b4024a1cd659e8a7a43bc",
       "version_major": 2,
       "version_minor": 0
      },
      "text/plain": [
       "Batch 228 Processing:   0%|          | 0/50 [00:00<?, ?protein/s]"
      ]
     },
     "metadata": {},
     "output_type": "display_data"
    },
    {
     "name": "stdout",
     "output_type": "stream",
     "text": [
      "📝 Batch 228 saved: 47/50 successful\n"
     ]
    },
    {
     "data": {
      "application/vnd.jupyter.widget-view+json": {
       "model_id": "24b31274946540c8b372c0bae543662e",
       "version_major": 2,
       "version_minor": 0
      },
      "text/plain": [
       "Batch 229 Downloads:   0%|          | 0/150 [00:00<?, ?file/s]"
      ]
     },
     "metadata": {},
     "output_type": "display_data"
    },
    {
     "data": {
      "application/vnd.jupyter.widget-view+json": {
       "model_id": "5e45b7ba603e49bbb23641c09711077b",
       "version_major": 2,
       "version_minor": 0
      },
      "text/plain": [
       "Batch 229 Processing:   0%|          | 0/50 [00:00<?, ?protein/s]"
      ]
     },
     "metadata": {},
     "output_type": "display_data"
    },
    {
     "name": "stdout",
     "output_type": "stream",
     "text": [
      "📝 Batch 229 saved: 50/50 successful\n"
     ]
    },
    {
     "data": {
      "application/vnd.jupyter.widget-view+json": {
       "model_id": "9436c98e7e0640bfbcb60a94693cc7b4",
       "version_major": 2,
       "version_minor": 0
      },
      "text/plain": [
       "Batch 230 Downloads:   0%|          | 0/150 [00:00<?, ?file/s]"
      ]
     },
     "metadata": {},
     "output_type": "display_data"
    },
    {
     "data": {
      "application/vnd.jupyter.widget-view+json": {
       "model_id": "8aae0323e28646a38a84dbd71ae8d1ca",
       "version_major": 2,
       "version_minor": 0
      },
      "text/plain": [
       "Batch 230 Processing:   0%|          | 0/50 [00:00<?, ?protein/s]"
      ]
     },
     "metadata": {},
     "output_type": "display_data"
    },
    {
     "name": "stdout",
     "output_type": "stream",
     "text": [
      "📝 Batch 230 saved: 49/50 successful\n"
     ]
    },
    {
     "data": {
      "application/vnd.jupyter.widget-view+json": {
       "model_id": "872a99b1091e4787980de43e3267589d",
       "version_major": 2,
       "version_minor": 0
      },
      "text/plain": [
       "Batch 231 Downloads:   0%|          | 0/150 [00:00<?, ?file/s]"
      ]
     },
     "metadata": {},
     "output_type": "display_data"
    },
    {
     "data": {
      "application/vnd.jupyter.widget-view+json": {
       "model_id": "d59a729fedab45968cbb508eddb9a0ae",
       "version_major": 2,
       "version_minor": 0
      },
      "text/plain": [
       "Batch 231 Processing:   0%|          | 0/50 [00:00<?, ?protein/s]"
      ]
     },
     "metadata": {},
     "output_type": "display_data"
    },
    {
     "name": "stdout",
     "output_type": "stream",
     "text": [
      "📝 Batch 231 saved: 42/50 successful\n"
     ]
    },
    {
     "data": {
      "application/vnd.jupyter.widget-view+json": {
       "model_id": "8d38e861981b44bb9932c65e785ddb6f",
       "version_major": 2,
       "version_minor": 0
      },
      "text/plain": [
       "Batch 232 Downloads:   0%|          | 0/150 [00:00<?, ?file/s]"
      ]
     },
     "metadata": {},
     "output_type": "display_data"
    },
    {
     "data": {
      "application/vnd.jupyter.widget-view+json": {
       "model_id": "bcda3e4cf7a4472598dc9d0a28302017",
       "version_major": 2,
       "version_minor": 0
      },
      "text/plain": [
       "Batch 232 Processing:   0%|          | 0/50 [00:00<?, ?protein/s]"
      ]
     },
     "metadata": {},
     "output_type": "display_data"
    },
    {
     "name": "stdout",
     "output_type": "stream",
     "text": [
      "📝 Batch 232 saved: 45/50 successful\n"
     ]
    },
    {
     "data": {
      "application/vnd.jupyter.widget-view+json": {
       "model_id": "8ea5d0554aec4966b0ad5b98427df138",
       "version_major": 2,
       "version_minor": 0
      },
      "text/plain": [
       "Batch 233 Downloads:   0%|          | 0/150 [00:00<?, ?file/s]"
      ]
     },
     "metadata": {},
     "output_type": "display_data"
    },
    {
     "data": {
      "application/vnd.jupyter.widget-view+json": {
       "model_id": "32fa2b9989e84b3bacf5299b6ff9e9b7",
       "version_major": 2,
       "version_minor": 0
      },
      "text/plain": [
       "Batch 233 Processing:   0%|          | 0/50 [00:00<?, ?protein/s]"
      ]
     },
     "metadata": {},
     "output_type": "display_data"
    },
    {
     "name": "stdout",
     "output_type": "stream",
     "text": [
      "📝 Batch 233 saved: 47/50 successful\n"
     ]
    },
    {
     "data": {
      "application/vnd.jupyter.widget-view+json": {
       "model_id": "fef7e067acbe4f6085ea4920c70d8471",
       "version_major": 2,
       "version_minor": 0
      },
      "text/plain": [
       "Batch 234 Downloads:   0%|          | 0/150 [00:00<?, ?file/s]"
      ]
     },
     "metadata": {},
     "output_type": "display_data"
    },
    {
     "data": {
      "application/vnd.jupyter.widget-view+json": {
       "model_id": "79f14c8dc9e346a48a2e9e7cfbd282cc",
       "version_major": 2,
       "version_minor": 0
      },
      "text/plain": [
       "Batch 234 Processing:   0%|          | 0/50 [00:00<?, ?protein/s]"
      ]
     },
     "metadata": {},
     "output_type": "display_data"
    },
    {
     "name": "stdout",
     "output_type": "stream",
     "text": [
      "📝 Batch 234 saved: 46/50 successful\n"
     ]
    },
    {
     "data": {
      "application/vnd.jupyter.widget-view+json": {
       "model_id": "08eef88a74224d3e8f1529d5683bfaf1",
       "version_major": 2,
       "version_minor": 0
      },
      "text/plain": [
       "Batch 235 Downloads:   0%|          | 0/150 [00:00<?, ?file/s]"
      ]
     },
     "metadata": {},
     "output_type": "display_data"
    },
    {
     "data": {
      "application/vnd.jupyter.widget-view+json": {
       "model_id": "12dc1361da164eee807fd15865089088",
       "version_major": 2,
       "version_minor": 0
      },
      "text/plain": [
       "Batch 235 Processing:   0%|          | 0/50 [00:00<?, ?protein/s]"
      ]
     },
     "metadata": {},
     "output_type": "display_data"
    },
    {
     "name": "stdout",
     "output_type": "stream",
     "text": [
      "📝 Batch 235 saved: 50/50 successful\n"
     ]
    },
    {
     "data": {
      "application/vnd.jupyter.widget-view+json": {
       "model_id": "a3a0e51c0f4646a4a1a2ce80eeee2f16",
       "version_major": 2,
       "version_minor": 0
      },
      "text/plain": [
       "Batch 236 Downloads:   0%|          | 0/150 [00:00<?, ?file/s]"
      ]
     },
     "metadata": {},
     "output_type": "display_data"
    },
    {
     "data": {
      "application/vnd.jupyter.widget-view+json": {
       "model_id": "fbea949a76b2426c95dd69745ca7bc0b",
       "version_major": 2,
       "version_minor": 0
      },
      "text/plain": [
       "Batch 236 Processing:   0%|          | 0/50 [00:00<?, ?protein/s]"
      ]
     },
     "metadata": {},
     "output_type": "display_data"
    },
    {
     "name": "stdout",
     "output_type": "stream",
     "text": [
      "📝 Batch 236 saved: 50/50 successful\n"
     ]
    },
    {
     "data": {
      "application/vnd.jupyter.widget-view+json": {
       "model_id": "0ecdb82e9ebe470380dc019d9ccde2e3",
       "version_major": 2,
       "version_minor": 0
      },
      "text/plain": [
       "Batch 237 Downloads:   0%|          | 0/150 [00:00<?, ?file/s]"
      ]
     },
     "metadata": {},
     "output_type": "display_data"
    },
    {
     "data": {
      "application/vnd.jupyter.widget-view+json": {
       "model_id": "c96743440b45423f8fce621479a08b66",
       "version_major": 2,
       "version_minor": 0
      },
      "text/plain": [
       "Batch 237 Processing:   0%|          | 0/50 [00:00<?, ?protein/s]"
      ]
     },
     "metadata": {},
     "output_type": "display_data"
    },
    {
     "name": "stdout",
     "output_type": "stream",
     "text": [
      "📝 Batch 237 saved: 39/50 successful\n"
     ]
    },
    {
     "data": {
      "application/vnd.jupyter.widget-view+json": {
       "model_id": "f191dbb4f1174291b87e721b71e11024",
       "version_major": 2,
       "version_minor": 0
      },
      "text/plain": [
       "Batch 238 Downloads:   0%|          | 0/150 [00:00<?, ?file/s]"
      ]
     },
     "metadata": {},
     "output_type": "display_data"
    },
    {
     "data": {
      "application/vnd.jupyter.widget-view+json": {
       "model_id": "6d6fcd19e6964dd7bd1b01ac9d11f684",
       "version_major": 2,
       "version_minor": 0
      },
      "text/plain": [
       "Batch 238 Processing:   0%|          | 0/50 [00:00<?, ?protein/s]"
      ]
     },
     "metadata": {},
     "output_type": "display_data"
    },
    {
     "name": "stdout",
     "output_type": "stream",
     "text": [
      "📝 Batch 238 saved: 50/50 successful\n"
     ]
    },
    {
     "data": {
      "application/vnd.jupyter.widget-view+json": {
       "model_id": "8b01ea785a004a6cba04926b1f9da467",
       "version_major": 2,
       "version_minor": 0
      },
      "text/plain": [
       "Batch 239 Downloads:   0%|          | 0/150 [00:00<?, ?file/s]"
      ]
     },
     "metadata": {},
     "output_type": "display_data"
    },
    {
     "data": {
      "application/vnd.jupyter.widget-view+json": {
       "model_id": "b71460b746504cbb8458bdc277c48162",
       "version_major": 2,
       "version_minor": 0
      },
      "text/plain": [
       "Batch 239 Processing:   0%|          | 0/50 [00:00<?, ?protein/s]"
      ]
     },
     "metadata": {},
     "output_type": "display_data"
    },
    {
     "name": "stdout",
     "output_type": "stream",
     "text": [
      "📝 Batch 239 saved: 50/50 successful\n"
     ]
    },
    {
     "data": {
      "application/vnd.jupyter.widget-view+json": {
       "model_id": "a145e60e1ce940af99a359492a8b564b",
       "version_major": 2,
       "version_minor": 0
      },
      "text/plain": [
       "Batch 240 Downloads:   0%|          | 0/150 [00:00<?, ?file/s]"
      ]
     },
     "metadata": {},
     "output_type": "display_data"
    },
    {
     "data": {
      "application/vnd.jupyter.widget-view+json": {
       "model_id": "96499abb6a2a418bb8511a3277eb0c29",
       "version_major": 2,
       "version_minor": 0
      },
      "text/plain": [
       "Batch 240 Processing:   0%|          | 0/50 [00:00<?, ?protein/s]"
      ]
     },
     "metadata": {},
     "output_type": "display_data"
    },
    {
     "name": "stdout",
     "output_type": "stream",
     "text": [
      "📝 Batch 240 saved: 50/50 successful\n"
     ]
    },
    {
     "data": {
      "application/vnd.jupyter.widget-view+json": {
       "model_id": "a639ee30422b42c0a01108fdd46e72da",
       "version_major": 2,
       "version_minor": 0
      },
      "text/plain": [
       "Batch 241 Downloads:   0%|          | 0/150 [00:00<?, ?file/s]"
      ]
     },
     "metadata": {},
     "output_type": "display_data"
    },
    {
     "data": {
      "application/vnd.jupyter.widget-view+json": {
       "model_id": "9f2535a7b9f442029829fa4ecec19c9c",
       "version_major": 2,
       "version_minor": 0
      },
      "text/plain": [
       "Batch 241 Processing:   0%|          | 0/50 [00:00<?, ?protein/s]"
      ]
     },
     "metadata": {},
     "output_type": "display_data"
    },
    {
     "name": "stdout",
     "output_type": "stream",
     "text": [
      "📝 Batch 241 saved: 38/50 successful\n"
     ]
    },
    {
     "data": {
      "application/vnd.jupyter.widget-view+json": {
       "model_id": "94aefa240d84420593591fd0e755b9c5",
       "version_major": 2,
       "version_minor": 0
      },
      "text/plain": [
       "Batch 242 Downloads:   0%|          | 0/150 [00:00<?, ?file/s]"
      ]
     },
     "metadata": {},
     "output_type": "display_data"
    },
    {
     "data": {
      "application/vnd.jupyter.widget-view+json": {
       "model_id": "07b243c40c544afbabeeee936db6e7c6",
       "version_major": 2,
       "version_minor": 0
      },
      "text/plain": [
       "Batch 242 Processing:   0%|          | 0/50 [00:00<?, ?protein/s]"
      ]
     },
     "metadata": {},
     "output_type": "display_data"
    },
    {
     "name": "stdout",
     "output_type": "stream",
     "text": [
      "📝 Batch 242 saved: 47/50 successful\n"
     ]
    },
    {
     "data": {
      "application/vnd.jupyter.widget-view+json": {
       "model_id": "d1ed05f1cbae4808b38436c6915ab501",
       "version_major": 2,
       "version_minor": 0
      },
      "text/plain": [
       "Batch 243 Downloads:   0%|          | 0/150 [00:00<?, ?file/s]"
      ]
     },
     "metadata": {},
     "output_type": "display_data"
    },
    {
     "data": {
      "application/vnd.jupyter.widget-view+json": {
       "model_id": "1a4f85a56cfa40149428e406cca59323",
       "version_major": 2,
       "version_minor": 0
      },
      "text/plain": [
       "Batch 243 Processing:   0%|          | 0/50 [00:00<?, ?protein/s]"
      ]
     },
     "metadata": {},
     "output_type": "display_data"
    },
    {
     "name": "stdout",
     "output_type": "stream",
     "text": [
      "📝 Batch 243 saved: 50/50 successful\n"
     ]
    },
    {
     "data": {
      "application/vnd.jupyter.widget-view+json": {
       "model_id": "6a80992a0ac24f71b42bf6edcf56cf4d",
       "version_major": 2,
       "version_minor": 0
      },
      "text/plain": [
       "Batch 244 Downloads:   0%|          | 0/150 [00:00<?, ?file/s]"
      ]
     },
     "metadata": {},
     "output_type": "display_data"
    },
    {
     "data": {
      "application/vnd.jupyter.widget-view+json": {
       "model_id": "7e932ab12e724c5f85bf5e83b5bb09d7",
       "version_major": 2,
       "version_minor": 0
      },
      "text/plain": [
       "Batch 244 Processing:   0%|          | 0/50 [00:00<?, ?protein/s]"
      ]
     },
     "metadata": {},
     "output_type": "display_data"
    },
    {
     "name": "stdout",
     "output_type": "stream",
     "text": [
      "📝 Batch 244 saved: 48/50 successful\n"
     ]
    },
    {
     "data": {
      "application/vnd.jupyter.widget-view+json": {
       "model_id": "50fc00cc6b184e01bdc17800d0d968b1",
       "version_major": 2,
       "version_minor": 0
      },
      "text/plain": [
       "Batch 245 Downloads:   0%|          | 0/150 [00:00<?, ?file/s]"
      ]
     },
     "metadata": {},
     "output_type": "display_data"
    },
    {
     "data": {
      "application/vnd.jupyter.widget-view+json": {
       "model_id": "5cf1867aafc6499d9f8fdde659d009d4",
       "version_major": 2,
       "version_minor": 0
      },
      "text/plain": [
       "Batch 245 Processing:   0%|          | 0/50 [00:00<?, ?protein/s]"
      ]
     },
     "metadata": {},
     "output_type": "display_data"
    },
    {
     "name": "stdout",
     "output_type": "stream",
     "text": [
      "📝 Batch 245 saved: 49/50 successful\n"
     ]
    },
    {
     "data": {
      "application/vnd.jupyter.widget-view+json": {
       "model_id": "fff1a89963264345878befa86ef8856d",
       "version_major": 2,
       "version_minor": 0
      },
      "text/plain": [
       "Batch 246 Downloads:   0%|          | 0/150 [00:00<?, ?file/s]"
      ]
     },
     "metadata": {},
     "output_type": "display_data"
    },
    {
     "data": {
      "application/vnd.jupyter.widget-view+json": {
       "model_id": "2978d05c0a6e4c45a7412fee7c856a3d",
       "version_major": 2,
       "version_minor": 0
      },
      "text/plain": [
       "Batch 246 Processing:   0%|          | 0/50 [00:00<?, ?protein/s]"
      ]
     },
     "metadata": {},
     "output_type": "display_data"
    },
    {
     "name": "stdout",
     "output_type": "stream",
     "text": [
      "📝 Batch 246 saved: 50/50 successful\n"
     ]
    },
    {
     "data": {
      "application/vnd.jupyter.widget-view+json": {
       "model_id": "ef14cb4d2d544bf2a4b62014f068e992",
       "version_major": 2,
       "version_minor": 0
      },
      "text/plain": [
       "Batch 247 Downloads:   0%|          | 0/150 [00:00<?, ?file/s]"
      ]
     },
     "metadata": {},
     "output_type": "display_data"
    },
    {
     "data": {
      "application/vnd.jupyter.widget-view+json": {
       "model_id": "3cb571e33d3b49a78d4a76e6cef78a4c",
       "version_major": 2,
       "version_minor": 0
      },
      "text/plain": [
       "Batch 247 Processing:   0%|          | 0/50 [00:00<?, ?protein/s]"
      ]
     },
     "metadata": {},
     "output_type": "display_data"
    },
    {
     "name": "stdout",
     "output_type": "stream",
     "text": [
      "📝 Batch 247 saved: 50/50 successful\n"
     ]
    },
    {
     "data": {
      "application/vnd.jupyter.widget-view+json": {
       "model_id": "753725ee1c1440e1a669fd57b618e463",
       "version_major": 2,
       "version_minor": 0
      },
      "text/plain": [
       "Batch 248 Downloads:   0%|          | 0/150 [00:00<?, ?file/s]"
      ]
     },
     "metadata": {},
     "output_type": "display_data"
    },
    {
     "data": {
      "application/vnd.jupyter.widget-view+json": {
       "model_id": "43b9576c990e4d5ea8ceee81fcff770f",
       "version_major": 2,
       "version_minor": 0
      },
      "text/plain": [
       "Batch 248 Processing:   0%|          | 0/50 [00:00<?, ?protein/s]"
      ]
     },
     "metadata": {},
     "output_type": "display_data"
    },
    {
     "name": "stdout",
     "output_type": "stream",
     "text": [
      "📝 Batch 248 saved: 35/50 successful\n"
     ]
    },
    {
     "data": {
      "application/vnd.jupyter.widget-view+json": {
       "model_id": "d0a574c80e7343deb8b9b33d620df264",
       "version_major": 2,
       "version_minor": 0
      },
      "text/plain": [
       "Batch 249 Downloads:   0%|          | 0/150 [00:00<?, ?file/s]"
      ]
     },
     "metadata": {},
     "output_type": "display_data"
    },
    {
     "data": {
      "application/vnd.jupyter.widget-view+json": {
       "model_id": "e99b6116ad444b77982c4c6fd7176000",
       "version_major": 2,
       "version_minor": 0
      },
      "text/plain": [
       "Batch 249 Processing:   0%|          | 0/50 [00:00<?, ?protein/s]"
      ]
     },
     "metadata": {},
     "output_type": "display_data"
    },
    {
     "name": "stdout",
     "output_type": "stream",
     "text": [
      "📝 Batch 249 saved: 41/50 successful\n"
     ]
    },
    {
     "data": {
      "application/vnd.jupyter.widget-view+json": {
       "model_id": "8179a8f8b86f48cab4c6cba8ae32c425",
       "version_major": 2,
       "version_minor": 0
      },
      "text/plain": [
       "Batch 250 Downloads:   0%|          | 0/150 [00:00<?, ?file/s]"
      ]
     },
     "metadata": {},
     "output_type": "display_data"
    },
    {
     "data": {
      "application/vnd.jupyter.widget-view+json": {
       "model_id": "9a143b10cf2745cb8e7d13f8ff9d12e5",
       "version_major": 2,
       "version_minor": 0
      },
      "text/plain": [
       "Batch 250 Processing:   0%|          | 0/50 [00:00<?, ?protein/s]"
      ]
     },
     "metadata": {},
     "output_type": "display_data"
    },
    {
     "name": "stdout",
     "output_type": "stream",
     "text": [
      "📝 Batch 250 saved: 49/50 successful\n"
     ]
    },
    {
     "data": {
      "application/vnd.jupyter.widget-view+json": {
       "model_id": "db0b7f18f86242288e92e36d054d506d",
       "version_major": 2,
       "version_minor": 0
      },
      "text/plain": [
       "Batch 251 Downloads:   0%|          | 0/150 [00:00<?, ?file/s]"
      ]
     },
     "metadata": {},
     "output_type": "display_data"
    },
    {
     "data": {
      "application/vnd.jupyter.widget-view+json": {
       "model_id": "7421209c7f574f9c95da30c4c4639908",
       "version_major": 2,
       "version_minor": 0
      },
      "text/plain": [
       "Batch 251 Processing:   0%|          | 0/50 [00:00<?, ?protein/s]"
      ]
     },
     "metadata": {},
     "output_type": "display_data"
    },
    {
     "name": "stdout",
     "output_type": "stream",
     "text": [
      "📝 Batch 251 saved: 47/50 successful\n"
     ]
    },
    {
     "data": {
      "application/vnd.jupyter.widget-view+json": {
       "model_id": "2fbe29fa3519479d80ba7407f3ccb82f",
       "version_major": 2,
       "version_minor": 0
      },
      "text/plain": [
       "Batch 252 Downloads:   0%|          | 0/150 [00:00<?, ?file/s]"
      ]
     },
     "metadata": {},
     "output_type": "display_data"
    },
    {
     "data": {
      "application/vnd.jupyter.widget-view+json": {
       "model_id": "a2f7c94a8fbf404195560b5dc3096d2f",
       "version_major": 2,
       "version_minor": 0
      },
      "text/plain": [
       "Batch 252 Processing:   0%|          | 0/50 [00:00<?, ?protein/s]"
      ]
     },
     "metadata": {},
     "output_type": "display_data"
    },
    {
     "name": "stdout",
     "output_type": "stream",
     "text": [
      "📝 Batch 252 saved: 41/50 successful\n"
     ]
    },
    {
     "data": {
      "application/vnd.jupyter.widget-view+json": {
       "model_id": "70dee6436fa54fd9a2cffe0df7d2b202",
       "version_major": 2,
       "version_minor": 0
      },
      "text/plain": [
       "Batch 253 Downloads:   0%|          | 0/150 [00:00<?, ?file/s]"
      ]
     },
     "metadata": {},
     "output_type": "display_data"
    },
    {
     "data": {
      "application/vnd.jupyter.widget-view+json": {
       "model_id": "0ae368ccdb144d62acc4d41cb06cf1a9",
       "version_major": 2,
       "version_minor": 0
      },
      "text/plain": [
       "Batch 253 Processing:   0%|          | 0/50 [00:00<?, ?protein/s]"
      ]
     },
     "metadata": {},
     "output_type": "display_data"
    },
    {
     "name": "stdout",
     "output_type": "stream",
     "text": [
      "📝 Batch 253 saved: 50/50 successful\n"
     ]
    },
    {
     "data": {
      "application/vnd.jupyter.widget-view+json": {
       "model_id": "4c47fcf2d4ca471c9349de9c9d5497b6",
       "version_major": 2,
       "version_minor": 0
      },
      "text/plain": [
       "Batch 254 Downloads:   0%|          | 0/150 [00:00<?, ?file/s]"
      ]
     },
     "metadata": {},
     "output_type": "display_data"
    },
    {
     "data": {
      "application/vnd.jupyter.widget-view+json": {
       "model_id": "822dce3eacd641f8a0fa199a08e109c7",
       "version_major": 2,
       "version_minor": 0
      },
      "text/plain": [
       "Batch 254 Processing:   0%|          | 0/50 [00:00<?, ?protein/s]"
      ]
     },
     "metadata": {},
     "output_type": "display_data"
    },
    {
     "name": "stdout",
     "output_type": "stream",
     "text": [
      "📝 Batch 254 saved: 49/50 successful\n"
     ]
    },
    {
     "data": {
      "application/vnd.jupyter.widget-view+json": {
       "model_id": "2301040e759344049418a05dca5234be",
       "version_major": 2,
       "version_minor": 0
      },
      "text/plain": [
       "Batch 255 Downloads:   0%|          | 0/150 [00:00<?, ?file/s]"
      ]
     },
     "metadata": {},
     "output_type": "display_data"
    },
    {
     "data": {
      "application/vnd.jupyter.widget-view+json": {
       "model_id": "c55523643594422bb05246d5317fbf6c",
       "version_major": 2,
       "version_minor": 0
      },
      "text/plain": [
       "Batch 255 Processing:   0%|          | 0/50 [00:00<?, ?protein/s]"
      ]
     },
     "metadata": {},
     "output_type": "display_data"
    },
    {
     "name": "stdout",
     "output_type": "stream",
     "text": [
      "📝 Batch 255 saved: 50/50 successful\n"
     ]
    },
    {
     "data": {
      "application/vnd.jupyter.widget-view+json": {
       "model_id": "911e238f62ab41149509f4f6863bc64e",
       "version_major": 2,
       "version_minor": 0
      },
      "text/plain": [
       "Batch 256 Downloads:   0%|          | 0/150 [00:00<?, ?file/s]"
      ]
     },
     "metadata": {},
     "output_type": "display_data"
    },
    {
     "data": {
      "application/vnd.jupyter.widget-view+json": {
       "model_id": "3777e5bfd4d142c1be2636a638557237",
       "version_major": 2,
       "version_minor": 0
      },
      "text/plain": [
       "Batch 256 Processing:   0%|          | 0/50 [00:00<?, ?protein/s]"
      ]
     },
     "metadata": {},
     "output_type": "display_data"
    },
    {
     "name": "stdout",
     "output_type": "stream",
     "text": [
      "📝 Batch 256 saved: 50/50 successful\n"
     ]
    },
    {
     "data": {
      "application/vnd.jupyter.widget-view+json": {
       "model_id": "8f88e64a2a414b9f9d96f26d9226a7ba",
       "version_major": 2,
       "version_minor": 0
      },
      "text/plain": [
       "Batch 257 Downloads:   0%|          | 0/150 [00:00<?, ?file/s]"
      ]
     },
     "metadata": {},
     "output_type": "display_data"
    },
    {
     "data": {
      "application/vnd.jupyter.widget-view+json": {
       "model_id": "790cbe0c279642c487662a0e1401a740",
       "version_major": 2,
       "version_minor": 0
      },
      "text/plain": [
       "Batch 257 Processing:   0%|          | 0/50 [00:00<?, ?protein/s]"
      ]
     },
     "metadata": {},
     "output_type": "display_data"
    },
    {
     "name": "stdout",
     "output_type": "stream",
     "text": [
      "📝 Batch 257 saved: 50/50 successful\n"
     ]
    },
    {
     "data": {
      "application/vnd.jupyter.widget-view+json": {
       "model_id": "232be9c437d84e8c8ab49ba3dc621231",
       "version_major": 2,
       "version_minor": 0
      },
      "text/plain": [
       "Batch 258 Downloads:   0%|          | 0/150 [00:00<?, ?file/s]"
      ]
     },
     "metadata": {},
     "output_type": "display_data"
    },
    {
     "data": {
      "application/vnd.jupyter.widget-view+json": {
       "model_id": "793e3924512b45d8a81fe548a40e34b3",
       "version_major": 2,
       "version_minor": 0
      },
      "text/plain": [
       "Batch 258 Processing:   0%|          | 0/50 [00:00<?, ?protein/s]"
      ]
     },
     "metadata": {},
     "output_type": "display_data"
    },
    {
     "name": "stdout",
     "output_type": "stream",
     "text": [
      "📝 Batch 258 saved: 50/50 successful\n"
     ]
    },
    {
     "data": {
      "application/vnd.jupyter.widget-view+json": {
       "model_id": "fcd66b6f22654aae8b9998eaf998d1f5",
       "version_major": 2,
       "version_minor": 0
      },
      "text/plain": [
       "Batch 259 Downloads:   0%|          | 0/150 [00:00<?, ?file/s]"
      ]
     },
     "metadata": {},
     "output_type": "display_data"
    },
    {
     "data": {
      "application/vnd.jupyter.widget-view+json": {
       "model_id": "598a91ff06e54b098a0b52cdd6c268e5",
       "version_major": 2,
       "version_minor": 0
      },
      "text/plain": [
       "Batch 259 Processing:   0%|          | 0/50 [00:00<?, ?protein/s]"
      ]
     },
     "metadata": {},
     "output_type": "display_data"
    },
    {
     "name": "stdout",
     "output_type": "stream",
     "text": [
      "📝 Batch 259 saved: 50/50 successful\n"
     ]
    },
    {
     "data": {
      "application/vnd.jupyter.widget-view+json": {
       "model_id": "5c32d6fad2a54761b6eda121c9bf38da",
       "version_major": 2,
       "version_minor": 0
      },
      "text/plain": [
       "Batch 260 Downloads:   0%|          | 0/150 [00:00<?, ?file/s]"
      ]
     },
     "metadata": {},
     "output_type": "display_data"
    },
    {
     "data": {
      "application/vnd.jupyter.widget-view+json": {
       "model_id": "7ee7c5907c354482bfe81997244f970f",
       "version_major": 2,
       "version_minor": 0
      },
      "text/plain": [
       "Batch 260 Processing:   0%|          | 0/50 [00:00<?, ?protein/s]"
      ]
     },
     "metadata": {},
     "output_type": "display_data"
    },
    {
     "name": "stdout",
     "output_type": "stream",
     "text": [
      "📝 Batch 260 saved: 50/50 successful\n"
     ]
    },
    {
     "data": {
      "application/vnd.jupyter.widget-view+json": {
       "model_id": "d2485235febd41d794c401885a1473f4",
       "version_major": 2,
       "version_minor": 0
      },
      "text/plain": [
       "Batch 261 Downloads:   0%|          | 0/150 [00:00<?, ?file/s]"
      ]
     },
     "metadata": {},
     "output_type": "display_data"
    },
    {
     "data": {
      "application/vnd.jupyter.widget-view+json": {
       "model_id": "7a301b3a6620498bb5092b4f6f0cc873",
       "version_major": 2,
       "version_minor": 0
      },
      "text/plain": [
       "Batch 261 Processing:   0%|          | 0/50 [00:00<?, ?protein/s]"
      ]
     },
     "metadata": {},
     "output_type": "display_data"
    },
    {
     "name": "stdout",
     "output_type": "stream",
     "text": [
      "📝 Batch 261 saved: 50/50 successful\n"
     ]
    },
    {
     "data": {
      "application/vnd.jupyter.widget-view+json": {
       "model_id": "1635f26c4aa348d195baa4ec41b952b4",
       "version_major": 2,
       "version_minor": 0
      },
      "text/plain": [
       "Batch 262 Downloads:   0%|          | 0/150 [00:00<?, ?file/s]"
      ]
     },
     "metadata": {},
     "output_type": "display_data"
    },
    {
     "data": {
      "application/vnd.jupyter.widget-view+json": {
       "model_id": "a4cad4bed59144bb9166fba3c1b88c79",
       "version_major": 2,
       "version_minor": 0
      },
      "text/plain": [
       "Batch 262 Processing:   0%|          | 0/50 [00:00<?, ?protein/s]"
      ]
     },
     "metadata": {},
     "output_type": "display_data"
    },
    {
     "name": "stdout",
     "output_type": "stream",
     "text": [
      "📝 Batch 262 saved: 40/50 successful\n"
     ]
    },
    {
     "data": {
      "application/vnd.jupyter.widget-view+json": {
       "model_id": "2521f2c88ff44c1bb771985b7689eb1f",
       "version_major": 2,
       "version_minor": 0
      },
      "text/plain": [
       "Batch 263 Downloads:   0%|          | 0/150 [00:00<?, ?file/s]"
      ]
     },
     "metadata": {},
     "output_type": "display_data"
    },
    {
     "data": {
      "application/vnd.jupyter.widget-view+json": {
       "model_id": "c0fda6fd299d47e896412d8209fef6a5",
       "version_major": 2,
       "version_minor": 0
      },
      "text/plain": [
       "Batch 263 Processing:   0%|          | 0/50 [00:00<?, ?protein/s]"
      ]
     },
     "metadata": {},
     "output_type": "display_data"
    },
    {
     "name": "stdout",
     "output_type": "stream",
     "text": [
      "📝 Batch 263 saved: 49/50 successful\n"
     ]
    },
    {
     "data": {
      "application/vnd.jupyter.widget-view+json": {
       "model_id": "5732645d867047d7b1d469f39740e34e",
       "version_major": 2,
       "version_minor": 0
      },
      "text/plain": [
       "Batch 264 Downloads:   0%|          | 0/150 [00:00<?, ?file/s]"
      ]
     },
     "metadata": {},
     "output_type": "display_data"
    },
    {
     "data": {
      "application/vnd.jupyter.widget-view+json": {
       "model_id": "5370ddd4aa2549b6890408ce73a1ee06",
       "version_major": 2,
       "version_minor": 0
      },
      "text/plain": [
       "Batch 264 Processing:   0%|          | 0/50 [00:00<?, ?protein/s]"
      ]
     },
     "metadata": {},
     "output_type": "display_data"
    },
    {
     "name": "stdout",
     "output_type": "stream",
     "text": [
      "📝 Batch 264 saved: 48/50 successful\n"
     ]
    },
    {
     "data": {
      "application/vnd.jupyter.widget-view+json": {
       "model_id": "740745455e1a448e8fafc0b0a3ce4aa0",
       "version_major": 2,
       "version_minor": 0
      },
      "text/plain": [
       "Batch 265 Downloads:   0%|          | 0/150 [00:00<?, ?file/s]"
      ]
     },
     "metadata": {},
     "output_type": "display_data"
    },
    {
     "data": {
      "application/vnd.jupyter.widget-view+json": {
       "model_id": "f75b11d546f34917bc76652bcc7ad287",
       "version_major": 2,
       "version_minor": 0
      },
      "text/plain": [
       "Batch 265 Processing:   0%|          | 0/50 [00:00<?, ?protein/s]"
      ]
     },
     "metadata": {},
     "output_type": "display_data"
    },
    {
     "name": "stdout",
     "output_type": "stream",
     "text": [
      "📝 Batch 265 saved: 48/50 successful\n"
     ]
    },
    {
     "data": {
      "application/vnd.jupyter.widget-view+json": {
       "model_id": "523e1f4bfd10472d9d3bc626effa571c",
       "version_major": 2,
       "version_minor": 0
      },
      "text/plain": [
       "Batch 266 Downloads:   0%|          | 0/150 [00:00<?, ?file/s]"
      ]
     },
     "metadata": {},
     "output_type": "display_data"
    },
    {
     "data": {
      "application/vnd.jupyter.widget-view+json": {
       "model_id": "2f8986b367bd4cd289208d0df0fa8f45",
       "version_major": 2,
       "version_minor": 0
      },
      "text/plain": [
       "Batch 266 Processing:   0%|          | 0/50 [00:00<?, ?protein/s]"
      ]
     },
     "metadata": {},
     "output_type": "display_data"
    },
    {
     "name": "stdout",
     "output_type": "stream",
     "text": [
      "📝 Batch 266 saved: 50/50 successful\n"
     ]
    },
    {
     "data": {
      "application/vnd.jupyter.widget-view+json": {
       "model_id": "eee8412e6f694414adf9b8f91ce2a70b",
       "version_major": 2,
       "version_minor": 0
      },
      "text/plain": [
       "Batch 267 Downloads:   0%|          | 0/150 [00:00<?, ?file/s]"
      ]
     },
     "metadata": {},
     "output_type": "display_data"
    },
    {
     "data": {
      "application/vnd.jupyter.widget-view+json": {
       "model_id": "09693ea5fc004cfa944b1d1c799e91aa",
       "version_major": 2,
       "version_minor": 0
      },
      "text/plain": [
       "Batch 267 Processing:   0%|          | 0/50 [00:00<?, ?protein/s]"
      ]
     },
     "metadata": {},
     "output_type": "display_data"
    },
    {
     "name": "stdout",
     "output_type": "stream",
     "text": [
      "📝 Batch 267 saved: 50/50 successful\n"
     ]
    },
    {
     "data": {
      "application/vnd.jupyter.widget-view+json": {
       "model_id": "776fd59505fe4d90ad2b8572aba30a2c",
       "version_major": 2,
       "version_minor": 0
      },
      "text/plain": [
       "Batch 268 Downloads:   0%|          | 0/150 [00:00<?, ?file/s]"
      ]
     },
     "metadata": {},
     "output_type": "display_data"
    },
    {
     "data": {
      "application/vnd.jupyter.widget-view+json": {
       "model_id": "1c6c4ef7b4b5453ba4562d1b51d1e117",
       "version_major": 2,
       "version_minor": 0
      },
      "text/plain": [
       "Batch 268 Processing:   0%|          | 0/50 [00:00<?, ?protein/s]"
      ]
     },
     "metadata": {},
     "output_type": "display_data"
    },
    {
     "name": "stdout",
     "output_type": "stream",
     "text": [
      "📝 Batch 268 saved: 50/50 successful\n"
     ]
    },
    {
     "data": {
      "application/vnd.jupyter.widget-view+json": {
       "model_id": "c574e790d668433fa4f4ff016e45927f",
       "version_major": 2,
       "version_minor": 0
      },
      "text/plain": [
       "Batch 269 Downloads:   0%|          | 0/150 [00:00<?, ?file/s]"
      ]
     },
     "metadata": {},
     "output_type": "display_data"
    },
    {
     "data": {
      "application/vnd.jupyter.widget-view+json": {
       "model_id": "a5f96d92475d40bf8a315915e6a8699d",
       "version_major": 2,
       "version_minor": 0
      },
      "text/plain": [
       "Batch 269 Processing:   0%|          | 0/50 [00:00<?, ?protein/s]"
      ]
     },
     "metadata": {},
     "output_type": "display_data"
    },
    {
     "name": "stdout",
     "output_type": "stream",
     "text": [
      "📝 Batch 269 saved: 50/50 successful\n"
     ]
    },
    {
     "data": {
      "application/vnd.jupyter.widget-view+json": {
       "model_id": "d18913a731034d0cbe0359c923814c1c",
       "version_major": 2,
       "version_minor": 0
      },
      "text/plain": [
       "Batch 270 Downloads:   0%|          | 0/150 [00:00<?, ?file/s]"
      ]
     },
     "metadata": {},
     "output_type": "display_data"
    },
    {
     "data": {
      "application/vnd.jupyter.widget-view+json": {
       "model_id": "18789ab35c1344929df4dbdd9ee043f3",
       "version_major": 2,
       "version_minor": 0
      },
      "text/plain": [
       "Batch 270 Processing:   0%|          | 0/50 [00:00<?, ?protein/s]"
      ]
     },
     "metadata": {},
     "output_type": "display_data"
    },
    {
     "name": "stdout",
     "output_type": "stream",
     "text": [
      "📝 Batch 270 saved: 50/50 successful\n"
     ]
    },
    {
     "data": {
      "application/vnd.jupyter.widget-view+json": {
       "model_id": "b1ad2557ccb0446fa5b6dea29060f768",
       "version_major": 2,
       "version_minor": 0
      },
      "text/plain": [
       "Batch 271 Downloads:   0%|          | 0/150 [00:00<?, ?file/s]"
      ]
     },
     "metadata": {},
     "output_type": "display_data"
    },
    {
     "data": {
      "application/vnd.jupyter.widget-view+json": {
       "model_id": "429e2c26945e44ca96bbcc826ec59480",
       "version_major": 2,
       "version_minor": 0
      },
      "text/plain": [
       "Batch 271 Processing:   0%|          | 0/50 [00:00<?, ?protein/s]"
      ]
     },
     "metadata": {},
     "output_type": "display_data"
    },
    {
     "name": "stdout",
     "output_type": "stream",
     "text": [
      "📝 Batch 271 saved: 50/50 successful\n"
     ]
    },
    {
     "data": {
      "application/vnd.jupyter.widget-view+json": {
       "model_id": "1eb145f70f29475bb8a5a2240095c242",
       "version_major": 2,
       "version_minor": 0
      },
      "text/plain": [
       "Batch 272 Downloads:   0%|          | 0/150 [00:00<?, ?file/s]"
      ]
     },
     "metadata": {},
     "output_type": "display_data"
    },
    {
     "data": {
      "application/vnd.jupyter.widget-view+json": {
       "model_id": "13a553a627634c54b07e08faaf962669",
       "version_major": 2,
       "version_minor": 0
      },
      "text/plain": [
       "Batch 272 Processing:   0%|          | 0/50 [00:00<?, ?protein/s]"
      ]
     },
     "metadata": {},
     "output_type": "display_data"
    },
    {
     "name": "stdout",
     "output_type": "stream",
     "text": [
      "📝 Batch 272 saved: 41/50 successful\n"
     ]
    },
    {
     "data": {
      "application/vnd.jupyter.widget-view+json": {
       "model_id": "57302b705dce429c9f35769955e1eb2b",
       "version_major": 2,
       "version_minor": 0
      },
      "text/plain": [
       "Batch 273 Downloads:   0%|          | 0/150 [00:00<?, ?file/s]"
      ]
     },
     "metadata": {},
     "output_type": "display_data"
    },
    {
     "data": {
      "application/vnd.jupyter.widget-view+json": {
       "model_id": "2ed30ba5f6354db4aed523ca824d99cd",
       "version_major": 2,
       "version_minor": 0
      },
      "text/plain": [
       "Batch 273 Processing:   0%|          | 0/50 [00:00<?, ?protein/s]"
      ]
     },
     "metadata": {},
     "output_type": "display_data"
    },
    {
     "name": "stdout",
     "output_type": "stream",
     "text": [
      "📝 Batch 273 saved: 50/50 successful\n"
     ]
    },
    {
     "data": {
      "application/vnd.jupyter.widget-view+json": {
       "model_id": "13418ce0b1d44a7b92c42a68a6f59312",
       "version_major": 2,
       "version_minor": 0
      },
      "text/plain": [
       "Batch 274 Downloads:   0%|          | 0/150 [00:00<?, ?file/s]"
      ]
     },
     "metadata": {},
     "output_type": "display_data"
    },
    {
     "data": {
      "application/vnd.jupyter.widget-view+json": {
       "model_id": "533ff78d47674edf92aeaff507c33b65",
       "version_major": 2,
       "version_minor": 0
      },
      "text/plain": [
       "Batch 274 Processing:   0%|          | 0/50 [00:00<?, ?protein/s]"
      ]
     },
     "metadata": {},
     "output_type": "display_data"
    },
    {
     "name": "stdout",
     "output_type": "stream",
     "text": [
      "📝 Batch 274 saved: 50/50 successful\n"
     ]
    },
    {
     "data": {
      "application/vnd.jupyter.widget-view+json": {
       "model_id": "b3c76cd976054473b2d66fe6d25171ef",
       "version_major": 2,
       "version_minor": 0
      },
      "text/plain": [
       "Batch 275 Downloads:   0%|          | 0/150 [00:00<?, ?file/s]"
      ]
     },
     "metadata": {},
     "output_type": "display_data"
    },
    {
     "data": {
      "application/vnd.jupyter.widget-view+json": {
       "model_id": "bc0811fb4a8c4532b3f9ed916df67b81",
       "version_major": 2,
       "version_minor": 0
      },
      "text/plain": [
       "Batch 275 Processing:   0%|          | 0/50 [00:00<?, ?protein/s]"
      ]
     },
     "metadata": {},
     "output_type": "display_data"
    },
    {
     "name": "stdout",
     "output_type": "stream",
     "text": [
      "📝 Batch 275 saved: 50/50 successful\n"
     ]
    },
    {
     "data": {
      "application/vnd.jupyter.widget-view+json": {
       "model_id": "b5dbce8f48a24d53b12a69aa0ef687b0",
       "version_major": 2,
       "version_minor": 0
      },
      "text/plain": [
       "Batch 276 Downloads:   0%|          | 0/150 [00:00<?, ?file/s]"
      ]
     },
     "metadata": {},
     "output_type": "display_data"
    },
    {
     "data": {
      "application/vnd.jupyter.widget-view+json": {
       "model_id": "38bed7e8727f43fe870be2d32129b0d0",
       "version_major": 2,
       "version_minor": 0
      },
      "text/plain": [
       "Batch 276 Processing:   0%|          | 0/50 [00:00<?, ?protein/s]"
      ]
     },
     "metadata": {},
     "output_type": "display_data"
    },
    {
     "name": "stdout",
     "output_type": "stream",
     "text": [
      "📝 Batch 276 saved: 38/50 successful\n"
     ]
    },
    {
     "data": {
      "application/vnd.jupyter.widget-view+json": {
       "model_id": "0996151503d34e529cffbcca17a9a7a4",
       "version_major": 2,
       "version_minor": 0
      },
      "text/plain": [
       "Batch 277 Downloads:   0%|          | 0/150 [00:00<?, ?file/s]"
      ]
     },
     "metadata": {},
     "output_type": "display_data"
    },
    {
     "data": {
      "application/vnd.jupyter.widget-view+json": {
       "model_id": "409b779f2c96438a84267c80570327ce",
       "version_major": 2,
       "version_minor": 0
      },
      "text/plain": [
       "Batch 277 Processing:   0%|          | 0/50 [00:00<?, ?protein/s]"
      ]
     },
     "metadata": {},
     "output_type": "display_data"
    },
    {
     "name": "stdout",
     "output_type": "stream",
     "text": [
      "📝 Batch 277 saved: 50/50 successful\n"
     ]
    },
    {
     "data": {
      "application/vnd.jupyter.widget-view+json": {
       "model_id": "1f182165614b4a3ca4b25a10bd75c90e",
       "version_major": 2,
       "version_minor": 0
      },
      "text/plain": [
       "Batch 278 Downloads:   0%|          | 0/150 [00:00<?, ?file/s]"
      ]
     },
     "metadata": {},
     "output_type": "display_data"
    },
    {
     "data": {
      "application/vnd.jupyter.widget-view+json": {
       "model_id": "c61a94658ca444fbb4d88a976f57c1a7",
       "version_major": 2,
       "version_minor": 0
      },
      "text/plain": [
       "Batch 278 Processing:   0%|          | 0/50 [00:00<?, ?protein/s]"
      ]
     },
     "metadata": {},
     "output_type": "display_data"
    },
    {
     "name": "stdout",
     "output_type": "stream",
     "text": [
      "📝 Batch 278 saved: 49/50 successful\n"
     ]
    },
    {
     "data": {
      "application/vnd.jupyter.widget-view+json": {
       "model_id": "30b262c50d114eababc8b1ed00ac73d3",
       "version_major": 2,
       "version_minor": 0
      },
      "text/plain": [
       "Batch 279 Downloads:   0%|          | 0/150 [00:00<?, ?file/s]"
      ]
     },
     "metadata": {},
     "output_type": "display_data"
    },
    {
     "data": {
      "application/vnd.jupyter.widget-view+json": {
       "model_id": "c852997ce08048c992c1f2576b149880",
       "version_major": 2,
       "version_minor": 0
      },
      "text/plain": [
       "Batch 279 Processing:   0%|          | 0/50 [00:00<?, ?protein/s]"
      ]
     },
     "metadata": {},
     "output_type": "display_data"
    },
    {
     "name": "stdout",
     "output_type": "stream",
     "text": [
      "📝 Batch 279 saved: 50/50 successful\n"
     ]
    },
    {
     "data": {
      "application/vnd.jupyter.widget-view+json": {
       "model_id": "289ae941a7764f6281827941ff540e8f",
       "version_major": 2,
       "version_minor": 0
      },
      "text/plain": [
       "Batch 280 Downloads:   0%|          | 0/150 [00:00<?, ?file/s]"
      ]
     },
     "metadata": {},
     "output_type": "display_data"
    },
    {
     "data": {
      "application/vnd.jupyter.widget-view+json": {
       "model_id": "860fa24d7b7c423dae6da90c15bda486",
       "version_major": 2,
       "version_minor": 0
      },
      "text/plain": [
       "Batch 280 Processing:   0%|          | 0/50 [00:00<?, ?protein/s]"
      ]
     },
     "metadata": {},
     "output_type": "display_data"
    },
    {
     "name": "stdout",
     "output_type": "stream",
     "text": [
      "📝 Batch 280 saved: 48/50 successful\n"
     ]
    },
    {
     "data": {
      "application/vnd.jupyter.widget-view+json": {
       "model_id": "a6bf7284257c405096e75ad27bfed552",
       "version_major": 2,
       "version_minor": 0
      },
      "text/plain": [
       "Batch 281 Downloads:   0%|          | 0/150 [00:00<?, ?file/s]"
      ]
     },
     "metadata": {},
     "output_type": "display_data"
    },
    {
     "data": {
      "application/vnd.jupyter.widget-view+json": {
       "model_id": "f99a3bf4eb5a4ce8a8e4b89caf593a21",
       "version_major": 2,
       "version_minor": 0
      },
      "text/plain": [
       "Batch 281 Processing:   0%|          | 0/50 [00:00<?, ?protein/s]"
      ]
     },
     "metadata": {},
     "output_type": "display_data"
    },
    {
     "name": "stdout",
     "output_type": "stream",
     "text": [
      "📝 Batch 281 saved: 50/50 successful\n"
     ]
    },
    {
     "data": {
      "application/vnd.jupyter.widget-view+json": {
       "model_id": "0d31a4ba374c40eb8bbedab09ee54bac",
       "version_major": 2,
       "version_minor": 0
      },
      "text/plain": [
       "Batch 282 Downloads:   0%|          | 0/150 [00:00<?, ?file/s]"
      ]
     },
     "metadata": {},
     "output_type": "display_data"
    },
    {
     "data": {
      "application/vnd.jupyter.widget-view+json": {
       "model_id": "6a9c3bfec9ca4466899a46048f774864",
       "version_major": 2,
       "version_minor": 0
      },
      "text/plain": [
       "Batch 282 Processing:   0%|          | 0/50 [00:00<?, ?protein/s]"
      ]
     },
     "metadata": {},
     "output_type": "display_data"
    },
    {
     "name": "stdout",
     "output_type": "stream",
     "text": [
      "📝 Batch 282 saved: 49/50 successful\n"
     ]
    },
    {
     "data": {
      "application/vnd.jupyter.widget-view+json": {
       "model_id": "2cf2bba5b503459e8d5827190e61bea8",
       "version_major": 2,
       "version_minor": 0
      },
      "text/plain": [
       "Batch 283 Downloads:   0%|          | 0/150 [00:00<?, ?file/s]"
      ]
     },
     "metadata": {},
     "output_type": "display_data"
    },
    {
     "data": {
      "application/vnd.jupyter.widget-view+json": {
       "model_id": "5d188f40c1e1428489f080b6df53f6c9",
       "version_major": 2,
       "version_minor": 0
      },
      "text/plain": [
       "Batch 283 Processing:   0%|          | 0/50 [00:00<?, ?protein/s]"
      ]
     },
     "metadata": {},
     "output_type": "display_data"
    },
    {
     "name": "stdout",
     "output_type": "stream",
     "text": [
      "📝 Batch 283 saved: 50/50 successful\n"
     ]
    },
    {
     "data": {
      "application/vnd.jupyter.widget-view+json": {
       "model_id": "cc473d21c37a447aa5d27f589b68c8e1",
       "version_major": 2,
       "version_minor": 0
      },
      "text/plain": [
       "Batch 284 Downloads:   0%|          | 0/150 [00:00<?, ?file/s]"
      ]
     },
     "metadata": {},
     "output_type": "display_data"
    },
    {
     "data": {
      "application/vnd.jupyter.widget-view+json": {
       "model_id": "792aa05dd5f24cafaeacf8556e93c0be",
       "version_major": 2,
       "version_minor": 0
      },
      "text/plain": [
       "Batch 284 Processing:   0%|          | 0/50 [00:00<?, ?protein/s]"
      ]
     },
     "metadata": {},
     "output_type": "display_data"
    },
    {
     "name": "stdout",
     "output_type": "stream",
     "text": [
      "📝 Batch 284 saved: 49/50 successful\n"
     ]
    },
    {
     "data": {
      "application/vnd.jupyter.widget-view+json": {
       "model_id": "8671d33b3cbd4ff28188532a53050a57",
       "version_major": 2,
       "version_minor": 0
      },
      "text/plain": [
       "Batch 285 Downloads:   0%|          | 0/150 [00:00<?, ?file/s]"
      ]
     },
     "metadata": {},
     "output_type": "display_data"
    },
    {
     "data": {
      "application/vnd.jupyter.widget-view+json": {
       "model_id": "3eb10c1b765f49b8bc7d90e819400d7b",
       "version_major": 2,
       "version_minor": 0
      },
      "text/plain": [
       "Batch 285 Processing:   0%|          | 0/50 [00:00<?, ?protein/s]"
      ]
     },
     "metadata": {},
     "output_type": "display_data"
    },
    {
     "name": "stdout",
     "output_type": "stream",
     "text": [
      "📝 Batch 285 saved: 50/50 successful\n"
     ]
    },
    {
     "data": {
      "application/vnd.jupyter.widget-view+json": {
       "model_id": "0f3d36b7c57e4fce9b1803f7f0e49519",
       "version_major": 2,
       "version_minor": 0
      },
      "text/plain": [
       "Batch 286 Downloads:   0%|          | 0/150 [00:00<?, ?file/s]"
      ]
     },
     "metadata": {},
     "output_type": "display_data"
    },
    {
     "data": {
      "application/vnd.jupyter.widget-view+json": {
       "model_id": "e97b8032e29a4412a8c68da076b0cd7f",
       "version_major": 2,
       "version_minor": 0
      },
      "text/plain": [
       "Batch 286 Processing:   0%|          | 0/50 [00:00<?, ?protein/s]"
      ]
     },
     "metadata": {},
     "output_type": "display_data"
    },
    {
     "name": "stdout",
     "output_type": "stream",
     "text": [
      "📝 Batch 286 saved: 49/50 successful\n"
     ]
    },
    {
     "data": {
      "application/vnd.jupyter.widget-view+json": {
       "model_id": "06a01ca23db244c5b79a67ad790b0010",
       "version_major": 2,
       "version_minor": 0
      },
      "text/plain": [
       "Batch 287 Downloads:   0%|          | 0/150 [00:00<?, ?file/s]"
      ]
     },
     "metadata": {},
     "output_type": "display_data"
    },
    {
     "data": {
      "application/vnd.jupyter.widget-view+json": {
       "model_id": "782892b5034e4657b9ce1cf358a73f62",
       "version_major": 2,
       "version_minor": 0
      },
      "text/plain": [
       "Batch 287 Processing:   0%|          | 0/50 [00:00<?, ?protein/s]"
      ]
     },
     "metadata": {},
     "output_type": "display_data"
    },
    {
     "name": "stdout",
     "output_type": "stream",
     "text": [
      "📝 Batch 287 saved: 49/50 successful\n"
     ]
    },
    {
     "data": {
      "application/vnd.jupyter.widget-view+json": {
       "model_id": "d6f7dd574f3f47d2b786f53e244bef86",
       "version_major": 2,
       "version_minor": 0
      },
      "text/plain": [
       "Batch 288 Downloads:   0%|          | 0/150 [00:00<?, ?file/s]"
      ]
     },
     "metadata": {},
     "output_type": "display_data"
    },
    {
     "data": {
      "application/vnd.jupyter.widget-view+json": {
       "model_id": "b0f688c3778f4f44bfb911e96f421105",
       "version_major": 2,
       "version_minor": 0
      },
      "text/plain": [
       "Batch 288 Processing:   0%|          | 0/50 [00:00<?, ?protein/s]"
      ]
     },
     "metadata": {},
     "output_type": "display_data"
    },
    {
     "name": "stdout",
     "output_type": "stream",
     "text": [
      "📝 Batch 288 saved: 50/50 successful\n"
     ]
    },
    {
     "data": {
      "application/vnd.jupyter.widget-view+json": {
       "model_id": "0c91604c441d429aa059ac53ff4eb17a",
       "version_major": 2,
       "version_minor": 0
      },
      "text/plain": [
       "Batch 289 Downloads:   0%|          | 0/150 [00:00<?, ?file/s]"
      ]
     },
     "metadata": {},
     "output_type": "display_data"
    },
    {
     "data": {
      "application/vnd.jupyter.widget-view+json": {
       "model_id": "bbeece1d8e1d4c7ba6032913d2b73598",
       "version_major": 2,
       "version_minor": 0
      },
      "text/plain": [
       "Batch 289 Processing:   0%|          | 0/50 [00:00<?, ?protein/s]"
      ]
     },
     "metadata": {},
     "output_type": "display_data"
    },
    {
     "name": "stdout",
     "output_type": "stream",
     "text": [
      "📝 Batch 289 saved: 47/50 successful\n"
     ]
    },
    {
     "data": {
      "application/vnd.jupyter.widget-view+json": {
       "model_id": "1b436ba8ccac42799c264e61943c54fc",
       "version_major": 2,
       "version_minor": 0
      },
      "text/plain": [
       "Batch 290 Downloads:   0%|          | 0/150 [00:00<?, ?file/s]"
      ]
     },
     "metadata": {},
     "output_type": "display_data"
    },
    {
     "data": {
      "application/vnd.jupyter.widget-view+json": {
       "model_id": "2c8edbca434f4b72af8591f850e4e76c",
       "version_major": 2,
       "version_minor": 0
      },
      "text/plain": [
       "Batch 290 Processing:   0%|          | 0/50 [00:00<?, ?protein/s]"
      ]
     },
     "metadata": {},
     "output_type": "display_data"
    },
    {
     "name": "stdout",
     "output_type": "stream",
     "text": [
      "📝 Batch 290 saved: 50/50 successful\n"
     ]
    },
    {
     "data": {
      "application/vnd.jupyter.widget-view+json": {
       "model_id": "40a2ae00e9764b27831e8c12389d3461",
       "version_major": 2,
       "version_minor": 0
      },
      "text/plain": [
       "Batch 291 Downloads:   0%|          | 0/150 [00:00<?, ?file/s]"
      ]
     },
     "metadata": {},
     "output_type": "display_data"
    },
    {
     "data": {
      "application/vnd.jupyter.widget-view+json": {
       "model_id": "44f51b875a974f4190140a3293bc39ab",
       "version_major": 2,
       "version_minor": 0
      },
      "text/plain": [
       "Batch 291 Processing:   0%|          | 0/50 [00:00<?, ?protein/s]"
      ]
     },
     "metadata": {},
     "output_type": "display_data"
    },
    {
     "name": "stdout",
     "output_type": "stream",
     "text": [
      "📝 Batch 291 saved: 48/50 successful\n"
     ]
    },
    {
     "data": {
      "application/vnd.jupyter.widget-view+json": {
       "model_id": "3e1bfaf82c6e4c5695c470a5282eed5b",
       "version_major": 2,
       "version_minor": 0
      },
      "text/plain": [
       "Batch 292 Downloads:   0%|          | 0/150 [00:00<?, ?file/s]"
      ]
     },
     "metadata": {},
     "output_type": "display_data"
    },
    {
     "data": {
      "application/vnd.jupyter.widget-view+json": {
       "model_id": "211b9ab791964c0590846cd25de906dc",
       "version_major": 2,
       "version_minor": 0
      },
      "text/plain": [
       "Batch 292 Processing:   0%|          | 0/50 [00:00<?, ?protein/s]"
      ]
     },
     "metadata": {},
     "output_type": "display_data"
    },
    {
     "name": "stdout",
     "output_type": "stream",
     "text": [
      "📝 Batch 292 saved: 50/50 successful\n"
     ]
    },
    {
     "data": {
      "application/vnd.jupyter.widget-view+json": {
       "model_id": "63230347653a46f684077dbfa3365ae9",
       "version_major": 2,
       "version_minor": 0
      },
      "text/plain": [
       "Batch 293 Downloads:   0%|          | 0/150 [00:00<?, ?file/s]"
      ]
     },
     "metadata": {},
     "output_type": "display_data"
    },
    {
     "data": {
      "application/vnd.jupyter.widget-view+json": {
       "model_id": "3840433df3744fdea645d84af9222953",
       "version_major": 2,
       "version_minor": 0
      },
      "text/plain": [
       "Batch 293 Processing:   0%|          | 0/50 [00:00<?, ?protein/s]"
      ]
     },
     "metadata": {},
     "output_type": "display_data"
    },
    {
     "name": "stdout",
     "output_type": "stream",
     "text": [
      "📝 Batch 293 saved: 48/50 successful\n"
     ]
    },
    {
     "data": {
      "application/vnd.jupyter.widget-view+json": {
       "model_id": "0f7171d101de476c81ec4dd4931df100",
       "version_major": 2,
       "version_minor": 0
      },
      "text/plain": [
       "Batch 294 Downloads:   0%|          | 0/150 [00:00<?, ?file/s]"
      ]
     },
     "metadata": {},
     "output_type": "display_data"
    },
    {
     "data": {
      "application/vnd.jupyter.widget-view+json": {
       "model_id": "4ae2c908485942188207c1f5a8b72723",
       "version_major": 2,
       "version_minor": 0
      },
      "text/plain": [
       "Batch 294 Processing:   0%|          | 0/50 [00:00<?, ?protein/s]"
      ]
     },
     "metadata": {},
     "output_type": "display_data"
    },
    {
     "name": "stdout",
     "output_type": "stream",
     "text": [
      "📝 Batch 294 saved: 50/50 successful\n"
     ]
    },
    {
     "data": {
      "application/vnd.jupyter.widget-view+json": {
       "model_id": "4cec80fac4d54c3195f1045b678b58f3",
       "version_major": 2,
       "version_minor": 0
      },
      "text/plain": [
       "Batch 295 Downloads:   0%|          | 0/150 [00:00<?, ?file/s]"
      ]
     },
     "metadata": {},
     "output_type": "display_data"
    },
    {
     "data": {
      "application/vnd.jupyter.widget-view+json": {
       "model_id": "d2afadacf3a840359717e7d1c9135222",
       "version_major": 2,
       "version_minor": 0
      },
      "text/plain": [
       "Batch 295 Processing:   0%|          | 0/50 [00:00<?, ?protein/s]"
      ]
     },
     "metadata": {},
     "output_type": "display_data"
    },
    {
     "name": "stdout",
     "output_type": "stream",
     "text": [
      "📝 Batch 295 saved: 50/50 successful\n"
     ]
    },
    {
     "data": {
      "application/vnd.jupyter.widget-view+json": {
       "model_id": "95eb016c9dc1452cb880d3a16f618650",
       "version_major": 2,
       "version_minor": 0
      },
      "text/plain": [
       "Batch 296 Downloads:   0%|          | 0/150 [00:00<?, ?file/s]"
      ]
     },
     "metadata": {},
     "output_type": "display_data"
    },
    {
     "data": {
      "application/vnd.jupyter.widget-view+json": {
       "model_id": "d2ea0abceb4447c59983deb81fbcd8c0",
       "version_major": 2,
       "version_minor": 0
      },
      "text/plain": [
       "Batch 296 Processing:   0%|          | 0/50 [00:00<?, ?protein/s]"
      ]
     },
     "metadata": {},
     "output_type": "display_data"
    },
    {
     "name": "stdout",
     "output_type": "stream",
     "text": [
      "📝 Batch 296 saved: 50/50 successful\n"
     ]
    },
    {
     "data": {
      "application/vnd.jupyter.widget-view+json": {
       "model_id": "7ae2a1442e9d42928c12344fea0442be",
       "version_major": 2,
       "version_minor": 0
      },
      "text/plain": [
       "Batch 297 Downloads:   0%|          | 0/150 [00:00<?, ?file/s]"
      ]
     },
     "metadata": {},
     "output_type": "display_data"
    },
    {
     "data": {
      "application/vnd.jupyter.widget-view+json": {
       "model_id": "f3b6e825f14c45b9af7592f091793145",
       "version_major": 2,
       "version_minor": 0
      },
      "text/plain": [
       "Batch 297 Processing:   0%|          | 0/50 [00:00<?, ?protein/s]"
      ]
     },
     "metadata": {},
     "output_type": "display_data"
    },
    {
     "name": "stdout",
     "output_type": "stream",
     "text": [
      "📝 Batch 297 saved: 50/50 successful\n"
     ]
    },
    {
     "data": {
      "application/vnd.jupyter.widget-view+json": {
       "model_id": "26e5f0be41f74ba98064ea6b8610a2ff",
       "version_major": 2,
       "version_minor": 0
      },
      "text/plain": [
       "Batch 298 Downloads:   0%|          | 0/150 [00:00<?, ?file/s]"
      ]
     },
     "metadata": {},
     "output_type": "display_data"
    },
    {
     "data": {
      "application/vnd.jupyter.widget-view+json": {
       "model_id": "ca824077c19d4e879e38221dbc981fa5",
       "version_major": 2,
       "version_minor": 0
      },
      "text/plain": [
       "Batch 298 Processing:   0%|          | 0/50 [00:00<?, ?protein/s]"
      ]
     },
     "metadata": {},
     "output_type": "display_data"
    },
    {
     "name": "stdout",
     "output_type": "stream",
     "text": [
      "📝 Batch 298 saved: 49/50 successful\n"
     ]
    },
    {
     "data": {
      "application/vnd.jupyter.widget-view+json": {
       "model_id": "906e3a525e6745d58ef60d65ef2353ca",
       "version_major": 2,
       "version_minor": 0
      },
      "text/plain": [
       "Batch 299 Downloads:   0%|          | 0/150 [00:00<?, ?file/s]"
      ]
     },
     "metadata": {},
     "output_type": "display_data"
    },
    {
     "data": {
      "application/vnd.jupyter.widget-view+json": {
       "model_id": "c8ecfd1016d84cebba21110bc950a293",
       "version_major": 2,
       "version_minor": 0
      },
      "text/plain": [
       "Batch 299 Processing:   0%|          | 0/50 [00:00<?, ?protein/s]"
      ]
     },
     "metadata": {},
     "output_type": "display_data"
    },
    {
     "name": "stdout",
     "output_type": "stream",
     "text": [
      "📝 Batch 299 saved: 48/50 successful\n"
     ]
    },
    {
     "data": {
      "application/vnd.jupyter.widget-view+json": {
       "model_id": "510c7e2910cd43a49524b91cc77879e5",
       "version_major": 2,
       "version_minor": 0
      },
      "text/plain": [
       "Batch 300 Downloads:   0%|          | 0/150 [00:00<?, ?file/s]"
      ]
     },
     "metadata": {},
     "output_type": "display_data"
    },
    {
     "data": {
      "application/vnd.jupyter.widget-view+json": {
       "model_id": "7d13f63bcd5f45f588eeac5133bfbf5a",
       "version_major": 2,
       "version_minor": 0
      },
      "text/plain": [
       "Batch 300 Processing:   0%|          | 0/50 [00:00<?, ?protein/s]"
      ]
     },
     "metadata": {},
     "output_type": "display_data"
    },
    {
     "name": "stdout",
     "output_type": "stream",
     "text": [
      "📝 Batch 300 saved: 50/50 successful\n"
     ]
    },
    {
     "data": {
      "application/vnd.jupyter.widget-view+json": {
       "model_id": "0f34e6f1420e41d2b3a2f6e5944681c0",
       "version_major": 2,
       "version_minor": 0
      },
      "text/plain": [
       "Batch 301 Downloads:   0%|          | 0/150 [00:00<?, ?file/s]"
      ]
     },
     "metadata": {},
     "output_type": "display_data"
    },
    {
     "data": {
      "application/vnd.jupyter.widget-view+json": {
       "model_id": "a64e95ff1b7b44f7b29cacb86eaba707",
       "version_major": 2,
       "version_minor": 0
      },
      "text/plain": [
       "Batch 301 Processing:   0%|          | 0/50 [00:00<?, ?protein/s]"
      ]
     },
     "metadata": {},
     "output_type": "display_data"
    },
    {
     "name": "stdout",
     "output_type": "stream",
     "text": [
      "📝 Batch 301 saved: 48/50 successful\n"
     ]
    },
    {
     "data": {
      "application/vnd.jupyter.widget-view+json": {
       "model_id": "4bab3b50ea9047bebb5fd6ddb36ca85a",
       "version_major": 2,
       "version_minor": 0
      },
      "text/plain": [
       "Batch 302 Downloads:   0%|          | 0/150 [00:00<?, ?file/s]"
      ]
     },
     "metadata": {},
     "output_type": "display_data"
    },
    {
     "data": {
      "application/vnd.jupyter.widget-view+json": {
       "model_id": "2c7e50de560e461da4ee8e80ef938f3e",
       "version_major": 2,
       "version_minor": 0
      },
      "text/plain": [
       "Batch 302 Processing:   0%|          | 0/50 [00:00<?, ?protein/s]"
      ]
     },
     "metadata": {},
     "output_type": "display_data"
    },
    {
     "name": "stdout",
     "output_type": "stream",
     "text": [
      "📝 Batch 302 saved: 50/50 successful\n"
     ]
    },
    {
     "data": {
      "application/vnd.jupyter.widget-view+json": {
       "model_id": "1be96e3bcc4f45d3bbd5d19ab29ae2d1",
       "version_major": 2,
       "version_minor": 0
      },
      "text/plain": [
       "Batch 303 Downloads:   0%|          | 0/150 [00:00<?, ?file/s]"
      ]
     },
     "metadata": {},
     "output_type": "display_data"
    },
    {
     "data": {
      "application/vnd.jupyter.widget-view+json": {
       "model_id": "033afd574695452082b481f90ccd6ba5",
       "version_major": 2,
       "version_minor": 0
      },
      "text/plain": [
       "Batch 303 Processing:   0%|          | 0/50 [00:00<?, ?protein/s]"
      ]
     },
     "metadata": {},
     "output_type": "display_data"
    },
    {
     "name": "stdout",
     "output_type": "stream",
     "text": [
      "📝 Batch 303 saved: 50/50 successful\n"
     ]
    },
    {
     "data": {
      "application/vnd.jupyter.widget-view+json": {
       "model_id": "bc0ded52f2a942cf84773215ac7fc377",
       "version_major": 2,
       "version_minor": 0
      },
      "text/plain": [
       "Batch 304 Downloads:   0%|          | 0/150 [00:00<?, ?file/s]"
      ]
     },
     "metadata": {},
     "output_type": "display_data"
    },
    {
     "data": {
      "application/vnd.jupyter.widget-view+json": {
       "model_id": "5eaaf553e6bd45aeb1590a13f12f0f52",
       "version_major": 2,
       "version_minor": 0
      },
      "text/plain": [
       "Batch 304 Processing:   0%|          | 0/50 [00:00<?, ?protein/s]"
      ]
     },
     "metadata": {},
     "output_type": "display_data"
    },
    {
     "name": "stdout",
     "output_type": "stream",
     "text": [
      "📝 Batch 304 saved: 48/50 successful\n"
     ]
    },
    {
     "data": {
      "application/vnd.jupyter.widget-view+json": {
       "model_id": "eb064126ea784c63b8c2d051f792f785",
       "version_major": 2,
       "version_minor": 0
      },
      "text/plain": [
       "Batch 305 Downloads:   0%|          | 0/150 [00:00<?, ?file/s]"
      ]
     },
     "metadata": {},
     "output_type": "display_data"
    },
    {
     "data": {
      "application/vnd.jupyter.widget-view+json": {
       "model_id": "436956ec7854445fb097e5698bc0f1a2",
       "version_major": 2,
       "version_minor": 0
      },
      "text/plain": [
       "Batch 305 Processing:   0%|          | 0/50 [00:00<?, ?protein/s]"
      ]
     },
     "metadata": {},
     "output_type": "display_data"
    },
    {
     "name": "stdout",
     "output_type": "stream",
     "text": [
      "📝 Batch 305 saved: 50/50 successful\n"
     ]
    },
    {
     "data": {
      "application/vnd.jupyter.widget-view+json": {
       "model_id": "f8dc8e770cd04191a63daa77ece63474",
       "version_major": 2,
       "version_minor": 0
      },
      "text/plain": [
       "Batch 306 Downloads:   0%|          | 0/150 [00:00<?, ?file/s]"
      ]
     },
     "metadata": {},
     "output_type": "display_data"
    },
    {
     "data": {
      "application/vnd.jupyter.widget-view+json": {
       "model_id": "8ed2d7c6136348c9bfb6b935e47ccff3",
       "version_major": 2,
       "version_minor": 0
      },
      "text/plain": [
       "Batch 306 Processing:   0%|          | 0/50 [00:00<?, ?protein/s]"
      ]
     },
     "metadata": {},
     "output_type": "display_data"
    },
    {
     "name": "stdout",
     "output_type": "stream",
     "text": [
      "📝 Batch 306 saved: 50/50 successful\n"
     ]
    },
    {
     "data": {
      "application/vnd.jupyter.widget-view+json": {
       "model_id": "b72e1406a4804e7084baba4c70801b07",
       "version_major": 2,
       "version_minor": 0
      },
      "text/plain": [
       "Batch 307 Downloads:   0%|          | 0/150 [00:00<?, ?file/s]"
      ]
     },
     "metadata": {},
     "output_type": "display_data"
    },
    {
     "data": {
      "application/vnd.jupyter.widget-view+json": {
       "model_id": "b152202142e749cfa8e514777b328479",
       "version_major": 2,
       "version_minor": 0
      },
      "text/plain": [
       "Batch 307 Processing:   0%|          | 0/50 [00:00<?, ?protein/s]"
      ]
     },
     "metadata": {},
     "output_type": "display_data"
    },
    {
     "name": "stdout",
     "output_type": "stream",
     "text": [
      "📝 Batch 307 saved: 50/50 successful\n"
     ]
    },
    {
     "data": {
      "application/vnd.jupyter.widget-view+json": {
       "model_id": "ab7b643f4c3b4252ae05e4f08f6ef5ee",
       "version_major": 2,
       "version_minor": 0
      },
      "text/plain": [
       "Batch 308 Downloads:   0%|          | 0/150 [00:00<?, ?file/s]"
      ]
     },
     "metadata": {},
     "output_type": "display_data"
    },
    {
     "data": {
      "application/vnd.jupyter.widget-view+json": {
       "model_id": "5fa638a8f59f4943b3ca9d555f6a8d5b",
       "version_major": 2,
       "version_minor": 0
      },
      "text/plain": [
       "Batch 308 Processing:   0%|          | 0/50 [00:00<?, ?protein/s]"
      ]
     },
     "metadata": {},
     "output_type": "display_data"
    },
    {
     "name": "stdout",
     "output_type": "stream",
     "text": [
      "📝 Batch 308 saved: 50/50 successful\n"
     ]
    },
    {
     "data": {
      "application/vnd.jupyter.widget-view+json": {
       "model_id": "57e14c848db14cd19294c19f319d5996",
       "version_major": 2,
       "version_minor": 0
      },
      "text/plain": [
       "Batch 309 Downloads:   0%|          | 0/150 [00:00<?, ?file/s]"
      ]
     },
     "metadata": {},
     "output_type": "display_data"
    },
    {
     "data": {
      "application/vnd.jupyter.widget-view+json": {
       "model_id": "e3824b9993db4270b2b477d1f5717d05",
       "version_major": 2,
       "version_minor": 0
      },
      "text/plain": [
       "Batch 309 Processing:   0%|          | 0/50 [00:00<?, ?protein/s]"
      ]
     },
     "metadata": {},
     "output_type": "display_data"
    },
    {
     "name": "stdout",
     "output_type": "stream",
     "text": [
      "📝 Batch 309 saved: 46/50 successful\n"
     ]
    },
    {
     "data": {
      "application/vnd.jupyter.widget-view+json": {
       "model_id": "15764924df3b4f5f89a6da68f7423d9c",
       "version_major": 2,
       "version_minor": 0
      },
      "text/plain": [
       "Batch 310 Downloads:   0%|          | 0/150 [00:00<?, ?file/s]"
      ]
     },
     "metadata": {},
     "output_type": "display_data"
    },
    {
     "data": {
      "application/vnd.jupyter.widget-view+json": {
       "model_id": "a44b8c07150e477b9192074e3ce24b7f",
       "version_major": 2,
       "version_minor": 0
      },
      "text/plain": [
       "Batch 310 Processing:   0%|          | 0/50 [00:00<?, ?protein/s]"
      ]
     },
     "metadata": {},
     "output_type": "display_data"
    },
    {
     "name": "stdout",
     "output_type": "stream",
     "text": [
      "📝 Batch 310 saved: 49/50 successful\n"
     ]
    },
    {
     "data": {
      "application/vnd.jupyter.widget-view+json": {
       "model_id": "504aade6ec6d42ed99d1edd4913b2fa3",
       "version_major": 2,
       "version_minor": 0
      },
      "text/plain": [
       "Batch 311 Downloads:   0%|          | 0/150 [00:00<?, ?file/s]"
      ]
     },
     "metadata": {},
     "output_type": "display_data"
    },
    {
     "data": {
      "application/vnd.jupyter.widget-view+json": {
       "model_id": "45dd4ea1174d4b9992c2749794312c29",
       "version_major": 2,
       "version_minor": 0
      },
      "text/plain": [
       "Batch 311 Processing:   0%|          | 0/50 [00:00<?, ?protein/s]"
      ]
     },
     "metadata": {},
     "output_type": "display_data"
    },
    {
     "name": "stdout",
     "output_type": "stream",
     "text": [
      "📝 Batch 311 saved: 50/50 successful\n"
     ]
    },
    {
     "data": {
      "application/vnd.jupyter.widget-view+json": {
       "model_id": "842063a4db374b70885b921d95dfb2b1",
       "version_major": 2,
       "version_minor": 0
      },
      "text/plain": [
       "Batch 312 Downloads:   0%|          | 0/150 [00:00<?, ?file/s]"
      ]
     },
     "metadata": {},
     "output_type": "display_data"
    },
    {
     "data": {
      "application/vnd.jupyter.widget-view+json": {
       "model_id": "0e29b5c83a7f47a090dff4ce14972a44",
       "version_major": 2,
       "version_minor": 0
      },
      "text/plain": [
       "Batch 312 Processing:   0%|          | 0/50 [00:00<?, ?protein/s]"
      ]
     },
     "metadata": {},
     "output_type": "display_data"
    },
    {
     "name": "stdout",
     "output_type": "stream",
     "text": [
      "📝 Batch 312 saved: 45/50 successful\n"
     ]
    },
    {
     "data": {
      "application/vnd.jupyter.widget-view+json": {
       "model_id": "f608b4d85e394562bcdea6d7a121c11a",
       "version_major": 2,
       "version_minor": 0
      },
      "text/plain": [
       "Batch 313 Downloads:   0%|          | 0/150 [00:00<?, ?file/s]"
      ]
     },
     "metadata": {},
     "output_type": "display_data"
    },
    {
     "data": {
      "application/vnd.jupyter.widget-view+json": {
       "model_id": "9a8cb793e7414b60ba040fba925c1728",
       "version_major": 2,
       "version_minor": 0
      },
      "text/plain": [
       "Batch 313 Processing:   0%|          | 0/50 [00:00<?, ?protein/s]"
      ]
     },
     "metadata": {},
     "output_type": "display_data"
    },
    {
     "name": "stdout",
     "output_type": "stream",
     "text": [
      "📝 Batch 313 saved: 49/50 successful\n"
     ]
    },
    {
     "data": {
      "application/vnd.jupyter.widget-view+json": {
       "model_id": "21645c43df2f46c2aa4386a121649970",
       "version_major": 2,
       "version_minor": 0
      },
      "text/plain": [
       "Batch 314 Downloads:   0%|          | 0/150 [00:00<?, ?file/s]"
      ]
     },
     "metadata": {},
     "output_type": "display_data"
    },
    {
     "data": {
      "application/vnd.jupyter.widget-view+json": {
       "model_id": "6af3380b5ddb4f3faaa2d119709bc6f0",
       "version_major": 2,
       "version_minor": 0
      },
      "text/plain": [
       "Batch 314 Processing:   0%|          | 0/50 [00:00<?, ?protein/s]"
      ]
     },
     "metadata": {},
     "output_type": "display_data"
    },
    {
     "name": "stdout",
     "output_type": "stream",
     "text": [
      "📝 Batch 314 saved: 47/50 successful\n"
     ]
    },
    {
     "data": {
      "application/vnd.jupyter.widget-view+json": {
       "model_id": "5412e1aacc5247a8bfba183aae578714",
       "version_major": 2,
       "version_minor": 0
      },
      "text/plain": [
       "Batch 315 Downloads:   0%|          | 0/150 [00:00<?, ?file/s]"
      ]
     },
     "metadata": {},
     "output_type": "display_data"
    },
    {
     "data": {
      "application/vnd.jupyter.widget-view+json": {
       "model_id": "917555cb633b45648111df2a215e70cf",
       "version_major": 2,
       "version_minor": 0
      },
      "text/plain": [
       "Batch 315 Processing:   0%|          | 0/50 [00:00<?, ?protein/s]"
      ]
     },
     "metadata": {},
     "output_type": "display_data"
    },
    {
     "name": "stdout",
     "output_type": "stream",
     "text": [
      "📝 Batch 315 saved: 46/50 successful\n"
     ]
    },
    {
     "data": {
      "application/vnd.jupyter.widget-view+json": {
       "model_id": "cff7f56b22804a21a646b973ea419b50",
       "version_major": 2,
       "version_minor": 0
      },
      "text/plain": [
       "Batch 316 Downloads:   0%|          | 0/150 [00:00<?, ?file/s]"
      ]
     },
     "metadata": {},
     "output_type": "display_data"
    },
    {
     "data": {
      "application/vnd.jupyter.widget-view+json": {
       "model_id": "4a66f88dad7549b6be9bc567208cd5b1",
       "version_major": 2,
       "version_minor": 0
      },
      "text/plain": [
       "Batch 316 Processing:   0%|          | 0/50 [00:00<?, ?protein/s]"
      ]
     },
     "metadata": {},
     "output_type": "display_data"
    },
    {
     "name": "stdout",
     "output_type": "stream",
     "text": [
      "📝 Batch 316 saved: 48/50 successful\n"
     ]
    },
    {
     "data": {
      "application/vnd.jupyter.widget-view+json": {
       "model_id": "0a747a77582344f3afe8044c8ade91e0",
       "version_major": 2,
       "version_minor": 0
      },
      "text/plain": [
       "Batch 317 Downloads:   0%|          | 0/150 [00:00<?, ?file/s]"
      ]
     },
     "metadata": {},
     "output_type": "display_data"
    },
    {
     "data": {
      "application/vnd.jupyter.widget-view+json": {
       "model_id": "2899a348d69e46578746d697d43850a6",
       "version_major": 2,
       "version_minor": 0
      },
      "text/plain": [
       "Batch 317 Processing:   0%|          | 0/50 [00:00<?, ?protein/s]"
      ]
     },
     "metadata": {},
     "output_type": "display_data"
    },
    {
     "name": "stdout",
     "output_type": "stream",
     "text": [
      "📝 Batch 317 saved: 44/50 successful\n"
     ]
    },
    {
     "data": {
      "application/vnd.jupyter.widget-view+json": {
       "model_id": "01a9fa4df51f44238233dcf37a03fe0c",
       "version_major": 2,
       "version_minor": 0
      },
      "text/plain": [
       "Batch 318 Downloads:   0%|          | 0/150 [00:00<?, ?file/s]"
      ]
     },
     "metadata": {},
     "output_type": "display_data"
    },
    {
     "data": {
      "application/vnd.jupyter.widget-view+json": {
       "model_id": "91b2cf430fd84e91b544dcad47883570",
       "version_major": 2,
       "version_minor": 0
      },
      "text/plain": [
       "Batch 318 Processing:   0%|          | 0/50 [00:00<?, ?protein/s]"
      ]
     },
     "metadata": {},
     "output_type": "display_data"
    },
    {
     "name": "stdout",
     "output_type": "stream",
     "text": [
      "📝 Batch 318 saved: 46/50 successful\n"
     ]
    },
    {
     "data": {
      "application/vnd.jupyter.widget-view+json": {
       "model_id": "eebc1f96f6024b4ea76960e7a59075de",
       "version_major": 2,
       "version_minor": 0
      },
      "text/plain": [
       "Batch 319 Downloads:   0%|          | 0/150 [00:00<?, ?file/s]"
      ]
     },
     "metadata": {},
     "output_type": "display_data"
    },
    {
     "data": {
      "application/vnd.jupyter.widget-view+json": {
       "model_id": "191200e644b949648dddfe62b0f0b98f",
       "version_major": 2,
       "version_minor": 0
      },
      "text/plain": [
       "Batch 319 Processing:   0%|          | 0/50 [00:00<?, ?protein/s]"
      ]
     },
     "metadata": {},
     "output_type": "display_data"
    },
    {
     "name": "stdout",
     "output_type": "stream",
     "text": [
      "📝 Batch 319 saved: 35/50 successful\n"
     ]
    },
    {
     "data": {
      "application/vnd.jupyter.widget-view+json": {
       "model_id": "13340084d51b40d59273ed3aab4b545c",
       "version_major": 2,
       "version_minor": 0
      },
      "text/plain": [
       "Batch 320 Downloads:   0%|          | 0/150 [00:00<?, ?file/s]"
      ]
     },
     "metadata": {},
     "output_type": "display_data"
    },
    {
     "data": {
      "application/vnd.jupyter.widget-view+json": {
       "model_id": "a3e15000e8044e2f906c53d5e18d9a65",
       "version_major": 2,
       "version_minor": 0
      },
      "text/plain": [
       "Batch 320 Processing:   0%|          | 0/50 [00:00<?, ?protein/s]"
      ]
     },
     "metadata": {},
     "output_type": "display_data"
    },
    {
     "name": "stdout",
     "output_type": "stream",
     "text": [
      "📝 Batch 320 saved: 50/50 successful\n"
     ]
    },
    {
     "data": {
      "application/vnd.jupyter.widget-view+json": {
       "model_id": "382c63ba55734d899c41cf2e2c86bd13",
       "version_major": 2,
       "version_minor": 0
      },
      "text/plain": [
       "Batch 321 Downloads:   0%|          | 0/150 [00:00<?, ?file/s]"
      ]
     },
     "metadata": {},
     "output_type": "display_data"
    },
    {
     "data": {
      "application/vnd.jupyter.widget-view+json": {
       "model_id": "25a24bfeb9bd4b679faf81bfec0d3e8e",
       "version_major": 2,
       "version_minor": 0
      },
      "text/plain": [
       "Batch 321 Processing:   0%|          | 0/50 [00:00<?, ?protein/s]"
      ]
     },
     "metadata": {},
     "output_type": "display_data"
    },
    {
     "name": "stdout",
     "output_type": "stream",
     "text": [
      "📝 Batch 321 saved: 50/50 successful\n"
     ]
    },
    {
     "data": {
      "application/vnd.jupyter.widget-view+json": {
       "model_id": "8363118d50984147a97016163e36dc8f",
       "version_major": 2,
       "version_minor": 0
      },
      "text/plain": [
       "Batch 322 Downloads:   0%|          | 0/150 [00:00<?, ?file/s]"
      ]
     },
     "metadata": {},
     "output_type": "display_data"
    },
    {
     "data": {
      "application/vnd.jupyter.widget-view+json": {
       "model_id": "d0773aa4f4c64061a6f87761467b61b5",
       "version_major": 2,
       "version_minor": 0
      },
      "text/plain": [
       "Batch 322 Processing:   0%|          | 0/50 [00:00<?, ?protein/s]"
      ]
     },
     "metadata": {},
     "output_type": "display_data"
    },
    {
     "name": "stdout",
     "output_type": "stream",
     "text": [
      "📝 Batch 322 saved: 48/50 successful\n"
     ]
    },
    {
     "data": {
      "application/vnd.jupyter.widget-view+json": {
       "model_id": "17cd3e33f60841b0bdea443bdde29d10",
       "version_major": 2,
       "version_minor": 0
      },
      "text/plain": [
       "Batch 323 Downloads:   0%|          | 0/150 [00:00<?, ?file/s]"
      ]
     },
     "metadata": {},
     "output_type": "display_data"
    },
    {
     "data": {
      "application/vnd.jupyter.widget-view+json": {
       "model_id": "c7086ab49967471ba3d09d94db40cd99",
       "version_major": 2,
       "version_minor": 0
      },
      "text/plain": [
       "Batch 323 Processing:   0%|          | 0/50 [00:00<?, ?protein/s]"
      ]
     },
     "metadata": {},
     "output_type": "display_data"
    },
    {
     "name": "stdout",
     "output_type": "stream",
     "text": [
      "📝 Batch 323 saved: 50/50 successful\n"
     ]
    },
    {
     "data": {
      "application/vnd.jupyter.widget-view+json": {
       "model_id": "3e3fde6d1c764d759f7268027a7cf7e6",
       "version_major": 2,
       "version_minor": 0
      },
      "text/plain": [
       "Batch 324 Downloads:   0%|          | 0/150 [00:00<?, ?file/s]"
      ]
     },
     "metadata": {},
     "output_type": "display_data"
    },
    {
     "data": {
      "application/vnd.jupyter.widget-view+json": {
       "model_id": "57a2dedbc7bc455b95322e8fe2c38037",
       "version_major": 2,
       "version_minor": 0
      },
      "text/plain": [
       "Batch 324 Processing:   0%|          | 0/50 [00:00<?, ?protein/s]"
      ]
     },
     "metadata": {},
     "output_type": "display_data"
    },
    {
     "name": "stdout",
     "output_type": "stream",
     "text": [
      "📝 Batch 324 saved: 44/50 successful\n"
     ]
    },
    {
     "data": {
      "application/vnd.jupyter.widget-view+json": {
       "model_id": "55c2749b00fc40d2a53255c60adabca7",
       "version_major": 2,
       "version_minor": 0
      },
      "text/plain": [
       "Batch 325 Downloads:   0%|          | 0/150 [00:00<?, ?file/s]"
      ]
     },
     "metadata": {},
     "output_type": "display_data"
    },
    {
     "data": {
      "application/vnd.jupyter.widget-view+json": {
       "model_id": "f222e40d4b8747e2a795a6a938d5cebe",
       "version_major": 2,
       "version_minor": 0
      },
      "text/plain": [
       "Batch 325 Processing:   0%|          | 0/50 [00:00<?, ?protein/s]"
      ]
     },
     "metadata": {},
     "output_type": "display_data"
    },
    {
     "name": "stdout",
     "output_type": "stream",
     "text": [
      "📝 Batch 325 saved: 48/50 successful\n"
     ]
    },
    {
     "data": {
      "application/vnd.jupyter.widget-view+json": {
       "model_id": "f61ebca965864b8cb3ed77338bef1b67",
       "version_major": 2,
       "version_minor": 0
      },
      "text/plain": [
       "Batch 326 Downloads:   0%|          | 0/150 [00:00<?, ?file/s]"
      ]
     },
     "metadata": {},
     "output_type": "display_data"
    },
    {
     "data": {
      "application/vnd.jupyter.widget-view+json": {
       "model_id": "b5d5c385faf64a89b3519b6666c72e2f",
       "version_major": 2,
       "version_minor": 0
      },
      "text/plain": [
       "Batch 326 Processing:   0%|          | 0/50 [00:00<?, ?protein/s]"
      ]
     },
     "metadata": {},
     "output_type": "display_data"
    },
    {
     "name": "stdout",
     "output_type": "stream",
     "text": [
      "📝 Batch 326 saved: 46/50 successful\n"
     ]
    },
    {
     "data": {
      "application/vnd.jupyter.widget-view+json": {
       "model_id": "aa27be98b45a4ea3bc13d5abd87471e0",
       "version_major": 2,
       "version_minor": 0
      },
      "text/plain": [
       "Batch 327 Downloads:   0%|          | 0/150 [00:00<?, ?file/s]"
      ]
     },
     "metadata": {},
     "output_type": "display_data"
    },
    {
     "data": {
      "application/vnd.jupyter.widget-view+json": {
       "model_id": "50fa344e70454258872ae850511af784",
       "version_major": 2,
       "version_minor": 0
      },
      "text/plain": [
       "Batch 327 Processing:   0%|          | 0/50 [00:00<?, ?protein/s]"
      ]
     },
     "metadata": {},
     "output_type": "display_data"
    },
    {
     "name": "stdout",
     "output_type": "stream",
     "text": [
      "📝 Batch 327 saved: 50/50 successful\n"
     ]
    },
    {
     "data": {
      "application/vnd.jupyter.widget-view+json": {
       "model_id": "7108481803b9488da348859fbba09b92",
       "version_major": 2,
       "version_minor": 0
      },
      "text/plain": [
       "Batch 328 Downloads:   0%|          | 0/150 [00:00<?, ?file/s]"
      ]
     },
     "metadata": {},
     "output_type": "display_data"
    },
    {
     "data": {
      "application/vnd.jupyter.widget-view+json": {
       "model_id": "94dee43f00aa43638d407ffe6bdf26ea",
       "version_major": 2,
       "version_minor": 0
      },
      "text/plain": [
       "Batch 328 Processing:   0%|          | 0/50 [00:00<?, ?protein/s]"
      ]
     },
     "metadata": {},
     "output_type": "display_data"
    },
    {
     "name": "stdout",
     "output_type": "stream",
     "text": [
      "📝 Batch 328 saved: 48/50 successful\n"
     ]
    },
    {
     "data": {
      "application/vnd.jupyter.widget-view+json": {
       "model_id": "ada155cb3633471eab221ee8c28760ed",
       "version_major": 2,
       "version_minor": 0
      },
      "text/plain": [
       "Batch 329 Downloads:   0%|          | 0/150 [00:00<?, ?file/s]"
      ]
     },
     "metadata": {},
     "output_type": "display_data"
    },
    {
     "data": {
      "application/vnd.jupyter.widget-view+json": {
       "model_id": "a970bc685eb348ca9e57278bababaafb",
       "version_major": 2,
       "version_minor": 0
      },
      "text/plain": [
       "Batch 329 Processing:   0%|          | 0/50 [00:00<?, ?protein/s]"
      ]
     },
     "metadata": {},
     "output_type": "display_data"
    },
    {
     "name": "stdout",
     "output_type": "stream",
     "text": [
      "📝 Batch 329 saved: 50/50 successful\n"
     ]
    },
    {
     "data": {
      "application/vnd.jupyter.widget-view+json": {
       "model_id": "1e6db44666b8428c957ae34f515e4ef9",
       "version_major": 2,
       "version_minor": 0
      },
      "text/plain": [
       "Batch 330 Downloads:   0%|          | 0/150 [00:00<?, ?file/s]"
      ]
     },
     "metadata": {},
     "output_type": "display_data"
    },
    {
     "data": {
      "application/vnd.jupyter.widget-view+json": {
       "model_id": "2674bba7124d4e2693ab275e90ba2b04",
       "version_major": 2,
       "version_minor": 0
      },
      "text/plain": [
       "Batch 330 Processing:   0%|          | 0/50 [00:00<?, ?protein/s]"
      ]
     },
     "metadata": {},
     "output_type": "display_data"
    },
    {
     "name": "stdout",
     "output_type": "stream",
     "text": [
      "📝 Batch 330 saved: 50/50 successful\n"
     ]
    },
    {
     "data": {
      "application/vnd.jupyter.widget-view+json": {
       "model_id": "4f089a0ece554790ac32aa8e640ac283",
       "version_major": 2,
       "version_minor": 0
      },
      "text/plain": [
       "Batch 331 Downloads:   0%|          | 0/150 [00:00<?, ?file/s]"
      ]
     },
     "metadata": {},
     "output_type": "display_data"
    },
    {
     "data": {
      "application/vnd.jupyter.widget-view+json": {
       "model_id": "f53f64ae0682425ebd4d04aef8dc6909",
       "version_major": 2,
       "version_minor": 0
      },
      "text/plain": [
       "Batch 331 Processing:   0%|          | 0/50 [00:00<?, ?protein/s]"
      ]
     },
     "metadata": {},
     "output_type": "display_data"
    },
    {
     "name": "stdout",
     "output_type": "stream",
     "text": [
      "📝 Batch 331 saved: 49/50 successful\n"
     ]
    },
    {
     "data": {
      "application/vnd.jupyter.widget-view+json": {
       "model_id": "cdc0333bbf544ce9b0f73fcc8087e1d5",
       "version_major": 2,
       "version_minor": 0
      },
      "text/plain": [
       "Batch 332 Downloads:   0%|          | 0/150 [00:00<?, ?file/s]"
      ]
     },
     "metadata": {},
     "output_type": "display_data"
    },
    {
     "data": {
      "application/vnd.jupyter.widget-view+json": {
       "model_id": "87a7736286644ca7ac33456c074d3c1b",
       "version_major": 2,
       "version_minor": 0
      },
      "text/plain": [
       "Batch 332 Processing:   0%|          | 0/50 [00:00<?, ?protein/s]"
      ]
     },
     "metadata": {},
     "output_type": "display_data"
    },
    {
     "name": "stdout",
     "output_type": "stream",
     "text": [
      "📝 Batch 332 saved: 50/50 successful\n"
     ]
    },
    {
     "data": {
      "application/vnd.jupyter.widget-view+json": {
       "model_id": "66b98c6930254bda97bdc293b53595d4",
       "version_major": 2,
       "version_minor": 0
      },
      "text/plain": [
       "Batch 333 Downloads:   0%|          | 0/150 [00:00<?, ?file/s]"
      ]
     },
     "metadata": {},
     "output_type": "display_data"
    },
    {
     "data": {
      "application/vnd.jupyter.widget-view+json": {
       "model_id": "6130a09d45594289880685825cde7378",
       "version_major": 2,
       "version_minor": 0
      },
      "text/plain": [
       "Batch 333 Processing:   0%|          | 0/50 [00:00<?, ?protein/s]"
      ]
     },
     "metadata": {},
     "output_type": "display_data"
    },
    {
     "name": "stdout",
     "output_type": "stream",
     "text": [
      "📝 Batch 333 saved: 49/50 successful\n"
     ]
    },
    {
     "data": {
      "application/vnd.jupyter.widget-view+json": {
       "model_id": "addf93a6209f4ee6ae717f3bb6e334a1",
       "version_major": 2,
       "version_minor": 0
      },
      "text/plain": [
       "Batch 334 Downloads:   0%|          | 0/150 [00:00<?, ?file/s]"
      ]
     },
     "metadata": {},
     "output_type": "display_data"
    },
    {
     "data": {
      "application/vnd.jupyter.widget-view+json": {
       "model_id": "1a300b788e0e40d98cf91aa464de3f81",
       "version_major": 2,
       "version_minor": 0
      },
      "text/plain": [
       "Batch 334 Processing:   0%|          | 0/50 [00:00<?, ?protein/s]"
      ]
     },
     "metadata": {},
     "output_type": "display_data"
    },
    {
     "name": "stdout",
     "output_type": "stream",
     "text": [
      "📝 Batch 334 saved: 49/50 successful\n"
     ]
    },
    {
     "data": {
      "application/vnd.jupyter.widget-view+json": {
       "model_id": "4865e8260bfb47589dc78f4ac8666299",
       "version_major": 2,
       "version_minor": 0
      },
      "text/plain": [
       "Batch 335 Downloads:   0%|          | 0/150 [00:00<?, ?file/s]"
      ]
     },
     "metadata": {},
     "output_type": "display_data"
    },
    {
     "data": {
      "application/vnd.jupyter.widget-view+json": {
       "model_id": "b247fee20cc04022ac79e99c75dedd0a",
       "version_major": 2,
       "version_minor": 0
      },
      "text/plain": [
       "Batch 335 Processing:   0%|          | 0/50 [00:00<?, ?protein/s]"
      ]
     },
     "metadata": {},
     "output_type": "display_data"
    },
    {
     "name": "stdout",
     "output_type": "stream",
     "text": [
      "📝 Batch 335 saved: 39/50 successful\n"
     ]
    },
    {
     "data": {
      "application/vnd.jupyter.widget-view+json": {
       "model_id": "0cfe3d0c63374a5695b78a836f2bf548",
       "version_major": 2,
       "version_minor": 0
      },
      "text/plain": [
       "Batch 336 Downloads:   0%|          | 0/150 [00:00<?, ?file/s]"
      ]
     },
     "metadata": {},
     "output_type": "display_data"
    },
    {
     "data": {
      "application/vnd.jupyter.widget-view+json": {
       "model_id": "4103af4b17d74c278bdbf4df2ef5b818",
       "version_major": 2,
       "version_minor": 0
      },
      "text/plain": [
       "Batch 336 Processing:   0%|          | 0/50 [00:00<?, ?protein/s]"
      ]
     },
     "metadata": {},
     "output_type": "display_data"
    },
    {
     "name": "stdout",
     "output_type": "stream",
     "text": [
      "📝 Batch 336 saved: 47/50 successful\n"
     ]
    },
    {
     "data": {
      "application/vnd.jupyter.widget-view+json": {
       "model_id": "ab03885f335442dfa1233d38b9f1a72b",
       "version_major": 2,
       "version_minor": 0
      },
      "text/plain": [
       "Batch 337 Downloads:   0%|          | 0/150 [00:00<?, ?file/s]"
      ]
     },
     "metadata": {},
     "output_type": "display_data"
    },
    {
     "data": {
      "application/vnd.jupyter.widget-view+json": {
       "model_id": "8599ca0d4f8b480580a78a8b4fd951f8",
       "version_major": 2,
       "version_minor": 0
      },
      "text/plain": [
       "Batch 337 Processing:   0%|          | 0/50 [00:00<?, ?protein/s]"
      ]
     },
     "metadata": {},
     "output_type": "display_data"
    },
    {
     "name": "stdout",
     "output_type": "stream",
     "text": [
      "📝 Batch 337 saved: 50/50 successful\n"
     ]
    },
    {
     "data": {
      "application/vnd.jupyter.widget-view+json": {
       "model_id": "72d5881a70034abcb7a6cffe1e1ef2df",
       "version_major": 2,
       "version_minor": 0
      },
      "text/plain": [
       "Batch 338 Downloads:   0%|          | 0/150 [00:00<?, ?file/s]"
      ]
     },
     "metadata": {},
     "output_type": "display_data"
    },
    {
     "data": {
      "application/vnd.jupyter.widget-view+json": {
       "model_id": "ecec000269684fa8ac052303517449e1",
       "version_major": 2,
       "version_minor": 0
      },
      "text/plain": [
       "Batch 338 Processing:   0%|          | 0/50 [00:00<?, ?protein/s]"
      ]
     },
     "metadata": {},
     "output_type": "display_data"
    },
    {
     "name": "stdout",
     "output_type": "stream",
     "text": [
      "📝 Batch 338 saved: 47/50 successful\n"
     ]
    },
    {
     "data": {
      "application/vnd.jupyter.widget-view+json": {
       "model_id": "68438051f42141d5a22141f443467fd5",
       "version_major": 2,
       "version_minor": 0
      },
      "text/plain": [
       "Batch 339 Downloads:   0%|          | 0/132 [00:00<?, ?file/s]"
      ]
     },
     "metadata": {},
     "output_type": "display_data"
    },
    {
     "data": {
      "application/vnd.jupyter.widget-view+json": {
       "model_id": "589fe77254674fb6aa7271760d1ef71e",
       "version_major": 2,
       "version_minor": 0
      },
      "text/plain": [
       "Batch 339 Processing:   0%|          | 0/44 [00:00<?, ?protein/s]"
      ]
     },
     "metadata": {},
     "output_type": "display_data"
    },
    {
     "name": "stdout",
     "output_type": "stream",
     "text": [
      "📝 Batch 339 saved: 44/44 successful\n",
      "\n",
      "✅ Finished! Results saved to: C:\\Users\\rfrjo\\Documents\\Codebases\\PFP_Testing\\data\\protein_matching_results_counts_updated.tsv\n"
     ]
    }
   ],
   "source": [
    "# batch_msa_pipeline.py – identical biological logic, batched I/O with RESUMABILITY\n",
    "# -----------------------------------------------------------------------------\n",
    "# 1.  Grabs A3M files in batches of BATCH_SIZE chains.\n",
    "# 2.  Downloads each batch concurrently (up to DL_CONCURRENCY workers).\n",
    "# 3.  Runs hhfilter / strip / diversity on each chain (HH_PARALLEL chains in\n",
    "#     parallel so you do not oversubscribe CPU).\n",
    "# 4.  SAVES PROGRESS after each batch - can be interrupted and resumed!\n",
    "#\n",
    "# Expected runtime on a 1 Gbit link & 16‑core CPU: 25 h → 4‑5 h end‑to‑end.\n",
    "# -----------------------------------------------------------------------------\n",
    "\n",
    "from __future__ import annotations\n",
    "\n",
    "import csv, os, re, shutil, subprocess, tempfile, itertools, math\n",
    "from pathlib import Path\n",
    "from concurrent.futures import ThreadPoolExecutor, as_completed\n",
    "from typing import List, Tuple, Dict, Set\n",
    "\n",
    "import boto3\n",
    "from boto3.s3.transfer import TransferConfig\n",
    "from botocore.config import Config\n",
    "from botocore import UNSIGNED\n",
    "\n",
    "import numpy as np\n",
    "from scipy.spatial.distance import pdist, squareform\n",
    "from tqdm.auto import tqdm\n",
    "\n",
    "# ─── CONFIG ──────────────────────────────────────────────────────────────\n",
    "ROOT          = Path(r\"C:\\Users\\rfrjo\\Documents\\Codebases\\PFP_Testing\")\n",
    "PROTEIN_DIR   = ROOT / \"data\" / \"protein_data_pdb\"\n",
    "MATCH_FILE    = ROOT / \"data\" / \"protein_matching_results_counts.tsv\"\n",
    "UPDATED_OUT   = ROOT / \"data\" / \"protein_matching_results_counts_updated.tsv\"\n",
    "\n",
    "MAX_ROWS      = 256          # target sequences post‑hhfilter\n",
    "MAX_CHAINS    = None         # set to small int for quick tests, None for all\n",
    "\n",
    "# batching / concurrency\n",
    "BATCH_SIZE       = 50        # chains per network batch\n",
    "DL_CONCURRENCY   = 14         # simultaneous S3 downloads 24,10\n",
    "HH_PARALLEL      = 10          # chains processed in parallel (CPU‑bound)\n",
    "\n",
    "BUCKET        = \"openfold\"\n",
    "A3M_FILES     = (\"bfd_uniclust_hits.a3m\", \"mgnify_hits.a3m\", \"uniref90_hits.a3m\")\n",
    "\n",
    "# ─── HELPERS ─────────────────────────────────────────────────────────────\n",
    "LOWER = ''.join(chr(c) for c in range(97, 123))\n",
    "\n",
    "\n",
    "def parse_chain_id(s: str) -> Tuple[str, str]:\n",
    "    s = s.strip()\n",
    "    if '-' in s:\n",
    "        pdb, chain = s.split('-')\n",
    "    elif '_' in s:\n",
    "        pdb, chain = s.split('_')\n",
    "    elif re.fullmatch(r\"[0-9][A-Za-z0-9]{3}[A-Za-z]\", s):\n",
    "        pdb, chain = s[:4], s[4]\n",
    "    else:\n",
    "        raise ValueError(f\"Cannot parse chain ID from '{s}'\")\n",
    "    return pdb.upper(), chain.upper()\n",
    "\n",
    "\n",
    "def to_wsl(p: Path) -> str:\n",
    "    posix = p.resolve().as_posix()\n",
    "    return posix if posix.startswith(\"/mnt/\") else f\"/mnt/{p.drive[0].lower()}{posix[2:]}\"\n",
    "\n",
    "\n",
    "def strip_insertions_a3m(seq: str) -> str:\n",
    "    return seq.translate({ord(c): None for c in LOWER + \".*\"})\n",
    "\n",
    "\n",
    "def load_msa_from_a3m(path: Path):\n",
    "    msa, hdr, seq = [], None, []\n",
    "    with path.open() as fh:\n",
    "        for line in fh:\n",
    "            line = line.rstrip()\n",
    "            if line.startswith('>'):\n",
    "                if hdr is not None:\n",
    "                    msa.append((hdr, ''.join(seq)))\n",
    "                hdr, seq = line[1:], []\n",
    "            else:\n",
    "                seq.append(line)\n",
    "        if hdr is not None:\n",
    "            msa.append((hdr, ''.join(seq)))\n",
    "    return msa\n",
    "\n",
    "\n",
    "def diversity_max_subsample(msa, k):\n",
    "    if len(msa) <= k:\n",
    "        return msa\n",
    "    seqs = np.array([list(s) for _, s in msa], dtype='U1')\n",
    "    uniq = {aa: i for i, aa in enumerate(sorted({c for row in seqs for c in row}))}\n",
    "    arr = np.vectorize(uniq.get)(seqs)\n",
    "    dist = squareform(pdist(arr, metric='hamming'))\n",
    "    keep = [0]\n",
    "    selected = np.zeros(len(msa), bool); selected[0] = True\n",
    "    while selected.sum() < k:\n",
    "        mean = dist[:, selected].mean(1)\n",
    "        mean[selected] = -1\n",
    "        idx = int(mean.argmax())\n",
    "        if mean[idx] <= 0:\n",
    "            break\n",
    "        selected[idx] = True\n",
    "        keep.append(idx)\n",
    "    return [msa[i] for i in keep]\n",
    "\n",
    "# ─── RESUMABILITY FUNCTIONS ──────────────────────────────────────────────\n",
    "\n",
    "def load_existing_results() -> Tuple[Set[str], List[str]]:\n",
    "    \"\"\"Load already processed proteins from existing TSV file.\"\"\"\n",
    "    if not UPDATED_OUT.exists():\n",
    "        return set(), []\n",
    "    \n",
    "    processed = set()\n",
    "    fieldnames = []\n",
    "    \n",
    "    # Define permanent failures that shouldn't be retried\n",
    "    PERMANENT_FAILURES = {\n",
    "        'Failed: mapping missing',\n",
    "        'Failed: invalid chain ID'\n",
    "    }\n",
    "    \n",
    "    try:\n",
    "        with UPDATED_OUT.open('r', newline='') as fh:\n",
    "            reader = csv.DictReader(fh, delimiter='\\t')\n",
    "            fieldnames = reader.fieldnames or []\n",
    "            successful = 0\n",
    "            permanent_fails = 0\n",
    "            retryable_fails = 0\n",
    "            \n",
    "            for row in reader:\n",
    "                protein_id = row['original_id'].strip()\n",
    "                status = row.get('status', '')\n",
    "                \n",
    "                if status == 'Success':\n",
    "                    processed.add(protein_id)\n",
    "                    successful += 1\n",
    "                elif any(perm_fail in status for perm_fail in PERMANENT_FAILURES):\n",
    "                    # Don't retry permanent failures\n",
    "                    processed.add(protein_id)\n",
    "                    permanent_fails += 1\n",
    "                else:\n",
    "                    # Retry temporary failures (network issues, etc.)\n",
    "                    retryable_fails += 1\n",
    "        \n",
    "        print(f\"📊 Found existing results:\")\n",
    "        print(f\"   ✅ Successful: {successful}\")\n",
    "        print(f\"   ❌ Permanent failures (skipped): {permanent_fails}\")\n",
    "        print(f\"   🔄 Retryable failures: {retryable_fails}\")\n",
    "        print(f\"   📋 Total to skip: {len(processed)}\")\n",
    "        \n",
    "        return processed, fieldnames\n",
    "        \n",
    "    except Exception as e:\n",
    "        print(f\"⚠️  Error reading existing results: {e}\")\n",
    "        return set(), []\n",
    "\n",
    "\n",
    "def save_batch_results(batch_results: List[Dict[str, str]], fieldnames: List[str], is_first_batch: bool = False):\n",
    "    \"\"\"Append batch results to TSV file.\"\"\"\n",
    "    mode = 'w' if is_first_batch else 'a'\n",
    "    \n",
    "    with UPDATED_OUT.open(mode, newline='') as fh:\n",
    "        writer = csv.DictWriter(fh, fieldnames=fieldnames, delimiter='\\t')\n",
    "        if is_first_batch:\n",
    "            writer.writeheader()\n",
    "        writer.writerows(batch_results)\n",
    "\n",
    "\n",
    "def initialize_fieldnames(mapping: Dict[str, Dict[str, str]]) -> List[str]:\n",
    "    \"\"\"Initialize fieldnames for TSV output.\"\"\"\n",
    "    orig_cols = list(next(iter(mapping.values())).keys())\n",
    "    extra_cols = ['n_rows_dropped', 'hhfilter_rows', 'diversity_filtered_rows', 'status']\n",
    "    return orig_cols + [c for c in extra_cols if c not in orig_cols]\n",
    "\n",
    "# ─── AWS S3 CLIENT ───────────────────────────────────────────────────────\n",
    "transfer_cfg = TransferConfig(max_concurrency=DL_CONCURRENCY)\n",
    "s3 = boto3.client('s3', config=Config(signature_version=UNSIGNED))\n",
    "\n",
    "# ─── READ MAPPING ONCE ───────────────────────────────────────────────────\n",
    "with open(MATCH_FILE, newline='') as fh:\n",
    "    mapping: Dict[str, Dict[str, str]] = {\n",
    "        row['original_id'].strip(): row for row in csv.DictReader(fh, delimiter='\\t')\n",
    "    }\n",
    "\n",
    "# sanity: hhfilter available?\n",
    "if subprocess.run([\"wsl\", \"which\", \"hhfilter\"], capture_output=True).returncode:\n",
    "    raise RuntimeError(\"hhfilter not found inside WSL; install HH-suite first\")\n",
    "\n",
    "# ─── MAIN FUNCTIONS ──────────────────────────────────────────────────────\n",
    "\n",
    "def download_one(key: str, dest: Path) -> bool:\n",
    "    try:\n",
    "        dest.parent.mkdir(parents=True, exist_ok=True)\n",
    "        s3.download_file(BUCKET, key, str(dest), Config=transfer_cfg)\n",
    "        return True\n",
    "    except Exception:\n",
    "        return False\n",
    "\n",
    "\n",
    "def process_chain(chain_folder: Path, row_base: Dict[str, str]) -> Dict[str, str]:\n",
    "    \"\"\"Runs hhfilter→strip→diversity on one chain. Expects A3M files already local.\"\"\"\n",
    "    try:\n",
    "        matched_id = row_base['matched_id'].replace('_', '-')\n",
    "        pdb, chain = parse_chain_id(matched_id)\n",
    "        a3m_dir = chain_folder / \"_tmp_a3m\"  # local staging dir inside chain folder\n",
    "\n",
    "        downloaded = [(a3m_dir / f) for f in A3M_FILES if (a3m_dir / f).exists()]\n",
    "        if not downloaded:\n",
    "            return {**row_base, **{\n",
    "                'n_rows_dropped': '',\n",
    "                'hhfilter_rows': '',\n",
    "                'diversity_filtered_rows': '',\n",
    "                'status': 'Failed: no A3M found'\n",
    "            }}\n",
    "\n",
    "        # concat → hhfilter\n",
    "        raw_path = a3m_dir / \"concat_raw.a3m\"\n",
    "        with raw_path.open('w') as out:\n",
    "            for f in downloaded:\n",
    "                out.write(f.read_text())\n",
    "\n",
    "        hh_out = a3m_dir / f\"hhfiltered_{MAX_ROWS}.a3m\"\n",
    "        subprocess.run([\n",
    "            \"wsl\", \"hhfilter\", \"-i\", to_wsl(raw_path), \"-o\", to_wsl(hh_out),\n",
    "            \"-diff\", str(MAX_ROWS)\n",
    "        ], check=True, capture_output=True)\n",
    "\n",
    "        msa = load_msa_from_a3m(hh_out)\n",
    "        hh_rows = len(msa)\n",
    "        if not msa:\n",
    "            return {**row_base, **{\n",
    "                'n_rows_dropped': '',\n",
    "                'hhfilter_rows': hh_rows,\n",
    "                'diversity_filtered_rows': '',\n",
    "                'status': 'Failed: hhfilter empty'\n",
    "            }}\n",
    "\n",
    "        target_len = len(strip_insertions_a3m(msa[0][1]))\n",
    "        kept, dropped = [], 0\n",
    "        for hdr, seq in msa:\n",
    "            clean = strip_insertions_a3m(seq)\n",
    "            if len(clean) == target_len:\n",
    "                kept.append((hdr, clean))\n",
    "            else:\n",
    "                dropped += 1\n",
    "        if len(kept) < 2:\n",
    "            return {**row_base, **{\n",
    "                'n_rows_dropped': dropped,\n",
    "                'hhfilter_rows': hh_rows,\n",
    "                'diversity_filtered_rows': '',\n",
    "                'status': f'Failed: only {len(kept)} rows after stripping'\n",
    "            }}\n",
    "\n",
    "        rows_before_div = len(kept)\n",
    "        div_filtered = 0\n",
    "        if rows_before_div > MAX_ROWS:\n",
    "            kept = diversity_max_subsample(kept, MAX_ROWS)\n",
    "            div_filtered = rows_before_div - len(kept)\n",
    "\n",
    "        final_path = chain_folder / \"final_filtered_256_stripped.a3m\"\n",
    "        with final_path.open('w') as fh:\n",
    "            for hdr, seq in kept:\n",
    "                fh.write(f\">{hdr}\\n{seq}\\n\")\n",
    "\n",
    "        return {**row_base, **{\n",
    "            'n_rows_dropped': dropped,\n",
    "            'hhfilter_rows': hh_rows,\n",
    "            'diversity_filtered_rows': div_filtered,\n",
    "            'status': 'Success'\n",
    "        }}\n",
    "    \n",
    "    except Exception as e:\n",
    "        return {**row_base, **{\n",
    "            'n_rows_dropped': '',\n",
    "            'hhfilter_rows': '',\n",
    "            'diversity_filtered_rows': '',\n",
    "            'status': f'Failed: {str(e)[:100]}'\n",
    "        }}\n",
    "    \n",
    "    finally:\n",
    "        # cleanup tmp dir\n",
    "        a3m_dir = chain_folder / \"_tmp_a3m\"\n",
    "        if a3m_dir.exists():\n",
    "            shutil.rmtree(a3m_dir, ignore_errors=True)\n",
    "\n",
    "\n",
    "# ─── BATCHED DRIVER ──────────────────────────────────────────────────────\n",
    "\n",
    "def grouper(n: int, iterable):\n",
    "    \"\"\"Yield successive n‑sized chunks.\"\"\"\n",
    "    it = iter(iterable)\n",
    "    while True:\n",
    "        chunk = list(itertools.islice(it, n))\n",
    "        if not chunk:\n",
    "            return\n",
    "        yield chunk\n",
    "\n",
    "\n",
    "def main():\n",
    "    print(\"🧬 Starting Resumable MSA Pipeline...\")\n",
    "    \n",
    "    # Load existing results to determine what's already processed\n",
    "    already_processed, existing_fieldnames = load_existing_results()\n",
    "    \n",
    "    # Get all chain folders\n",
    "    all_chain_folders = sorted([p for p in PROTEIN_DIR.iterdir() if p.is_dir()])\n",
    "    if MAX_CHAINS is not None:\n",
    "        all_chain_folders = all_chain_folders[:MAX_CHAINS]\n",
    "    \n",
    "    # Filter out already processed chains\n",
    "    chain_folders = [cf for cf in all_chain_folders if cf.name not in already_processed]\n",
    "    \n",
    "    # Initialize fieldnames\n",
    "    fieldnames = existing_fieldnames if existing_fieldnames else initialize_fieldnames(mapping)\n",
    "    \n",
    "    # Progress tracking\n",
    "    total_proteins = len(all_chain_folders)\n",
    "    already_done = len(already_processed)\n",
    "    remaining = len(chain_folders)\n",
    "    \n",
    "    print(f\"📈 Progress Status:\")\n",
    "    print(f\"   Total proteins: {total_proteins}\")\n",
    "    print(f\"   Already processed: {already_done}\")\n",
    "    print(f\"   Remaining: {remaining}\")\n",
    "    \n",
    "    if remaining == 0:\n",
    "        print(\"✅ All proteins already processed!\")\n",
    "        return\n",
    "    \n",
    "    print(f\"🚀 Resuming from protein {already_done + 1}/{total_proteins}\")\n",
    "    print(f\"   Batch size: {BATCH_SIZE}\")\n",
    "    print(f\"   Download workers: {DL_CONCURRENCY}\")\n",
    "    print(f\"   Processing workers: {HH_PARALLEL}\")\n",
    "    print()\n",
    "    \n",
    "    # Setup progress bar starting from current position\n",
    "    outer = tqdm(\n",
    "        total=total_proteins, \n",
    "        initial=already_done,\n",
    "        desc=\"Chains\", \n",
    "        unit=\"chain\",\n",
    "        position=0\n",
    "    )\n",
    "    \n",
    "    is_first_batch = (already_done == 0)\n",
    "    \n",
    "    try:\n",
    "        for batch_num, batch in enumerate(grouper(BATCH_SIZE, chain_folders), 1):\n",
    "            batch_results = []\n",
    "            \n",
    "            # 1) stage download jobs for the whole batch\n",
    "            dl_jobs = []\n",
    "            valid_chains = []\n",
    "            \n",
    "            for cf in batch:\n",
    "                row_base = mapping.get(cf.name)\n",
    "                if not row_base:\n",
    "                    batch_results.append({'original_id': cf.name, 'matched_id': '',\n",
    "                                        'n_rows_dropped': '', 'hhfilter_rows': '',\n",
    "                                        'diversity_filtered_rows': '',\n",
    "                                        'status': 'Failed: mapping missing'})\n",
    "                    outer.update(1)  # keep bar correct\n",
    "                    continue\n",
    "                \n",
    "                try:\n",
    "                    matched_id = row_base['matched_id'].replace('_', '-')\n",
    "                    pdb, chain = parse_chain_id(matched_id)\n",
    "                    a3m_dir = cf / \"_tmp_a3m\"\n",
    "                    for fname in A3M_FILES:\n",
    "                        key = f\"pdb/{pdb.lower()}_{chain}/a3m/{fname}\"\n",
    "                        dest = a3m_dir / fname\n",
    "                        dl_jobs.append((key, dest))\n",
    "                    valid_chains.append(cf)\n",
    "                except Exception as e:\n",
    "                    batch_results.append({**row_base, **{\n",
    "                        'n_rows_dropped': '',\n",
    "                        'hhfilter_rows': '',\n",
    "                        'diversity_filtered_rows': '',\n",
    "                        'status': f'Failed: {str(e)[:100]}'\n",
    "                    }})\n",
    "                    outer.update(1)  # keep bar correct\n",
    "\n",
    "            # 2) concurrent downloads\n",
    "            if dl_jobs:\n",
    "                with ThreadPoolExecutor(max_workers=DL_CONCURRENCY) as pool:\n",
    "                    futs = {pool.submit(download_one, k, d): (k, d) for k, d in dl_jobs}\n",
    "                    download_progress = tqdm(\n",
    "                        total=len(dl_jobs), \n",
    "                        desc=f\"Batch {batch_num} Downloads\", \n",
    "                        unit=\"file\",\n",
    "                        leave=False,\n",
    "                        position=1\n",
    "                    )\n",
    "                    \n",
    "                    for fut in as_completed(futs):\n",
    "                        download_progress.update(1)\n",
    "                    download_progress.close()\n",
    "\n",
    "            # 3) process each chain (HH_PARALLEL in parallel)\n",
    "            if valid_chains:\n",
    "                with ThreadPoolExecutor(max_workers=HH_PARALLEL) as pool:\n",
    "                    futs2 = {\n",
    "                        pool.submit(process_chain, cf, mapping[cf.name]): cf\n",
    "                        for cf in valid_chains if cf.name in mapping\n",
    "                    }\n",
    "                    \n",
    "                    process_progress = tqdm(\n",
    "                        total=len(futs2), \n",
    "                        desc=f\"Batch {batch_num} Processing\", \n",
    "                        unit=\"protein\",\n",
    "                        leave=False,\n",
    "                        position=1\n",
    "                    )\n",
    "                    \n",
    "                    for fut in as_completed(futs2):\n",
    "                        res = fut.result()\n",
    "                        batch_results.append(res)\n",
    "                        outer.update(1)\n",
    "                        outer.set_postfix_str(f\"Latest: {res['original_id']} ({res['status']})\")\n",
    "                        process_progress.update(1)\n",
    "                    \n",
    "                    process_progress.close()\n",
    "\n",
    "            # 4) Save batch results immediately\n",
    "            if batch_results:\n",
    "                save_batch_results(batch_results, fieldnames, is_first_batch)\n",
    "                is_first_batch = False\n",
    "                \n",
    "                # Show batch summary\n",
    "                success_count = sum(1 for r in batch_results if r['status'] == 'Success')\n",
    "                print(f\"📝 Batch {batch_num} saved: {success_count}/{len(batch_results)} successful\")\n",
    "\n",
    "    except KeyboardInterrupt:\n",
    "        print(f\"\\n⏸️  Process interrupted! Progress saved to: {UPDATED_OUT}\")\n",
    "        print(f\"   You can resume by running this script again.\")\n",
    "        outer.close()\n",
    "        return\n",
    "    \n",
    "    except Exception as e:\n",
    "        print(f\"\\n❌ Error occurred: {e}\")\n",
    "        print(f\"   Progress saved to: {UPDATED_OUT}\")\n",
    "        outer.close()\n",
    "        raise\n",
    "    \n",
    "    outer.close()\n",
    "    print(f\"\\n✅ Finished! Results saved to: {UPDATED_OUT}\")\n",
    "\n",
    "\n",
    "if __name__ == \"__main__\":\n",
    "    main()"
   ]
  },
  {
   "cell_type": "code",
   "execution_count": 6,
   "metadata": {},
   "outputs": [
    {
     "ename": "RuntimeError",
     "evalue": "Target protein 5O31-m not found in TSV file",
     "output_type": "error",
     "traceback": [
      "\u001b[1;31m---------------------------------------------------------------------------\u001b[0m",
      "\u001b[1;31mRuntimeError\u001b[0m                              Traceback (most recent call last)",
      "Cell \u001b[1;32mIn[6], line 162\u001b[0m\n\u001b[0;32m    159\u001b[0m             \u001b[38;5;28;01mcontinue\u001b[39;00m\n\u001b[0;32m    161\u001b[0m \u001b[38;5;28;01mif\u001b[39;00m \u001b[38;5;129;01mnot\u001b[39;00m target_found:\n\u001b[1;32m--> 162\u001b[0m     \u001b[38;5;28;01mraise\u001b[39;00m \u001b[38;5;167;01mRuntimeError\u001b[39;00m(\u001b[38;5;124mf\u001b[39m\u001b[38;5;124m\"\u001b[39m\u001b[38;5;124mTarget protein \u001b[39m\u001b[38;5;132;01m{\u001b[39;00mTARGET_PROTEIN\u001b[38;5;132;01m}\u001b[39;00m\u001b[38;5;124m not found in TSV file\u001b[39m\u001b[38;5;124m\"\u001b[39m)\n\u001b[0;32m    164\u001b[0m pdb, chain \u001b[38;5;241m=\u001b[39m parse_chain_id(CHAIN_RAW)\n\u001b[0;32m    165\u001b[0m CHAIN \u001b[38;5;241m=\u001b[39m \u001b[38;5;124mf\u001b[39m\u001b[38;5;124m\"\u001b[39m\u001b[38;5;132;01m{\u001b[39;00mpdb\u001b[38;5;132;01m}\u001b[39;00m\u001b[38;5;124m-\u001b[39m\u001b[38;5;132;01m{\u001b[39;00mchain\u001b[38;5;132;01m}\u001b[39;00m\u001b[38;5;124m\"\u001b[39m\n",
      "\u001b[1;31mRuntimeError\u001b[0m: Target protein 5O31-m not found in TSV file"
     ]
    }
   ],
   "source": [
    "# ---- USER CONFIG ----------------------------------------------------------- \n",
    "TSV_PATH   = r\"C:\\Users\\rfrjo\\Documents\\Codebases\\PFP_Testing\\data\\openfold_results_rescued.tsv\"\n",
    "SAVE_ROOT  = r\"C:\\Users\\rfrjo\\Documents\\Codebases\\PFP_Testing\\data\\openfold_msas\"\n",
    "MAX_ROWS   = 256                        # Target number of sequences for ESM-MSA\n",
    "TARGET_PROTEIN = \"5O31-m\"               # Specific protein to process\n",
    "GENERATE_ESM_EMBED = False               # Whether to generate ESM embeddings or just MSA files\n",
    "# ---------------------------------------------------------------------------\n",
    "from scipy.spatial.distance import pdist, squareform\n",
    "import csv, os, re, random, subprocess, textwrap\n",
    "import boto3\n",
    "from botocore.config import Config\n",
    "from botocore import UNSIGNED\n",
    "from pathlib import Path\n",
    "import numpy as np\n",
    "import tempfile\n",
    "\n",
    "# ---------- helpers ---------------------------------------------------------\n",
    "def parse_chain_id(s: str):\n",
    "    s = s.strip()\n",
    "    if '-' in s:\n",
    "        pdb, chain = s.split('-')\n",
    "    elif '_' in s:\n",
    "        pdb, chain = s.split('_')\n",
    "    elif re.fullmatch(r\"[0-9][A-Za-z0-9]{3}[A-Za-z]\", s):\n",
    "        pdb, chain = s[:4], s[4]\n",
    "    else:\n",
    "        raise ValueError(f\"Cannot parse chain ID from '{s}'\")\n",
    "    return pdb.upper(), chain.upper()\n",
    "\n",
    "def to_wsl(p: Path) -> str:\n",
    "    p = Path(p).resolve()\n",
    "    posix = p.as_posix()\n",
    "    if posix.startswith(\"/mnt/\"):\n",
    "        return posix\n",
    "    return f\"/mnt/{p.drive[0].lower()}{posix[2:]}\"\n",
    "\n",
    "def strip_insertions_a3m(seq: str) -> str:\n",
    "    \"\"\"\n",
    "    Properly remove insertions from A3M format sequences.\n",
    "    A3M format rules:\n",
    "    - Uppercase: matches/substitutions (keep)\n",
    "    - Lowercase: insertions (remove)\n",
    "    - '-': deletions (keep)\n",
    "    - '.': gaps aligned to insertions (remove - these are optional in A3M)\n",
    "    - '*': stop codons (remove)\n",
    "    \"\"\"\n",
    "    cleaned = \"\"\n",
    "    for char in seq:\n",
    "        if char.isupper() or char == '-':\n",
    "            # Keep uppercase letters (matches) and dashes (deletions)\n",
    "            cleaned += char\n",
    "        elif char.islower() or char == '.' or char == '*':\n",
    "            # Remove lowercase letters (insertions), dots (gaps to insertions), and asterisks (stop codons)\n",
    "            continue\n",
    "        else:\n",
    "            # Handle any other characters (shouldn't occur in proper A3M)\n",
    "            print(f\"Warning: unexpected character '{char}' in sequence\")\n",
    "            continue\n",
    "    return cleaned\n",
    "\n",
    "def load_msa_from_a3m(a3m_path, max_sequences=None):\n",
    "    \"\"\"\n",
    "    Load MSA from A3M file in the format expected by ESM-MSA.\n",
    "    Returns list of (description, sequence) tuples.\n",
    "    \"\"\"\n",
    "    msa_sequences = []\n",
    "    with open(a3m_path) as f:\n",
    "        description = None\n",
    "        sequence = \"\"\n",
    "        \n",
    "        for line in f:\n",
    "            line = line.strip()\n",
    "            if line.startswith('>'):\n",
    "                # Save previous sequence if exists\n",
    "                if description is not None:\n",
    "                    msa_sequences.append((description, sequence))\n",
    "                    if max_sequences and len(msa_sequences) >= max_sequences:\n",
    "                        break\n",
    "                # Start new sequence\n",
    "                description = line[1:]  # Remove '>' prefix\n",
    "                sequence = \"\"\n",
    "            else:\n",
    "                # Accumulate sequence lines\n",
    "                sequence += line\n",
    "        \n",
    "        # Don't forget the last sequence\n",
    "        if description is not None:\n",
    "            msa_sequences.append((description, sequence))\n",
    "    \n",
    "    return msa_sequences\n",
    "\n",
    "def diversity_maximizing_subsample(sequences, target_count):\n",
    "    \"\"\"\n",
    "    Greedy Max-Hamming subsampling using SciPy for speed.\n",
    "    • sequences: list[(header, seq)] where *all seqs already have identical length*\n",
    "    • target_count: number of sequences to keep\n",
    "    Returns a list in the same (header, seq) format.\n",
    "    \"\"\"\n",
    "    n = len(sequences)\n",
    "    if n <= target_count:\n",
    "        return sequences                     # nothing to do\n",
    "    \n",
    "    # --- 1. Convert sequences to numeric array ---\n",
    "    # Create a mapping for amino acids to numbers\n",
    "    amino_acids = set()\n",
    "    for _, seq in sequences:\n",
    "        amino_acids.update(seq)\n",
    "    \n",
    "    # Create mapping dict\n",
    "    aa_to_num = {aa: i for i, aa in enumerate(sorted(amino_acids))}\n",
    "    \n",
    "    # Convert sequences to numeric array\n",
    "    seq_length = len(sequences[0][1])\n",
    "    arr = np.zeros((n, seq_length), dtype=np.int8)\n",
    "    \n",
    "    for i, (_, seq) in enumerate(sequences):\n",
    "        for j, aa in enumerate(seq):\n",
    "            arr[i, j] = aa_to_num[aa]\n",
    "    \n",
    "    # --- 2. Pair-wise Hamming distances (normalized 0-1) ---\n",
    "    # pdist returns a condensed 1-D vector; squareform gives NxN matrix\n",
    "    dmat = squareform(pdist(arr, metric=\"hamming\"))  # shape (N, N)\n",
    "    \n",
    "    # --- 3. Greedy selection ---\n",
    "    selected_mask = np.zeros(n, dtype=bool)\n",
    "    selected_mask[0] = True                  # keep the query\n",
    "    selected = [0]\n",
    "    \n",
    "    while selected_mask.sum() < target_count:\n",
    "        # mean distance to already-selected sequences\n",
    "        avg = dmat[:, selected_mask].mean(axis=1)\n",
    "        avg[selected_mask] = -1              # ignore already-picked rows\n",
    "        idx = int(avg.argmax())\n",
    "        if avg[idx] <= 0:                    # no further diversity gain\n",
    "            break\n",
    "        selected_mask[idx] = True\n",
    "        selected.append(idx)\n",
    "    \n",
    "    return [sequences[i] for i in selected]\n",
    "\n",
    "# ---------- sanity: hhfilter visible inside WSL -----------------------------\n",
    "if subprocess.run([\"wsl\", \"which\", \"hhfilter\"], capture_output=True, text=True).returncode != 0:\n",
    "    raise RuntimeError(\"WSL cannot find hhfilter – did you install hhsuite?\")\n",
    "\n",
    "# ---------- 1. Find specific protein in TSV ---------------------------------\n",
    "target_found = False\n",
    "with open(TSV_PATH) as fh:\n",
    "    reader = csv.DictReader(fh, delimiter='\\t')\n",
    "    for row in reader:\n",
    "        chain_raw = row[\"converted_id\"] or row[\"matched_id\"]\n",
    "        try:\n",
    "            pdb, chain = parse_chain_id(chain_raw)\n",
    "            chain_formatted = f\"{pdb}-{chain}\"\n",
    "            if chain_formatted == TARGET_PROTEIN:\n",
    "                target_found = True\n",
    "                CHAIN_RAW = chain_raw\n",
    "                break\n",
    "        except ValueError:\n",
    "            continue\n",
    "\n",
    "if not target_found:\n",
    "    raise RuntimeError(f\"Target protein {TARGET_PROTEIN} not found in TSV file\")\n",
    "\n",
    "pdb, chain = parse_chain_id(CHAIN_RAW)\n",
    "CHAIN = f\"{pdb}-{chain}\"\n",
    "print(\"Processing chain:\", CHAIN)\n",
    "\n",
    "# ---------- 2. Create output directory for all files ------------------------\n",
    "final_dir = Path(SAVE_ROOT) / CHAIN\n",
    "final_dir.mkdir(parents=True, exist_ok=True)\n",
    "\n",
    "# ---------- 3. Download MSA files to permanent directory --------------------\n",
    "prefix = f\"pdb/{pdb.lower()}_{chain}/a3m/\"\n",
    "bucket = \"openfold\"\n",
    "s3 = boto3.client('s3', config=Config(signature_version=UNSIGNED))\n",
    "\n",
    "msa_files = []\n",
    "for fname in (\"bfd_uniclust_hits.a3m\", \"mgnify_hits.a3m\", \"uniref90_hits.a3m\"):\n",
    "    key = prefix + fname\n",
    "    dest = final_dir / fname\n",
    "    try:\n",
    "        s3.download_file(bucket, key, str(dest))\n",
    "        msa_files.append(dest)\n",
    "        print(f\"✓ downloaded {fname} to {dest}\")\n",
    "    except Exception:\n",
    "        print(f\"✗ missing {fname}\")\n",
    "\n",
    "if not msa_files:\n",
    "    raise RuntimeError(f\"No MSA files found for {CHAIN}\")\n",
    "\n",
    "# ---------- 4. Process MSA files in permanent directory ---------------------\n",
    "raw_cat = final_dir / \"all_raw.a3m\"\n",
    "filtered = final_dir / f\"all_hhfiltered_{MAX_ROWS}.a3m\"\n",
    "\n",
    "# Concatenate MSA files\n",
    "print(f\"Concatenating {len(msa_files)} MSA files...\")\n",
    "with open(raw_cat, \"w\") as out:\n",
    "    for f in msa_files:\n",
    "        out.write(f.read_text())\n",
    "print(f\"✓ concatenated MSA saved to: {raw_cat}\")\n",
    "\n",
    "# Filter with hhfilter\n",
    "print(\"Running hhfilter...\")\n",
    "subprocess.run(\n",
    "    [\n",
    "        \"wsl\", \"hhfilter\",\n",
    "        \"-i\", to_wsl(raw_cat),\n",
    "        \"-o\", to_wsl(filtered),\n",
    "        \"-diff\", str(MAX_ROWS)\n",
    "    ],\n",
    "    check=True\n",
    ")\n",
    "print(f\"✓ filtered MSA saved to: {filtered}\")\n",
    "\n",
    "# ---------- 5. Load and process MSA sequences ----------------------------\n",
    "print(\"Loading MSA from hhfilter output...\")\n",
    "\n",
    "all_sequences = load_msa_from_a3m(filtered)\n",
    "print(f\"hhfilter returned {len(all_sequences)} sequences\")\n",
    "\n",
    "if not all_sequences:\n",
    "    raise RuntimeError(\"No sequences found in filtered A3M file\")\n",
    "\n",
    "# Strip insertions and ensure equal length\n",
    "print(\"Stripping insertions from A3M sequences...\")\n",
    "processed_sequences = []\n",
    "query_seq_stripped = None\n",
    "\n",
    "for i, (description, sequence) in enumerate(all_sequences):\n",
    "    stripped_seq = strip_insertions_a3m(sequence)\n",
    "    \n",
    "    if i == 0:  # First sequence is the query\n",
    "        query_seq_stripped = stripped_seq\n",
    "        target_length = len(stripped_seq)\n",
    "        print(f\"Query sequence length after stripping insertions: {target_length}\")\n",
    "    \n",
    "    # Only keep sequences that match the target length\n",
    "    if len(stripped_seq) == target_length:\n",
    "        processed_sequences.append((description, stripped_seq))\n",
    "    else:\n",
    "        print(f\"Filtered out sequence {i} (length {len(stripped_seq)} vs {target_length})\")\n",
    "\n",
    "print(f\"After length filtering: {len(processed_sequences)} sequences\")\n",
    "\n",
    "if len(processed_sequences) < 2:\n",
    "    raise RuntimeError(f\"Not enough valid sequences after filtering: {len(processed_sequences)}\")\n",
    "\n",
    "# Apply diversity maximizing strategy if needed\n",
    "if len(processed_sequences) > MAX_ROWS:\n",
    "    print(f\"Applying diversity maximizing strategy to reduce from {len(processed_sequences)} to {MAX_ROWS} sequences\")\n",
    "    processed_sequences = diversity_maximizing_subsample(processed_sequences, MAX_ROWS)\n",
    "    print(f\"After diversity maximizing: {len(processed_sequences)} sequences\")\n",
    "\n",
    "print(f\"Final MSA sequences: {len(processed_sequences)}\")\n",
    "print(f\"Sequence length: {len(processed_sequences[0][1])}\")\n",
    "\n",
    "# ---------- 6. ESM-MSA inference and save ONLY MSA embeddings (CONDITIONAL) ---------------\n",
    "if GENERATE_ESM_EMBED:\n",
    "    try:\n",
    "        import torch, esm\n",
    "        \n",
    "        # Load the MSA transformer model\n",
    "        model, alphabet = esm.pretrained.esm_msa1b_t12_100M_UR50S()\n",
    "        batch_converter = alphabet.get_batch_converter()\n",
    "        model.eval()\n",
    "        \n",
    "        # Move model to GPU if available for faster inference\n",
    "        device = torch.device(\"cuda\" if torch.cuda.is_available() else \"cpu\")\n",
    "        model = model.to(device)\n",
    "        print(f\"Using device: {device}\")\n",
    "        \n",
    "        print(\"\\nPreparing MSA for ESM-MSA...\")\n",
    "        \n",
    "        # ESM-MSA format: list of (label, sequence) tuples\n",
    "        msa_tuples = [(f\"seq_{i}\", seq) for i, (_, seq) in enumerate(processed_sequences)]\n",
    "        \n",
    "        print(f\"MSA contains {len(msa_tuples)} sequences\")\n",
    "        \n",
    "        # Verify all sequences have the same length\n",
    "        lengths = [len(seq) for _, seq in msa_tuples]\n",
    "        if len(set(lengths)) > 1:\n",
    "            raise RuntimeError(f\"Sequences still have different lengths: {set(lengths)}\")\n",
    "        \n",
    "        print(f\"✓ All sequences have length: {lengths[0]}\")\n",
    "        \n",
    "        # Convert to ESM format\n",
    "        labels, strs, tokens = batch_converter([msa_tuples])\n",
    "        tokens = tokens.to(device)\n",
    "        \n",
    "        print(\"✓ ESM-MSA batch conversion successful!\")\n",
    "        print(f\"  Tokens shape: {tokens.shape}\")\n",
    "        \n",
    "        # Run inference\n",
    "        print(\"\\nRunning ESM-MSA inference...\")\n",
    "        with torch.no_grad():\n",
    "            results = model(tokens, repr_layers=[12])\n",
    "            \n",
    "            # Extract ONLY the MSA embeddings\n",
    "            msa_embeddings = results[\"representations\"][12].cpu()  # Move to CPU immediately\n",
    "            print(f\"✓ MSA embeddings shape: {msa_embeddings.shape}\")\n",
    "        \n",
    "        print(\"\\n🎉 ESM-MSA processing completed successfully!\")\n",
    "        \n",
    "        # Save ONLY the MSA embeddings tensor\n",
    "        embeddings_path = final_dir / f\"{pdb.lower()}_{chain}_msa_emb.pt\"\n",
    "        torch.save(msa_embeddings, embeddings_path)\n",
    "        print(f\"✓ ONLY MSA embeddings saved to: {embeddings_path}\")\n",
    "        \n",
    "        print(f\"\\n🎯 COMPLETED: Saved only MSA embeddings to {embeddings_path}\")\n",
    "        \n",
    "    except ImportError:\n",
    "        print(\"ESM not installed – skipping inference demo.\")\n",
    "    except Exception as e:\n",
    "        print(f\"Error during ESM-MSA processing: {e}\")\n",
    "        import traceback\n",
    "        traceback.print_exc()\n",
    "        raise\n",
    "else:\n",
    "    print(f\"\\n🎯 COMPLETED: MSA processing finished. ESM embedding generation skipped (GENERATE_ESM_EMBED=False)\")\n",
    "    print(f\"Processed {len(processed_sequences)} sequences of length {len(processed_sequences[0][1])}\")\n",
    "\n",
    "# ---------- 7. Summary of saved files ---------------------------------------\n",
    "print(f\"\\n📁 Files saved to {final_dir}:\")\n",
    "for fname in (\"bfd_uniclust_hits.a3m\", \"mgnify_hits.a3m\", \"uniref90_hits.a3m\"):\n",
    "    if (final_dir / fname).exists():\n",
    "        print(f\"  ✓ {fname}\")\n",
    "print(f\"  ✓ all_raw.a3m (concatenated)\")\n",
    "print(f\"  ✓ all_hhfiltered_{MAX_ROWS}.a3m (filtered)\")\n",
    "if GENERATE_ESM_EMBED:\n",
    "    print(f\"  ✓ {pdb.lower()}_{chain}_msa_emb.pt (embeddings)\")"
   ]
  },
  {
   "cell_type": "code",
   "execution_count": 16,
   "metadata": {},
   "outputs": [
    {
     "name": "stdout",
     "output_type": "stream",
     "text": [
      "ESM-MSA model loaded on cpu\n"
     ]
    },
    {
     "data": {
      "application/vnd.jupyter.widget-view+json": {
       "model_id": "c347378263a1485193547c92dbc0045b",
       "version_major": 2,
       "version_minor": 0
      },
      "text/plain": [
       "Embedding MSAs:   0%|          | 0/256 [00:00<?, ?chain/s]"
      ]
     },
     "metadata": {},
     "output_type": "display_data"
    },
    {
     "ename": "KeyboardInterrupt",
     "evalue": "",
     "output_type": "error",
     "traceback": [
      "\u001b[1;31m---------------------------------------------------------------------------\u001b[0m",
      "\u001b[1;31mKeyboardInterrupt\u001b[0m                         Traceback (most recent call last)",
      "Cell \u001b[1;32mIn[16], line 154\u001b[0m\n\u001b[0;32m    152\u001b[0m \u001b[38;5;66;03m# ---------- hhfilter ----------\u001b[39;00m\n\u001b[0;32m    153\u001b[0m filt \u001b[38;5;241m=\u001b[39m msa_dir \u001b[38;5;241m/\u001b[39m \u001b[38;5;124mf\u001b[39m\u001b[38;5;124m\"\u001b[39m\u001b[38;5;124mall_hhfiltered_\u001b[39m\u001b[38;5;132;01m{\u001b[39;00mMAX_ROWS\u001b[38;5;132;01m}\u001b[39;00m\u001b[38;5;124m.a3m\u001b[39m\u001b[38;5;124m\"\u001b[39m\n\u001b[1;32m--> 154\u001b[0m \u001b[43msubprocess\u001b[49m\u001b[38;5;241;43m.\u001b[39;49m\u001b[43mrun\u001b[49m\u001b[43m(\u001b[49m\u001b[43m[\u001b[49m\u001b[38;5;124;43m\"\u001b[39;49m\u001b[38;5;124;43mwsl\u001b[39;49m\u001b[38;5;124;43m\"\u001b[39;49m\u001b[43m,\u001b[49m\u001b[38;5;124;43m\"\u001b[39;49m\u001b[38;5;124;43mhhfilter\u001b[39;49m\u001b[38;5;124;43m\"\u001b[39;49m\u001b[43m,\u001b[49m\u001b[38;5;124;43m\"\u001b[39;49m\u001b[38;5;124;43m-i\u001b[39;49m\u001b[38;5;124;43m\"\u001b[39;49m\u001b[43m,\u001b[49m\u001b[43mto_wsl\u001b[49m\u001b[43m(\u001b[49m\u001b[43mraw_cat\u001b[49m\u001b[43m)\u001b[49m\u001b[43m,\u001b[49m\u001b[38;5;124;43m\"\u001b[39;49m\u001b[38;5;124;43m-o\u001b[39;49m\u001b[38;5;124;43m\"\u001b[39;49m\u001b[43m,\u001b[49m\u001b[43mto_wsl\u001b[49m\u001b[43m(\u001b[49m\u001b[43mfilt\u001b[49m\u001b[43m)\u001b[49m\u001b[43m,\u001b[49m\u001b[38;5;124;43m\"\u001b[39;49m\u001b[38;5;124;43m-diff\u001b[39;49m\u001b[38;5;124;43m\"\u001b[39;49m\u001b[43m,\u001b[49m\u001b[38;5;28;43mstr\u001b[39;49m\u001b[43m(\u001b[49m\u001b[43mMAX_ROWS\u001b[49m\u001b[43m)\u001b[49m\u001b[43m]\u001b[49m\u001b[43m,\u001b[49m\n\u001b[0;32m    155\u001b[0m \u001b[43m               \u001b[49m\u001b[43mcheck\u001b[49m\u001b[38;5;241;43m=\u001b[39;49m\u001b[38;5;28;43;01mTrue\u001b[39;49;00m\u001b[43m,\u001b[49m\u001b[43m \u001b[49m\u001b[43mstdout\u001b[49m\u001b[38;5;241;43m=\u001b[39;49m\u001b[43msubprocess\u001b[49m\u001b[38;5;241;43m.\u001b[39;49m\u001b[43mDEVNULL\u001b[49m\u001b[43m,\u001b[49m\u001b[43m \u001b[49m\u001b[43mstderr\u001b[49m\u001b[38;5;241;43m=\u001b[39;49m\u001b[43msubprocess\u001b[49m\u001b[38;5;241;43m.\u001b[39;49m\u001b[43mDEVNULL\u001b[49m\u001b[43m)\u001b[49m\n\u001b[0;32m    157\u001b[0m \u001b[38;5;66;03m# ---------- load & clean ----------\u001b[39;00m\n\u001b[0;32m    158\u001b[0m all_seqs \u001b[38;5;241m=\u001b[39m load_a3m(filt)\n",
      "File \u001b[1;32mc:\\Users\\rfrjo\\anaconda3\\Lib\\subprocess.py:550\u001b[0m, in \u001b[0;36mrun\u001b[1;34m(input, capture_output, timeout, check, *popenargs, **kwargs)\u001b[0m\n\u001b[0;32m    548\u001b[0m \u001b[38;5;28;01mwith\u001b[39;00m Popen(\u001b[38;5;241m*\u001b[39mpopenargs, \u001b[38;5;241m*\u001b[39m\u001b[38;5;241m*\u001b[39mkwargs) \u001b[38;5;28;01mas\u001b[39;00m process:\n\u001b[0;32m    549\u001b[0m     \u001b[38;5;28;01mtry\u001b[39;00m:\n\u001b[1;32m--> 550\u001b[0m         stdout, stderr \u001b[38;5;241m=\u001b[39m \u001b[43mprocess\u001b[49m\u001b[38;5;241;43m.\u001b[39;49m\u001b[43mcommunicate\u001b[49m\u001b[43m(\u001b[49m\u001b[38;5;28;43minput\u001b[39;49m\u001b[43m,\u001b[49m\u001b[43m \u001b[49m\u001b[43mtimeout\u001b[49m\u001b[38;5;241;43m=\u001b[39;49m\u001b[43mtimeout\u001b[49m\u001b[43m)\u001b[49m\n\u001b[0;32m    551\u001b[0m     \u001b[38;5;28;01mexcept\u001b[39;00m TimeoutExpired \u001b[38;5;28;01mas\u001b[39;00m exc:\n\u001b[0;32m    552\u001b[0m         process\u001b[38;5;241m.\u001b[39mkill()\n",
      "File \u001b[1;32mc:\\Users\\rfrjo\\anaconda3\\Lib\\subprocess.py:1201\u001b[0m, in \u001b[0;36mPopen.communicate\u001b[1;34m(self, input, timeout)\u001b[0m\n\u001b[0;32m   1199\u001b[0m         stderr \u001b[38;5;241m=\u001b[39m \u001b[38;5;28mself\u001b[39m\u001b[38;5;241m.\u001b[39mstderr\u001b[38;5;241m.\u001b[39mread()\n\u001b[0;32m   1200\u001b[0m         \u001b[38;5;28mself\u001b[39m\u001b[38;5;241m.\u001b[39mstderr\u001b[38;5;241m.\u001b[39mclose()\n\u001b[1;32m-> 1201\u001b[0m     \u001b[38;5;28;43mself\u001b[39;49m\u001b[38;5;241;43m.\u001b[39;49m\u001b[43mwait\u001b[49m\u001b[43m(\u001b[49m\u001b[43m)\u001b[49m\n\u001b[0;32m   1202\u001b[0m \u001b[38;5;28;01melse\u001b[39;00m:\n\u001b[0;32m   1203\u001b[0m     \u001b[38;5;28;01mif\u001b[39;00m timeout \u001b[38;5;129;01mis\u001b[39;00m \u001b[38;5;129;01mnot\u001b[39;00m \u001b[38;5;28;01mNone\u001b[39;00m:\n",
      "File \u001b[1;32mc:\\Users\\rfrjo\\anaconda3\\Lib\\subprocess.py:1264\u001b[0m, in \u001b[0;36mPopen.wait\u001b[1;34m(self, timeout)\u001b[0m\n\u001b[0;32m   1262\u001b[0m     endtime \u001b[38;5;241m=\u001b[39m _time() \u001b[38;5;241m+\u001b[39m timeout\n\u001b[0;32m   1263\u001b[0m \u001b[38;5;28;01mtry\u001b[39;00m:\n\u001b[1;32m-> 1264\u001b[0m     \u001b[38;5;28;01mreturn\u001b[39;00m \u001b[38;5;28;43mself\u001b[39;49m\u001b[38;5;241;43m.\u001b[39;49m\u001b[43m_wait\u001b[49m\u001b[43m(\u001b[49m\u001b[43mtimeout\u001b[49m\u001b[38;5;241;43m=\u001b[39;49m\u001b[43mtimeout\u001b[49m\u001b[43m)\u001b[49m\n\u001b[0;32m   1265\u001b[0m \u001b[38;5;28;01mexcept\u001b[39;00m \u001b[38;5;167;01mKeyboardInterrupt\u001b[39;00m:\n\u001b[0;32m   1266\u001b[0m     \u001b[38;5;66;03m# https://bugs.python.org/issue25942\u001b[39;00m\n\u001b[0;32m   1267\u001b[0m     \u001b[38;5;66;03m# The first keyboard interrupt waits briefly for the child to\u001b[39;00m\n\u001b[0;32m   1268\u001b[0m     \u001b[38;5;66;03m# exit under the common assumption that it also received the ^C\u001b[39;00m\n\u001b[0;32m   1269\u001b[0m     \u001b[38;5;66;03m# generated SIGINT and will exit rapidly.\u001b[39;00m\n\u001b[0;32m   1270\u001b[0m     \u001b[38;5;28;01mif\u001b[39;00m timeout \u001b[38;5;129;01mis\u001b[39;00m \u001b[38;5;129;01mnot\u001b[39;00m \u001b[38;5;28;01mNone\u001b[39;00m:\n",
      "File \u001b[1;32mc:\\Users\\rfrjo\\anaconda3\\Lib\\subprocess.py:1590\u001b[0m, in \u001b[0;36mPopen._wait\u001b[1;34m(self, timeout)\u001b[0m\n\u001b[0;32m   1587\u001b[0m     timeout_millis \u001b[38;5;241m=\u001b[39m \u001b[38;5;28mint\u001b[39m(timeout \u001b[38;5;241m*\u001b[39m \u001b[38;5;241m1000\u001b[39m)\n\u001b[0;32m   1588\u001b[0m \u001b[38;5;28;01mif\u001b[39;00m \u001b[38;5;28mself\u001b[39m\u001b[38;5;241m.\u001b[39mreturncode \u001b[38;5;129;01mis\u001b[39;00m \u001b[38;5;28;01mNone\u001b[39;00m:\n\u001b[0;32m   1589\u001b[0m     \u001b[38;5;66;03m# API note: Returns immediately if timeout_millis == 0.\u001b[39;00m\n\u001b[1;32m-> 1590\u001b[0m     result \u001b[38;5;241m=\u001b[39m \u001b[43m_winapi\u001b[49m\u001b[38;5;241;43m.\u001b[39;49m\u001b[43mWaitForSingleObject\u001b[49m\u001b[43m(\u001b[49m\u001b[38;5;28;43mself\u001b[39;49m\u001b[38;5;241;43m.\u001b[39;49m\u001b[43m_handle\u001b[49m\u001b[43m,\u001b[49m\n\u001b[0;32m   1591\u001b[0m \u001b[43m                                         \u001b[49m\u001b[43mtimeout_millis\u001b[49m\u001b[43m)\u001b[49m\n\u001b[0;32m   1592\u001b[0m     \u001b[38;5;28;01mif\u001b[39;00m result \u001b[38;5;241m==\u001b[39m _winapi\u001b[38;5;241m.\u001b[39mWAIT_TIMEOUT:\n\u001b[0;32m   1593\u001b[0m         \u001b[38;5;28;01mraise\u001b[39;00m TimeoutExpired(\u001b[38;5;28mself\u001b[39m\u001b[38;5;241m.\u001b[39margs, timeout)\n",
      "\u001b[1;31mKeyboardInterrupt\u001b[0m: "
     ]
    }
   ],
   "source": [
    "# ╔═══════════════════════════════════════════════════════════════════════╗\n",
    "# ║                          USER  CONFIG                                ║\n",
    "# ╚═══════════════════════════════════════════════════════════════════════╝\n",
    "TSV_PATH        = r\"C:\\Users\\rfrjo\\Documents\\Codebases\\PFP_Testing\\openfold_results_rescued.tsv\"\n",
    "PROTEIN_ROOT    = r\"C:\\Users\\rfrjo\\Documents\\Codebases\\PFP_Testing\\protein_data_pdb\"\n",
    "MAX_ROWS        = 256     # ≡ rows kept **inside a single MSA** (query + 255 homologs)\n",
    "NUM_SAMPLES     = 256     # ≡ how many random proteins to process this run       ← NEW\n",
    "SUMMARY_TSV_OUT = r\"C:\\Users\\rfrjo\\Documents\\Codebases\\PFP_Testing\\msa_embedding_summary.tsv\"\n",
    "RANDOM_SEED     = 42\n",
    "\n",
    "# ╔═══════════════════════════════════════════════════════════════════════╗\n",
    "# ║                      IMPORTS &  SMALL HELPERS                         ║\n",
    "# ╚═══════════════════════════════════════════════════════════════════════╝\n",
    "import csv, random, subprocess, re, os, sys, json, gc, warnings\n",
    "from pathlib import Path\n",
    "from typing import List, Tuple\n",
    "import boto3\n",
    "from botocore.config import Config\n",
    "from botocore import UNSIGNED\n",
    "import numpy as np\n",
    "from scipy.spatial.distance import pdist, squareform\n",
    "import torch, esm\n",
    "from tqdm.auto import tqdm\n",
    "\n",
    "def parse_chain_id(s: str) -> Tuple[str, str]:\n",
    "    s = s.strip()\n",
    "    if '-' in s:\n",
    "        pdb, chain = s.split('-')\n",
    "    elif '_' in s:\n",
    "        pdb, chain = s.split('_')\n",
    "    elif re.fullmatch(r\"[0-9][A-Za-z0-9]{3}[A-Za-z]\", s):\n",
    "        pdb, chain = s[:4], s[4]\n",
    "    else:\n",
    "        raise ValueError(f\"Cannot parse chain ID from '{s}'\")\n",
    "    return pdb.upper(), chain.upper()\n",
    "\n",
    "def to_wsl(p: Path) -> str:\n",
    "    p = Path(p).resolve()\n",
    "    posix = p.as_posix()\n",
    "    if posix.startswith(\"/mnt/\"):\n",
    "        return posix\n",
    "    return f\"/mnt/{p.drive[0].lower()}{posix[2:]}\"\n",
    "\n",
    "def strip_insertions_a3m(seq: str) -> str:\n",
    "    out = []\n",
    "    for c in seq:\n",
    "        if c.isupper() or c == '-': #TODO: CONFUSING DOCUMENTATION\n",
    "            out.append(c)\n",
    "        # lowercase / '.' / '*' are dropped\n",
    "    return ''.join(out)\n",
    "\n",
    "def load_a3m(fp: Path, max_seqs: int | None = None) -> List[Tuple[str,str]]:\n",
    "    seqs, desc, seq = [], None, \"\"\n",
    "    with open(fp) as fh:\n",
    "        for ln in fh:\n",
    "            ln = ln.rstrip()\n",
    "            if ln.startswith(\">\"):\n",
    "                if desc is not None:\n",
    "                    seqs.append((desc, seq))\n",
    "                    if max_seqs and len(seqs) >= max_seqs:\n",
    "                        break\n",
    "                desc, seq = ln[1:], \"\"\n",
    "            else:\n",
    "                seq += ln\n",
    "        if desc is not None:\n",
    "            seqs.append((desc, seq))\n",
    "    return seqs\n",
    "\n",
    "def div_max_subsample(seqs: List[Tuple[str,str]], k: int):\n",
    "    \"\"\"Greedy max-Hamming subsample (identical length assumption).\"\"\"\n",
    "    n = len(seqs)\n",
    "    if n <= k: return seqs\n",
    "    aa = sorted({c for _,s in seqs for c in s})\n",
    "    aa2i = {c:i for i,c in enumerate(aa)}\n",
    "    L = len(seqs[0][1])\n",
    "    arr = np.zeros((n, L), np.int8)\n",
    "    for i, (_,s) in enumerate(seqs):\n",
    "        arr[i] = [aa2i[c] for c in s]\n",
    "    dmat = squareform(pdist(arr, 'hamming'))\n",
    "    chosen = [0]; mask = np.zeros(n, bool); mask[0]=True\n",
    "    while sum(mask) < k:\n",
    "        mean_dist = dmat[:,mask].mean(1)\n",
    "        mean_dist[mask] = -1\n",
    "        nxt = int(mean_dist.argmax())\n",
    "        if mean_dist[nxt] <= 0: break\n",
    "        mask[nxt]=True; chosen.append(nxt)\n",
    "    return [seqs[i] for i in chosen]\n",
    "\n",
    "# make sure hhfilter exists\n",
    "if subprocess.run([\"wsl\",\"which\",\"hhfilter\"],capture_output=True).returncode!=0:\n",
    "    raise RuntimeError(\"hhfilter not found inside WSL - install hhsuite first\")\n",
    "\n",
    "# ╔═══════════════════════════════════════════════════════════════════════╗\n",
    "# ║                    LOAD  TSV  &  SAMPLE  PROTEINS                     ║\n",
    "# ╚═══════════════════════════════════════════════════════════════════════╝\n",
    "with open(TSV_PATH) as fh:\n",
    "    rows = list(csv.DictReader(fh, delimiter='\\t'))\n",
    "\n",
    "valid_rows = [r for r in rows if r['status'] != 'NOT_FOUND']\n",
    "if len(valid_rows) < NUM_SAMPLES:\n",
    "    raise RuntimeError(f\"Only {len(valid_rows)} usable chains found, need ≥ {NUM_SAMPLES}\")\n",
    "\n",
    "random.seed(RANDOM_SEED)\n",
    "sampled = random.sample(valid_rows, NUM_SAMPLES)\n",
    "\n",
    "\n",
    "# ╔═══════════════════════════════════════════════════════════════════════╗\n",
    "# ║                   PRE-LOAD  ESM-MSA MODEL ONCE                        ║\n",
    "# ╚═══════════════════════════════════════════════════════════════════════╝\n",
    "model, alphabet = esm.pretrained.esm_msa1b_t12_100M_UR50S()\n",
    "batch_converter = alphabet.get_batch_converter()\n",
    "device = torch.device(\"cuda\" if torch.cuda.is_available() else \"cpu\")\n",
    "model = model.to(device).eval()\n",
    "print(\"ESM-MSA model loaded on\", device)\n",
    "\n",
    "# ╔═══════════════════════════════════════════════════════════════════════╗\n",
    "# ║                         MAIN  LOOP                                    ║\n",
    "# ╚═══════════════════════════════════════════════════════════════════════╝\n",
    "s3 = boto3.client('s3', config=Config(signature_version=UNSIGNED))\n",
    "bucket = \"openfold\"\n",
    "\n",
    "summary_records = []\n",
    "for r in tqdm(sampled, desc=\"Embedding MSAs\", unit=\"chain\"):\n",
    "    original_id  = r[\"original_id\"]\n",
    "    converted_id = r[\"converted_id\"] or r[\"matched_id\"]\n",
    "    pdb, chain   = parse_chain_id(converted_id)\n",
    "    chain_tag    = f\"{pdb}-{chain}\"\n",
    "    \n",
    "    # ---------- directories ----------\n",
    "    chain_dir = Path(PROTEIN_ROOT) / original_id   # append into existing dataset folder\n",
    "    msa_dir   = chain_dir / \"msa_raw\"              # keep raw/filtered A3M separate\n",
    "    msa_dir.mkdir(parents=True, exist_ok=True)\n",
    "\n",
    "    # ---------- S3 download ----------\n",
    "    prefix = f\"pdb/{pdb.lower()}_{chain}/a3m/\"\n",
    "    msa_files = []\n",
    "    for fname in (\"bfd_uniclust_hits.a3m\",\"mgnify_hits.a3m\",\"uniref90_hits.a3m\"):\n",
    "        dest = msa_dir / fname\n",
    "        if dest.exists():                           # reuse if already downloaded\n",
    "            msa_files.append(dest); continue\n",
    "        try:\n",
    "            s3.download_file(bucket, prefix+fname, str(dest))\n",
    "            msa_files.append(dest)\n",
    "        except Exception:\n",
    "            pass\n",
    "    if not msa_files:\n",
    "        warnings.warn(f\"No MSA for {chain_tag}, skipping\"); continue\n",
    "    \n",
    "    # ---------- concatenate ----------\n",
    "    raw_cat = msa_dir / \"all_raw.a3m\"\n",
    "    with open(raw_cat,\"w\") as out:\n",
    "        for fp in msa_files: out.write(fp.read_text())\n",
    "    \n",
    "    # ---------- hhfilter ----------\n",
    "    filt = msa_dir / f\"all_hhfiltered_{MAX_ROWS}.a3m\"\n",
    "    subprocess.run([\"wsl\",\"hhfilter\",\"-i\",to_wsl(raw_cat),\"-o\",to_wsl(filt),\"-diff\",str(MAX_ROWS)],\n",
    "                   check=True, stdout=subprocess.DEVNULL, stderr=subprocess.DEVNULL)\n",
    "    \n",
    "    # ---------- load & clean ----------\n",
    "    all_seqs = load_a3m(filt)\n",
    "    len_hh   = len(all_seqs)\n",
    "    stripped=[]\n",
    "    tgt_len=None\n",
    "    for i,(d,s) in enumerate(all_seqs):\n",
    "        clean = strip_insertions_a3m(s)\n",
    "        if i==0: tgt_len=len(clean)\n",
    "        if len(clean)==tgt_len: stripped.append((d,clean))\n",
    "    len_lenfilter = len(stripped)\n",
    "    if len_lenfilter < 2: warnings.warn(f\"{chain_tag} has <2 sequences, skipping\"); continue\n",
    "    \n",
    "    # diversity\n",
    "    final_seqs = div_max_subsample(stripped, MAX_ROWS) if len(stripped)>MAX_ROWS else stripped\n",
    "    len_final  = len(final_seqs)\n",
    "    \n",
    "    # ---------- ESM-MSA embedding ----------\n",
    "    msa_tuples = [(f\"seq_{i}\",seq) for i,(_,seq) in enumerate(final_seqs)]\n",
    "    _,_,tokens = batch_converter([msa_tuples])\n",
    "    tokens = tokens.to(device)\n",
    "    with torch.no_grad():\n",
    "        rep = model(tokens, repr_layers=[12])[\"representations\"][12].cpu()  #  (1,N,L,Embedding)\n",
    "    emb_path = chain_dir / f\"{chain_tag}_msa_emb.pt\"\n",
    "    torch.save({\"embeddings\":rep.squeeze(0), \"msa\":final_seqs}, emb_path)\n",
    "    \n",
    "    # ---------- summary ----------\n",
    "    summary_records.append(dict(\n",
    "        original_id = original_id,\n",
    "        converted_id= converted_id,\n",
    "        sequence_length = tgt_len,\n",
    "        hhfilter_returned = len_hh,\n",
    "        after_lenfilter   = len_lenfilter,\n",
    "        final_count       = len_final\n",
    "    ))\n",
    "    \n",
    "    # memory hygiene\n",
    "    del tokens, rep; gc.collect()\n",
    "\n",
    "# ╔═══════════════════════════════════════════════════════════════════════╗\n",
    "# ║                    WRITE  SUMMARY  TSV                                ║\n",
    "# ╚═══════════════════════════════════════════════════════════════════════╝\n",
    "with open(SUMMARY_TSV_OUT,\"w\", newline='') as fh:\n",
    "    writer = csv.DictWriter(\n",
    "        fh,\n",
    "        fieldnames=[\"original_id\",\"converted_id\",\"sequence_length\",\n",
    "                    \"hhfilter_returned\",\"after_lenfilter\",\"final_count\"],\n",
    "        delimiter='\\t'\n",
    "    )\n",
    "    writer.writeheader()\n",
    "    writer.writerows(summary_records)\n",
    "\n",
    "print(f\"\\n✓ Finished. {NUM_SAMPLES} embeddings saved. Summary written to:\\n  {SUMMARY_TSV_OUT}\")\n"
   ]
  },
  {
   "cell_type": "markdown",
   "metadata": {},
   "source": [
    "<h1>MSA ID DATA</h1>"
   ]
  },
  {
   "cell_type": "code",
   "execution_count": 31,
   "metadata": {},
   "outputs": [
    {
     "name": "stdout",
     "output_type": "stream",
     "text": [
      "Processing 29,735 proteins with 32 threads...\n"
     ]
    },
    {
     "data": {
      "application/vnd.jupyter.widget-view+json": {
       "model_id": "8f179787224e4e0d995f9a30a4af6d09",
       "version_major": 2,
       "version_minor": 0
      },
      "text/plain": [
       "Processing proteins:   0%|          | 0/29735 [00:00<?, ?protein/s]"
      ]
     },
     "metadata": {},
     "output_type": "display_data"
    },
    {
     "name": "stdout",
     "output_type": "stream",
     "text": [
      "\n",
      "============================================================\n",
      "SUMMARY:\n",
      "============================================================\n",
      "PASS:         29,503\n",
      "FAIL:         232\n",
      "ERROR:        0\n",
      "TOTAL:        29,735\n",
      "Success rate: 99.2%\n",
      "\n",
      "================================================================================\n",
      "DETAILED FAILURE ANALYSIS\n",
      "================================================================================\n",
      "\n",
      "────────────────────────────────────────────────────────────\n",
      "FAILURE #1: 4V3P-Ll\n",
      "Similarity: 0.00%\n",
      "────────────────────────────────────────────────────────────\n",
      "\n",
      "A3M QUERY SEQUENCE (length: 182):\n",
      "XXXXXXXXXXXXXXXXXXXXXXXXXXXXXXXXXXXXXXXXXXXXXXXXXXXXXXXXXXXXXXXXXXXXXXXXXXXXXXXXXXXXXXXXXXXXXXXXXXXXXXXXXXXXXXXXXXXXXXXXXXXXXXXXXXXXXXXXXXXXXXXXXXXXXXXXXXXXXXXXXXXXXXXXXXXXXXXXXXXXXX\n",
      "\n",
      "REFERENCE SEQUENCE.TXT (length: 94):\n",
      "MGKGTGSFGKRRNKTHTLCVRCGRRSFHLQKSTCSSCGYPAARIRKYNWSVKAIRRKTTGTGRMRYMRHVPRRFKSNFREGTEATPRKRAAAAN\n",
      "\n",
      "LENGTH COMPARISON:\n",
      "  Query:     182\n",
      "  Reference: 94\n",
      "  Match:     False\n",
      "\n",
      "────────────────────────────────────────────────────────────\n",
      "\n",
      "────────────────────────────────────────────────────────────\n",
      "FAILURE #2: 5OQL-z\n",
      "Similarity: 5.76%\n",
      "────────────────────────────────────────────────────────────\n",
      "\n",
      "A3M QUERY SEQUENCE (length: 1163):\n",
      "MDSQQHKPHRPSKTKEKKKKQNSGGTNPKAFAVANPGKLARQAARSHDIKEKRLHVPLVDRLPDEPPPRLVVIVGPPGVGKTTLLKSLVRRYTKETMSDPVGPITVVTSKKQRLTFIECPNELEAMIDMAKVADIVLLMIDGNYGFEMETMEFLNILANTGMPGNVFGILTHLDLFKKPSALKDAKKRLKHRLWTELYQGAHLFYLSGVLNGRYPDREIHNLSRFLSVMKNPRPLVWRNTHPYTIIDNYRDITHPTKIEEDPLCDRTIELSGYLRGTNFAAQGQRVHIAGVGDFTISKIEELPDPCPTPAMEKAMANLTGKKPRRRLDEKDKKLWAPMADRSGMKISGDHIVITREKGFTFDKDANVERGEGEQLIVDLQGEKKLLGQTDKGVKLFAGGEQLTQIPEEDTNDTGRKTHRKARFLEDDRQNDENGVPEDEGFVSGEESKGSDGSDIEEEFDEKRLGKMFRGDDEETQDEDVVFADTDSELGSISGDEGVDSEESGSDEEFDSEEEEAVRWKENMMERARALHGKRKPWRAIDLARLMYDTTLTPAQALRRWRGEDNEKEEEEEEDIEKDEDTFFHKAKDEDDLEEDRMIPHFDYEELKTKWSNPENIDALRRTRFSTGRPKGDGEGDSEGEGDGDDDDDFNGFDEDDEDEGDGAFEDLETGEKHGPSKEKKEEEEKPAMSLEEERERNARRKEELRARFEEEDREGLLNDKAIARREGGLDEEFGEDQWYEMQKAMLQKQLDINKAEYAELDEHQRRQVEGYRAGKYARLVIEGVPAEFCKNFQPRMPILVGGLSATEDRFGFVQVRIKRHRWHKKILKTGDPLIFSLGWRRFQTLPIYSIWDNRTRNRMLKYTPEHMHCFGTFWGPLIAPNTSFCCFQSFSASNPGFRIAATGTVLSVDESTEIVKKLKLVGTPWKIFKNTAFIKDMFNSSLEIAKFEGAAIRTVSGIRGQIKRALSKPEGYFRATFEDKILLSDIVILKAWYPVKPKQFYNPATNLIGWQSMRLTGEIRRAENIPTPQNPNSTYRKIERPERHFNPLRVPKNLAAELPFKSQIVQTKPQKKETYMQKRAVVVGREERKLRDLMQKLTTIRKEKIAKRKAKKEAQREKLKKELAEIEERRREKQKKEKKEFWEREGKKRKASEEWGGGGKRRK\n",
      "\n",
      "REFERENCE SEQUENCE.TXT (length: 68):\n",
      "MDSSKAPVKFVKVTRVLGRTGSRGGVTQVRVEFMDDTTRSIIRNVKGPVRENDILVLLESEREARRLR\n",
      "\n",
      "LENGTH COMPARISON:\n",
      "  Query:     1163\n",
      "  Reference: 68\n",
      "  Match:     False\n",
      "\n",
      "────────────────────────────────────────────────────────────\n",
      "\n",
      "────────────────────────────────────────────────────────────\n",
      "FAILURE #3: 5VFT-e\n",
      "Similarity: 6.23%\n",
      "────────────────────────────────────────────────────────────\n",
      "\n",
      "A3M QUERY SEQUENCE (length: 353):\n",
      "TKQYEKSENDLKALQSVGQIVGEVLKQLTEEKFIVKATNGPRYVVGCRRQLDKSKLKPGTRVALDMTTLTIMRYLPREVDPLVYNMSHEDPGNVSYSEIGGLSEQIRELREVIELPLTNPELFQRVGIIPPKGCLLYGPPGTGKTLLARAVASQLDCNFLKVVSSSIVDKYIGESARLIREMFNYARDHQPCIIFMDEIDAIGGRRFSEGTSADREIQRTLMELLNQMDGFDTLHRVKMIMATNRPDTLDPALLRPGRLDRKIHIDLPNEQARLDILKIHAGPITKHGEIDYEAIVKLSDGFNGADLRNVCTEAGMFAIRADHDFVVQEDFMKAVRKVADSKKLESKLDYKPV\n",
      "\n",
      "REFERENCE SEQUENCE.TXT (length: 70):\n",
      "MSEKKQPVDXXXXXXXXXXXXXXXXXXXXXXXXXXXXXXXXXXXXXXXXXXXXXXLRAELEKHGYKMETS\n",
      "\n",
      "LENGTH COMPARISON:\n",
      "  Query:     353\n",
      "  Reference: 70\n",
      "  Match:     False\n",
      "\n",
      "────────────────────────────────────────────────────────────\n",
      "\n",
      "────────────────────────────────────────────────────────────\n",
      "FAILURE #4: 5GM6-v\n",
      "Similarity: 6.64%\n",
      "────────────────────────────────────────────────────────────\n",
      "\n",
      "A3M QUERY SEQUENCE (length: 148):\n",
      "MNKIQQINDKELQSGILSPHQSWHNEYKDNAYIYIGNLNRELTEGDILTVFSEYGVPVDVILSRDENTGESQGFAYLKYEDQRSTILAVDNLNGFKIGGRALKIDHTFYRPKRSLQKYYEAVKEELDRDIVSKNNAEKLILAKKDQPN\n",
      "\n",
      "REFERENCE SEQUENCE.TXT (length: 859):\n",
      "XXXXXXXXXXXXXXXXXXXXXXXXXXXXXXXXXXXXXXXXXXXXXXXXXXXXXXXXXXXXXXXXXXXXXXXXXXXXXXXXXXXXXXXXXXXXXXXXXXXXXXXXXXXXXXXXXXXXXXXXXXXXXXXXXXXXXXXXXXXXXXXXXXXXXXXXXXXXXXXXXXXXXXXXXXXXXXXXXXXXXXXXXXXXXXXXXXXXXXXXXXXXXXXXXXXXXXXXXXXXXXXXXXXXXXXXXXXXXXXXXXXXXXXXXXXXXXXXXXXXXXXXXXXXXXXXXXXXXXXXXXXXXXXXXXXXXXXXXXXXXXXXXXXXXXXXXXXXXXXXXXXXXXXXXXXXXXXXXXXXXXXXXXXXXXXXXXXXXXXXXXXXXXXXXXXXXXXXXXXXXXXXXXXXXXXXXXXXXXXXXXXXXXXXXXXXXXXXXXXXXXXXXXXXXXXXXXXXXXXXXXXXXXXXXXXXXXXXXXXXXXXXXXXXXXXXXXXXXXXXXXXXXXXXXXXXXXXXXXXXXXXXXXXXXXXXXXXXXXXXXXXXXXXXXXXXXXXXXXXXXXXXXXXXXXXXXXXXXXXXXXXXXXXXKTKMAYNTVIDLRLITPAMAENFALFLQNHYEVMESFQVYEKTIPLFPPEIQYELWIEYLEVATSHQLSSLSPEHIRFLFEKALKNLCSNGIDCKTIFIAYSVFEERISGLISKSIEILRRGAVIGTVSVSTHLESRLQLWRMCISKAESTLGPSVTRELYQECIQXXXXXXXXXXXXXXXXXXXXXXXXXXXXXXXXXXXXXXXXXXXXXXXXXXXXXXXXXXXXXXXXXXXXXXXXXXXXXXXXXXXXXXXXXXXXXXXXXXXXXXXXXXXXXXXXXXXXXXXXXXXXX\n",
      "\n",
      "LENGTH COMPARISON:\n",
      "  Query:     148\n",
      "  Reference: 859\n",
      "  Match:     False\n",
      "\n",
      "────────────────────────────────────────────────────────────\n",
      "\n",
      "────────────────────────────────────────────────────────────\n",
      "FAILURE #5: 3JB9-a\n",
      "Similarity: 9.31%\n",
      "────────────────────────────────────────────────────────────\n",
      "\n",
      "A3M QUERY SEQUENCE (length: 2363):\n",
      "MASLPPGNPPPPPPPPGFEPPSQPPPPPPPGYVKKRKNKTPAQSGNLEKQLNERARKWRASQKSKFGVKRKQGYVQTEKADLPPEHLRKIMKDRGDMSSRKFRADKRSYLGALKYLPHAVLKLLENMPMPWEEYREVKVLYHVTGAITFVNESPRVIEPHFIAQWGTMWMMMRREKRDRKNFKRLRFPPFDDEEPPFSIDQLLDLEPLEAIRMDLDEEDDAPVMDWFYENKALEDTPHVNGPTYRRWKLNLPQMANLHRLGYQLLSDLRDDNYFYLFNDNSFFTAKALNVAIPGGPKFEPLYKDEAPEMEDWNEFNDIYKLIIRHPIKTEYRIAFPYLYNSRARSVALSEYHQPSNVFVPPEDPDLPAFFWDPIINPITSRQLTLHELDTSPEDSAIEEDPNFEIPFDPFFHSEDIEFEHTASALILLWAPHPFNKRSGATKRAQDVPLIKHWYLEHCPPNQPVKVRVSYQKLLKSHVMNKLHMAHPKSHTNRSLLRQLKNTKFFQSTSIDWVEAGLQVCRQGYNMLQLLIHRKGLTYLHLDYNCNLKPTKTLTTKERKKSRFGNAFHLMREILRLTKLIVDSHVQYRLGNIDAYQLADGLHYIFNHVGQLTGMYRYKYRLMRQIRACKDFKHLIYYRFNTGPVGKGPGCGFWAPSWRVWLFFLRGIVPLLERWLGNLLARQFEGRHSTGVAKQITKQRVDSHQDLELRAAVMNDILDMIPEGIRQGKSKTILQHLSEAWRCWKANIPWKVPGLPAPIENMILRYVKSKADWWTSVAHFNRERIRRGATVDKTVAKKNLGRLTRLWLKAEQERQHNYLKDGPYVTADEAVAIYTTFVHWLESRRFQPIPFPPLSYKHDTKLLVLALERLKEAYSVKGRLNQSQREELALVEQAYDNPHEMLSQIKRRLLTMRTFKEVGIEFMDMYSHLIPVYSVDPMEKICDAYLDQYLWFEADRRHLFPSWVKPSDSEPPPLLVYKWCQGINNLTDVWETSNGECNVLMETRLSKVFEKVDLTLLNRLMSLLMDTNLASYASAKNNVVLSYKDMSHTNSYGLVRGLQFSSFIWQFYGLVLDLLILGLQRATEIAGPADAPNDFLHFKDQATETSHPIRLYTRYIDKVYIMFRFTDEESRDLIQRFLNENPDPTNSNVVNYSKGKKNCWPRDARMRLMKHDVNLGRAVFWEIRNRLPRSLTTLEWEDTFPSVYSKDNPNLLFSMTGFEVRILPKIRQNEEFSLKDGVWNLTDNRTKQRTAQAFIRVTEDGINQFGNRIRQILMSSGSTTFTKIANKWNTALIALMTYYREAAISTPELLDLLVKCESKIQTRVKISLNSKMPSRFPPAVFYSPKELGGLGMLSMGHVLIPQSDLRWSKQTDTGITHFRSGMTTNGEHLIPNLYRYIQPWESEFIDSQRVWAEYAMKRQEALQQNRRLTLEDLEDSWDRGIPRINTLFQKDRHTLAYDKGWRVRTEFKQYQLLKNNPFWWTSQRHDGKLWQLNNYRVDVIQALGGVEGILEHTMFKATGFPSWEGLFWEKASGFEESMKFKKLTNAQRSGLNQIPNRRFTLWWSPTINRANVYVGFQVQLDLTGIMMHGKIPTLKISLIQIFRSHLWQKIHESVVWDLCQVLDQELESLQIETVQKETIHPRKSYKMNSSCADILLLAAYKWNVSRPSLLNDNRDVLDNTTTNKYWIDVQLRFGDYDSHDIERYTRAKFLDYSTDAQSMYPSPTGVLIGIDLCYNMHSAYGNWIPGMKPLIQQSMNKIMKANPALYVLRERIRKGLQLYASEPQEQYLSSSNYAELFSNQIQLFVDDTNVYRVTIHKTFEGNLTTKPINGAIFIFNPRTGQLFLKVIHTSVWAGQKRLGQLAKWKTAEEVAALIRSLPVEEQPRQIIVTRKGMLDPLEVHLLDFPNITIKGSELQLPFQAIIKLDKINDLILRATEPQMVLFNLYDDWLQSVSSYTAFSRLILILRALNVNTEKTKLILRPDKSIITKENHVWPNLDDQQWLDVEPKLRDLILADYAKKNNINVASLTNSEVRDIILGMTITAPSLQRQQIAEIEKQGRENAQVTAVTTKTTNVHGDEMVVTTTSAYENEKFSSKTEWRNRAISSISLPLRTKNIYVNSDNISETFPYTYILPQNLLRKFVTISDLRTQVAGYMYGKSPSDNPQIKEIRCIALVPQLGSIRNVQLPSKLPHDLQPSILEDLEPLGWIHTQSSELPYLSSVDVTTHAKILSSHPEWDTKAVTLTVSYIPGSISLAAYTVSKEGIEWGSKNMDINSDEAIGYEPSMAEKCQLLLSDRIQGFFLVPEEGVWNYNFNGASFSPKMTYSLKLDVPLPFFALEHRPTHVISYTELETNDRLEEDMPDAFA\n",
      "\n",
      "REFERENCE SEQUENCE.TXT (length: 354):\n",
      "MSHGPKGDINKQEWEDVEFPSICERCLGDNSYVRMTKEPLGQECKICSKPCTIFRWIKERGQKPGKTQICVGCARYKNCCQSCMLDLQFGLPIALRDAALKLVESGPTNDINREFFAQNQQRLLSNGETAYDSQEASAAARNLVKKVEKREXXXXXXXXXXXXXXXXXXXXXXXXXXASLNAERPLFPVKKIINGNVSLSINMEPPKDKKIASLFLIGVEDELADYKIRKHFEQYGPLKSVVCSHRAKCAFVNFKTRSSAEIAAAASPDGNVVIEGFRLKVQWGKXXXXXXXXXXXXXXXXXXXXXXXXXXXXXXXXXXXXXXXXXXXXXXXXXXXXXXXXXXXXXXXXXXXXX\n",
      "\n",
      "LENGTH COMPARISON:\n",
      "  Query:     2363\n",
      "  Reference: 354\n",
      "  Match:     False\n",
      "\n",
      "────────────────────────────────────────────────────────────\n",
      "\n",
      "────────────────────────────────────────────────────────────\n",
      "FAILURE #6: 5LC5-g\n",
      "Similarity: 9.51%\n",
      "────────────────────────────────────────────────────────────\n",
      "\n",
      "A3M QUERY SEQUENCE (length: 715):\n",
      "MLRIPVRKALVGLSKSSKGCVRTTATAASNLIEVFVDGQSVMVEPGTTVLQACEKVGMQIPRFCYHERLSVAGNCRMCLVEIEKAPKVVAACAMPVMKGWNILTNSEKTKKAREGVMEFLLANHPLDCPICDQGGECDLQDQSMMFGSDRSRFLEGKRAVEDKNIGPLVKTIMTRCIQCTRCIRFASEIAGVDDLGTTGRGNDMQVGTYIEKMFMSELSGNIIDICPVGALTXXXXXXXXXXXXXXXXXXXXXXXXXXXXXXXXXXXXXXXXXXXXXXXXXXXXXXXXXXXXXXXXXXXXXXXXXXXXXXXXXXXXXXXXXXXXXXXXXXXXXXXXXXXXXXXXXXXXXXXXXXXXXXXXXXXXXXXXXXXXXXXXXXXXXXXXXXXXXXXXXXXXXXXXXXXXXXXXXXXXXXXXXXXXXXXXXXXXXXXXXXXXXXXXXXXXXXXXXXXXXXXXXXXXXXXXXXXXXXXXXXXXXXXXXXXXXXXXXXXXXXXXXXXXXXXXXXXXXXXXXXXXXXXXXXXXXXXXXXXXXXXXXXXXXXXXXXXXXXXXXXXXXXXXXXXXXXXXXXXXXXXXXXXXXXXXXXXXXXXXXXXXXXXXXXXXXXXXXXXXXXXXXXXXXXXXXXXXXXXXXXXXXXXXXXXXXXXXXXXXXXXXXXXXXXXXXXXXXXXXXXXXXXXXXXXXXXXXXXXXXXXXXXXXXXXXXXXXXXXXXXX\n",
      "\n",
      "REFERENCE SEQUENCE.TXT (length: 154):\n",
      "MAARMLGLCGRRLLAVAATRGLPAARVRWESSSSRAVIAPSTLAGKRPSEPTLRWQEDPEPEDENLYEKNPDSHGYDKDPAVDIWNMRVVFFFGFSIVLVLGSTFVAYLPDYRMQEWARREAERLVKYREAHGLPIMESNCFDPSKIQLPEDED\n",
      "\n",
      "LENGTH COMPARISON:\n",
      "  Query:     715\n",
      "  Reference: 154\n",
      "  Match:     False\n",
      "\n",
      "────────────────────────────────────────────────────────────\n",
      "\n",
      "────────────────────────────────────────────────────────────\n",
      "FAILURE #7: 5GM6-a\n",
      "Similarity: 9.71%\n",
      "────────────────────────────────────────────────────────────\n",
      "\n",
      "A3M QUERY SEQUENCE (length: 2287):\n",
      "AYTPKAEMPPEHLRKIINTHSDMASKMYNTDKKAFLGALKYLPHAILKLLENMPHPWEQAKEVKVLYHTSGAITFVNETPRVIEPVYTAQWSATWIAMRREKRDRTHFKRMRFPPFDDDEPPLSYEQHIENIEPLDPINLPLDSQDDEYVKDWLYDSRPLEEDSKKVNGTSYKKWSFDLPEMSNLYRLSTPLRDEVTDKNYYYLFDKKSFFNGKALNNAIPGGPKFEPLYPREEEEDYNEFNSIDRVIFRVPIRSEYKVAFPHLYNSRPRSVRIPWYNNPVSCIIQNDEEYDTPALFFDPSLNPIPHFIDNNSSLNVSNTKENGDFTLPEDFAPLLAEEEELILPNTKDAMSLYHSPFPFNRTKGKMVRAQDVALAKKWFLQHPDEEYPVKVKVSYQKLLKNYVLNELHPTLPTNHNKTKLLKSLKNTKYFQQTTIDWVEAGLQLCRQGHNMLNLLIHRKGLTYLHLDYNFNLKPTKTLTTKERKKSRLGNSFHLMRELLKMMKLIVDTHVQFRLGNVDAFQLADGIHYILNHIGQLTGIYRYKYKVMHQIRACKDLKHIIYYKFNKNLGKGPGCGFWQPAWRVWLNFLRGTIPLLERYIGNLITRQFEGRSNEIVKTTTKQRLDAYYDLELRNSVMDDILEMMPESIRQKKARTILQHLSEAWRCWKANIPWDVPGMPAPIKKIIERYIKSKADAWVSAAHYNRERIKRGAHVEKTMVKKNLGRLTRLWIKNEQERQRQIQKNGPEITPEEATTIFSVMVEWLESRSFSPIPFPPLTYKNDTKILVLALEDLKDVYASKVRLNASEREELALIEEAYDNPHDTLNRIKKYLLTQRVFKPVDITMMENYQNISPVYSVDPLEKITDAYLDQYLWYEADQRKLFPNWIKPSDSEIPPLLVYKWTQGINNLSEIWDVSRGQSAVLLETTLGEMAEKIDFTLLNRLLRLIVDPNIADYITAKNNVVINFKDMSHVNKYGLIRGLKFASFIFQYYGLVIDLLLLGQERATDLAGPANNPNEFMQFKSKEVEKAHPIRLYTRYLDRIYMLFHFEEDEGEELTDEYLAENPDPNFENSIGYNNRKCWPKDSRMRLIRQDVNLGRAVFWEIQSRVPTSLTSIKWENAFVSVYSKNNPNLLFSMCGFEVRILPRQRMEEVVSNDEGVWDLVDERTKQRTAKAYLKVSEEEIKKFDSRIRGILMASGSTTFTKVAAKWNTSLISLFTYFREAIVATEPLLDILVKGETRIQNRVKLGLNSKMPTRFPPAVFYTPKELGGLGMISASHILIPASDLSWSKQTDTGITHFRAGMTHEDEKLIPTIFRYITTWENEFLDSQRVWAEYATKRQEAIQQNRRLAFEELEGSWDRGIPRISTLFQRDRHTLAYDRGHRIRREFKQYSLERNSPFWWTNSHHDGKLWNLNAYRTDVIQALGGIETILEHTLFKGTGFNSWEGLFWEKASGFEDSMQFKKLTHAQRTGLSQIPNRRFTLWWSPTINRANVYVGFLVQLDLTGIFLHGKIPTLKISLIQIFRAHLWQKIHESIVFDICQILDGELDVLQIESVTKETVHPRKSYKMNSSAADITMESVHEWEVSKPSLLHETNDSFKGLITNKMWFDVQLRYGDYDSHDISRYVRAKFLDYTTDNVSMYPSPTGVMIGIDLAYNMYDAYGNWFNGLKPLIQNSMRTIMKANPALYVLRERIRKGLQIYQSSVQEPFLNSSNYAELFNNDIKLFVDDTNVYRVTVHKTFEGNVATKAINGCIFTLNPKTGHLFLKIIHTSVWAGQKRLSQLAKWKTAEEVSALVRSLPKEEQPKQIIVTRKAMLDPLEVHMLDFPNIAIRPTELRLPFSAAMSIDKLSDVVMKATEPQMVLFNIYDDWLDRISSYTAFSRLTLLLRALKTNEESAKMILLSDPTITIKSYHLWPSFTDEQWITIESQMRDLILTEYGRKYNVNISALTQTEIKDIILGQNIKAPSVKRQKMAELEAARSEKQNDEEAAGASTVMKTKTINAQGEEIVVVASADYESQTFSSKNEWRKSAIANTLLYLRLKNIYVSADDFVEEQNVYVLPKNLLKKFIEISDVKIQVAAFIYGMSAKDHPKVKEIKTVVLVPQLGHVGSVQISNIPDIGDLPDTEGLELLGWIHTQTEELKFMAASEVATHSKLFADKKRDCIDISIFSTPGSVSLSAYNLTDEGYQWGEENKDIMNVLSEGFEPTFSTHAQLLLSDRITGNFIIPSGNVWNYTFMGTAFNQEGDYNFKYGIPLEFYNEMHRPVHFLQFSELAGDEELEAEQIDVFS\n",
      "\n",
      "REFERENCE SEQUENCE.TXT (length: 259):\n",
      "MFRKRLVNKSSSDEKNQKKRQKINFSEEKLVASDEEKGSSDLMSLAKSGNSRTLQLSHENEGKLQKKGEDLDKYTLTVNDDSTKEDLLNFERKELAEKAKKRRPSDDNELVLNMSGKNKRLTKQINQPTNIRTTVLMDFQPDVCKDYKQTGYCGYGDSCKFLHSRDDFKTGWKLNQEWNADKEDSKAVTLDLEKIPFKCTLCKEDYKSPVVTNCGHYFCGSCFAKDMKKGTKCFICHKETHGSAKVASDLQKMLNKRKS\n",
      "\n",
      "LENGTH COMPARISON:\n",
      "  Query:     2287\n",
      "  Reference: 259\n",
      "  Match:     False\n",
      "\n",
      "────────────────────────────────────────────────────────────\n",
      "\n",
      "────────────────────────────────────────────────────────────\n",
      "FAILURE #8: 5AJ3-o\n",
      "Similarity: 9.97%\n",
      "────────────────────────────────────────────────────────────\n",
      "\n",
      "A3M QUERY SEQUENCE (length: 239):\n",
      "MLRAAWRALSSIRTQAVTQAPVLGLPGGGCARFPSVQRALPSRPAGLILRAARGYAAQKPVQPNQDDPPPSMLLLDYQNVPGIHKVDDVVKRLLSLEMANQKEKLKIKKMQLMNKVLENPEDTSSLEARIVALTVKIRNYEEHMQKHRKDKAHKRFLLMSIDQRKKMLKNLRETNYAVFEKICKELGIEYTFPPPYHRKAHRRWVTKKALCTQVFREVQKLKKQKRALRAAAVAAHKQG\n",
      "\n",
      "REFERENCE SEQUENCE.TXT (length: 692):\n",
      "MAAVASARWLGVRSGLCLPLTGRRVGPCGRTPRSRFYSGSAAHPEVEGANVTGIEEVVIPKKKTWDKVAILQALASTVHRDSTAAPYVFQDDPYLIPTSSVESHSFLLAKKSGENAAKFIINSYPKYFQKDIAEPHIPCLMPEYFEPQIEDVXXXXXXXXXXXXXXXXXXXXXXXXXXXXXXXXXXXXXXXXXXXXXXXXXXXXXXXXXXXXXXXXXXXXXXXXXXXXXXXXXXXXXXXXXXXXXXXXXXXXXXXXXXXXXXXXXXXXXXXXXXXXXXXXXXXXXXXXXXXXXXXXXXXXXXXXXXXXXXXXXXXXXXXXXXXXXXXXXXXXXXXXXXXXXXXXXXXXXXXXXXXXXXXXXXXXXXXXXXXXXXXXXXXXXXXXXXXXXXXXXXXXXXXXXXXXXXXXXXXXXXXXXXXXXXXXXXXXXXXXXXXXXXXXXXXXXXXXXXXXXXXXXXXXXXXXXXXXXXXXXXXXXXXXXXXXXXXXXXXXXXXXXXXXXXXXXXXXXXXXXXXXXXXXXXXXXXXXXXXXXXXXXXXXXXXXXXXXXXXXXXXXXXXXXXXXXXXXXXXXXXXXXXXXXXXXXXXXXXXXXXXXXXXXXXXXXXXXXXXXXXXXXXXXXXXXXXXXXXXXXXXXXXXXXXXXXXXXXXXXXXXXXXXXXXXXXXXXXXXXXXXXXSDSDSDSDSDISEGK\n",
      "\n",
      "LENGTH COMPARISON:\n",
      "  Query:     239\n",
      "  Reference: 692\n",
      "  Match:     False\n",
      "\n",
      "────────────────────────────────────────────────────────────\n",
      "\n",
      "────────────────────────────────────────────────────────────\n",
      "FAILURE #9: 4V6W-Az\n",
      "Similarity: 11.61%\n",
      "────────────────────────────────────────────────────────────\n",
      "\n",
      "A3M QUERY SEQUENCE (length: 117):\n",
      "MPPKKDAKSSAKQPQKTQKKKEGSGGGKAKKKKWSKGKVRDKLNNQVLFDKATYEKLYKEVPAYKLITPSVVSERLKIRGSLAKRALIELREKGLIKQVVQHHSQVIYTRATKGDEA\n",
      "\n",
      "REFERENCE SEQUENCE.TXT (length: 844):\n",
      "MVNFTVDEIRGLMDKKRNIRNMSVIAHVDHGKSTLTDSLVSKAGIIAGAKAGETRFTDTRKDEQERCITIKSTAISMYFEVEEKDLVFITHPDQREKECKGFLINLIDSPGHVDFSSEVTAALRVTDGALVVVDCVSGVCVQTETVLRQAIAERIKPILFMNKMDRALLELQLDAEELYQTFQRIVENVNVIIATYNDDGGPMGEVRVDPSKGSVGFGSGLHGWAFTLKQFSEMYSEKFKIDVVKLMNRLWGENFFNAKTKKWQKQKEADNKRSFCMYILDPIYKVFDAIMNYKKEEIGTLLEKIGVTLKHEDKDKDGKALLKTVMRTWLPAGEALLQMIAIHLPSPVVAQKYRMEMLYEGPHDDEAAIAVKSCDPDGPLMMYISKMVPTSDKGRFYAFGRVFAGKVATGQKCRIMGPNYTPGKKEDLYEKAIQRTILMMGRYVEAIEDVPSGNICGLVGVDQFLVKTGTITTFKDAHNMKVMKFSVSPVVRVAVEPKNPADLPKLVEGLKRLAKSDPMVQCIIEESGEHIIAGAGELHLEICLKDLEEDHACIPLKKSDPVVSYRETVSEESDQMCLSKSPNKHNRLLMKALPMPDGLPEDIDNGDVSAKDEFKARARYLSEKYDYDVTEARKIWCFGPDGTGPNFILDCTKSVQYLNEIKDSVVAGFQWASKEGILADENLRGVRFNIYDVTLHADAIHRGGGQIIPTTRRCLYAAAITAKPRLMEPVYLCEIQCPEVAVGGIYGVLNRRRGHVFEENQVVGTPMFVVKAYLPVNESFGFTADLRSNTGGQAFPQCVFDHWQVLPGDPSEPSSKPYAIVQDTRKRKGLKEGLPDLSQYLDKL\n",
      "\n",
      "LENGTH COMPARISON:\n",
      "  Query:     117\n",
      "  Reference: 844\n",
      "  Match:     False\n",
      "\n",
      "────────────────────────────────────────────────────────────\n",
      "\n",
      "────────────────────────────────────────────────────────────\n",
      "FAILURE #10: 5LDX-d\n",
      "Similarity: 12.21%\n",
      "────────────────────────────────────────────────────────────\n",
      "\n",
      "A3M QUERY SEQUENCE (length: 426):\n",
      "QPDVEWAEQYGGAVMYPTKETAHWKPPPWNDVDPPKDTLVSNLTLNFGPQHPAAHGVLRLVMELSGEMVRKCDPHIGLLHRGTEKLIEYKTYLQALPYFDRLDYVSMMCNEQAYSLAVEKLLNIRPPPRAQWIRVLFGEITRLLNHIMAVTTHALDIGAMTPFFWMFEEREKMFEFYERVSGARMHAAYVRPGGVHQDLPLGLMDDIYEFSKNFSLRIDELEEMLTNNRIWRNRTVDIGIVTAEDALNYGFSGVMLRGSGIQWDLRKTQPYDVYDQVEFDVPIGSRGDCYDRYLCRVEEMRQSIRIISQCLNKMPPGEIKVDDAKVSPPKRAEMKTSMESLIHHFKLYTEGYQVPPGATYTAIEAPKGEFGVYLVSDGSSRPYRCKIKAPGFAHLAGLDKMSKGHMLADVVAIIGTQDIVFGEVDR\n",
      "\n",
      "REFERENCE SEQUENCE.TXT (length: 114):\n",
      "XXXXXXXXXXXXXXXXXXXXXXXXXXPRLAFVGFLGYCSGLIDNAIRRRPVLLAGLHRQLLYITSFVFVGYYLLKRQDYMYAVRDHDMFSYIKSHXXXXXXXXXXXXXXXXXXX\n",
      "\n",
      "LENGTH COMPARISON:\n",
      "  Query:     426\n",
      "  Reference: 114\n",
      "  Match:     False\n",
      "\n",
      "────────────────────────────────────────────────────────────\n",
      "\n",
      "... and 222 more failures (truncated for readability)\n",
      "\n",
      "✅ Done!\n"
     ]
    }
   ],
   "source": [
    "from pathlib import Path\n",
    "from Bio import pairwise2\n",
    "import string\n",
    "from concurrent.futures import ThreadPoolExecutor\n",
    "from tqdm.auto import tqdm\n",
    "import os\n",
    "\n",
    "# Simple config\n",
    "PROTEIN_DIR = Path(r\"C:\\Users\\rfrjo\\Documents\\Codebases\\PFP_Testing\\data\\protein_data_pdb\")\n",
    "SKIP_IDS = {\"2WWX-B\", \"3M7G-A\", \"5GAO-E\", \"5OXE-A\", \"1W8X-M\"}\n",
    "MAX_WORKERS = min(32, (os.cpu_count() or 4) * 2)\n",
    "\n",
    "# Simple sequence cleaner\n",
    "LOWER = string.ascii_lowercase\n",
    "clean_trans = str.maketrans('', '', LOWER + \"-.\")\n",
    "\n",
    "def clean_seq(seq):\n",
    "    return seq.translate(clean_trans).upper()\n",
    "\n",
    "def get_query_from_a3m(a3m_file):\n",
    "    \"\"\"Get the first sequence from A3M (should be the query)\"\"\"\n",
    "    with open(a3m_file) as f:\n",
    "        seq_lines = []\n",
    "        in_first_seq = False\n",
    "        \n",
    "        for line in f:\n",
    "            line = line.strip()\n",
    "            if line.startswith('>'):\n",
    "                if in_first_seq:  # Hit second header, stop\n",
    "                    break\n",
    "                in_first_seq = True\n",
    "            elif in_first_seq:\n",
    "                seq_lines.append(line)\n",
    "        \n",
    "        return ''.join(seq_lines)\n",
    "\n",
    "def calculate_identity(seq1, seq2):\n",
    "    if not seq1 or not seq2:\n",
    "        return 0.0\n",
    "    score = pairwise2.align.globalxx(seq1, seq2, score_only=True)\n",
    "    return score / max(len(seq1), len(seq2))\n",
    "\n",
    "def process_protein(protein_dir):\n",
    "    \"\"\"Process a single protein directory\"\"\"\n",
    "    protein_id = protein_dir.name\n",
    "    \n",
    "    try:\n",
    "        # Get files\n",
    "        a3m_file = protein_dir / \"final_filtered_256_stripped.a3m\"\n",
    "        seq_file = protein_dir / \"sequence.txt\"\n",
    "        \n",
    "        if not a3m_file.exists() or not seq_file.exists():\n",
    "            return (protein_id, 0.0, \"MISSING_FILES\", \"\", \"\")\n",
    "        \n",
    "        # Get sequences\n",
    "        query_raw = get_query_from_a3m(a3m_file)\n",
    "        ref_seq = seq_file.read_text().strip().upper()\n",
    "        \n",
    "        # Clean and compare\n",
    "        query_clean = clean_seq(query_raw)\n",
    "        identity = calculate_identity(query_clean, ref_seq)\n",
    "        \n",
    "        status = \"PASS\" if identity >= 0.95 else \"FAIL\"\n",
    "        return (protein_id, identity, status, query_clean, ref_seq)\n",
    "        \n",
    "    except Exception as e:\n",
    "        return (protein_id, 0.0, f\"ERROR: {str(e)[:50]}\", \"\", \"\")\n",
    "\n",
    "# Get all protein directories\n",
    "all_dirs = [d for d in PROTEIN_DIR.iterdir() if d.is_dir() and d.name not in SKIP_IDS]\n",
    "\n",
    "print(f\"Processing {len(all_dirs):,} proteins with {MAX_WORKERS} threads...\")\n",
    "\n",
    "# Process with multithreading and progress bar\n",
    "results = []\n",
    "with ThreadPoolExecutor(max_workers=MAX_WORKERS) as executor:\n",
    "    for result in tqdm(executor.map(process_protein, all_dirs), \n",
    "                       total=len(all_dirs), \n",
    "                       desc=\"Processing proteins\",\n",
    "                       unit=\"protein\"):\n",
    "        results.append(result)\n",
    "\n",
    "# Summary\n",
    "passes = sum(1 for r in results if r[2] == \"PASS\")\n",
    "fails = sum(1 for r in results if r[2] == \"FAIL\")\n",
    "errors = sum(1 for r in results if r[2].startswith(\"ERROR\") or r[2] == \"MISSING_FILES\")\n",
    "\n",
    "print(f\"\\n{'='*60}\")\n",
    "print(f\"SUMMARY:\")\n",
    "print(f\"{'='*60}\")\n",
    "print(f\"PASS:         {passes:,}\")\n",
    "print(f\"FAIL:         {fails:,}\")\n",
    "print(f\"ERROR:        {errors:,}\")\n",
    "print(f\"TOTAL:        {len(results):,}\")\n",
    "print(f\"Success rate: {passes/len(results)*100:.1f}%\")\n",
    "\n",
    "# Show detailed failures\n",
    "failures = [r for r in results if r[2] == \"FAIL\"]\n",
    "if failures:\n",
    "    print(f\"\\n{'='*80}\")\n",
    "    print(f\"DETAILED FAILURE ANALYSIS\")\n",
    "    print(f\"{'='*80}\")\n",
    "    \n",
    "    # Sort by similarity (lowest first)\n",
    "    failures_sorted = sorted(failures, key=lambda x: x[1])\n",
    "    \n",
    "    for i, (protein_id, identity, status, query_seq, ref_seq) in enumerate(failures_sorted):\n",
    "        print(f\"\\n{'─'*60}\")\n",
    "        print(f\"FAILURE #{i+1}: {protein_id}\")\n",
    "        print(f\"Similarity: {identity*100:.2f}%\")\n",
    "        print(f\"{'─'*60}\")\n",
    "        \n",
    "        print(f\"\\nA3M QUERY SEQUENCE (length: {len(query_seq)}):\")\n",
    "        print(f\"{query_seq}\")\n",
    "        \n",
    "        print(f\"\\nREFERENCE SEQUENCE.TXT (length: {len(ref_seq)}):\")\n",
    "        print(f\"{ref_seq}\")\n",
    "        \n",
    "        # Show length comparison\n",
    "        print(f\"\\nLENGTH COMPARISON:\")\n",
    "        print(f\"  Query:     {len(query_seq)}\")\n",
    "        print(f\"  Reference: {len(ref_seq)}\")\n",
    "        print(f\"  Match:     {len(query_seq) == len(ref_seq)}\")\n",
    "        \n",
    "        # If same length, show first few differences\n",
    "        if len(query_seq) == len(ref_seq) and query_seq != ref_seq:\n",
    "            diffs = [(i, a, b) for i, (a, b) in enumerate(zip(query_seq, ref_seq)) if a != b]\n",
    "            print(f\"\\nFIRST 5 DIFFERENCES:\")\n",
    "            for j, (pos, q_char, r_char) in enumerate(diffs[:5]):\n",
    "                print(f\"  Position {pos}: Query='{q_char}' vs Ref='{r_char}'\")\n",
    "            print(f\"  Total differences: {len(diffs)}\")\n",
    "        \n",
    "        print(f\"\\n{'─'*60}\")\n",
    "        \n",
    "        # Stop after showing 10 failures to avoid overwhelming output\n",
    "        if i >= 9:\n",
    "            remaining = len(failures_sorted) - 10\n",
    "            if remaining > 0:\n",
    "                print(f\"\\n... and {remaining} more failures (truncated for readability)\")\n",
    "            break\n",
    "\n",
    "# Show errors if any\n",
    "errors_list = [r for r in results if r[2].startswith(\"ERROR\") or r[2] == \"MISSING_FILES\"]\n",
    "if errors_list:\n",
    "    print(f\"\\n{'='*60}\")\n",
    "    print(f\"ERRORS:\")\n",
    "    print(f\"{'='*60}\")\n",
    "    for pid, ident, status, _, _ in errors_list[:10]:\n",
    "        print(f\"   {pid:<12} {status}\")\n",
    "    if len(errors_list) > 10:\n",
    "        print(f\"   ... and {len(errors_list) - 10} more errors\")\n",
    "\n",
    "print(f\"\\n✅ Done!\")"
   ]
  },
  {
   "cell_type": "code",
   "execution_count": 34,
   "metadata": {},
   "outputs": [
    {
     "name": "stdout",
     "output_type": "stream",
     "text": [
      "Processing 29,735 proteins with 32 threads...\n"
     ]
    },
    {
     "data": {
      "application/vnd.jupyter.widget-view+json": {
       "model_id": "fa1cf9ec977346f799df1c3a4f4b8778",
       "version_major": 2,
       "version_minor": 0
      },
      "text/plain": [
       "Processing proteins:   0%|          | 0/29735 [00:00<?, ?protein/s]"
      ]
     },
     "metadata": {},
     "output_type": "display_data"
    },
    {
     "name": "stdout",
     "output_type": "stream",
     "text": [
      "\n",
      "============================================================\n",
      "SUMMARY:\n",
      "============================================================\n",
      "PASS:         29,503\n",
      "FAIL:         232\n",
      "ERROR:        0\n",
      "TOTAL:        29,735\n",
      "Success rate: 99.2%\n",
      "\n",
      "================================================================================\n",
      "ALL FAILED PROTEIN IDs (232 total):\n",
      "================================================================================\n",
      "  1. 3J6D-a\n",
      "  2. 3J79-d\n",
      "  3. 3J79-f\n",
      "  4. 3J79-i\n",
      "  5. 3J7P-k\n",
      "  6. 3J7Q-b\n",
      "  7. 3J7R-j\n",
      "  8. 3J7R-Sf\n",
      "  9. 3J7Y-f\n",
      " 10. 3J7Y-h\n",
      " 11. 3J81-a\n",
      " 12. 3J81-e\n",
      " 13. 3J81-f\n",
      " 14. 3J92-h\n",
      " 15. 3J9M-d\n",
      " 16. 3J9M-j\n",
      " 17. 3J9M-r\n",
      " 18. 3JAH-b\n",
      " 19. 3JAH-cc\n",
      " 20. 3JAJ-d\n",
      " 21. 3JAP-g\n",
      " 22. 3JB9-a\n",
      " 23. 3JB9-d\n",
      " 24. 3JB9-e\n",
      " 25. 3JB9-i\n",
      " 26. 3JB9-k\n",
      " 27. 3JBP-Ad\n",
      " 28. 3JBP-Ah\n",
      " 29. 3JCS-b\n",
      " 30. 3JCS-e\n",
      " 31. 3JCS-g\n",
      " 32. 3JCS-h\n",
      " 33. 3JCS-j\n",
      " 34. 3JCS-n\n",
      " 35. 3JCT-w\n",
      " 36. 3JD5-b\n",
      " 37. 3JD5-c\n",
      " 38. 3JD5-e\n",
      " 39. 3JD5-f\n",
      " 40. 3JD5-g\n",
      " 41. 3JD5-i\n",
      " 42. 3JD5-j\n",
      " 43. 3JD5-n\n",
      " 44. 4CE4-i\n",
      " 45. 4D5Y-e\n",
      " 46. 4UER-c\n",
      " 47. 4UG0-Lm\n",
      " 48. 4UJC-Bu\n",
      " 49. 4V3P-Lg\n",
      " 50. 4V3P-Lj\n",
      " 51. 4V3P-Lk\n",
      " 52. 4V3P-Ll\n",
      " 53. 4V3P-Ln\n",
      " 54. 4V4N-Aa\n",
      " 55. 4V4N-Ab\n",
      " 56. 4V4N-Ad\n",
      " 57. 4V4N-Ai\n",
      " 58. 4V6U-Be\n",
      " 59. 4V6W-Aa\n",
      " 60. 4V6W-Ac\n",
      " 61. 4V6W-Ag\n",
      " 62. 4V6W-Ah\n",
      " 63. 4V6W-Az\n",
      " 64. 4V6W-Ce\n",
      " 65. 4V6W-Cz\n",
      " 66. 4V7E-Ca\n",
      " 67. 4V7E-Ce\n",
      " 68. 4V7E-Ci\n",
      " 69. 4V7E-Co\n",
      " 70. 4V7E-Cp\n",
      " 71. 4V7E-Cq\n",
      " 72. 4V7E-Cr\n",
      " 73. 4V7E-Cs\n",
      " 74. 4V8M-Bj\n",
      " 75. 4V8M-Bk\n",
      " 76. 4V8M-Br\n",
      " 77. 4V8M-Bu\n",
      " 78. 4V8M-Bv\n",
      " 79. 4V8M-Bw\n",
      " 80. 4V8M-Bx\n",
      " 81. 4V92-Bf\n",
      " 82. 5AJ3-c\n",
      " 83. 5AJ3-o\n",
      " 84. 5AJ4-Ab\n",
      " 85. 5AJ4-Aj\n",
      " 86. 5GAF-i\n",
      " 87. 5GM6-a\n",
      " 88. 5GM6-v\n",
      " 89. 5GUP-J\n",
      " 90. 5GUP-k\n",
      " 91. 5IT7-a\n",
      " 92. 5IT7-aa\n",
      " 93. 5IT7-gg\n",
      " 94. 5IT7-hh\n",
      " 95. 5IT7-ii\n",
      " 96. 5IT7-oo\n",
      " 97. 5IT7-pp\n",
      " 98. 5IT9-f\n",
      " 99. 5JPQ-y\n",
      "100. 5K0Y-Y\n",
      "101. 5LC5-b\n",
      "102. 5LC5-c\n",
      "103. 5LC5-g\n",
      "104. 5LC5-m\n",
      "105. 5LDW-a\n",
      "106. 5LDW-n\n",
      "107. 5LDX-d\n",
      "108. 5LDX-e\n",
      "109. 5LI0-s\n",
      "110. 5LJ3-g\n",
      "111. 5LNK-a\n",
      "112. 5LNK-h\n",
      "113. 5LNK-k\n",
      "114. 5LNK-n\n",
      "115. 5LNK-w\n",
      "116. 5LZV-cc\n",
      "117. 5LZV-i\n",
      "118. 5LZV-p\n",
      "119. 5LZY-j\n",
      "120. 5NJT-b\n",
      "121. 5NJT-e\n",
      "122. 5O31-d\n",
      "123. 5O31-q\n",
      "124. 5OOL-e\n",
      "125. 5OOL-q\n",
      "126. 5OOM-k\n",
      "127. 5OOM-o\n",
      "128. 5OPT-l\n",
      "129. 5OPT-m\n",
      "130. 5OPT-o\n",
      "131. 5OPT-r\n",
      "132. 5OPT-t\n",
      "133. 5OQL-a\n",
      "134. 5OQL-c\n",
      "135. 5OQL-d\n",
      "136. 5OQL-e\n",
      "137. 5OQL-g\n",
      "138. 5OQL-m\n",
      "139. 5OQL-n\n",
      "140. 5OQL-o\n",
      "141. 5OQL-p\n",
      "142. 5OQL-r\n",
      "143. 5OQL-t\n",
      "144. 5OQL-v\n",
      "145. 5OQL-z\n",
      "146. 5T2A-i\n",
      "147. 5T2A-v\n",
      "148. 5T5H-l\n",
      "149. 5T5H-o\n",
      "150. 5T5H-r\n",
      "151. 5T5H-t\n",
      "152. 5T5H-u\n",
      "153. 5T5H-v\n",
      "154. 5T5H-w\n",
      "155. 5TRE-a\n",
      "156. 5VF3-a\n",
      "157. 5VFT-e\n",
      "158. 5VHF-d\n",
      "159. 5VK2-a\n",
      "160. 5XTD-s\n",
      "161. 5XTD-w\n",
      "162. 5XXB-c\n",
      "163. 5XXB-e\n",
      "164. 5XXB-g\n",
      "165. 5XXB-h\n",
      "166. 5XXB-i\n",
      "167. 5XXB-j\n",
      "168. 5XXB-l\n",
      "169. 5XXB-p\n",
      "170. 5XXU-a\n",
      "171. 5XY3-a\n",
      "172. 5XY3-e\n",
      "173. 5XY3-g\n",
      "174. 5XY3-i\n",
      "175. 5XY3-m\n",
      "176. 5XYI-b\n",
      "177. 5XYI-c\n",
      "178. 5XYI-e\n",
      "179. 5Y6P-a8\n",
      "180. 5YZG-y\n",
      "181. 5ZEB-2\n",
      "182. 5ZEB-6\n",
      "183. 6AZ3-c\n",
      "184. 6AZ3-d\n",
      "185. 6AZ3-e\n",
      "186. 6AZ3-h\n",
      "187. 6D9J-g\n",
      "188. 6DZI-k\n",
      "189. 6DZI-r\n",
      "190. 6DZI-y\n",
      "191. 6EK0-Lc\n",
      "192. 6ERI-Ac\n",
      "193. 6ERI-Az\n",
      "194. 6FKH-b\n",
      "195. 6G2J-a\n",
      "196. 6G2J-d\n",
      "197. 6G2J-e\n",
      "198. 6G2J-k\n",
      "199. 6G2J-n\n",
      "200. 6G72-c\n",
      "201. 6G72-h\n",
      "202. 6G72-i\n",
      "203. 6G72-j\n",
      "204. 6G72-o\n",
      "205. 6G72-p\n",
      "206. 6G72-r\n",
      "207. 6GAZ-Af\n",
      "208. 6GCS-d\n",
      "209. 6GCS-f\n",
      "210. 6GCS-h\n",
      "211. 6GZ4-Ac\n",
      "212. 6HCJ-d3\n",
      "213. 6HCJ-m3\n",
      "214. 6HCQ-b3\n",
      "215. 6HCQ-o3\n",
      "216. 6HIV-Ap\n",
      "217. 6HIV-Bc\n",
      "218. 6HIV-Bf\n",
      "219. 6HIV-Cn\n",
      "220. 6HIW-Cp\n",
      "221. 6HIX-Af\n",
      "222. 6HIX-Aj\n",
      "223. 6HIX-Av\n",
      "224. 6HIX-Bg\n",
      "225. 6HIY-Cq\n",
      "226. 6HIY-Cr\n",
      "227. 6MTE-cc\n",
      "228. 6NEQ-k\n",
      "229. 6NEQ-o\n",
      "230. 6NEQ-p\n",
      "231. 6O7X-a\n",
      "232. 6QDV-f\n",
      "\n",
      "================================================================================\n",
      "UPDATING TSV FILE STATUS TO 'WARNING' FOR FAILED PROTEINS\n",
      "================================================================================\n",
      "📖 Loading TSV file: C:\\Users\\rfrjo\\Documents\\Codebases\\PFP_Testing\\data\\protein_matching_results_counts_updated.tsv\n",
      "   ✓ Loaded 29,740 rows\n",
      "   Current status distribution:\n",
      "     Success: 29,735\n",
      "     Failed: only 1 rows after stripping: 3\n",
      "     Failed: [Errno 2] No such file or directory: 'C:\\\\Users\\\\rfrjo\\\\Documents\\\\Codebases\\\\PFP_Testing\\\\data\\\\pro: 1\n",
      "     Failed: [WinError 183] Cannot create a file when that file already exists: 'C:\\\\Users\\\\rfrjo\\\\Documents\\\\Cod: 1\n",
      "\n",
      "🔄 Updating status for 232 proteins...\n",
      "   ✓ Created backup: C:\\Users\\rfrjo\\Documents\\Codebases\\PFP_Testing\\data\\protein_matching_results_counts_updated.tsv.backup\n",
      "   ✓ Updated TSV file saved: C:\\Users\\rfrjo\\Documents\\Codebases\\PFP_Testing\\data\\protein_matching_results_counts_updated.tsv\n",
      "\n",
      "   New status distribution:\n",
      "     Success: 29,503\n",
      "     WARNING: 232\n",
      "     Failed: only 1 rows after stripping: 3\n",
      "     Failed: [Errno 2] No such file or directory: 'C:\\\\Users\\\\rfrjo\\\\Documents\\\\Codebases\\\\PFP_Testing\\\\data\\\\pro: 1\n",
      "     Failed: [WinError 183] Cannot create a file when that file already exists: 'C:\\\\Users\\\\rfrjo\\\\Documents\\\\Cod: 1\n",
      "\n",
      "✅ Successfully flagged 232 proteins with WARNING status!\n",
      "\n",
      "✅ Done!\n"
     ]
    }
   ],
   "source": [
    "from pathlib import Path\n",
    "from Bio import pairwise2\n",
    "import string\n",
    "from concurrent.futures import ThreadPoolExecutor\n",
    "from tqdm.auto import tqdm\n",
    "import os\n",
    "import pandas as pd\n",
    "\n",
    "# Simple config\n",
    "PROTEIN_DIR = Path(r\"C:\\Users\\rfrjo\\Documents\\Codebases\\PFP_Testing\\data\\protein_data_pdb\")\n",
    "TSV_FILE = Path(r\"C:\\Users\\rfrjo\\Documents\\Codebases\\PFP_Testing\\data\\protein_matching_results_counts_updated.tsv\")\n",
    "SKIP_IDS = {\"2WWX-B\", \"3M7G-A\", \"5GAO-E\", \"5OXE-A\", \"1W8X-M\"}\n",
    "MAX_WORKERS = min(32, (os.cpu_count() or 4) * 2)\n",
    "\n",
    "# Simple sequence cleaner\n",
    "LOWER = string.ascii_lowercase\n",
    "clean_trans = str.maketrans('', '', LOWER + \"-.\")\n",
    "\n",
    "def clean_seq(seq):\n",
    "    return seq.translate(clean_trans).upper()\n",
    "\n",
    "def get_query_from_a3m(a3m_file):\n",
    "    \"\"\"Get the first sequence from A3M (should be the query)\"\"\"\n",
    "    with open(a3m_file) as f:\n",
    "        seq_lines = []\n",
    "        in_first_seq = False\n",
    "        \n",
    "        for line in f:\n",
    "            line = line.strip()\n",
    "            if line.startswith('>'):\n",
    "                if in_first_seq:  # Hit second header, stop\n",
    "                    break\n",
    "                in_first_seq = True\n",
    "            elif in_first_seq:\n",
    "                seq_lines.append(line)\n",
    "        \n",
    "        return ''.join(seq_lines)\n",
    "\n",
    "def calculate_identity(seq1, seq2):\n",
    "    if not seq1 or not seq2:\n",
    "        return 0.0\n",
    "    score = pairwise2.align.globalxx(seq1, seq2, score_only=True)\n",
    "    return score / max(len(seq1), len(seq2))\n",
    "\n",
    "def process_protein(protein_dir):\n",
    "    \"\"\"Process a single protein directory\"\"\"\n",
    "    protein_id = protein_dir.name\n",
    "    \n",
    "    try:\n",
    "        # Get files\n",
    "        a3m_file = protein_dir / \"final_filtered_256_stripped.a3m\"\n",
    "        seq_file = protein_dir / \"sequence.txt\"\n",
    "        \n",
    "        if not a3m_file.exists() or not seq_file.exists():\n",
    "            return (protein_id, 0.0, \"MISSING_FILES\", \"\", \"\")\n",
    "        \n",
    "        # Get sequences\n",
    "        query_raw = get_query_from_a3m(a3m_file)\n",
    "        ref_seq = seq_file.read_text().strip().upper()\n",
    "        \n",
    "        # Clean and compare\n",
    "        query_clean = clean_seq(query_raw)\n",
    "        identity = calculate_identity(query_clean, ref_seq)\n",
    "        \n",
    "        status = \"PASS\" if identity >= 0.95 else \"FAIL\"\n",
    "        return (protein_id, identity, status, query_clean, ref_seq)\n",
    "        \n",
    "    except Exception as e:\n",
    "        return (protein_id, 0.0, f\"ERROR: {str(e)[:50]}\", \"\", \"\")\n",
    "\n",
    "# Get all protein directories\n",
    "all_dirs = [d for d in PROTEIN_DIR.iterdir() if d.is_dir() and d.name not in SKIP_IDS]\n",
    "\n",
    "print(f\"Processing {len(all_dirs):,} proteins with {MAX_WORKERS} threads...\")\n",
    "\n",
    "# Process with multithreading and progress bar\n",
    "results = []\n",
    "with ThreadPoolExecutor(max_workers=MAX_WORKERS) as executor:\n",
    "    for result in tqdm(executor.map(process_protein, all_dirs), \n",
    "                       total=len(all_dirs), \n",
    "                       desc=\"Processing proteins\",\n",
    "                       unit=\"protein\"):\n",
    "        results.append(result)\n",
    "\n",
    "# Summary\n",
    "passes = sum(1 for r in results if r[2] == \"PASS\")\n",
    "fails = sum(1 for r in results if r[2] == \"FAIL\")\n",
    "errors = sum(1 for r in results if r[2].startswith(\"ERROR\") or r[2] == \"MISSING_FILES\")\n",
    "\n",
    "print(f\"\\n{'='*60}\")\n",
    "print(f\"SUMMARY:\")\n",
    "print(f\"{'='*60}\")\n",
    "print(f\"PASS:         {passes:,}\")\n",
    "print(f\"FAIL:         {fails:,}\")\n",
    "print(f\"ERROR:        {errors:,}\")\n",
    "print(f\"TOTAL:        {len(results):,}\")\n",
    "print(f\"Success rate: {passes/len(results)*100:.1f}%\")\n",
    "\n",
    "# Get all failed protein IDs\n",
    "failed_proteins = [r[0] for r in results if r[2] == \"FAIL\"]\n",
    "\n",
    "if failed_proteins:\n",
    "    print(f\"\\n{'='*80}\")\n",
    "    print(f\"ALL FAILED PROTEIN IDs ({len(failed_proteins)} total):\")\n",
    "    print(f\"{'='*80}\")\n",
    "    \n",
    "    # Print ALL failed IDs without truncation\n",
    "    for i, protein_id in enumerate(failed_proteins, 1):\n",
    "        print(f\"{i:3d}. {protein_id}\")\n",
    "    \n",
    "    print(f\"\\n{'='*80}\")\n",
    "    print(f\"UPDATING TSV FILE STATUS TO 'WARNING' FOR FAILED PROTEINS\")\n",
    "    print(f\"{'='*80}\")\n",
    "    \n",
    "    # Load TSV file\n",
    "    print(f\"📖 Loading TSV file: {TSV_FILE}\")\n",
    "    try:\n",
    "        df = pd.read_csv(TSV_FILE, sep='\\t')\n",
    "        print(f\"   ✓ Loaded {len(df):,} rows\")\n",
    "        \n",
    "        # Show current status distribution\n",
    "        status_counts = df['status'].value_counts()\n",
    "        print(f\"   Current status distribution:\")\n",
    "        for status, count in status_counts.items():\n",
    "            print(f\"     {status}: {count:,}\")\n",
    "        \n",
    "        # Update status for failed proteins\n",
    "        failed_set = set(failed_proteins)\n",
    "        mask = df['original_id'].isin(failed_set)\n",
    "        matched_count = mask.sum()\n",
    "        \n",
    "        print(f\"\\n🔄 Updating status for {matched_count:,} proteins...\")\n",
    "        df.loc[mask, 'status'] = 'WARNING'\n",
    "        \n",
    "        # Save updated TSV\n",
    "        backup_file = TSV_FILE.with_suffix('.tsv.backup')\n",
    "        if not backup_file.exists():\n",
    "            df_original = pd.read_csv(TSV_FILE, sep='\\t')\n",
    "            df_original.to_csv(backup_file, sep='\\t', index=False)\n",
    "            print(f\"   ✓ Created backup: {backup_file}\")\n",
    "        \n",
    "        df.to_csv(TSV_FILE, sep='\\t', index=False)\n",
    "        print(f\"   ✓ Updated TSV file saved: {TSV_FILE}\")\n",
    "        \n",
    "        # Show new status distribution\n",
    "        new_status_counts = df['status'].value_counts()\n",
    "        print(f\"\\n   New status distribution:\")\n",
    "        for status, count in new_status_counts.items():\n",
    "            print(f\"     {status}: {count:,}\")\n",
    "            \n",
    "        print(f\"\\n✅ Successfully flagged {matched_count:,} proteins with WARNING status!\")\n",
    "        \n",
    "    except Exception as e:\n",
    "        print(f\"❌ Error updating TSV file: {e}\")\n",
    "\n",
    "else:\n",
    "    print(f\"\\n✅ No failed proteins to update!\")\n",
    "\n",
    "print(f\"\\n✅ Done!\")"
   ]
  },
  {
   "cell_type": "code",
   "execution_count": 35,
   "metadata": {},
   "outputs": [
    {
     "name": "stdout",
     "output_type": "stream",
     "text": [
      "🔍 Checking 232 failed protein IDs in TSV file...\n",
      "================================================================================\n",
      "📁 Loaded TSV with 29,740 rows\n",
      "📊 Columns: ['original_id', 'matched_id', 'similarity_score', 'notes', 'n_a3m_files', 'n_rows_dropped', 'hhfilter_rows', 'diversity_filtered_rows', 'status']\n",
      "\n",
      "✅ FOUND in TSV: 232 out of 232\n",
      "❌ NOT FOUND in TSV: 0 out of 232\n",
      "\n",
      "🎯 PROTEINS FOUND IN TSV (to be flagged as WARNING):\n",
      "------------------------------------------------------------\n",
      "  1. 3J6D-a\n",
      "  2. 3J79-d\n",
      "  3. 3J79-f\n",
      "  4. 3J79-i\n",
      "  5. 3J7P-k\n",
      "  6. 3J7Q-b\n",
      "  7. 3J7R-j\n",
      "  8. 3J7R-Sf\n",
      "  9. 3J7Y-f\n",
      " 10. 3J7Y-h\n",
      " 11. 3J81-a\n",
      " 12. 3J81-e\n",
      " 13. 3J81-f\n",
      " 14. 3J92-h\n",
      " 15. 3J9M-d\n",
      " 16. 3J9M-j\n",
      " 17. 3J9M-r\n",
      " 18. 3JAH-b\n",
      " 19. 3JAH-cc\n",
      " 20. 3JAJ-d\n",
      " 21. 3JAP-g\n",
      " 22. 3JB9-a\n",
      " 23. 3JB9-d\n",
      " 24. 3JB9-e\n",
      " 25. 3JB9-i\n",
      " 26. 3JB9-k\n",
      " 27. 3JBP-Ad\n",
      " 28. 3JBP-Ah\n",
      " 29. 3JCS-b\n",
      " 30. 3JCS-e\n",
      " 31. 3JCS-g\n",
      " 32. 3JCS-h\n",
      " 33. 3JCS-j\n",
      " 34. 3JCS-n\n",
      " 35. 3JCT-w\n",
      " 36. 3JD5-b\n",
      " 37. 3JD5-c\n",
      " 38. 3JD5-e\n",
      " 39. 3JD5-f\n",
      " 40. 3JD5-g\n",
      " 41. 3JD5-i\n",
      " 42. 3JD5-j\n",
      " 43. 3JD5-n\n",
      " 44. 4CE4-i\n",
      " 45. 4D5Y-e\n",
      " 46. 4UER-c\n",
      " 47. 4UG0-Lm\n",
      " 48. 4UJC-Bu\n",
      " 49. 4V3P-Lg\n",
      " 50. 4V3P-Lj\n",
      " 51. 4V3P-Lk\n",
      " 52. 4V3P-Ll\n",
      " 53. 4V3P-Ln\n",
      " 54. 4V4N-Aa\n",
      " 55. 4V4N-Ab\n",
      " 56. 4V4N-Ad\n",
      " 57. 4V4N-Ai\n",
      " 58. 4V6U-Be\n",
      " 59. 4V6W-Aa\n",
      " 60. 4V6W-Ac\n",
      " 61. 4V6W-Ag\n",
      " 62. 4V6W-Ah\n",
      " 63. 4V6W-Az\n",
      " 64. 4V6W-Ce\n",
      " 65. 4V6W-Cz\n",
      " 66. 4V7E-Ca\n",
      " 67. 4V7E-Ce\n",
      " 68. 4V7E-Ci\n",
      " 69. 4V7E-Co\n",
      " 70. 4V7E-Cp\n",
      " 71. 4V7E-Cq\n",
      " 72. 4V7E-Cr\n",
      " 73. 4V7E-Cs\n",
      " 74. 4V8M-Bj\n",
      " 75. 4V8M-Bk\n",
      " 76. 4V8M-Br\n",
      " 77. 4V8M-Bu\n",
      " 78. 4V8M-Bv\n",
      " 79. 4V8M-Bw\n",
      " 80. 4V8M-Bx\n",
      " 81. 4V92-Bf\n",
      " 82. 5AJ3-c\n",
      " 83. 5AJ3-o\n",
      " 84. 5AJ4-Ab\n",
      " 85. 5AJ4-Aj\n",
      " 86. 5GAF-i\n",
      " 87. 5GM6-a\n",
      " 88. 5GM6-v\n",
      " 89. 5GUP-J\n",
      " 90. 5GUP-k\n",
      " 91. 5IT7-a\n",
      " 92. 5IT7-aa\n",
      " 93. 5IT7-gg\n",
      " 94. 5IT7-hh\n",
      " 95. 5IT7-ii\n",
      " 96. 5IT7-oo\n",
      " 97. 5IT7-pp\n",
      " 98. 5IT9-f\n",
      " 99. 5JPQ-y\n",
      "100. 5K0Y-Y\n",
      "101. 5LC5-b\n",
      "102. 5LC5-c\n",
      "103. 5LC5-g\n",
      "104. 5LC5-m\n",
      "105. 5LDW-a\n",
      "106. 5LDW-n\n",
      "107. 5LDX-d\n",
      "108. 5LDX-e\n",
      "109. 5LI0-s\n",
      "110. 5LJ3-g\n",
      "111. 5LNK-a\n",
      "112. 5LNK-h\n",
      "113. 5LNK-k\n",
      "114. 5LNK-n\n",
      "115. 5LNK-w\n",
      "116. 5LZV-cc\n",
      "117. 5LZV-i\n",
      "118. 5LZV-p\n",
      "119. 5LZY-j\n",
      "120. 5NJT-b\n",
      "121. 5NJT-e\n",
      "122. 5O31-d\n",
      "123. 5O31-q\n",
      "124. 5OOL-e\n",
      "125. 5OOL-q\n",
      "126. 5OOM-k\n",
      "127. 5OOM-o\n",
      "128. 5OPT-l\n",
      "129. 5OPT-m\n",
      "130. 5OPT-o\n",
      "131. 5OPT-r\n",
      "132. 5OPT-t\n",
      "133. 5OQL-a\n",
      "134. 5OQL-c\n",
      "135. 5OQL-d\n",
      "136. 5OQL-e\n",
      "137. 5OQL-g\n",
      "138. 5OQL-m\n",
      "139. 5OQL-n\n",
      "140. 5OQL-o\n",
      "141. 5OQL-p\n",
      "142. 5OQL-r\n",
      "143. 5OQL-t\n",
      "144. 5OQL-v\n",
      "145. 5OQL-z\n",
      "146. 5T2A-i\n",
      "147. 5T2A-v\n",
      "148. 5T5H-l\n",
      "149. 5T5H-o\n",
      "150. 5T5H-r\n",
      "151. 5T5H-t\n",
      "152. 5T5H-u\n",
      "153. 5T5H-v\n",
      "154. 5T5H-w\n",
      "155. 5TRE-a\n",
      "156. 5VF3-a\n",
      "157. 5VFT-e\n",
      "158. 5VHF-d\n",
      "159. 5VK2-a\n",
      "160. 5XTD-s\n",
      "161. 5XTD-w\n",
      "162. 5XXB-c\n",
      "163. 5XXB-e\n",
      "164. 5XXB-g\n",
      "165. 5XXB-h\n",
      "166. 5XXB-i\n",
      "167. 5XXB-j\n",
      "168. 5XXB-l\n",
      "169. 5XXB-p\n",
      "170. 5XXU-a\n",
      "171. 5XY3-a\n",
      "172. 5XY3-e\n",
      "173. 5XY3-g\n",
      "174. 5XY3-i\n",
      "175. 5XY3-m\n",
      "176. 5XYI-b\n",
      "177. 5XYI-c\n",
      "178. 5XYI-e\n",
      "179. 5Y6P-a8\n",
      "180. 5YZG-y\n",
      "181. 5ZEB-2\n",
      "182. 5ZEB-6\n",
      "183. 6AZ3-c\n",
      "184. 6AZ3-d\n",
      "185. 6AZ3-e\n",
      "186. 6AZ3-h\n",
      "187. 6D9J-g\n",
      "188. 6DZI-k\n",
      "189. 6DZI-r\n",
      "190. 6DZI-y\n",
      "191. 6EK0-Lc\n",
      "192. 6ERI-Ac\n",
      "193. 6ERI-Az\n",
      "194. 6FKH-b\n",
      "195. 6G2J-a\n",
      "196. 6G2J-d\n",
      "197. 6G2J-e\n",
      "198. 6G2J-k\n",
      "199. 6G2J-n\n",
      "200. 6G72-c\n",
      "201. 6G72-h\n",
      "202. 6G72-i\n",
      "203. 6G72-j\n",
      "204. 6G72-o\n",
      "205. 6G72-p\n",
      "206. 6G72-r\n",
      "207. 6GAZ-Af\n",
      "208. 6GCS-d\n",
      "209. 6GCS-f\n",
      "210. 6GCS-h\n",
      "211. 6GZ4-Ac\n",
      "212. 6HCJ-d3\n",
      "213. 6HCJ-m3\n",
      "214. 6HCQ-b3\n",
      "215. 6HCQ-o3\n",
      "216. 6HIV-Ap\n",
      "217. 6HIV-Bc\n",
      "218. 6HIV-Bf\n",
      "219. 6HIV-Cn\n",
      "220. 6HIW-Cp\n",
      "221. 6HIX-Af\n",
      "222. 6HIX-Aj\n",
      "223. 6HIX-Av\n",
      "224. 6HIX-Bg\n",
      "225. 6HIY-Cq\n",
      "226. 6HIY-Cr\n",
      "227. 6MTE-cc\n",
      "228. 6NEQ-k\n",
      "229. 6NEQ-o\n",
      "230. 6NEQ-p\n",
      "231. 6O7X-a\n",
      "232. 6QDV-f\n",
      "\n",
      "🔄 Updating status to 'WARNING' for found proteins...\n",
      "💾 Updated 232 proteins to 'WARNING' status\n",
      "📁 Saved updated TSV file: C:\\Users\\rfrjo\\Documents\\Codebases\\PFP_Testing\\data\\protein_matching_results_counts_updated.tsv\n",
      "\n",
      "📈 FINAL STATUS SUMMARY:\n",
      "   ✅ Success: 29,503\n",
      "   ⚠️  Warning: 232\n",
      "   📊 Total: 29,740\n"
     ]
    }
   ],
   "source": [
    "import pandas as pd\n",
    "\n",
    "# List of all 232 failed protein IDs\n",
    "failed_protein_ids = [\n",
    "    \"3J6D-a\", \"3J79-d\", \"3J79-f\", \"3J79-i\", \"3J7P-k\", \"3J7Q-b\", \"3J7R-j\", \"3J7R-Sf\", \"3J7Y-f\", \"3J7Y-h\",\n",
    "    \"3J81-a\", \"3J81-e\", \"3J81-f\", \"3J92-h\", \"3J9M-d\", \"3J9M-j\", \"3J9M-r\", \"3JAH-b\", \"3JAH-cc\", \"3JAJ-d\",\n",
    "    \"3JAP-g\", \"3JB9-a\", \"3JB9-d\", \"3JB9-e\", \"3JB9-i\", \"3JB9-k\", \"3JBP-Ad\", \"3JBP-Ah\", \"3JCS-b\", \"3JCS-e\",\n",
    "    \"3JCS-g\", \"3JCS-h\", \"3JCS-j\", \"3JCS-n\", \"3JCT-w\", \"3JD5-b\", \"3JD5-c\", \"3JD5-e\", \"3JD5-f\", \"3JD5-g\",\n",
    "    \"3JD5-i\", \"3JD5-j\", \"3JD5-n\", \"4CE4-i\", \"4D5Y-e\", \"4UER-c\", \"4UG0-Lm\", \"4UJC-Bu\", \"4V3P-Lg\", \"4V3P-Lj\",\n",
    "    \"4V3P-Lk\", \"4V3P-Ll\", \"4V3P-Ln\", \"4V4N-Aa\", \"4V4N-Ab\", \"4V4N-Ad\", \"4V4N-Ai\", \"4V6U-Be\", \"4V6W-Aa\", \"4V6W-Ac\",\n",
    "    \"4V6W-Ag\", \"4V6W-Ah\", \"4V6W-Az\", \"4V6W-Ce\", \"4V6W-Cz\", \"4V7E-Ca\", \"4V7E-Ce\", \"4V7E-Ci\", \"4V7E-Co\", \"4V7E-Cp\",\n",
    "    \"4V7E-Cq\", \"4V7E-Cr\", \"4V7E-Cs\", \"4V8M-Bj\", \"4V8M-Bk\", \"4V8M-Br\", \"4V8M-Bu\", \"4V8M-Bv\", \"4V8M-Bw\", \"4V8M-Bx\",\n",
    "    \"4V92-Bf\", \"5AJ3-c\", \"5AJ3-o\", \"5AJ4-Ab\", \"5AJ4-Aj\", \"5GAF-i\", \"5GM6-a\", \"5GM6-v\", \"5GUP-J\", \"5GUP-k\",\n",
    "    \"5IT7-a\", \"5IT7-aa\", \"5IT7-gg\", \"5IT7-hh\", \"5IT7-ii\", \"5IT7-oo\", \"5IT7-pp\", \"5IT9-f\", \"5JPQ-y\", \"5K0Y-Y\",\n",
    "    \"5LC5-b\", \"5LC5-c\", \"5LC5-g\", \"5LC5-m\", \"5LDW-a\", \"5LDW-n\", \"5LDX-d\", \"5LDX-e\", \"5LI0-s\", \"5LJ3-g\",\n",
    "    \"5LNK-a\", \"5LNK-h\", \"5LNK-k\", \"5LNK-n\", \"5LNK-w\", \"5LZV-cc\", \"5LZV-i\", \"5LZV-p\", \"5LZY-j\", \"5NJT-b\",\n",
    "    \"5NJT-e\", \"5O31-d\", \"5O31-q\", \"5OOL-e\", \"5OOL-q\", \"5OOM-k\", \"5OOM-o\", \"5OPT-l\", \"5OPT-m\", \"5OPT-o\",\n",
    "    \"5OPT-r\", \"5OPT-t\", \"5OQL-a\", \"5OQL-c\", \"5OQL-d\", \"5OQL-e\", \"5OQL-g\", \"5OQL-m\", \"5OQL-n\", \"5OQL-o\",\n",
    "    \"5OQL-p\", \"5OQL-r\", \"5OQL-t\", \"5OQL-v\", \"5OQL-z\", \"5T2A-i\", \"5T2A-v\", \"5T5H-l\", \"5T5H-o\", \"5T5H-r\",\n",
    "    \"5T5H-t\", \"5T5H-u\", \"5T5H-v\", \"5T5H-w\", \"5TRE-a\", \"5VF3-a\", \"5VFT-e\", \"5VHF-d\", \"5VK2-a\", \"5XTD-s\",\n",
    "    \"5XTD-w\", \"5XXB-c\", \"5XXB-e\", \"5XXB-g\", \"5XXB-h\", \"5XXB-i\", \"5XXB-j\", \"5XXB-l\", \"5XXB-p\", \"5XXU-a\",\n",
    "    \"5XY3-a\", \"5XY3-e\", \"5XY3-g\", \"5XY3-i\", \"5XY3-m\", \"5XYI-b\", \"5XYI-c\", \"5XYI-e\", \"5Y6P-a8\", \"5YZG-y\",\n",
    "    \"5ZEB-2\", \"5ZEB-6\", \"6AZ3-c\", \"6AZ3-d\", \"6AZ3-e\", \"6AZ3-h\", \"6D9J-g\", \"6DZI-k\", \"6DZI-r\", \"6DZI-y\",\n",
    "    \"6EK0-Lc\", \"6ERI-Ac\", \"6ERI-Az\", \"6FKH-b\", \"6G2J-a\", \"6G2J-d\", \"6G2J-e\", \"6G2J-k\", \"6G2J-n\", \"6G72-c\",\n",
    "    \"6G72-h\", \"6G72-i\", \"6G72-j\", \"6G72-o\", \"6G72-p\", \"6G72-r\", \"6GAZ-Af\", \"6GCS-d\", \"6GCS-f\", \"6GCS-h\",\n",
    "    \"6GZ4-Ac\", \"6HCJ-d3\", \"6HCJ-m3\", \"6HCQ-b3\", \"6HCQ-o3\", \"6HIV-Ap\", \"6HIV-Bc\", \"6HIV-Bf\", \"6HIV-Cn\",\n",
    "    \"6HIW-Cp\", \"6HIX-Af\", \"6HIX-Aj\", \"6HIX-Av\", \"6HIX-Bg\", \"6HIY-Cq\", \"6HIY-Cr\", \"6MTE-cc\", \"6NEQ-k\",\n",
    "    \"6NEQ-o\", \"6NEQ-p\", \"6O7X-a\", \"6QDV-f\"\n",
    "]\n",
    "\n",
    "print(f\"🔍 Checking {len(failed_protein_ids)} failed protein IDs in TSV file...\")\n",
    "print(\"=\" * 80)\n",
    "\n",
    "# Load the TSV file\n",
    "TSV_FILE = r\"C:\\Users\\rfrjo\\Documents\\Codebases\\PFP_Testing\\data\\protein_matching_results_counts_updated.tsv\"\n",
    "df = pd.read_csv(TSV_FILE, sep='\\t')\n",
    "\n",
    "print(f\"📁 Loaded TSV with {len(df):,} rows\")\n",
    "print(f\"📊 Columns: {list(df.columns)}\")\n",
    "print()\n",
    "\n",
    "# Check which failed IDs exist in the TSV\n",
    "found_ids = []\n",
    "not_found_ids = []\n",
    "\n",
    "for protein_id in failed_protein_ids:\n",
    "    if protein_id in df['original_id'].values:\n",
    "        found_ids.append(protein_id)\n",
    "    else:\n",
    "        not_found_ids.append(protein_id)\n",
    "\n",
    "print(f\"✅ FOUND in TSV: {len(found_ids)} out of {len(failed_protein_ids)}\")\n",
    "print(f\"❌ NOT FOUND in TSV: {len(not_found_ids)} out of {len(failed_protein_ids)}\")\n",
    "print()\n",
    "\n",
    "if found_ids:\n",
    "    print(\"🎯 PROTEINS FOUND IN TSV (to be flagged as WARNING):\")\n",
    "    print(\"-\" * 60)\n",
    "    for i, protein_id in enumerate(found_ids, 1):\n",
    "        print(f\"{i:3d}. {protein_id}\")\n",
    "    print()\n",
    "\n",
    "if not_found_ids:\n",
    "    print(\"❓ PROTEINS NOT FOUND IN TSV:\")\n",
    "    print(\"-\" * 40)\n",
    "    for i, protein_id in enumerate(not_found_ids, 1):\n",
    "        print(f\"{i:3d}. {protein_id}\")\n",
    "    print()\n",
    "\n",
    "# Now update the status for found proteins\n",
    "if found_ids:\n",
    "    print(\"🔄 Updating status to 'WARNING' for found proteins...\")\n",
    "    \n",
    "    # Update status for found proteins\n",
    "    df.loc[df['original_id'].isin(found_ids), 'status'] = 'WARNING'\n",
    "    \n",
    "    # Save the updated TSV\n",
    "    df.to_csv(TSV_FILE, sep='\\t', index=False)\n",
    "    \n",
    "    print(f\"💾 Updated {len(found_ids)} proteins to 'WARNING' status\")\n",
    "    print(f\"📁 Saved updated TSV file: {TSV_FILE}\")\n",
    "    \n",
    "    # Show summary of what was changed\n",
    "    warning_count = len(df[df['status'] == 'WARNING'])\n",
    "    success_count = len(df[df['status'] == 'Success'])\n",
    "    \n",
    "    print()\n",
    "    print(\"📈 FINAL STATUS SUMMARY:\")\n",
    "    print(f\"   ✅ Success: {success_count:,}\")\n",
    "    print(f\"   ⚠️  Warning: {warning_count:,}\")\n",
    "    print(f\"   📊 Total: {len(df):,}\")\n",
    "\n",
    "else:\n",
    "    print(\"⚠️  No proteins found in TSV to update!\")"
   ]
  },
  {
   "cell_type": "code",
   "execution_count": 8,
   "metadata": {},
   "outputs": [
    {
     "name": "stdout",
     "output_type": "stream",
     "text": [
      "▶ Listing every .a3m object …\n"
     ]
    },
    {
     "data": {
      "application/vnd.jupyter.widget-view+json": {
       "model_id": "1766039c068046b0b9e35da20aa366f9",
       "version_major": 2,
       "version_minor": 0
      },
      "text/plain": [
       "0pages [00:00, ?pages/s]"
      ]
     },
     "metadata": {},
     "output_type": "display_data"
    },
    {
     "name": "stdout",
     "output_type": "stream",
     "text": [
      "   → 131,487 chains queued (subset=False)\n",
      "▶ Fetching query sequences …\n"
     ]
    },
    {
     "data": {
      "application/vnd.jupyter.widget-view+json": {
       "model_id": "e2dbe0cac8554581a2e30700490a0fe5",
       "version_major": 2,
       "version_minor": 0
      },
      "text/plain": [
       "  0%|          | 0/131487 [00:00<?, ?chains/s]"
      ]
     },
     "metadata": {},
     "output_type": "display_data"
    },
    {
     "name": "stdout",
     "output_type": "stream",
     "text": [
      "▶ Writing TSV & FASTA …\n",
      "   ✓ openfold_pdb_a3m_counts.tsv  (1319.8 kB)\n",
      "   ✓ openfold_pdb_query_sequences.fasta     (36320.3 kB)\n",
      "\n",
      "✅ Done.\n"
     ]
    }
   ],
   "source": [
    "# %%time\n",
    "\"\"\"\n",
    "One-pass S3 scan:\n",
    "  • Counts how many .a3m files each chain has\n",
    "  • Saves the first .a3m key per chain\n",
    "  • Downloads only the query sequence (2–4 kB slice, fallback to full if needed)\n",
    "Outputs:\n",
    "  1) openfold_pdb_a3m_counts.tsv         (pid, n_files)\n",
    "  2) openfold_pdb_query_sequences.fasta  (FASTA)\n",
    "Tune CHAIN_LIMIT to test on a subset first.\n",
    "\"\"\"\n",
    "\n",
    "# ─── user parameters ────────────────────────────────────────────────────\n",
    "CHAIN_LIMIT   = None          # 100, 1000, or None for all chains\n",
    "SLICE_BYTES   = 4096         # safe for ≳95 % of sequences\n",
    "MAX_THREADS   = 96\n",
    "\n",
    "COUNTS_TSV    = \"openfold_pdb_a3m_counts.tsv\"\n",
    "FASTA_OUT     = \"openfold_pdb_query_sequences.fasta\"\n",
    "\n",
    "# ─── imports ────────────────────────────────────────────────────────────\n",
    "from pathlib import Path\n",
    "import csv\n",
    "import concurrent.futures as cf\n",
    "from collections import defaultdict\n",
    "from tqdm.auto import tqdm\n",
    "import boto3, botocore\n",
    "from botocore import UNSIGNED\n",
    "from botocore.client import Config\n",
    "\n",
    "# S3 constants\n",
    "BUCKET      = \"openfold\"\n",
    "REGION      = \"us-east-1\"\n",
    "PREFIX      = \"pdb/\"      # NOTE: no Delimiter for full listing\n",
    "\n",
    "# ─── S3 client helpers ──────────────────────────────────────────────────\n",
    "session = boto3.session.Session()\n",
    "def new_s3():\n",
    "    return session.client(\n",
    "        \"s3\",\n",
    "        region_name=REGION,\n",
    "        config=Config(signature_version=UNSIGNED,\n",
    "                      max_pool_connections=MAX_THREADS),\n",
    "    )\n",
    "\n",
    "# ─── 1. Single-pass listing of *all* objects under pdb/ ────────────────\n",
    "print(\"▶ Listing every .a3m object …\")\n",
    "\n",
    "chain_counts   = defaultdict(int)   # cid → n_files\n",
    "chain_firstkey = {}                 # cid → first .a3m key (for query fetch)\n",
    "\n",
    "s3 = new_s3()\n",
    "paginator = s3.get_paginator(\"list_objects_v2\")\n",
    "\n",
    "for page in tqdm(\n",
    "    paginator.paginate(Bucket=BUCKET, Prefix=PREFIX),\n",
    "    unit=\"pages\",\n",
    "):\n",
    "    for obj in page.get(\"Contents\", []):\n",
    "        key = obj[\"Key\"]\n",
    "        if not key.endswith(\".a3m\"):          # skip non-alignment files\n",
    "            continue\n",
    "\n",
    "        # key looks like  pdb/1a0c_A/a3m/blast30.a3m\n",
    "        cid = key.split(\"/\")[1]               # 1a0c_A\n",
    "        if CHAIN_LIMIT and cid not in chain_firstkey and len(chain_firstkey) >= CHAIN_LIMIT:\n",
    "            continue        # respect user subset\n",
    "\n",
    "        chain_counts[cid] += 1\n",
    "        chain_firstkey.setdefault(cid, key)   # keep first encounter\n",
    "\n",
    "    # early-exit once we met CHAIN_LIMIT unique chains\n",
    "    if CHAIN_LIMIT and len(chain_firstkey) >= CHAIN_LIMIT:\n",
    "        break\n",
    "\n",
    "print(f\"   → {len(chain_firstkey):,} chains queued (subset={bool(CHAIN_LIMIT)})\")\n",
    "\n",
    "# ─── 2. Download query sequences in parallel ───────────────────────────\n",
    "def grab_query(cid_key) -> tuple[str, str]:\n",
    "    cid, key = cid_key\n",
    "    s3 = new_s3()\n",
    "    try:\n",
    "        raw = s3.get_object(Bucket=BUCKET, Key=key,\n",
    "                            Range=f\"bytes=0-{SLICE_BYTES-1}\")[\"Body\"].read()\n",
    "        lines = raw.decode(\"utf-8\", \"ignore\").splitlines()\n",
    "        if len(lines) < 2 or \">\" in lines[1]:         # slice clipped header\n",
    "            raw = s3.get_object(Bucket=BUCKET, Key=key)[\"Body\"].read()\n",
    "            lines = raw.decode(\"utf-8\", \"ignore\").splitlines()\n",
    "    except botocore.exceptions.ClientError:\n",
    "        return cid, \"\"                                # broken object → skip\n",
    "\n",
    "    if len(lines) < 2:\n",
    "        return cid, \"\"\n",
    "    qseq = \"\".join(c for c in lines[1] if c.isupper() and c != \"-\")\n",
    "    return cid, qseq\n",
    "\n",
    "print(\"▶ Fetching query sequences …\")\n",
    "results = {}           # cid → query sequence\n",
    "with cf.ThreadPoolExecutor(MAX_THREADS) as ex:\n",
    "    for cid, qseq in tqdm(\n",
    "        ex.map(grab_query, chain_firstkey.items()),\n",
    "        total=len(chain_firstkey),\n",
    "        unit=\"chains\",\n",
    "    ):\n",
    "        results[cid] = qseq\n",
    "\n",
    "# ─── 3. Write outputs ──────────────────────────────────────────────────\n",
    "print(\"▶ Writing TSV & FASTA …\")\n",
    "\n",
    "with open(COUNTS_TSV, \"w\", newline=\"\") as fh:\n",
    "    w = csv.writer(fh, delimiter=\"\\t\")\n",
    "    w.writerow([\"pid\", \"n_a3m_files\"])\n",
    "    for cid in sorted(results):\n",
    "        w.writerow([cid, chain_counts[cid]])\n",
    "\n",
    "with open(FASTA_OUT, \"w\") as fh:\n",
    "    for cid in sorted(results):\n",
    "        if results[cid]:\n",
    "            fh.write(f\">{cid}\\n{results[cid]}\\n\")\n",
    "\n",
    "print(f\"   ✓ {COUNTS_TSV}  ({Path(COUNTS_TSV).stat().st_size/1e3:.1f} kB)\")\n",
    "print(f\"   ✓ {FASTA_OUT}     ({Path(FASTA_OUT).stat().st_size/1e3:.1f} kB)\")\n",
    "print(\"\\n✅ Done.\")\n"
   ]
  },
  {
   "cell_type": "code",
   "execution_count": 2,
   "metadata": {},
   "outputs": [
    {
     "name": "stdout",
     "output_type": "stream",
     "text": [
      "✓ Using Biopython for similarity calculations (RELIABLE MODE)\n",
      "🧬 Starting OPTIMIZED Hierarchical Protein Sequence Matching Pipeline\n",
      "======================================================================\n",
      "▶ Loading FASTA sequences...\n"
     ]
    },
    {
     "data": {
      "application/vnd.jupyter.widget-view+json": {
       "model_id": "9cd324c46df54d4480fd70880cd37dd6",
       "version_major": 2,
       "version_minor": 0
      },
      "text/plain": [
       "Reading FASTA: 0lines [00:00, ?lines/s]"
      ]
     },
     "metadata": {},
     "output_type": "display_data"
    },
    {
     "name": "stdout",
     "output_type": "stream",
     "text": [
      "   ✓ Loaded 131,487 sequences from FASTA\n",
      "▶ Building optimized search indices...\n"
     ]
    },
    {
     "data": {
      "application/vnd.jupyter.widget-view+json": {
       "model_id": "61d776af64c64d8d8bb0367f341c7f60",
       "version_major": 2,
       "version_minor": 0
      },
      "text/plain": [
       "Building sequence index:   0%|          | 0/131487 [00:00<?, ?seqs/s]"
      ]
     },
     "metadata": {},
     "output_type": "display_data"
    },
    {
     "name": "stdout",
     "output_type": "stream",
     "text": [
      "   ✓ Built sequence index with 131,482 unique sequences\n",
      "   ✓ Built length index with 1,722 length groups\n",
      "▶ Scanning protein directories...\n",
      "   ✓ Found 29,740 protein directories\n",
      "▶ Processing proteins through OPTIMIZED hierarchical matching...\n",
      "   Stage 1: Exact PID matching (O(1) hash lookup)\n",
      "   Stage 2: Exact sequence matching (O(1) hash lookup - OPTIMIZED!)\n",
      "   Stage 3: Similarity matching (±15 AA prefilter + 8 threads)\n",
      "\n",
      "🔍 DIAGNOSTIC: Testing similarity function...\n",
      "   Identical sequences similarity: 1.0 (should be ~1.0)\n",
      "   Different sequences similarity: 0.6666666666666666 (should be <1.0)\n",
      "   ✓ Similarity function working correctly\n",
      "\n"
     ]
    },
    {
     "data": {
      "application/vnd.jupyter.widget-view+json": {
       "model_id": "adca7e08429e41b69ece9bbce81499cf",
       "version_major": 2,
       "version_minor": 0
      },
      "text/plain": [
       "Matching proteins:   0%|          | 0/29740 [00:00<?, ?proteins/s]"
      ]
     },
     "metadata": {},
     "output_type": "display_data"
    },
    {
     "name": "stdout",
     "output_type": "stream",
     "text": [
      "🔍 Stage 3 match example: 1B3Z-A -> 1b30_A (similarity: 0.9967)\n",
      "🔍 Stage 3 match example: 1BVS-A -> 7oa5_A (similarity: 0.9852)\n",
      "🔍 Stage 3 match example: 1I1X-A -> 1i1w_A (similarity: 0.9967)\n",
      "🔍 Stage 3 match example: 1I8O-A -> 1fj0_A (similarity: 0.9912)\n",
      "🔍 Stage 3 match example: 1MFU-A -> 1jxk_A (similarity: 0.9980)\n",
      "▶ Writing results to TSV...\n",
      "\n",
      "======================================================================\n",
      "🎯 OPTIMIZED MATCHING RESULTS SUMMARY\n",
      "======================================================================\n",
      "Total proteins processed:     29,740\n",
      "Stage 1 (Exact PID):         22,744 (76.5%)\n",
      "Stage 2 (Exact sequence):    6,955 (23.4%)\n",
      "Stage 3 (Similarity):        41 (0.1%)\n",
      "No matches found:            0 (0.0%)\n",
      "\n",
      "Total matched:               29,740 (100.0%)\n",
      "\n",
      "⚡ PERFORMANCE METRICS\n",
      "Processing time:              202.0 seconds\n",
      "Speed:                        147.2 proteins/second\n",
      "Similarity algorithm:         Biopython (standard)\n",
      "Threading:                    8 threads for Stage 3\n",
      "\n",
      "🔍 STAGE 3 DIAGNOSTICS\n",
      "Total similarity calculations: 303,760\n",
      "Avg calculations per protein:  7408.8\n",
      "Stage 3 success rate:         41/41 proteins reached Stage 3\n",
      "\n",
      "📁 Output file: protein_matching_results.tsv (757.0 KB)\n",
      "\n",
      "✅ OPTIMIZED Hierarchical matching pipeline completed successfully!\n",
      "⏱ Results saved to: protein_matching_results.tsv\n",
      "🚀 Performance improvement: ~-8x faster than original (depending on dataset)\n"
     ]
    }
   ],
   "source": [
    "# %%time\n",
    "\"\"\"\n",
    "OPTIMIZED Hierarchical Protein Sequence Matching Pipeline\n",
    "========================================================\n",
    "Same exact logic as original, but with performance optimizations:\n",
    "- Stage 2: O(1) lookup via sequence index instead of O(n) linear search\n",
    "- Stage 3: Multithreaded similarity calculations\n",
    "- Optional: Faster similarity algorithm (parasail) with fallback to Biopython\n",
    "\n",
    "Stage 1: Exact PID matching (format: first 4 chars lowercase + chain uppercase)\n",
    "Stage 2: Exact amino acid sequence matching  \n",
    "Stage 3: Similarity-based matching with length prefiltering (±15 AA)\n",
    "\n",
    "Outputs: protein_matching_results.tsv (original_id, matched_id, similarity_score)\n",
    "\"\"\"\n",
    "\n",
    "# ─── Configuration ──────────────────────────────────────────────────────\n",
    "PROTEIN_DATA_DIR = r\"C:\\Users\\rfrjo\\Documents\\Codebases\\PFP_Testing\\data\\protein_data_pdb\"\n",
    "FASTA_FILE = r\"C:\\Users\\rfrjo\\Documents\\Codebases\\PFP_Testing\\notebooks\\openfold_pdb_query_sequences.fasta\"\n",
    "OUTPUT_TSV = \"protein_matching_results.tsv\"\n",
    "\n",
    "LENGTH_TOLERANCE = 15  # ±15 AA for similarity matching prefilter\n",
    "SIMILARITY_THRESHOLD = 0.0  # minimum similarity score to consider\n",
    "MAX_THREADS = 8  # Number of threads for Stage 3 similarity calculations\n",
    "\n",
    "# ─── Imports ────────────────────────────────────────────────────────────\n",
    "import os\n",
    "import csv\n",
    "from pathlib import Path\n",
    "from collections import defaultdict\n",
    "from tqdm.auto import tqdm\n",
    "import time\n",
    "from concurrent.futures import ThreadPoolExecutor, as_completed\n",
    "import threading\n",
    "\n",
    "# Try fast similarity algorithm first, fallback to Biopython\n",
    "FORCE_BIOPYTHON = True  # Set to False once parasail issues are resolved\n",
    "\n",
    "if not FORCE_BIOPYTHON:\n",
    "    try:\n",
    "        import parasail\n",
    "        def calculate_similarity_fast(seq1, seq2):\n",
    "            \"\"\"Fast similarity using parasail C library - FIXED VERSION\"\"\"\n",
    "            if not seq1 or not seq2:\n",
    "                return 0.0\n",
    "            if len(seq1) == 0 and len(seq2) == 0:\n",
    "                return 1.0\n",
    "            \n",
    "            try:\n",
    "                # Method 1: Try nw_stats (includes match counts)\n",
    "                result = parasail.nw_stats(seq1, seq2, 10, 1, parasail.blosum62)\n",
    "                if hasattr(result, 'matches'):\n",
    "                    return result.matches / max(len(seq1), len(seq2))\n",
    "                \n",
    "                # Method 2: Fallback to score-based similarity\n",
    "                alignment_score = parasail.nw(seq1, seq2, 10, 1, parasail.blosum62).score\n",
    "                max_possible_score = max(len(seq1), len(seq2)) * 4  # Rough estimate\n",
    "                return min(1.0, alignment_score / max_possible_score)\n",
    "                \n",
    "            except Exception as e:\n",
    "                print(f\"⚠ Parasail error, falling back to Biopython: {e}\")\n",
    "                # Emergency fallback to Biopython for this calculation\n",
    "                from Bio import pairwise2\n",
    "                alignments = pairwise2.align.globalxx(seq1, seq2, score_only=True)\n",
    "                return alignments / max(len(seq1), len(seq2))\n",
    "        \n",
    "        calculate_similarity = calculate_similarity_fast\n",
    "        print(\"✓ Using parasail for fast similarity calculations (FIXED)\")\n",
    "        \n",
    "    except ImportError:\n",
    "        FORCE_BIOPYTHON = True\n",
    "\n",
    "if FORCE_BIOPYTHON:\n",
    "    # Reliable Biopython version (your original working version)\n",
    "    try:\n",
    "        from Bio import pairwise2\n",
    "        def calculate_similarity_bio(seq1, seq2):\n",
    "            \"\"\"Similarity using Biopython (slower but reliable)\"\"\"\n",
    "            if not seq1 or not seq2:\n",
    "                return 0.0\n",
    "            if len(seq1) == 0 and len(seq2) == 0:\n",
    "                return 1.0\n",
    "            \n",
    "            try:\n",
    "                alignments = pairwise2.align.globalxx(seq1, seq2, score_only=True)\n",
    "                max_len = max(len(seq1), len(seq2))\n",
    "                if max_len == 0:  # Extra safety check\n",
    "                    return 0.0\n",
    "                \n",
    "                result = alignments / max_len\n",
    "                \n",
    "                # DIAGNOSTIC: Validate result\n",
    "                if not isinstance(result, (int, float)):\n",
    "                    print(f\"🔍 WARNING: Biopython returned non-numeric result: {type(result)} = {result}\")\n",
    "                    return 0.0\n",
    "                    \n",
    "                return result\n",
    "            except Exception as e:\n",
    "                print(f\"⚠ Error calculating similarity: {e}\")\n",
    "                return 0.0\n",
    "        \n",
    "        calculate_similarity = calculate_similarity_bio\n",
    "        print(\"✓ Using Biopython for similarity calculations (RELIABLE MODE)\")\n",
    "        \n",
    "    except ImportError:\n",
    "        print(\"❌ Biopython not available!\")\n",
    "        print(\"   Install with: pip install biopython\")\n",
    "        exit(1)\n",
    "\n",
    "# ─── Helper Functions ───────────────────────────────────────────────────\n",
    "\n",
    "def format_protein_id(protein_id):\n",
    "    \"\"\"\n",
    "    Format protein ID to match FASTA format:\n",
    "    - First 4 characters: lowercase\n",
    "    - Chain (after underscore or dash): uppercase\n",
    "    Example: 1A0C_A -> 1a0c_A, 1AQK-L -> 1aqk_L\n",
    "    \"\"\"\n",
    "    # Handle both underscores and dashes as separators\n",
    "    if '_' in protein_id:\n",
    "        pdb_code, chain = protein_id.split('_', 1)\n",
    "        return f\"{pdb_code.lower()}_{chain.upper()}\"\n",
    "    elif '-' in protein_id:\n",
    "        pdb_code, chain = protein_id.split('-', 1)\n",
    "        return f\"{pdb_code.lower()}_{chain.upper()}\"  # Convert dash to underscore\n",
    "    else:\n",
    "        return protein_id.lower()\n",
    "\n",
    "def read_protein_sequence(protein_dir):\n",
    "    \"\"\"Read amino acid sequence from protein directory's sequence.txt file\"\"\"\n",
    "    seq_file = os.path.join(protein_dir, \"sequence.txt\")\n",
    "    if os.path.exists(seq_file):\n",
    "        try:\n",
    "            with open(seq_file, 'r') as f:\n",
    "                sequence = f.read().strip()\n",
    "                # Remove any whitespace or newlines, keep only valid AA characters\n",
    "                sequence = ''.join(c for c in sequence if c.isupper() and c.isalpha())\n",
    "                return sequence\n",
    "        except Exception as e:\n",
    "            print(f\"⚠ Error reading {seq_file}: {e}\")\n",
    "            return \"\"\n",
    "    return \"\"\n",
    "\n",
    "def calculate_similarity_for_candidate(args):\n",
    "    \"\"\"Thread worker function for similarity calculation\"\"\"\n",
    "    protein_sequence, fasta_id, fasta_seq = args\n",
    "    try:\n",
    "        similarity = calculate_similarity(protein_sequence, fasta_seq)\n",
    "        \n",
    "        # DIAGNOSTIC: Check for unexpected return types\n",
    "        if not isinstance(similarity, (int, float)):\n",
    "            print(f\"🔍 WARNING: Unexpected similarity type for {fasta_id}: {type(similarity)} = {similarity}\")\n",
    "            return fasta_id, 0.0\n",
    "        \n",
    "        if similarity < 0 or similarity > 1.5:  # Allow slight > 1.0 due to normalization\n",
    "            print(f\"🔍 WARNING: Similarity out of range for {fasta_id}: {similarity}\")\n",
    "        \n",
    "        return fasta_id, similarity\n",
    "    except Exception as e:\n",
    "        print(f\"⚠ Error in similarity calculation for {fasta_id}: {e}\")\n",
    "        return fasta_id, 0.0\n",
    "\n",
    "# ─── Main Processing Pipeline ───────────────────────────────────────────\n",
    "\n",
    "print(\"🧬 Starting OPTIMIZED Hierarchical Protein Sequence Matching Pipeline\")\n",
    "print(\"=\" * 70)\n",
    "\n",
    "# Step 1: Load FASTA sequences\n",
    "print(\"▶ Loading FASTA sequences...\")\n",
    "fasta_sequences = {}\n",
    "fasta_lengths = {}\n",
    "\n",
    "if not os.path.exists(FASTA_FILE):\n",
    "    print(f\"❌ FASTA file not found: {FASTA_FILE}\")\n",
    "    exit(1)\n",
    "\n",
    "with open(FASTA_FILE, 'r') as f:\n",
    "    current_id = None\n",
    "    current_seq = \"\"\n",
    "    \n",
    "    for line in tqdm(f, desc=\"Reading FASTA\", unit=\"lines\"):\n",
    "        line = line.strip()\n",
    "        if line.startswith('>'):\n",
    "            # Save previous sequence if exists\n",
    "            if current_id and current_seq:\n",
    "                fasta_sequences[current_id] = current_seq\n",
    "                fasta_lengths[current_id] = len(current_seq)\n",
    "            \n",
    "            # Start new sequence\n",
    "            current_id = line[1:]  # Remove '>' character\n",
    "            current_seq = \"\"\n",
    "        else:\n",
    "            current_seq += line\n",
    "    \n",
    "    # Don't forget the last sequence\n",
    "    if current_id and current_seq:\n",
    "        fasta_sequences[current_id] = current_seq\n",
    "        fasta_lengths[current_id] = len(current_seq)\n",
    "\n",
    "print(f\"   ✓ Loaded {len(fasta_sequences):,} sequences from FASTA\")\n",
    "\n",
    "# Step 1.5: BUILD OPTIMIZED INDICES\n",
    "print(\"▶ Building optimized search indices...\")\n",
    "\n",
    "# Stage 2 optimization: sequence -> list of IDs mapping for O(1) lookup\n",
    "sequence_to_ids = defaultdict(list)\n",
    "for fasta_id, sequence in tqdm(fasta_sequences.items(), desc=\"Building sequence index\", unit=\"seqs\"):\n",
    "    sequence_to_ids[sequence].append(fasta_id)\n",
    "\n",
    "# Stage 3 optimization: length-based index for prefiltering\n",
    "length_index = defaultdict(list)\n",
    "for fasta_id, length in fasta_lengths.items():\n",
    "    length_index[length].append(fasta_id)\n",
    "\n",
    "print(f\"   ✓ Built sequence index with {len(sequence_to_ids):,} unique sequences\")\n",
    "print(f\"   ✓ Built length index with {len(length_index):,} length groups\")\n",
    "\n",
    "# Step 2: Get protein directories\n",
    "print(\"▶ Scanning protein directories...\")\n",
    "if not os.path.exists(PROTEIN_DATA_DIR):\n",
    "    print(f\"❌ Protein data directory not found: {PROTEIN_DATA_DIR}\")\n",
    "    exit(1)\n",
    "\n",
    "protein_dirs = [d for d in os.listdir(PROTEIN_DATA_DIR) \n",
    "                if os.path.isdir(os.path.join(PROTEIN_DATA_DIR, d))]\n",
    "print(f\"   ✓ Found {len(protein_dirs):,} protein directories\")\n",
    "\n",
    "# Step 3: Initialize tracking variables\n",
    "results = []\n",
    "stage1_matches = 0\n",
    "stage2_matches = 0  \n",
    "stage3_matches = 0\n",
    "no_matches = 0\n",
    "\n",
    "# Step 4: Process each protein with optimizations\n",
    "print(\"▶ Processing proteins through OPTIMIZED hierarchical matching...\")\n",
    "print(f\"   Stage 1: Exact PID matching (O(1) hash lookup)\")\n",
    "print(f\"   Stage 2: Exact sequence matching (O(1) hash lookup - OPTIMIZED!)\")\n",
    "print(f\"   Stage 3: Similarity matching (±{LENGTH_TOLERANCE} AA prefilter + {MAX_THREADS} threads)\")\n",
    "\n",
    "# DIAGNOSTIC: Test similarity function with a simple example\n",
    "print(\"\\n🔍 DIAGNOSTIC: Testing similarity function...\")\n",
    "test_seq1 = \"ACDEFG\"\n",
    "test_seq2 = \"ACDEFG\"  # Identical\n",
    "test_seq3 = \"ACDEXY\"  # Different\n",
    "try:\n",
    "    sim_identical = calculate_similarity(test_seq1, test_seq2)\n",
    "    sim_different = calculate_similarity(test_seq1, test_seq3)\n",
    "    print(f\"   Identical sequences similarity: {sim_identical} (should be ~1.0)\")\n",
    "    print(f\"   Different sequences similarity: {sim_different} (should be <1.0)\")\n",
    "    \n",
    "    if not isinstance(sim_identical, (int, float)) or not isinstance(sim_different, (int, float)):\n",
    "        print(\"❌ CRITICAL: Similarity function returning non-numeric values!\")\n",
    "        exit(1)\n",
    "except Exception as e:\n",
    "    print(f\"❌ CRITICAL: Similarity function test failed: {e}\")\n",
    "    exit(1)\n",
    "\n",
    "print(\"   ✓ Similarity function working correctly\\n\")\n",
    "\n",
    "start_time = time.time()\n",
    "stage3_calculations = 0  # Track number of similarity calculations\n",
    "\n",
    "for protein_id in tqdm(protein_dirs, desc=\"Matching proteins\", unit=\"proteins\"):\n",
    "    protein_path = os.path.join(PROTEIN_DATA_DIR, protein_id)\n",
    "    \n",
    "    # Format the protein ID to match FASTA format\n",
    "    formatted_id = format_protein_id(protein_id)\n",
    "    \n",
    "    # Read the protein sequence\n",
    "    protein_sequence = read_protein_sequence(protein_path)\n",
    "    if not protein_sequence:\n",
    "        results.append([protein_id, \"NO_SEQUENCE\", \"NA\", \"No Sequence\"])\n",
    "        no_matches += 1\n",
    "        continue\n",
    "    \n",
    "    protein_length = len(protein_sequence)\n",
    "    matched = False\n",
    "    \n",
    "    # ═══ STAGE 1: Exact PID Match (unchanged) ═══\n",
    "    if formatted_id in fasta_sequences:\n",
    "        results.append([protein_id, formatted_id, \"NA\", \"Stage 1\"])\n",
    "        stage1_matches += 1\n",
    "        matched = True\n",
    "        continue\n",
    "    \n",
    "    # ═══ STAGE 2: Exact Sequence Match (OPTIMIZED!) ═══ \n",
    "    if not matched:\n",
    "        # O(1) lookup instead of O(n) linear search!\n",
    "        matching_ids = sequence_to_ids.get(protein_sequence, [])\n",
    "        if matching_ids:\n",
    "            # Take first match (same logic as original)\n",
    "            results.append([protein_id, matching_ids[0], \"NA\", \"Stage 2\"])\n",
    "            stage2_matches += 1\n",
    "            matched = True\n",
    "    \n",
    "    # ═══ STAGE 3: Similarity Match with Multithreading (OPTIMIZED!) ═══\n",
    "    if not matched:\n",
    "        best_match_id = None\n",
    "        best_similarity = SIMILARITY_THRESHOLD\n",
    "        \n",
    "        # Get candidate sequences within length tolerance (same logic)\n",
    "        candidates = []\n",
    "        for length in range(max(1, protein_length - LENGTH_TOLERANCE), \n",
    "                          protein_length + LENGTH_TOLERANCE + 1):\n",
    "            candidates.extend(length_index[length])\n",
    "        \n",
    "        if candidates:\n",
    "            # DIAGNOSTIC: Track Stage 3 calculations\n",
    "            stage3_calculations += len(candidates)\n",
    "            \n",
    "            # MULTITHREADED similarity calculations!\n",
    "            if MAX_THREADS > 1 and len(candidates) > 10:  # Use threading for larger candidate sets\n",
    "                # Prepare arguments for worker threads\n",
    "                similarity_args = [(protein_sequence, fasta_id, fasta_sequences[fasta_id]) \n",
    "                                 for fasta_id in candidates]\n",
    "                \n",
    "                # Calculate similarities in parallel\n",
    "                with ThreadPoolExecutor(max_workers=MAX_THREADS) as executor:\n",
    "                    future_to_id = {executor.submit(calculate_similarity_for_candidate, args): args[1] \n",
    "                                  for args in similarity_args}\n",
    "                    \n",
    "                    for future in as_completed(future_to_id):\n",
    "                        fasta_id, similarity = future.result()\n",
    "                        \n",
    "                        # DIAGNOSTIC: Validate similarity result\n",
    "                        if not isinstance(similarity, (int, float)):\n",
    "                            print(f\"🔍 WARNING: Non-numeric similarity from thread for {protein_id}: {type(similarity)}\")\n",
    "                            continue\n",
    "                            \n",
    "                        if similarity > best_similarity:\n",
    "                            best_similarity = similarity\n",
    "                            best_match_id = fasta_id\n",
    "            else:\n",
    "                # Single-threaded for small candidate sets (avoid threading overhead)\n",
    "                for fasta_id in candidates:\n",
    "                    fasta_seq = fasta_sequences[fasta_id]\n",
    "                    similarity = calculate_similarity(protein_sequence, fasta_seq)\n",
    "                    \n",
    "                    # DIAGNOSTIC: Validate similarity result\n",
    "                    if not isinstance(similarity, (int, float)):\n",
    "                        print(f\"🔍 WARNING: Non-numeric similarity for {protein_id} vs {fasta_id}: {type(similarity)}\")\n",
    "                        continue\n",
    "                    \n",
    "                    if similarity > best_similarity:\n",
    "                        best_similarity = similarity\n",
    "                        best_match_id = fasta_id\n",
    "        \n",
    "        if best_match_id:\n",
    "            # DIAGNOSTIC: Show some successful matches\n",
    "            if stage3_matches < 5:  # Show first 5 Stage 3 matches as examples\n",
    "                print(f\"🔍 Stage 3 match example: {protein_id} -> {best_match_id} (similarity: {best_similarity:.4f})\")\n",
    "            \n",
    "            results.append([protein_id, best_match_id, f\"{best_similarity:.4f}\", \"Stage 3\"])\n",
    "            stage3_matches += 1\n",
    "        else:\n",
    "            results.append([protein_id, \"NO_MATCH\", \"NA\", \"No Match\"])\n",
    "            no_matches += 1\n",
    "\n",
    "processing_time = time.time() - start_time\n",
    "\n",
    "# Step 5: Write results to TSV\n",
    "print(\"▶ Writing results to TSV...\")\n",
    "with open(OUTPUT_TSV, 'w', newline='', encoding='utf-8') as f:\n",
    "    writer = csv.writer(f, delimiter='\\t')\n",
    "    writer.writerow(['original_id', 'matched_id', 'similarity_score', 'notes'])\n",
    "    writer.writerows(results)\n",
    "\n",
    "# Step 6: Summary Statistics\n",
    "print(\"\\n\" + \"=\"*70)\n",
    "print(\"🎯 OPTIMIZED MATCHING RESULTS SUMMARY\")\n",
    "print(\"=\"*70)\n",
    "print(f\"Total proteins processed:     {len(protein_dirs):,}\")\n",
    "print(f\"Stage 1 (Exact PID):         {stage1_matches:,} ({stage1_matches/len(protein_dirs)*100:.1f}%)\")\n",
    "print(f\"Stage 2 (Exact sequence):    {stage2_matches:,} ({stage2_matches/len(protein_dirs)*100:.1f}%)\")  \n",
    "print(f\"Stage 3 (Similarity):        {stage3_matches:,} ({stage3_matches/len(protein_dirs)*100:.1f}%)\")\n",
    "print(f\"No matches found:            {no_matches:,} ({no_matches/len(protein_dirs)*100:.1f}%)\")\n",
    "print(f\"\\nTotal matched:               {stage1_matches + stage2_matches + stage3_matches:,} ({(stage1_matches + stage2_matches + stage3_matches)/len(protein_dirs)*100:.1f}%)\")\n",
    "\n",
    "# Performance metrics\n",
    "total_matched = stage1_matches + stage2_matches + stage3_matches\n",
    "proteins_per_second = len(protein_dirs) / processing_time\n",
    "print(f\"\\n⚡ PERFORMANCE METRICS\")\n",
    "print(f\"Processing time:              {processing_time:.1f} seconds\")\n",
    "print(f\"Speed:                        {proteins_per_second:.1f} proteins/second\")\n",
    "print(f\"Similarity algorithm:         {'parasail (fast)' if 'parasail' in str(calculate_similarity) else 'Biopython (standard)'}\")\n",
    "print(f\"Threading:                    {MAX_THREADS} threads for Stage 3\")\n",
    "\n",
    "# DIAGNOSTIC: Stage 3 statistics\n",
    "print(f\"\\n🔍 STAGE 3 DIAGNOSTICS\")\n",
    "print(f\"Total similarity calculations: {stage3_calculations:,}\")\n",
    "if stage3_matches > 0:\n",
    "    avg_calcs_per_match = stage3_calculations / max(1, (len(protein_dirs) - stage1_matches - stage2_matches))\n",
    "    print(f\"Avg calculations per protein:  {avg_calcs_per_match:.1f}\")\n",
    "    print(f\"Stage 3 success rate:         {stage3_matches}/{len(protein_dirs) - stage1_matches - stage2_matches} proteins reached Stage 3\")\n",
    "else:\n",
    "    print(f\"No Stage 3 matches found - this might indicate an issue!\")\n",
    "\n",
    "# File size info\n",
    "output_size = Path(OUTPUT_TSV).stat().st_size\n",
    "print(f\"\\n📁 Output file: {OUTPUT_TSV} ({output_size/1024:.1f} KB)\")\n",
    "\n",
    "print(f\"\\n✅ OPTIMIZED Hierarchical matching pipeline completed successfully!\")\n",
    "print(f\"⏱ Results saved to: {OUTPUT_TSV}\")\n",
    "print(f\"🚀 Performance improvement: ~{2-10}x faster than original (depending on dataset)\")"
   ]
  },
  {
   "cell_type": "code",
   "execution_count": 3,
   "metadata": {},
   "outputs": [
    {
     "name": "stdout",
     "output_type": "stream",
     "text": [
      "🧬 Adding A3M File Counts to Protein Matching Results\n",
      "============================================================\n",
      "▶ Loading A3M counts file...\n",
      "   ✓ Loaded 131,487 protein A3M counts\n",
      "   Columns: ['pid', 'n_a3m_files']\n",
      "   ✓ Created lookup dictionary with 131,487 entries\n",
      "▶ Loading protein matching results...\n",
      "   ✓ Loaded 29,740 protein matching results\n",
      "   Columns: ['original_id', 'matched_id', 'similarity_score', 'notes']\n",
      "▶ Adding A3M file counts...\n",
      "   ✓ Added n_a3m_files column\n",
      "▶ Analyzing A3M file distribution...\n",
      "▶ Saving enhanced results...\n",
      "   ✓ Saved to: C:\\Users\\rfrjo\\Documents\\Codebases\\PFP_Testing\\notebooks\\protein_matching_results_counts.tsv\n",
      "   File size: 757.0 KB\n",
      "\n",
      "======================================================================\n",
      "📊 A3M FILE COUNT ANALYSIS SUMMARY\n",
      "======================================================================\n",
      "Total proteins processed:     29,740\n",
      "Proteins with A3M files:      29,740 (100.0%)\n",
      "Proteins without A3M files:   0 (0.0%)\n",
      "\n",
      "🧬 A3M FILE STATISTICS (for proteins with A3M files):\n",
      "Total A3M files available:    88,919\n",
      "Average A3M files per protein: 3.0\n",
      "Median A3M files per protein:  3\n",
      "Min A3M files:                1\n",
      "Max A3M files:                3\n",
      "Standard deviation:           0.1\n",
      "\n",
      "📈 STAGE-WISE A3M DISTRIBUTION:\n",
      "Stage                Count    Total A3M    Avg A3M    Std Dev\n",
      "------------------------------------------------------------\n",
      "Stage 1            22,744.0     67,966       3.0       0.1\n",
      "Stage 2            6,955.0     20,830       3.0       0.1\n",
      "Stage 3              41.0        123       3.0       0.0\n",
      "\n",
      "📊 A3M FILE COUNT DISTRIBUTION:\n",
      "A3M Files    Protein Count    Percentage\n",
      "----------------------------------------\n",
      "       1            70          0.2%\n",
      "       2           161          0.5%\n",
      "       3        29,509         99.2%\n",
      "\n",
      "⚡ PERFORMANCE:\n",
      "Processing time:              0.3 seconds\n",
      "Data enhancement rate:        104386 proteins/second\n",
      "\n",
      "📁 OUTPUT:\n",
      "Enhanced file: C:\\Users\\rfrjo\\Documents\\Codebases\\PFP_Testing\\notebooks\\protein_matching_results_counts.tsv\n",
      "New columns: original_id, matched_id, similarity_score, notes, n_a3m_files\n",
      "\n",
      "✅ A3M count analysis completed successfully!\n",
      "🔬 Your protein matching results now include alignment file counts!\n"
     ]
    }
   ],
   "source": [
    "# %%time\n",
    "\"\"\"\n",
    "Add A3M File Counts to Protein Matching Results\n",
    "=============================================\n",
    "This script takes the protein matching results and adds a new column showing\n",
    "how many .a3m alignment files each matched protein has from the OpenFold dataset.\n",
    "\n",
    "Input files:\n",
    "- protein_matching_results.tsv (matching results)\n",
    "- openfold_pdb_a3m_counts.tsv (a3m file counts per protein)\n",
    "\n",
    "Output:\n",
    "- protein_matching_results_counts.tsv (original data + n_a3m_files column)\n",
    "\"\"\"\n",
    "\n",
    "# ─── Configuration ──────────────────────────────────────────────────────\n",
    "MATCHING_RESULTS = r\"C:\\Users\\rfrjo\\Documents\\Codebases\\PFP_Testing\\notebooks\\protein_matching_results.tsv\"\n",
    "A3M_COUNTS_FILE = r\"C:\\Users\\rfrjo\\Documents\\Codebases\\PFP_Testing\\notebooks\\openfold_pdb_a3m_counts.tsv\"\n",
    "OUTPUT_FILE = r\"C:\\Users\\rfrjo\\Documents\\Codebases\\PFP_Testing\\notebooks\\protein_matching_results_counts.tsv\"\n",
    "\n",
    "# ─── Imports ────────────────────────────────────────────────────────────\n",
    "import pandas as pd\n",
    "import numpy as np\n",
    "from pathlib import Path\n",
    "import time\n",
    "\n",
    "print(\"🧬 Adding A3M File Counts to Protein Matching Results\")\n",
    "print(\"=\" * 60)\n",
    "\n",
    "start_time = time.time()\n",
    "\n",
    "# ─── Step 1: Load the A3M counts file ───────────────────────────────────\n",
    "print(\"▶ Loading A3M counts file...\")\n",
    "if not Path(A3M_COUNTS_FILE).exists():\n",
    "    print(f\"❌ A3M counts file not found: {A3M_COUNTS_FILE}\")\n",
    "    exit(1)\n",
    "\n",
    "try:\n",
    "    a3m_counts_df = pd.read_csv(A3M_COUNTS_FILE, sep='\\t')\n",
    "    print(f\"   ✓ Loaded {len(a3m_counts_df):,} protein A3M counts\")\n",
    "    print(f\"   Columns: {list(a3m_counts_df.columns)}\")\n",
    "    \n",
    "    # Create a dictionary for fast lookup: pid -> n_a3m_files\n",
    "    a3m_counts_dict = dict(zip(a3m_counts_df['pid'], a3m_counts_df['n_a3m_files']))\n",
    "    print(f\"   ✓ Created lookup dictionary with {len(a3m_counts_dict):,} entries\")\n",
    "    \n",
    "except Exception as e:\n",
    "    print(f\"❌ Error loading A3M counts file: {e}\")\n",
    "    exit(1)\n",
    "\n",
    "# ─── Step 2: Load the protein matching results ──────────────────────────\n",
    "print(\"▶ Loading protein matching results...\")\n",
    "if not Path(MATCHING_RESULTS).exists():\n",
    "    print(f\"❌ Matching results file not found: {MATCHING_RESULTS}\")\n",
    "    exit(1)\n",
    "\n",
    "try:\n",
    "    matching_df = pd.read_csv(MATCHING_RESULTS, sep='\\t')\n",
    "    print(f\"   ✓ Loaded {len(matching_df):,} protein matching results\")\n",
    "    print(f\"   Columns: {list(matching_df.columns)}\")\n",
    "    \n",
    "except Exception as e:\n",
    "    print(f\"❌ Error loading matching results file: {e}\")\n",
    "    exit(1)\n",
    "\n",
    "# ─── Step 3: Add A3M counts column ───────────────────────────────────────\n",
    "print(\"▶ Adding A3M file counts...\")\n",
    "\n",
    "def get_a3m_count(matched_id):\n",
    "    \"\"\"Get the number of A3M files for a matched protein ID\"\"\"\n",
    "    if pd.isna(matched_id) or matched_id in ['NO_MATCH', 'NO_SEQUENCE']:\n",
    "        return 0\n",
    "    return a3m_counts_dict.get(matched_id, 0)\n",
    "\n",
    "# Add the new column\n",
    "matching_df['n_a3m_files'] = matching_df['matched_id'].apply(get_a3m_count)\n",
    "\n",
    "print(f\"   ✓ Added n_a3m_files column\")\n",
    "\n",
    "# ─── Step 4: Analyze and summarize ───────────────────────────────────────\n",
    "print(\"▶ Analyzing A3M file distribution...\")\n",
    "\n",
    "# Basic statistics\n",
    "total_proteins = len(matching_df)\n",
    "proteins_with_a3m = len(matching_df[matching_df['n_a3m_files'] > 0])\n",
    "proteins_without_a3m = len(matching_df[matching_df['n_a3m_files'] == 0])\n",
    "\n",
    "# A3M count statistics for matched proteins only\n",
    "matched_proteins = matching_df[matching_df['n_a3m_files'] > 0]\n",
    "if len(matched_proteins) > 0:\n",
    "    a3m_stats = matched_proteins['n_a3m_files'].describe()\n",
    "    total_a3m_files = matched_proteins['n_a3m_files'].sum()\n",
    "else:\n",
    "    a3m_stats = None\n",
    "    total_a3m_files = 0\n",
    "\n",
    "# Stage-wise A3M statistics\n",
    "stage_a3m_stats = matching_df.groupby('notes')['n_a3m_files'].agg(['count', 'sum', 'mean', 'std']).round(2)\n",
    "\n",
    "# ─── Step 5: Save results ────────────────────────────────────────────────\n",
    "print(\"▶ Saving enhanced results...\")\n",
    "try:\n",
    "    matching_df.to_csv(OUTPUT_FILE, sep='\\t', index=False)\n",
    "    output_size = Path(OUTPUT_FILE).stat().st_size\n",
    "    print(f\"   ✓ Saved to: {OUTPUT_FILE}\")\n",
    "    print(f\"   File size: {output_size/1024:.1f} KB\")\n",
    "    \n",
    "except Exception as e:\n",
    "    print(f\"❌ Error saving results: {e}\")\n",
    "    exit(1)\n",
    "\n",
    "processing_time = time.time() - start_time\n",
    "\n",
    "# ─── Step 6: Print comprehensive summary ─────────────────────────────────\n",
    "print(\"\\n\" + \"=\"*70)\n",
    "print(\"📊 A3M FILE COUNT ANALYSIS SUMMARY\")\n",
    "print(\"=\"*70)\n",
    "\n",
    "print(f\"Total proteins processed:     {total_proteins:,}\")\n",
    "print(f\"Proteins with A3M files:      {proteins_with_a3m:,} ({proteins_with_a3m/total_proteins*100:.1f}%)\")\n",
    "print(f\"Proteins without A3M files:   {proteins_without_a3m:,} ({proteins_without_a3m/total_proteins*100:.1f}%)\")\n",
    "\n",
    "if a3m_stats is not None:\n",
    "    print(f\"\\n🧬 A3M FILE STATISTICS (for proteins with A3M files):\")\n",
    "    print(f\"Total A3M files available:    {total_a3m_files:,}\")\n",
    "    print(f\"Average A3M files per protein: {a3m_stats['mean']:.1f}\")\n",
    "    print(f\"Median A3M files per protein:  {a3m_stats['50%']:.0f}\")\n",
    "    print(f\"Min A3M files:                {a3m_stats['min']:.0f}\")\n",
    "    print(f\"Max A3M files:                {a3m_stats['max']:.0f}\")\n",
    "    print(f\"Standard deviation:           {a3m_stats['std']:.1f}\")\n",
    "\n",
    "print(f\"\\n📈 STAGE-WISE A3M DISTRIBUTION:\")\n",
    "print(\"Stage                Count    Total A3M    Avg A3M    Std Dev\")\n",
    "print(\"-\" * 60)\n",
    "for stage, stats in stage_a3m_stats.iterrows():\n",
    "    avg_a3m = stats['mean'] if stats['count'] > 0 else 0\n",
    "    std_a3m = stats['std'] if stats['count'] > 0 and not pd.isna(stats['std']) else 0\n",
    "    print(f\"{stage:<18} {stats['count']:>6,} {stats['sum']:>10,.0f} {avg_a3m:>9.1f} {std_a3m:>9.1f}\")\n",
    "\n",
    "# A3M file count distribution\n",
    "print(f\"\\n📊 A3M FILE COUNT DISTRIBUTION:\")\n",
    "a3m_distribution = matching_df['n_a3m_files'].value_counts().sort_index()\n",
    "print(\"A3M Files    Protein Count    Percentage\")\n",
    "print(\"-\" * 40)\n",
    "for count, freq in a3m_distribution.head(10).items():  # Show top 10 most common counts\n",
    "    percentage = freq / total_proteins * 100\n",
    "    print(f\"{count:>8} {freq:>13,} {percentage:>12.1f}%\")\n",
    "\n",
    "if len(a3m_distribution) > 10:\n",
    "    remaining = len(a3m_distribution) - 10\n",
    "    print(f\"... and {remaining} more unique counts\")\n",
    "\n",
    "# High-value proteins (lots of A3M files)\n",
    "high_a3m_threshold = 50\n",
    "high_a3m_proteins = matching_df[matching_df['n_a3m_files'] >= high_a3m_threshold]\n",
    "if len(high_a3m_proteins) > 0:\n",
    "    print(f\"\\n⭐ HIGH-VALUE PROTEINS (≥{high_a3m_threshold} A3M files):\")\n",
    "    print(f\"Found {len(high_a3m_proteins):,} proteins with extensive alignment data\")\n",
    "    top_5 = high_a3m_proteins.nlargest(5, 'n_a3m_files')[['original_id', 'matched_id', 'n_a3m_files', 'notes']]\n",
    "    print(\"Top 5 proteins by A3M file count:\")\n",
    "    for _, row in top_5.iterrows():\n",
    "        print(f\"  {row['original_id']} -> {row['matched_id']}: {row['n_a3m_files']} files ({row['notes']})\")\n",
    "\n",
    "# Missing A3M data analysis\n",
    "no_a3m_by_stage = matching_df[matching_df['n_a3m_files'] == 0].groupby('notes').size()\n",
    "if len(no_a3m_by_stage) > 0:\n",
    "    print(f\"\\n⚠️  PROTEINS WITHOUT A3M FILES BY STAGE:\")\n",
    "    for stage, count in no_a3m_by_stage.items():\n",
    "        percentage = count / len(matching_df[matching_df['notes'] == stage]) * 100\n",
    "        print(f\"  {stage}: {count:,} proteins ({percentage:.1f}% of stage)\")\n",
    "\n",
    "print(f\"\\n⚡ PERFORMANCE:\")\n",
    "print(f\"Processing time:              {processing_time:.1f} seconds\")\n",
    "print(f\"Data enhancement rate:        {total_proteins/processing_time:.0f} proteins/second\")\n",
    "\n",
    "print(f\"\\n📁 OUTPUT:\")\n",
    "print(f\"Enhanced file: {OUTPUT_FILE}\")\n",
    "print(f\"New columns: original_id, matched_id, similarity_score, notes, n_a3m_files\")\n",
    "\n",
    "print(f\"\\n✅ A3M count analysis completed successfully!\")\n",
    "print(\"🔬 Your protein matching results now include alignment file counts!\")"
   ]
  }
 ],
 "metadata": {
  "kernelspec": {
   "display_name": "base",
   "language": "python",
   "name": "python3"
  },
  "language_info": {
   "codemirror_mode": {
    "name": "ipython",
    "version": 3
   },
   "file_extension": ".py",
   "mimetype": "text/x-python",
   "name": "python",
   "nbconvert_exporter": "python",
   "pygments_lexer": "ipython3",
   "version": "3.12.3"
  }
 },
 "nbformat": 4,
 "nbformat_minor": 2
}
